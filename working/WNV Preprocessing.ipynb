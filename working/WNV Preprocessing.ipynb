{
 "cells": [
  {
   "cell_type": "markdown",
   "metadata": {},
   "source": [
    "# Preprocessing and Feature Engineering\n",
    "\n",
    "In this notebook I will create a clean dataset ready to model through feature engineering and standardization.\n",
    "\n",
    "First load the data from EDA, and clean up any extraneous columns that will not be used in prediction.  Then I will split the data into predictors and target.\n",
    "\n",
    "Next I will perform PCA to see the principal components of the data.  The principal components may be used as input to the modelling phase. \n",
    "\n",
    "Finally I will perform a train-test split and apply a basic logistic regression model to the data. "
   ]
  },
  {
   "cell_type": "code",
   "execution_count": 1,
   "metadata": {},
   "outputs": [],
   "source": [
    "import pandas as pd\n",
    "import matplotlib.pyplot as plt\n",
    "import numpy as np"
   ]
  },
  {
   "cell_type": "code",
   "execution_count": 2,
   "metadata": {},
   "outputs": [],
   "source": [
    "random_seed = 27"
   ]
  },
  {
   "cell_type": "code",
   "execution_count": 3,
   "metadata": {},
   "outputs": [
    {
     "name": "stdout",
     "output_type": "stream",
     "text": [
      "<class 'pandas.core.frame.DataFrame'>\n",
      "Int64Index: 4616 entries, 0 to 4615\n",
      "Data columns (total 70 columns):\n",
      " #   Column                  Non-Null Count  Dtype  \n",
      "---  ------                  --------------  -----  \n",
      " 0   Date                    4616 non-null   object \n",
      " 1   Trap                    4616 non-null   object \n",
      " 2   Address                 4616 non-null   object \n",
      " 3   Block                   4616 non-null   int64  \n",
      " 4   Street                  4616 non-null   object \n",
      " 5   AddressNumberAndStreet  4616 non-null   object \n",
      " 6   Latitude                4616 non-null   float64\n",
      " 7   Longitude               4616 non-null   float64\n",
      " 8   AddressAccuracy         4616 non-null   int64  \n",
      " 9   RESTUANS                4616 non-null   int64  \n",
      " 10  PIPIENS                 4616 non-null   int64  \n",
      " 11  SALINARIUS              4616 non-null   int64  \n",
      " 12  TERRITANS               4616 non-null   int64  \n",
      " 13  TARSALIS                4616 non-null   int64  \n",
      " 14  ERRATICUS               4616 non-null   int64  \n",
      " 15  NumMosquitos            4616 non-null   int64  \n",
      " 16  WnvPresent              4616 non-null   float64\n",
      " 17  Year                    4616 non-null   int64  \n",
      " 18  Month                   4616 non-null   int64  \n",
      " 19  Week                    4616 non-null   int64  \n",
      " 20  Station                 4616 non-null   int64  \n",
      " 21  Station_dist            4616 non-null   float64\n",
      " 22  Tmax_3days              4616 non-null   float64\n",
      " 23  Tmin_3days              4616 non-null   float64\n",
      " 24  Tavg_3days              4616 non-null   float64\n",
      " 25  PrecipTotal_3days       4616 non-null   float64\n",
      " 26  DewPoint_3days          4616 non-null   float64\n",
      " 27  WetBulb_3days           4616 non-null   float64\n",
      " 28  StnPressure_3days       4616 non-null   float64\n",
      " 29  SeaLevel_3days          4616 non-null   float64\n",
      " 30  AvgSpeed_3days          4616 non-null   float64\n",
      " 31  WindSpeed_3days         4616 non-null   float64\n",
      " 32  WindDirection_3days     4616 non-null   float64\n",
      " 33  Sunrise(hrs)_3days      4616 non-null   float64\n",
      " 34  Sunset(hrs)_3days       4616 non-null   float64\n",
      " 35  CodeSum_3days           4616 non-null   object \n",
      " 36  Tmax_7days              4616 non-null   float64\n",
      " 37  Tmin_7days              4616 non-null   float64\n",
      " 38  Tavg_7days              4616 non-null   float64\n",
      " 39  PrecipTotal_7days       4616 non-null   float64\n",
      " 40  DewPoint_7days          4616 non-null   float64\n",
      " 41  WetBulb_7days           4616 non-null   float64\n",
      " 42  StnPressure_7days       4616 non-null   float64\n",
      " 43  SeaLevel_7days          4616 non-null   float64\n",
      " 44  AvgSpeed_7days          4616 non-null   float64\n",
      " 45  WindSpeed_7days         4616 non-null   float64\n",
      " 46  WindDirection_7days     4616 non-null   float64\n",
      " 47  Sunrise(hrs)_7days      4616 non-null   float64\n",
      " 48  Sunset(hrs)_7days       4616 non-null   float64\n",
      " 49  CodeSum_7days           4616 non-null   object \n",
      " 50  Tmax_14days             4616 non-null   float64\n",
      " 51  Tmin_14days             4616 non-null   float64\n",
      " 52  Tavg_14days             4616 non-null   float64\n",
      " 53  PrecipTotal_14days      4616 non-null   float64\n",
      " 54  DewPoint_14days         4616 non-null   float64\n",
      " 55  WetBulb_14days          4616 non-null   float64\n",
      " 56  StnPressure_14days      4616 non-null   float64\n",
      " 57  SeaLevel_14days         4616 non-null   float64\n",
      " 58  AvgSpeed_14days         4616 non-null   float64\n",
      " 59  WindSpeed_14days        4616 non-null   float64\n",
      " 60  WindDirection_14days    4616 non-null   float64\n",
      " 61  Sunrise(hrs)_14days     4616 non-null   float64\n",
      " 62  Sunset(hrs)_14days      4616 non-null   float64\n",
      " 63  CodeSum_14days          4616 non-null   object \n",
      " 64  RA_7days                4616 non-null   int64  \n",
      " 65  VC_7days                4616 non-null   int64  \n",
      " 66  HZ_7days                4616 non-null   int64  \n",
      " 67  FG_7days                4616 non-null   int64  \n",
      " 68  TS_7days                4616 non-null   int64  \n",
      " 69  BR_7days                4616 non-null   int64  \n",
      "dtypes: float64(43), int64(19), object(8)\n",
      "memory usage: 2.5+ MB\n"
     ]
    }
   ],
   "source": [
    "train = pd.read_csv('train_w_aggregated_weather.csv',index_col=0)\n",
    "train.info()"
   ]
  },
  {
   "cell_type": "code",
   "execution_count": 4,
   "metadata": {},
   "outputs": [],
   "source": [
    "### drop mosquito species columns, won't have that for predicting \n",
    "train = train.drop(['RESTUANS','PIPIENS','SALINARIUS','TERRITANS',\\\n",
    "                    'TARSALIS','ERRATICUS'],axis=1)"
   ]
  },
  {
   "cell_type": "code",
   "execution_count": 5,
   "metadata": {},
   "outputs": [],
   "source": [
    "### Drop extraneous columns that won't be used in modeling\n",
    "train = train.drop(['Date','Trap','Address','Block','Street',\\\n",
    "                    'AddressNumberAndStreet','Latitude','Longitude',\\\n",
    "                   'AddressAccuracy','Station'],axis=1)"
   ]
  },
  {
   "cell_type": "code",
   "execution_count": 6,
   "metadata": {},
   "outputs": [],
   "source": [
    "### Drop CodeSum string columns\n",
    "train = train.drop(['CodeSum_3days','CodeSum_7days','CodeSum_14days']\\\n",
    "                   ,axis=1)"
   ]
  },
  {
   "cell_type": "code",
   "execution_count": 7,
   "metadata": {},
   "outputs": [],
   "source": [
    "### Finally drop the year column and number of mosquitos\n",
    "train = train.drop(['Year','NumMosquitos'],axis=1)"
   ]
  },
  {
   "cell_type": "code",
   "execution_count": 8,
   "metadata": {},
   "outputs": [
    {
     "name": "stdout",
     "output_type": "stream",
     "text": [
      "<class 'pandas.core.frame.DataFrame'>\n",
      "Int64Index: 4616 entries, 0 to 4615\n",
      "Data columns (total 49 columns):\n",
      " #   Column                Non-Null Count  Dtype  \n",
      "---  ------                --------------  -----  \n",
      " 0   WnvPresent            4616 non-null   float64\n",
      " 1   Month                 4616 non-null   int64  \n",
      " 2   Week                  4616 non-null   int64  \n",
      " 3   Station_dist          4616 non-null   float64\n",
      " 4   Tmax_3days            4616 non-null   float64\n",
      " 5   Tmin_3days            4616 non-null   float64\n",
      " 6   Tavg_3days            4616 non-null   float64\n",
      " 7   PrecipTotal_3days     4616 non-null   float64\n",
      " 8   DewPoint_3days        4616 non-null   float64\n",
      " 9   WetBulb_3days         4616 non-null   float64\n",
      " 10  StnPressure_3days     4616 non-null   float64\n",
      " 11  SeaLevel_3days        4616 non-null   float64\n",
      " 12  AvgSpeed_3days        4616 non-null   float64\n",
      " 13  WindSpeed_3days       4616 non-null   float64\n",
      " 14  WindDirection_3days   4616 non-null   float64\n",
      " 15  Sunrise(hrs)_3days    4616 non-null   float64\n",
      " 16  Sunset(hrs)_3days     4616 non-null   float64\n",
      " 17  Tmax_7days            4616 non-null   float64\n",
      " 18  Tmin_7days            4616 non-null   float64\n",
      " 19  Tavg_7days            4616 non-null   float64\n",
      " 20  PrecipTotal_7days     4616 non-null   float64\n",
      " 21  DewPoint_7days        4616 non-null   float64\n",
      " 22  WetBulb_7days         4616 non-null   float64\n",
      " 23  StnPressure_7days     4616 non-null   float64\n",
      " 24  SeaLevel_7days        4616 non-null   float64\n",
      " 25  AvgSpeed_7days        4616 non-null   float64\n",
      " 26  WindSpeed_7days       4616 non-null   float64\n",
      " 27  WindDirection_7days   4616 non-null   float64\n",
      " 28  Sunrise(hrs)_7days    4616 non-null   float64\n",
      " 29  Sunset(hrs)_7days     4616 non-null   float64\n",
      " 30  Tmax_14days           4616 non-null   float64\n",
      " 31  Tmin_14days           4616 non-null   float64\n",
      " 32  Tavg_14days           4616 non-null   float64\n",
      " 33  PrecipTotal_14days    4616 non-null   float64\n",
      " 34  DewPoint_14days       4616 non-null   float64\n",
      " 35  WetBulb_14days        4616 non-null   float64\n",
      " 36  StnPressure_14days    4616 non-null   float64\n",
      " 37  SeaLevel_14days       4616 non-null   float64\n",
      " 38  AvgSpeed_14days       4616 non-null   float64\n",
      " 39  WindSpeed_14days      4616 non-null   float64\n",
      " 40  WindDirection_14days  4616 non-null   float64\n",
      " 41  Sunrise(hrs)_14days   4616 non-null   float64\n",
      " 42  Sunset(hrs)_14days    4616 non-null   float64\n",
      " 43  RA_7days              4616 non-null   int64  \n",
      " 44  VC_7days              4616 non-null   int64  \n",
      " 45  HZ_7days              4616 non-null   int64  \n",
      " 46  FG_7days              4616 non-null   int64  \n",
      " 47  TS_7days              4616 non-null   int64  \n",
      " 48  BR_7days              4616 non-null   int64  \n",
      "dtypes: float64(41), int64(8)\n",
      "memory usage: 1.8 MB\n"
     ]
    }
   ],
   "source": [
    "train.info()\n"
   ]
  },
  {
   "cell_type": "markdown",
   "metadata": {},
   "source": [
    "Looks great the data set is all numeric and there are no nulls to be found.  \n",
    "___\n",
    "I'll do a quick PCA now to see how many principal components are in my 48 columns of data.  "
   ]
  },
  {
   "cell_type": "code",
   "execution_count": 9,
   "metadata": {},
   "outputs": [],
   "source": [
    "### Split predictors from target\n",
    "y = train[['WnvPresent']]\n",
    "X = train.drop('WnvPresent',axis=1)\n",
    "X_cols = list(X.columns)"
   ]
  },
  {
   "cell_type": "code",
   "execution_count": 10,
   "metadata": {},
   "outputs": [],
   "source": [
    "### Apply standard scaler to transform variable to mean=0 and std=1\n",
    "from sklearn import preprocessing\n",
    "\n",
    "scaler = preprocessing.StandardScaler()\n",
    "X_scaled = scaler.fit_transform(X)"
   ]
  },
  {
   "cell_type": "code",
   "execution_count": 11,
   "metadata": {},
   "outputs": [],
   "source": [
    "#dum = pd.DataFrame(X_scaled,columns=X_cols)\n",
    "#dum.mean()\n",
    "#dum.std(ddof=0)"
   ]
  },
  {
   "cell_type": "code",
   "execution_count": 12,
   "metadata": {},
   "outputs": [
    {
     "data": {
      "image/png": "[encoded data removed]",
      "text/plain": [
       "<Figure size 720x432 with 1 Axes>"
      ]
     },
     "metadata": {
      "needs_background": "light"
     },
     "output_type": "display_data"
    }
   ],
   "source": [
    "### Calculate PCA an plot percent variance explained\n",
    "\n",
    "from sklearn.decomposition import PCA\n",
    "pca = PCA()\n",
    "pca.fit(X_scaled)\n",
    "X_pca = pca.transform(X_scaled)\n",
    "                      \n",
    "plt.subplots(figsize=(10, 6))\n",
    "plt.plot(pca.explained_variance_ratio_.cumsum())\n",
    "plt.ylabel('Percent Variance explained')\n",
    "plt.xlabel('Principal Components')\n",
    "plt.grid(axis='both')\n",
    "plt.show()"
   ]
  },
  {
   "cell_type": "markdown",
   "metadata": {},
   "source": [
    "From the PCA it looks like ~9-10 principal components explain 90% of the variance.  During the modelling process I probably do not need more than 10 predictors in my model.  I will try NMF also to see if I can identify key columns in the NMF components."
   ]
  },
  {
   "cell_type": "code",
   "execution_count": 13,
   "metadata": {},
   "outputs": [
    {
     "data": {
      "text/plain": [
       "Text(0.5, 1.0, 'Scatter plot of first 2 principal components\\ncolored by negative(dark) or positive(light) WNV case')"
      ]
     },
     "execution_count": 13,
     "metadata": {},
     "output_type": "execute_result"
    },
    {
     "data": {
      "image/png": "[encoded data removed]",
      "text/plain": [
       "<Figure size 432x288 with 1 Axes>"
      ]
     },
     "metadata": {
      "needs_background": "light"
     },
     "output_type": "display_data"
    }
   ],
   "source": [
    "plt.scatter(X_pca[:,0],X_pca[:,1],c=y.to_numpy());\n",
    "plt.ylabel('Principal component 2')\n",
    "plt.xlabel('Principal component 1')\n",
    "plt.title('Scatter plot of first 2 principal components\\ncolored by negative(dark) or positive(light) WNV case')"
   ]
  },
  {
   "cell_type": "markdown",
   "metadata": {},
   "source": [
    "The first two principal components are starting to distinguish between negative and positive WNV cases.  "
   ]
  },
  {
   "cell_type": "markdown",
   "metadata": {},
   "source": [
    "First I will apply a simple Logistic Regression model to predict the positive WNV cases. Then I will apply a Logistic Regression model to the top components of the PCA transformed data set.  "
   ]
  },
  {
   "cell_type": "code",
   "execution_count": 14,
   "metadata": {},
   "outputs": [],
   "source": [
    "### Re-split the data set into X and y\n",
    "y = train['WnvPresent']\n",
    "X = train.drop('WnvPresent',axis=1)"
   ]
  },
  {
   "cell_type": "code",
   "execution_count": 15,
   "metadata": {},
   "outputs": [
    {
     "data": {
      "text/plain": [
       "(4616,)"
      ]
     },
     "execution_count": 15,
     "metadata": {},
     "output_type": "execute_result"
    }
   ],
   "source": [
    "y.shape"
   ]
  },
  {
   "cell_type": "code",
   "execution_count": 16,
   "metadata": {},
   "outputs": [],
   "source": [
    "### Standardize dataset and split into training and testing sets for modeling.\n",
    "from sklearn.model_selection import train_test_split\n",
    "\n",
    "scaler = preprocessing.StandardScaler()\n",
    "X_scaled = scaler.fit_transform(X)\n",
    "\n",
    "\n",
    "### Stratify on y due to imbalanced data set\n",
    "### I want equal propotions of positive cases in train and test\n",
    "X_train,X_test,y_train,y_test = train_test_split(X_scaled, y, test_size=.2,\\\n",
    "                                                random_state = random_seed,\n",
    "                                                stratify=y)\n",
    "\n",
    "\n",
    "X_train_df = pd.DataFrame(X_train, columns = X_cols)\n",
    "X_test_df = pd.DataFrame(X_test, columns = X_cols)\n",
    "\n"
   ]
  },
  {
   "cell_type": "code",
   "execution_count": 17,
   "metadata": {},
   "outputs": [
    {
     "name": "stdout",
     "output_type": "stream",
     "text": [
      "Testing Fraction positive:  0.083 \n",
      "Training Fraction positive: 0.083\n"
     ]
    }
   ],
   "source": [
    "print('Testing Fraction positive:  {:.3f} '.format(y_test.sum()/y_test.shape[0]))\n",
    "print('Training Fraction positive: {:.3f}'.format(y_train.sum()/y_train.shape[0]))"
   ]
  },
  {
   "cell_type": "markdown",
   "metadata": {},
   "source": [
    "Split looks good. I will take a slight detour to export these data sets and a PCA(.95) data set with reduced dimensions.  "
   ]
  },
  {
   "cell_type": "code",
   "execution_count": 18,
   "metadata": {},
   "outputs": [
    {
     "name": "stdout",
     "output_type": "stream",
     "text": [
      "PCA reduced features: 15\n"
     ]
    }
   ],
   "source": [
    "### Export out training and testing data for modeling\n",
    "\n",
    "\n",
    "X_train_df.to_csv('X_train.csv')\n",
    "X_test_df.to_csv('X_test.csv')\n",
    "\n",
    "y_train.to_csv('y_train.csv')\n",
    "y_test.to_csv('y_test.csv')\n",
    "\n",
    "pca = PCA(.95)\n",
    "pca.fit(X_train) ### Fit only on the training data \n",
    "X_train_pca95 = pca.transform(X_train)\n",
    "X_test_pca95 = pca.transform(X_test)\n",
    "\n",
    "pd.DataFrame(X_train_pca95).to_csv('X_train_pca95.csv')\n",
    "pd.DataFrame(X_test_pca95).to_csv('X_test_pca95.csv')\n",
    "\n",
    "print('PCA reduced features: {}'.format(X_train_pca95.shape[1]))"
   ]
  },
  {
   "cell_type": "markdown",
   "metadata": {},
   "source": [
    "Next, I will perform a quick logistic regression here to see how predictive a basic model can be.  "
   ]
  },
  {
   "cell_type": "code",
   "execution_count": 19,
   "metadata": {},
   "outputs": [
    {
     "name": "stdout",
     "output_type": "stream",
     "text": [
      "Training AUC: 0.8470053882287925\n",
      "Testint AUC: 0.8155752158113433\n"
     ]
    }
   ],
   "source": [
    "from sklearn.linear_model import LogisticRegression\n",
    "from sklearn.metrics import accuracy_score,roc_auc_score,\\\n",
    "        plot_roc_curve, plot_precision_recall_curve, precision_recall_curve,\\\n",
    "        make_scorer, plot_confusion_matrix\n",
    "\n",
    "logreg = LogisticRegression(max_iter=200)\n",
    "logreg.fit(X_train, y_train)\n",
    "\n",
    "\n",
    "print('Training AUC:', roc_auc_score(y_train,logreg.predict_proba(X_train)[:,1] )) \n",
    "print('Testint AUC:', roc_auc_score(y_test, logreg.predict_proba(X_test)[:,1] )) "
   ]
  },
  {
   "cell_type": "markdown",
   "metadata": {},
   "source": [
    "That looks pretty good.  Now I will quickly try to improve this model with a little tuning"
   ]
  },
  {
   "cell_type": "code",
   "execution_count": 20,
   "metadata": {
    "scrolled": false
   },
   "outputs": [
    {
     "name": "stdout",
     "output_type": "stream",
     "text": [
      "Best Params: {'C': 10, 'max_iter': 500}\n",
      "Best Params Score: 0.5132920617779347\n"
     ]
    }
   ],
   "source": [
    "### Now a quick attempt at optimizing the logistic regression model using\n",
    "### GridSearchCV and a little tweaking\n",
    "\n",
    "from sklearn.model_selection import GridSearchCV\n",
    "\n",
    "### define regularization strengths to try\n",
    "Cs = [0.001, 0.01, .1, 1, 10, 10]\n",
    "### define grid serch parameters\n",
    "params = {'C':Cs,'max_iter':[500]}\n",
    "\n",
    "gridcv_logreg = GridSearchCV(LogisticRegression(),param_grid=params,\\\n",
    "                             cv=5, scoring=make_scorer(roc_auc_score))\n",
    "gridcv_logreg.fit(X_train,y_train)\n",
    "\n",
    "print('Best Params:',gridcv_logreg.best_params_)\n",
    "print('Best Params Score:',gridcv_logreg.best_score_)\n",
    "\n",
    "\n"
   ]
  },
  {
   "cell_type": "code",
   "execution_count": 21,
   "metadata": {},
   "outputs": [
    {
     "name": "stdout",
     "output_type": "stream",
     "text": [
      "Training AUC: 0.8533943154953794\n",
      "Testing AUC: 0.8236710161149358\n"
     ]
    }
   ],
   "source": [
    "### Create Logistic Regression model using best parameters\n",
    "logreg = LogisticRegression(C=10,max_iter=500)\n",
    "logreg.fit(X_train,y_train)\n",
    "\n",
    "print('Training AUC:', roc_auc_score(y_train,logreg.predict_proba(X_train)[:,1] )) \n",
    "print('Testing AUC:', roc_auc_score(y_test, logreg.predict_proba(X_test)[:,1] )) "
   ]
  },
  {
   "cell_type": "code",
   "execution_count": 22,
   "metadata": {},
   "outputs": [
    {
     "data": {
      "image/png": "[encoded data removed]",
      "text/plain": [
       "<Figure size 360x360 with 1 Axes>"
      ]
     },
     "metadata": {
      "needs_background": "light"
     },
     "output_type": "display_data"
    }
   ],
   "source": [
    "### Plot ROC curves for both training and testing sets using the\n",
    "### best model derived from the grid search\n",
    "\n",
    "fig, ax = plt.subplots(figsize=(5,5))\n",
    "plot_roc_curve(logreg,X_train,y_train,ax=ax,name='Training')\n",
    "plot_roc_curve(logreg,X_test,y_test, ax=ax,name = 'Test')\n",
    "plt.show()"
   ]
  },
  {
   "cell_type": "markdown",
   "metadata": {},
   "source": [
    "The ROC curves for training and testing look great, and the AUC score calculate in the plot is higher than I was expecting.  Let's take a look at the confusion matrix.   "
   ]
  },
  {
   "cell_type": "code",
   "execution_count": 23,
   "metadata": {},
   "outputs": [
    {
     "data": {
      "image/png": "[encoded data removed]",
      "text/plain": [
       "<Figure size 432x288 with 2 Axes>"
      ]
     },
     "metadata": {
      "needs_background": "light"
     },
     "output_type": "display_data"
    }
   ],
   "source": [
    "plot_confusion_matrix(logreg,X_train,y_train,values_format='.4g');"
   ]
  },
  {
   "cell_type": "markdown",
   "metadata": {},
   "source": [
    "From this graphic I can calculate the precision and recall for this model.  "
   ]
  },
  {
   "cell_type": "code",
   "execution_count": 24,
   "metadata": {},
   "outputs": [
    {
     "name": "stdout",
     "output_type": "stream",
     "text": [
      "Precision: 0.588\n",
      "Recall:    0.032\n"
     ]
    }
   ],
   "source": [
    "### Training data Precision and recall\n",
    "print('Precision: {:.3f}'.format(10/(10+7)))\n",
    "print('Recall:    {:.3f}'.format(10/(10+298)))"
   ]
  },
  {
   "cell_type": "markdown",
   "metadata": {},
   "source": [
    "The recall score is very low.  There are a lot of true positive cases in the training set this modeling is failing to predict ( _false negatives_ ). \n",
    "___\n",
    "Now lets look at the test set"
   ]
  },
  {
   "cell_type": "code",
   "execution_count": 25,
   "metadata": {},
   "outputs": [
    {
     "data": {
      "image/png": "[encoded data removed]",
      "text/plain": [
       "<Figure size 432x288 with 2 Axes>"
      ]
     },
     "metadata": {
      "needs_background": "light"
     },
     "output_type": "display_data"
    }
   ],
   "source": [
    "plot_confusion_matrix(logreg,X_test,y_test,values_format='.4g');"
   ]
  },
  {
   "cell_type": "code",
   "execution_count": 26,
   "metadata": {},
   "outputs": [
    {
     "name": "stdout",
     "output_type": "stream",
     "text": [
      "Precision: 0.800\n",
      "Recall:    0.052\n"
     ]
    }
   ],
   "source": [
    "### Testing data precision and recall\n",
    "print('Precision: {:.3f}'.format(4/(4+1)))\n",
    "print('Recall:    {:.3f}'.format(4/(4+73)))"
   ]
  },
  {
   "cell_type": "markdown",
   "metadata": {},
   "source": [
    "Again the recall is very low."
   ]
  },
  {
   "cell_type": "code",
   "execution_count": 27,
   "metadata": {},
   "outputs": [
    {
     "data": {
      "text/html": [
       "<div>\n",
       "<style scoped>\n",
       "    .dataframe tbody tr th:only-of-type {\n",
       "        vertical-align: middle;\n",
       "    }\n",
       "\n",
       "    .dataframe tbody tr th {\n",
       "        vertical-align: top;\n",
       "    }\n",
       "\n",
       "    .dataframe thead th {\n",
       "        text-align: right;\n",
       "    }\n",
       "</style>\n",
       "<table border=\"1\" class=\"dataframe\">\n",
       "  <thead>\n",
       "    <tr style=\"text-align: right;\">\n",
       "      <th></th>\n",
       "      <th>Coeff</th>\n",
       "      <th>Col</th>\n",
       "    </tr>\n",
       "  </thead>\n",
       "  <tbody>\n",
       "    <tr>\n",
       "      <th>0</th>\n",
       "      <td>3.464459</td>\n",
       "      <td>Week</td>\n",
       "    </tr>\n",
       "    <tr>\n",
       "      <th>1</th>\n",
       "      <td>2.898683</td>\n",
       "      <td>Sunset(hrs)_3days</td>\n",
       "    </tr>\n",
       "    <tr>\n",
       "      <th>2</th>\n",
       "      <td>2.497186</td>\n",
       "      <td>WetBulb_3days</td>\n",
       "    </tr>\n",
       "    <tr>\n",
       "      <th>3</th>\n",
       "      <td>2.430816</td>\n",
       "      <td>SeaLevel_14days</td>\n",
       "    </tr>\n",
       "    <tr>\n",
       "      <th>4</th>\n",
       "      <td>2.299930</td>\n",
       "      <td>Tmin_7days</td>\n",
       "    </tr>\n",
       "    <tr>\n",
       "      <th>5</th>\n",
       "      <td>2.209799</td>\n",
       "      <td>Tavg_14days</td>\n",
       "    </tr>\n",
       "    <tr>\n",
       "      <th>6</th>\n",
       "      <td>1.832972</td>\n",
       "      <td>Sunset(hrs)_14days</td>\n",
       "    </tr>\n",
       "    <tr>\n",
       "      <th>7</th>\n",
       "      <td>1.662621</td>\n",
       "      <td>Sunrise(hrs)_14days</td>\n",
       "    </tr>\n",
       "    <tr>\n",
       "      <th>8</th>\n",
       "      <td>1.588756</td>\n",
       "      <td>WetBulb_7days</td>\n",
       "    </tr>\n",
       "    <tr>\n",
       "      <th>9</th>\n",
       "      <td>1.470475</td>\n",
       "      <td>Sunset(hrs)_7days</td>\n",
       "    </tr>\n",
       "    <tr>\n",
       "      <th>10</th>\n",
       "      <td>1.426047</td>\n",
       "      <td>Sunrise(hrs)_7days</td>\n",
       "    </tr>\n",
       "    <tr>\n",
       "      <th>11</th>\n",
       "      <td>1.249856</td>\n",
       "      <td>Sunrise(hrs)_3days</td>\n",
       "    </tr>\n",
       "    <tr>\n",
       "      <th>12</th>\n",
       "      <td>1.086562</td>\n",
       "      <td>WetBulb_14days</td>\n",
       "    </tr>\n",
       "    <tr>\n",
       "      <th>13</th>\n",
       "      <td>0.879805</td>\n",
       "      <td>WindSpeed_14days</td>\n",
       "    </tr>\n",
       "    <tr>\n",
       "      <th>14</th>\n",
       "      <td>0.807345</td>\n",
       "      <td>Month</td>\n",
       "    </tr>\n",
       "  </tbody>\n",
       "</table>\n",
       "</div>"
      ],
      "text/plain": [
       "       Coeff                  Col\n",
       "0   3.464459                 Week\n",
       "1   2.898683    Sunset(hrs)_3days\n",
       "2   2.497186        WetBulb_3days\n",
       "3   2.430816      SeaLevel_14days\n",
       "4   2.299930           Tmin_7days\n",
       "5   2.209799          Tavg_14days\n",
       "6   1.832972   Sunset(hrs)_14days\n",
       "7   1.662621  Sunrise(hrs)_14days\n",
       "8   1.588756        WetBulb_7days\n",
       "9   1.470475    Sunset(hrs)_7days\n",
       "10  1.426047   Sunrise(hrs)_7days\n",
       "11  1.249856   Sunrise(hrs)_3days\n",
       "12  1.086562       WetBulb_14days\n",
       "13  0.879805     WindSpeed_14days\n",
       "14  0.807345                Month"
      ]
     },
     "execution_count": 27,
     "metadata": {},
     "output_type": "execute_result"
    }
   ],
   "source": [
    "d={'Coeff':logreg.coef_.T.reshape(-1,), 'Col':X_cols}\n",
    "pd.DataFrame(d).sort_values(by='Coeff',ascending=False).reset_index(drop=True)[:15]"
   ]
  },
  {
   "cell_type": "markdown",
   "metadata": {},
   "source": [
    "The above dataframe shows the Logistic Regression model coefficients for each column in the training set.  Since all of the columns are standardized "
   ]
  },
  {
   "cell_type": "markdown",
   "metadata": {},
   "source": [
    "___\n",
    "For this project I need to improve upon the recall score.  I will attempt to do this in the next notebook where I will employ more advanced ML techniques.\n"
   ]
  },
  {
   "cell_type": "markdown",
   "metadata": {},
   "source": [
    "# Summary\n",
    "\n",
    "In this notebook, first I imported the cleaned and merged data set.  Next I dropped non-numeric and other extraneous columns that could not be used for prediction of the test set.  \n",
    "\n",
    "I performed PCA on the data set and discovered that about 10 principal components explain 90% of th variance in the data.  I can use this information in the modelling process so that I do not over complicate the model. I created a PCA transform that explains 95% of the variance and it created a new dataset with 15 features.  I exported the transformed training and testing sets. \n",
    "\n",
    "Finally I split the data into training and testing sets, and applied a logistic regression to the training data set.  I used `GridSearchCV` to fit the model and then plotted the ROC curves for the training and testing data sets.  The AUC values for the training and test set were 0.85 & 0.82 respectiveley, but upon closer inspection the recall was extremely low for each.  I will attempt to improve upon this with more advanced ML techniques in the next notebook."
   ]
  },
  {
   "cell_type": "code",
   "execution_count": null,
   "metadata": {},
   "outputs": [],
   "source": []
  },
  {
   "cell_type": "code",
   "execution_count": null,
   "metadata": {},
   "outputs": [],
   "source": []
  },
  {
   "cell_type": "markdown",
   "metadata": {},
   "source": [
    "### Extra work reducing dimensionality with NMF"
   ]
  },
  {
   "cell_type": "code",
   "execution_count": 28,
   "metadata": {},
   "outputs": [],
   "source": [
    "### For NMF scale features to [0,1]\n",
    "from sklearn.preprocessing import MinMaxScaler\n",
    "\n",
    "minmax = MinMaxScaler()\n",
    "X_minmax = minmax.fit_transform(X)\n"
   ]
  },
  {
   "cell_type": "code",
   "execution_count": 29,
   "metadata": {},
   "outputs": [],
   "source": [
    "### Split into training and testing again\n",
    "X_train,X_test,y_train,y_test = train_test_split(X_minmax, y, test_size=.2,\\\n",
    "                                                random_state = random_seed,\n",
    "                                                stratify=y)"
   ]
  },
  {
   "cell_type": "code",
   "execution_count": 30,
   "metadata": {},
   "outputs": [],
   "source": [
    "from sklearn.decomposition import NMF\n",
    "\n",
    "nmf = NMF(15)\n",
    "nmf.fit(X_train)\n",
    "X_train_nmf = nmf.transform(X_train)"
   ]
  },
  {
   "cell_type": "code",
   "execution_count": 31,
   "metadata": {},
   "outputs": [
    {
     "data": {
      "text/plain": [
       "(3692, 15)"
      ]
     },
     "execution_count": 31,
     "metadata": {},
     "output_type": "execute_result"
    }
   ],
   "source": [
    "X_train_nmf.shape"
   ]
  },
  {
   "cell_type": "code",
   "execution_count": 32,
   "metadata": {},
   "outputs": [
    {
     "data": {
      "text/html": [
       "<div>\n",
       "<style scoped>\n",
       "    .dataframe tbody tr th:only-of-type {\n",
       "        vertical-align: middle;\n",
       "    }\n",
       "\n",
       "    .dataframe tbody tr th {\n",
       "        vertical-align: top;\n",
       "    }\n",
       "\n",
       "    .dataframe thead th {\n",
       "        text-align: right;\n",
       "    }\n",
       "</style>\n",
       "<table border=\"1\" class=\"dataframe\">\n",
       "  <thead>\n",
       "    <tr style=\"text-align: right;\">\n",
       "      <th></th>\n",
       "      <th>Month</th>\n",
       "      <th>Week</th>\n",
       "      <th>Station_dist</th>\n",
       "      <th>Tmax_3days</th>\n",
       "      <th>Tmin_3days</th>\n",
       "      <th>Tavg_3days</th>\n",
       "      <th>PrecipTotal_3days</th>\n",
       "      <th>DewPoint_3days</th>\n",
       "      <th>WetBulb_3days</th>\n",
       "      <th>StnPressure_3days</th>\n",
       "      <th>...</th>\n",
       "      <th>WindSpeed_14days</th>\n",
       "      <th>WindDirection_14days</th>\n",
       "      <th>Sunrise(hrs)_14days</th>\n",
       "      <th>Sunset(hrs)_14days</th>\n",
       "      <th>RA_7days</th>\n",
       "      <th>VC_7days</th>\n",
       "      <th>HZ_7days</th>\n",
       "      <th>FG_7days</th>\n",
       "      <th>TS_7days</th>\n",
       "      <th>BR_7days</th>\n",
       "    </tr>\n",
       "  </thead>\n",
       "  <tbody>\n",
       "    <tr>\n",
       "      <th>0</th>\n",
       "      <td>0.793238</td>\n",
       "      <td>0.724543</td>\n",
       "      <td>0.000000</td>\n",
       "      <td>1.977413</td>\n",
       "      <td>2.148928</td>\n",
       "      <td>2.127158</td>\n",
       "      <td>0.0</td>\n",
       "      <td>1.914895</td>\n",
       "      <td>2.128724</td>\n",
       "      <td>0.586535</td>\n",
       "      <td>...</td>\n",
       "      <td>0.000000</td>\n",
       "      <td>0.641764</td>\n",
       "      <td>0.000000</td>\n",
       "      <td>1.782709</td>\n",
       "      <td>0.000000</td>\n",
       "      <td>0.0</td>\n",
       "      <td>0.0</td>\n",
       "      <td>0.0</td>\n",
       "      <td>0.237437</td>\n",
       "      <td>0.000000</td>\n",
       "    </tr>\n",
       "    <tr>\n",
       "      <th>1</th>\n",
       "      <td>3.294447</td>\n",
       "      <td>3.378265</td>\n",
       "      <td>0.000000</td>\n",
       "      <td>0.101051</td>\n",
       "      <td>0.008324</td>\n",
       "      <td>0.012180</td>\n",
       "      <td>0.0</td>\n",
       "      <td>0.000000</td>\n",
       "      <td>0.000000</td>\n",
       "      <td>1.608430</td>\n",
       "      <td>...</td>\n",
       "      <td>0.000000</td>\n",
       "      <td>0.510772</td>\n",
       "      <td>3.454231</td>\n",
       "      <td>0.000000</td>\n",
       "      <td>0.035927</td>\n",
       "      <td>0.0</td>\n",
       "      <td>0.0</td>\n",
       "      <td>0.0</td>\n",
       "      <td>0.000000</td>\n",
       "      <td>0.000000</td>\n",
       "    </tr>\n",
       "    <tr>\n",
       "      <th>2</th>\n",
       "      <td>0.000000</td>\n",
       "      <td>0.000000</td>\n",
       "      <td>0.000000</td>\n",
       "      <td>0.381321</td>\n",
       "      <td>0.178879</td>\n",
       "      <td>0.196987</td>\n",
       "      <td>0.0</td>\n",
       "      <td>0.000000</td>\n",
       "      <td>0.000000</td>\n",
       "      <td>0.301276</td>\n",
       "      <td>...</td>\n",
       "      <td>1.935413</td>\n",
       "      <td>0.000000</td>\n",
       "      <td>0.000000</td>\n",
       "      <td>1.541920</td>\n",
       "      <td>0.113648</td>\n",
       "      <td>0.0</td>\n",
       "      <td>0.0</td>\n",
       "      <td>0.0</td>\n",
       "      <td>0.190679</td>\n",
       "      <td>0.000000</td>\n",
       "    </tr>\n",
       "    <tr>\n",
       "      <th>3</th>\n",
       "      <td>0.000000</td>\n",
       "      <td>0.182862</td>\n",
       "      <td>0.281155</td>\n",
       "      <td>0.000000</td>\n",
       "      <td>0.634783</td>\n",
       "      <td>0.001412</td>\n",
       "      <td>0.0</td>\n",
       "      <td>1.630723</td>\n",
       "      <td>0.883436</td>\n",
       "      <td>0.000000</td>\n",
       "      <td>...</td>\n",
       "      <td>0.002435</td>\n",
       "      <td>0.199740</td>\n",
       "      <td>0.295240</td>\n",
       "      <td>0.000000</td>\n",
       "      <td>2.525950</td>\n",
       "      <td>0.0</td>\n",
       "      <td>0.0</td>\n",
       "      <td>0.0</td>\n",
       "      <td>0.000000</td>\n",
       "      <td>5.529829</td>\n",
       "    </tr>\n",
       "    <tr>\n",
       "      <th>4</th>\n",
       "      <td>0.529978</td>\n",
       "      <td>0.411466</td>\n",
       "      <td>0.000000</td>\n",
       "      <td>0.201886</td>\n",
       "      <td>0.266753</td>\n",
       "      <td>0.213634</td>\n",
       "      <td>0.0</td>\n",
       "      <td>0.000000</td>\n",
       "      <td>0.096806</td>\n",
       "      <td>4.172930</td>\n",
       "      <td>...</td>\n",
       "      <td>0.024736</td>\n",
       "      <td>0.491445</td>\n",
       "      <td>0.000000</td>\n",
       "      <td>1.223217</td>\n",
       "      <td>0.000000</td>\n",
       "      <td>0.0</td>\n",
       "      <td>0.0</td>\n",
       "      <td>0.0</td>\n",
       "      <td>0.000000</td>\n",
       "      <td>0.000000</td>\n",
       "    </tr>\n",
       "  </tbody>\n",
       "</table>\n",
       "<p>5 rows × 48 columns</p>\n",
       "</div>"
      ],
      "text/plain": [
       "      Month      Week  Station_dist  Tmax_3days  Tmin_3days  Tavg_3days  \\\n",
       "0  0.793238  0.724543      0.000000    1.977413    2.148928    2.127158   \n",
       "1  3.294447  3.378265      0.000000    0.101051    0.008324    0.012180   \n",
       "2  0.000000  0.000000      0.000000    0.381321    0.178879    0.196987   \n",
       "3  0.000000  0.182862      0.281155    0.000000    0.634783    0.001412   \n",
       "4  0.529978  0.411466      0.000000    0.201886    0.266753    0.213634   \n",
       "\n",
       "   PrecipTotal_3days  DewPoint_3days  WetBulb_3days  StnPressure_3days  ...  \\\n",
       "0                0.0        1.914895       2.128724           0.586535  ...   \n",
       "1                0.0        0.000000       0.000000           1.608430  ...   \n",
       "2                0.0        0.000000       0.000000           0.301276  ...   \n",
       "3                0.0        1.630723       0.883436           0.000000  ...   \n",
       "4                0.0        0.000000       0.096806           4.172930  ...   \n",
       "\n",
       "   WindSpeed_14days  WindDirection_14days  Sunrise(hrs)_14days  \\\n",
       "0          0.000000              0.641764             0.000000   \n",
       "1          0.000000              0.510772             3.454231   \n",
       "2          1.935413              0.000000             0.000000   \n",
       "3          0.002435              0.199740             0.295240   \n",
       "4          0.024736              0.491445             0.000000   \n",
       "\n",
       "   Sunset(hrs)_14days  RA_7days  VC_7days  HZ_7days  FG_7days  TS_7days  \\\n",
       "0            1.782709  0.000000       0.0       0.0       0.0  0.237437   \n",
       "1            0.000000  0.035927       0.0       0.0       0.0  0.000000   \n",
       "2            1.541920  0.113648       0.0       0.0       0.0  0.190679   \n",
       "3            0.000000  2.525950       0.0       0.0       0.0  0.000000   \n",
       "4            1.223217  0.000000       0.0       0.0       0.0  0.000000   \n",
       "\n",
       "   BR_7days  \n",
       "0  0.000000  \n",
       "1  0.000000  \n",
       "2  0.000000  \n",
       "3  5.529829  \n",
       "4  0.000000  \n",
       "\n",
       "[5 rows x 48 columns]"
      ]
     },
     "execution_count": 32,
     "metadata": {},
     "output_type": "execute_result"
    }
   ],
   "source": [
    "nmf_comps = pd.DataFrame(nmf.components_,columns=X_cols)\n",
    "nmf_comps.head()"
   ]
  },
  {
   "cell_type": "code",
   "execution_count": 33,
   "metadata": {},
   "outputs": [
    {
     "name": "stdout",
     "output_type": "stream",
     "text": [
      "WetBulb_14days     3.011942\n",
      "DewPoint_14days    2.921824\n",
      "Tavg_14days        2.809516\n",
      "Name: 0, dtype: float64\n",
      "\n",
      "Sunrise(hrs)_3days     3.530037\n",
      "Sunrise(hrs)_7days     3.520504\n",
      "Sunrise(hrs)_14days    3.454231\n",
      "Name: 1, dtype: float64\n",
      "\n",
      "StnPressure_14days    1.997625\n",
      "WindSpeed_14days      1.935413\n",
      "SeaLevel_14days       1.842564\n",
      "Name: 2, dtype: float64\n",
      "\n",
      "BR_7days               5.529829\n",
      "RA_7days               2.525950\n",
      "WindDirection_3days    1.687182\n",
      "Name: 3, dtype: float64\n",
      "\n",
      "SeaLevel_3days       4.280527\n",
      "StnPressure_3days    4.172930\n",
      "SeaLevel_7days       4.064374\n",
      "Name: 4, dtype: float64\n",
      "\n",
      "WindDirection_3days     4.832971\n",
      "WindDirection_7days     3.912617\n",
      "WindDirection_14days    3.244196\n",
      "Name: 5, dtype: float64\n",
      "\n",
      "VC_7days             4.494653\n",
      "TS_7days             2.143895\n",
      "Sunset(hrs)_3days    1.284591\n",
      "Name: 6, dtype: float64\n",
      "\n",
      "Tmax_3days        1.594644\n",
      "WetBulb_3days     1.578911\n",
      "DewPoint_3days    1.566831\n",
      "Name: 7, dtype: float64\n",
      "\n",
      "Station_dist      10.127475\n",
      "SeaLevel_3days     0.353863\n",
      "SeaLevel_7days     0.316416\n",
      "Name: 8, dtype: float64\n",
      "\n",
      "TS_7days              4.621963\n",
      "PrecipTotal_14days    3.237016\n",
      "RA_7days              3.050270\n",
      "Name: 9, dtype: float64\n",
      "\n",
      "WindSpeed_3days    5.281926\n",
      "AvgSpeed_3days     5.271850\n",
      "AvgSpeed_7days     2.270636\n",
      "Name: 10, dtype: float64\n",
      "\n",
      "WindSpeed_14days    3.656845\n",
      "AvgSpeed_14days     3.033258\n",
      "AvgSpeed_7days      2.665386\n",
      "Name: 11, dtype: float64\n",
      "\n",
      "Sunset(hrs)_3days     3.687063\n",
      "Sunset(hrs)_7days     3.614601\n",
      "Sunset(hrs)_14days    3.478604\n",
      "Name: 12, dtype: float64\n",
      "\n",
      "FG_7days           2.356962\n",
      "BR_7days           1.480285\n",
      "SeaLevel_14days    0.630214\n",
      "Name: 13, dtype: float64\n",
      "\n",
      "HZ_7days              7.959120\n",
      "BR_7days              1.812407\n",
      "StnPressure_14days    1.605654\n",
      "Name: 14, dtype: float64\n",
      "\n"
     ]
    }
   ],
   "source": [
    "for i in range(nmf_comps.shape[0]):\n",
    "    print(nmf_comps.iloc[i].sort_values(ascending=False)[:3])\n",
    "    print()\n",
    "    "
   ]
  },
  {
   "cell_type": "markdown",
   "metadata": {},
   "source": [
    "The above shows the 3 biggest components for each new NMF feature.\n",
    "___\n",
    "I will export out these datasets for modeling efforts also."
   ]
  },
  {
   "cell_type": "code",
   "execution_count": 34,
   "metadata": {},
   "outputs": [],
   "source": [
    "### transform test set also\n",
    "X_test_nmf = nmf.transform(X_test)\n",
    "\n",
    "pd.DataFrame(X_train_nmf).to_csv('X_train_nmf.csv')\n",
    "pd.DataFrame(X_test_nmf).to_csv('X_test_nmf.csv')"
   ]
  },
  {
   "cell_type": "code",
   "execution_count": null,
   "metadata": {},
   "outputs": [],
   "source": []
  }
 ],
 "metadata": {
  "kernelspec": {
   "display_name": "Python 3",
   "language": "python",
   "name": "python3"
  },
  "language_info": {
   "codemirror_mode": {
    "name": "ipython",
    "version": 3
   },
   "file_extension": ".py",
   "mimetype": "text/x-python",
   "name": "python",
   "nbconvert_exporter": "python",
   "pygments_lexer": "ipython3",
   "version": "3.7.6"
  }
 },
 "nbformat": 4,
 "nbformat_minor": 4
}
