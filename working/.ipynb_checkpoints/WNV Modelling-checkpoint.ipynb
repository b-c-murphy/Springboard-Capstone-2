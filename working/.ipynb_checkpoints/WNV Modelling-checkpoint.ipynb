{
 "cells": [
  {
   "cell_type": "markdown",
   "metadata": {},
   "source": [
    "# Modelling!\n",
    "\n",
    "I will now dive into modelling the WNV cases using the datasets created in the previous Preprocessing notebook.  Hopefully I can improve upon the Logistic Regression model (especially the recall score) at the end of that notebook. \n",
    "\n",
    "Steps:\n",
    "1.  Import data sets and modeling packages from sklearn. \n",
    "2. Try 3 different models, tune hyperparameters and evaluate each.  \n",
    "    1. Random Forest\n",
    "    2. XG Boost\n",
    "    3. SVM\n",
    "3. Select the best model and output the model. "
   ]
  },
  {
   "cell_type": "markdown",
   "metadata": {},
   "source": [
    "Import pandas numpy and all of the datasets."
   ]
  },
  {
   "cell_type": "code",
   "execution_count": 20,
   "metadata": {},
   "outputs": [],
   "source": [
    "random_seed = 27"
   ]
  },
  {
   "cell_type": "code",
   "execution_count": 16,
   "metadata": {},
   "outputs": [],
   "source": [
    "import pandas as pd\n",
    "import numpy as np"
   ]
  },
  {
   "cell_type": "code",
   "execution_count": 17,
   "metadata": {},
   "outputs": [],
   "source": [
    "y_train = pd.read_csv('y_train.csv',index_col=0).to_numpy().reshape(-1,)\n",
    "y_test = pd.read_csv('y_test.csv',index_col=0).to_numpy().reshape(-1,)\n",
    "\n",
    "### Note these are already standard scaled\n",
    "X_train = pd.read_csv('X_train.csv',index_col=0).to_numpy()\n",
    "X_test = pd.read_csv('X_test.csv',index_col=0).to_numpy()\n",
    "\n",
    "X_train_pca95 = pd.read_csv('X_train_pca95.csv',index_col=0).to_numpy()\n",
    "X_test_pca95 = pd.read_csv('X_test_pca95.csv',index_col=0).to_numpy()\n",
    "\n",
    "X_train_nmf = pd.read_csv('X_train_nmf.csv',index_col=0).to_numpy()\n",
    "X_test_nmf = pd.read_csv('X_test_nmf.csv',index_col=0).to_numpy()"
   ]
  },
  {
   "cell_type": "markdown",
   "metadata": {},
   "source": [
    "Ready for modelling! First I will try a RandomForest classifier"
   ]
  },
  {
   "cell_type": "code",
   "execution_count": 18,
   "metadata": {},
   "outputs": [],
   "source": [
    "### import necessities from sklearn\n",
    "from sklearn.ensemble import RandomForestClassifier\n",
    "from sklearn.model_selection import GridSearchCV\n",
    "from sklearn.metrics import roc_auc_score, plot_confusion_matrix,\\\n",
    "                plot_precision_recall_curve, plot_roc_curve, make_scorer"
   ]
  },
  {
   "cell_type": "code",
   "execution_count": 19,
   "metadata": {},
   "outputs": [],
   "source": [
    "rf_clf = RandomForestClassifier?"
   ]
  },
  {
   "cell_type": "code",
   "execution_count": 23,
   "metadata": {},
   "outputs": [
    {
     "name": "stdout",
     "output_type": "stream",
     "text": [
      "Best Params:  {'class_weight': 'balanced', 'criterion': 'entropy', 'max_depth': 9, 'n_estimators': 150}\n",
      "Best Score:  0.775081056487615\n"
     ]
    }
   ],
   "source": [
    "### define grid parameters and fit model\n",
    "\n",
    "params={'n_estimators':[50,80,100,120,150],\\\n",
    "       'criterion': ['gini','entropy'],\\\n",
    "       'max_depth':[3,5,7,9],\n",
    "       'class_weight':[None,'balanced']}\n",
    "\n",
    "rf_clf = RandomForestClassifier()\n",
    "\n",
    "grid_rf_clf = GridSearchCV(rf_clf,param_grid=params,cv=5,n_jobs=-1,\\\n",
    "                           scoring=make_scorer(roc_auc_score))\n",
    "\n",
    "grid_rf_clf.fit(X_train,y_train)\n",
    "\n",
    "print('Best Params: ',grid_rf_clf.best_params_)\n",
    "print('Best Score: ',grid_rf_clf.best_score_)"
   ]
  },
  {
   "cell_type": "code",
   "execution_count": 22,
   "metadata": {},
   "outputs": [
    {
     "data": {
      "text/plain": [
       "{'class_weight': None,\n",
       " 'criterion': 'entropy',\n",
       " 'max_depth': 9,\n",
       " 'n_estimators': 120}"
      ]
     },
     "execution_count": 22,
     "metadata": {},
     "output_type": "execute_result"
    }
   ],
   "source": [
    "grid_rf_clf.best_params_"
   ]
  },
  {
   "cell_type": "code",
   "execution_count": null,
   "metadata": {},
   "outputs": [],
   "source": []
  }
 ],
 "metadata": {
  "kernelspec": {
   "display_name": "Python 3",
   "language": "python",
   "name": "python3"
  },
  "language_info": {
   "codemirror_mode": {
    "name": "ipython",
    "version": 3
   },
   "file_extension": ".py",
   "mimetype": "text/x-python",
   "name": "python",
   "nbconvert_exporter": "python",
   "pygments_lexer": "ipython3",
   "version": "3.7.6"
  }
 },
 "nbformat": 4,
 "nbformat_minor": 4
}
