{
 "cells": [
  {
   "cell_type": "markdown",
   "metadata": {},
   "source": [
    "# Modelling!\n",
    "\n",
    "I will now dive into modelling the WNV cases using the datasets created in the previous Preprocessing notebook.  Hopefully I can improve upon the Logistic Regression model (especially the recall score) at the end of that notebook. \n",
    "\n",
    "Steps:\n",
    "1.  Import data sets and modeling packages from sklearn. \n",
    "2. Try different models, tune hyperparameters and evaluate each.  \n",
    "    1. Random Forest\n",
    "    2. Gradient Boost\n",
    "    3. XG Boost\n",
    "    4. Support Vector Classifier\n",
    "    5. Revist Logistic regression\n",
    "3. Select the best model and output the model. Selection will be based on:\n",
    "    - Test AUC score\n",
    "    - Test Recall score"
   ]
  },
  {
   "cell_type": "markdown",
   "metadata": {},
   "source": [
    "Import pandas numpy and all of the datasets."
   ]
  },
  {
   "cell_type": "code",
   "execution_count": 21,
   "metadata": {},
   "outputs": [],
   "source": [
    "random_seed = 27"
   ]
  },
  {
   "cell_type": "code",
   "execution_count": 22,
   "metadata": {},
   "outputs": [],
   "source": [
    "import pandas as pd\n",
    "import numpy as np\n",
    "import matplotlib.pyplot as plt"
   ]
  },
  {
   "cell_type": "code",
   "execution_count": 23,
   "metadata": {},
   "outputs": [],
   "source": [
    "y_train = pd.read_csv('y_train.csv',index_col=0).to_numpy().reshape(-1,)\n",
    "y_test = pd.read_csv('y_test.csv',index_col=0).to_numpy().reshape(-1,)\n",
    "\n",
    "### Note these are already standard scaled\n",
    "X_train = pd.read_csv('X_train.csv',index_col=0).to_numpy()\n",
    "X_test = pd.read_csv('X_test.csv',index_col=0).to_numpy()\n",
    "\n",
    "X_train_pca95 = pd.read_csv('X_train_pca95.csv',index_col=0).to_numpy()\n",
    "X_test_pca95 = pd.read_csv('X_test_pca95.csv',index_col=0).to_numpy()\n",
    "\n",
    "X_train_nmf = pd.read_csv('X_train_nmf.csv',index_col=0).to_numpy()\n",
    "X_test_nmf = pd.read_csv('X_test_nmf.csv',index_col=0).to_numpy()"
   ]
  },
  {
   "cell_type": "markdown",
   "metadata": {},
   "source": [
    "Next a couple functions that will help in evaluating model performance and collecting the model metrics to help with selecting a model."
   ]
  },
  {
   "cell_type": "code",
   "execution_count": 24,
   "metadata": {},
   "outputs": [],
   "source": [
    "def Model_Eval(estimator,X_train,X_test,y_train,y_test):\n",
    "    from sklearn.metrics import plot_confusion_matrix,precision_score,\\\n",
    "                                recall_score, plot_roc_curve\n",
    "    import matplotlib.pyplot as plt\n",
    "    \n",
    "    fig,ax = plt.subplots(figsize=(5,5))\n",
    "    plot_roc_curve(estimator,X_train,y_train,ax=ax,name='Train')\n",
    "    plot_roc_curve(estimator,X_test,y_test,ax=ax,name='Test')\n",
    "    plt.title('ROC curve')\n",
    "    plt.show()\n",
    "\n",
    "    fig,ax = plt.subplots(1,2,figsize=(10,5),tight_layout=True)\n",
    "    plot_confusion_matrix(estimator,X_train,y_train,values_format='.4g',ax=ax[0],cmap='Blues')\n",
    "    plot_confusion_matrix(estimator,X_test,y_test,values_format='.4g',ax=ax[1],cmap='Oranges')\n",
    "    ax[0].set_title('Train')\n",
    "    ax[1].set_title('Test')\n",
    "    plt.show()\n",
    "\n",
    "    ### Training\n",
    "    print('Train Precision {:.3f}'.format(precision_score(\\\n",
    "                              y_train,estimator.predict(X_train))))\n",
    "    print('Train Recall    {:.3f}'.format(recall_score(\\\n",
    "                               y_train,estimator.predict(X_train))))\n",
    "    print()\n",
    "    ### Testing\n",
    "    print('Test Precision  {:.3f}'.format(precision_score(\\\n",
    "                              y_test,estimator.predict(X_test))))\n",
    "    print('Test Recall     {:.3f}'.format(recall_score(\\\n",
    "                               y_test,estimator.predict(X_test))))"
   ]
  },
  {
   "cell_type": "markdown",
   "metadata": {},
   "source": [
    "Initialize dataframe for collecting model performance"
   ]
  },
  {
   "cell_type": "code",
   "execution_count": 25,
   "metadata": {},
   "outputs": [],
   "source": [
    "df_cols = ['Model','Train_AUC','Test_AUC','Train_prec','Train_recal','Test_prec','Test_recal']\n",
    "scores_df=pd.DataFrame(columns=df_cols)"
   ]
  },
  {
   "cell_type": "markdown",
   "metadata": {},
   "source": [
    "Define function that will update the model performance dataframe"
   ]
  },
  {
   "cell_type": "code",
   "execution_count": 27,
   "metadata": {},
   "outputs": [],
   "source": [
    "def agg_score_df(scores_df,estimator,name,X_train,X_test,y_train,y_test,\\\n",
    "                 df_cols=['Model','Train_AUC','Test_AUC','Train_prec',\\\n",
    "                          'Train_recal','Test_prec','Test_recal']):\n",
    "    \"\"\"\n",
    "    \"\"\"\n",
    "    scores=[]\n",
    "    scores.append(name)\n",
    "    scores.append(roc_auc_score(y_train,estimator.predict_proba(X_train)[:,1]))\n",
    "    scores.append(roc_auc_score(y_test,estimator.predict_proba(X_test)[:,1]))\n",
    "    scores.append(precision_score(y_train,estimator.predict(X_train)))\n",
    "    scores.append(recall_score(y_train,estimator.predict(X_train)))\n",
    "    scores.append(precision_score(y_test,estimator.predict(X_test)))\n",
    "    scores.append(recall_score(y_test,estimator.predict(X_test)))\n",
    "    \n",
    "    scores = np.array(scores).reshape(1,7)\n",
    "    scores_df = pd.concat([scores_df,pd.DataFrame(scores,columns=df_cols)])\n",
    "\n",
    "    return scores_df.reset_index(drop=True)"
   ]
  },
  {
   "cell_type": "markdown",
   "metadata": {},
   "source": [
    "Ready for modelling! First I will try a RandomForest classifier"
   ]
  },
  {
   "cell_type": "markdown",
   "metadata": {},
   "source": [
    "# Random Forest Classifier"
   ]
  },
  {
   "cell_type": "code",
   "execution_count": 28,
   "metadata": {},
   "outputs": [],
   "source": [
    "### import necessities from sklearn\n",
    "from sklearn.ensemble import RandomForestClassifier\n",
    "from sklearn.model_selection import GridSearchCV\n",
    "from sklearn.metrics import roc_auc_score, plot_confusion_matrix,\\\n",
    "                plot_precision_recall_curve, plot_roc_curve, make_scorer,\\\n",
    "                recall_score, precision_score, log_loss"
   ]
  },
  {
   "cell_type": "code",
   "execution_count": 29,
   "metadata": {},
   "outputs": [
    {
     "name": "stdout",
     "output_type": "stream",
     "text": [
      "Train AUC: 1.000\n",
      "Test AUC: 0.610\n"
     ]
    }
   ],
   "source": [
    "### Default Random Forest\n",
    "\n",
    "rf_clf = RandomForestClassifier(random_state=random_seed)\n",
    "rf_clf.fit(X_train,y_train)\n",
    "print('Train AUC: {:.3f}'.format(roc_auc_score(y_train,rf_clf.predict(X_train))))\n",
    "print('Test AUC: {:.3f}'.format(roc_auc_score(y_test,rf_clf.predict(X_test))))"
   ]
  },
  {
   "cell_type": "markdown",
   "metadata": {},
   "source": [
    "That doesn't look great.  Without limiting the depths of the trees and without performing cross validation the model works perfectly on the training data! But it generalizes poorly to the testing data (high bias).\n",
    "___\n",
    "Next I will use GridSearchCV to perform a cross validation and tune the hyperparameters of the classifier. "
   ]
  },
  {
   "cell_type": "code",
   "execution_count": 30,
   "metadata": {
    "scrolled": false
   },
   "outputs": [
    {
     "data": {
      "image/png": "[encoded data removed]",
      "text/plain": [
       "<Figure size 360x360 with 1 Axes>"
      ]
     },
     "metadata": {
      "needs_background": "light"
     },
     "output_type": "display_data"
    },
    {
     "data": {
      "image/png": "[encoded data removed]",
      "text/plain": [
       "<Figure size 720x360 with 4 Axes>"
      ]
     },
     "metadata": {
      "needs_background": "light"
     },
     "output_type": "display_data"
    },
    {
     "name": "stdout",
     "output_type": "stream",
     "text": [
      "Train Precision 0.997\n",
      "Train Recall    1.000\n",
      "\n",
      "Test Precision  0.258\n",
      "Test Recall     0.299\n"
     ]
    }
   ],
   "source": [
    "Model_Eval(rf_clf,X_train,X_test,y_train,y_test)"
   ]
  },
  {
   "cell_type": "markdown",
   "metadata": {},
   "source": [
    "Clearly overfit.  But I will start aggregating the scores to in a dataframe to make it easier to decide which is the best model.  "
   ]
  },
  {
   "cell_type": "code",
   "execution_count": 31,
   "metadata": {},
   "outputs": [
    {
     "data": {
      "text/html": [
       "<div>\n",
       "<style scoped>\n",
       "    .dataframe tbody tr th:only-of-type {\n",
       "        vertical-align: middle;\n",
       "    }\n",
       "\n",
       "    .dataframe tbody tr th {\n",
       "        vertical-align: top;\n",
       "    }\n",
       "\n",
       "    .dataframe thead th {\n",
       "        text-align: right;\n",
       "    }\n",
       "</style>\n",
       "<table border=\"1\" class=\"dataframe\">\n",
       "  <thead>\n",
       "    <tr style=\"text-align: right;\">\n",
       "      <th></th>\n",
       "      <th>Model</th>\n",
       "      <th>Train_AUC</th>\n",
       "      <th>Test_AUC</th>\n",
       "      <th>Train_prec</th>\n",
       "      <th>Train_recal</th>\n",
       "      <th>Test_prec</th>\n",
       "      <th>Test_recal</th>\n",
       "    </tr>\n",
       "  </thead>\n",
       "  <tbody>\n",
       "    <tr>\n",
       "      <th>0</th>\n",
       "      <td>RandomForest default</td>\n",
       "      <td>0.9999985608363269</td>\n",
       "      <td>0.7527254327726582</td>\n",
       "      <td>0.9967637540453075</td>\n",
       "      <td>1.0</td>\n",
       "      <td>0.25842696629213485</td>\n",
       "      <td>0.2987012987012987</td>\n",
       "    </tr>\n",
       "  </tbody>\n",
       "</table>\n",
       "</div>"
      ],
      "text/plain": [
       "                  Model           Train_AUC            Test_AUC  \\\n",
       "0  RandomForest default  0.9999985608363269  0.7527254327726582   \n",
       "\n",
       "           Train_prec Train_recal            Test_prec          Test_recal  \n",
       "0  0.9967637540453075         1.0  0.25842696629213485  0.2987012987012987  "
      ]
     },
     "execution_count": 31,
     "metadata": {},
     "output_type": "execute_result"
    }
   ],
   "source": [
    "scores_df = agg_score_df(scores_df,rf_clf,'RandomForest default',X_train,X_test,y_train,y_test)\n",
    "scores_df.tail()"
   ]
  },
  {
   "cell_type": "code",
   "execution_count": 32,
   "metadata": {},
   "outputs": [
    {
     "name": "stdout",
     "output_type": "stream",
     "text": [
      "bootstrap\n",
      "ccp_alpha\n",
      "class_weight\n",
      "criterion\n",
      "max_depth\n",
      "max_features\n",
      "max_leaf_nodes\n",
      "max_samples\n",
      "min_impurity_decrease\n",
      "min_impurity_split\n",
      "min_samples_leaf\n",
      "min_samples_split\n",
      "min_weight_fraction_leaf\n",
      "n_estimators\n",
      "n_jobs\n",
      "oob_score\n",
      "random_state\n",
      "verbose\n",
      "warm_start\n"
     ]
    }
   ],
   "source": [
    "for i in RandomForestClassifier().get_params().keys():print(i)"
   ]
  },
  {
   "cell_type": "code",
   "execution_count": 33,
   "metadata": {
    "scrolled": true
   },
   "outputs": [
    {
     "name": "stdout",
     "output_type": "stream",
     "text": [
      "Best Params:  {'class_weight': 'balanced', 'criterion': 'gini', 'max_depth': 9, 'n_estimators': 100, 'random_state': 27}\n",
      "Best Score:  0.7670000502137729\n"
     ]
    }
   ],
   "source": [
    "### define grid parameters and fit model\n",
    "\n",
    "params={'n_estimators':[50,80,100,120,150],\\\n",
    "       'criterion': ['gini','entropy'],\\\n",
    "       'max_depth':[3,5,7,9],\n",
    "       'class_weight':['balanced'],\\\n",
    "       'random_state': [random_seed]}\n",
    "\n",
    "rf_clf = RandomForestClassifier()\n",
    "\n",
    "grid_rf_clf = GridSearchCV(rf_clf,param_grid=params,cv=5,n_jobs=-1,\\\n",
    "                           scoring=make_scorer(roc_auc_score))\n",
    "\n",
    "grid_rf_clf.fit(X_train,y_train)\n",
    "\n",
    "print('Best Params: ',grid_rf_clf.best_params_)\n",
    "print('Best Score: ',grid_rf_clf.best_score_)"
   ]
  },
  {
   "cell_type": "code",
   "execution_count": 34,
   "metadata": {},
   "outputs": [
    {
     "data": {
      "image/png": "[encoded data removed]",
      "text/plain": [
       "<Figure size 360x360 with 1 Axes>"
      ]
     },
     "metadata": {
      "needs_background": "light"
     },
     "output_type": "display_data"
    },
    {
     "data": {
      "image/png": "[encoded data removed]",
      "text/plain": [
       "<Figure size 720x360 with 4 Axes>"
      ]
     },
     "metadata": {
      "needs_background": "light"
     },
     "output_type": "display_data"
    },
    {
     "name": "stdout",
     "output_type": "stream",
     "text": [
      "Train Precision 0.323\n",
      "Train Recall    0.932\n",
      "\n",
      "Test Precision  0.249\n",
      "Test Recall     0.727\n"
     ]
    }
   ],
   "source": [
    "Model_Eval(grid_rf_clf,X_train,X_test,y_train,y_test)"
   ]
  },
  {
   "cell_type": "markdown",
   "metadata": {},
   "source": [
    "That looks better but I am a little concerned about the large difference in the training and testing AUC's and in the two recall scores.  The model might be a litter overcomplicated and not generalizing well.  Maybe I should try to decrease the `max_depth` of the individual trees.  Recall has increased dramatically over the logistic regression model in the previous notebook. Unfortunately precision has fallen to quite a low value. Lets look at the precision-recall plot."
   ]
  },
  {
   "cell_type": "markdown",
   "metadata": {},
   "source": [
    "Lets look at the precision-recall plot."
   ]
  },
  {
   "cell_type": "code",
   "execution_count": 35,
   "metadata": {},
   "outputs": [
    {
     "data": {
      "image/png": "[encoded data removed]",
      "text/plain": [
       "<Figure size 360x360 with 1 Axes>"
      ]
     },
     "metadata": {
      "needs_background": "light"
     },
     "output_type": "display_data"
    }
   ],
   "source": [
    "fig,ax = plt.subplots(figsize=(5,5))\n",
    "plot_precision_recall_curve(grid_rf_clf,X_train,y_train,ax=ax,name='Train')\n",
    "plot_precision_recall_curve(grid_rf_clf,X_test,y_test,ax=ax,name='Test')\n",
    "plt.show()\n"
   ]
  },
  {
   "cell_type": "markdown",
   "metadata": {},
   "source": [
    "This is not ideal.  This plot again shows the model does not generalize well. Now I will try the same exercise above but using the PCA reduced features.  "
   ]
  },
  {
   "cell_type": "code",
   "execution_count": 36,
   "metadata": {},
   "outputs": [
    {
     "data": {
      "text/html": [
       "<div>\n",
       "<style scoped>\n",
       "    .dataframe tbody tr th:only-of-type {\n",
       "        vertical-align: middle;\n",
       "    }\n",
       "\n",
       "    .dataframe tbody tr th {\n",
       "        vertical-align: top;\n",
       "    }\n",
       "\n",
       "    .dataframe thead th {\n",
       "        text-align: right;\n",
       "    }\n",
       "</style>\n",
       "<table border=\"1\" class=\"dataframe\">\n",
       "  <thead>\n",
       "    <tr style=\"text-align: right;\">\n",
       "      <th></th>\n",
       "      <th>Model</th>\n",
       "      <th>Train_AUC</th>\n",
       "      <th>Test_AUC</th>\n",
       "      <th>Train_prec</th>\n",
       "      <th>Train_recal</th>\n",
       "      <th>Test_prec</th>\n",
       "      <th>Test_recal</th>\n",
       "    </tr>\n",
       "  </thead>\n",
       "  <tbody>\n",
       "    <tr>\n",
       "      <th>0</th>\n",
       "      <td>RandomForest default</td>\n",
       "      <td>0.9999985608363269</td>\n",
       "      <td>0.7527254327726582</td>\n",
       "      <td>0.9967637540453075</td>\n",
       "      <td>1.0</td>\n",
       "      <td>0.25842696629213485</td>\n",
       "      <td>0.2987012987012987</td>\n",
       "    </tr>\n",
       "    <tr>\n",
       "      <th>1</th>\n",
       "      <td>RandomForest tuned</td>\n",
       "      <td>0.9306035276779957</td>\n",
       "      <td>0.8270289332863122</td>\n",
       "      <td>0.32319819819819817</td>\n",
       "      <td>0.9318181818181818</td>\n",
       "      <td>0.24888888888888888</td>\n",
       "      <td>0.7272727272727273</td>\n",
       "    </tr>\n",
       "  </tbody>\n",
       "</table>\n",
       "</div>"
      ],
      "text/plain": [
       "                  Model           Train_AUC            Test_AUC  \\\n",
       "0  RandomForest default  0.9999985608363269  0.7527254327726582   \n",
       "1    RandomForest tuned  0.9306035276779957  0.8270289332863122   \n",
       "\n",
       "            Train_prec         Train_recal            Test_prec  \\\n",
       "0   0.9967637540453075                 1.0  0.25842696629213485   \n",
       "1  0.32319819819819817  0.9318181818181818  0.24888888888888888   \n",
       "\n",
       "           Test_recal  \n",
       "0  0.2987012987012987  \n",
       "1  0.7272727272727273  "
      ]
     },
     "execution_count": 36,
     "metadata": {},
     "output_type": "execute_result"
    }
   ],
   "source": [
    "scores_df = agg_score_df(scores_df,grid_rf_clf,'RandomForest tuned',X_train,X_test,y_train,y_test)\n",
    "scores_df.tail()"
   ]
  },
  {
   "cell_type": "markdown",
   "metadata": {},
   "source": [
    "The tuned model is much better, but may still be a little to overfitted to the training data.\n",
    "___\n",
    "To mitigate overfitting I will try using the PCA transformed features. "
   ]
  },
  {
   "cell_type": "code",
   "execution_count": 37,
   "metadata": {
    "scrolled": true
   },
   "outputs": [
    {
     "name": "stdout",
     "output_type": "stream",
     "text": [
      "Best Params:  {'class_weight': 'balanced', 'criterion': 'gini', 'max_depth': 5, 'n_estimators': 50, 'random_state': 27}\n",
      "Best Score:  0.760899751844403\n"
     ]
    }
   ],
   "source": [
    "### define grid parameters and fit model\n",
    "\n",
    "params={'n_estimators':[50,80,100,120,150],\\\n",
    "       'criterion': ['gini','entropy'],\\\n",
    "       'max_depth':[3,5,7,9],\n",
    "       'class_weight':[None,'balanced'],\\\n",
    "       'random_state': [random_seed]}\n",
    "\n",
    "rf_clf = RandomForestClassifier()\n",
    "\n",
    "grid_rf_clf = GridSearchCV(rf_clf,param_grid=params,cv=5,n_jobs=-1,\\\n",
    "                           scoring=make_scorer(roc_auc_score),\\\n",
    "                          )\n",
    "\n",
    "grid_rf_clf.fit(X_train_pca95,y_train)\n",
    "\n",
    "print('Best Params: ',grid_rf_clf.best_params_)\n",
    "print('Best Score: ',grid_rf_clf.best_score_)"
   ]
  },
  {
   "cell_type": "code",
   "execution_count": 38,
   "metadata": {},
   "outputs": [
    {
     "data": {
      "image/png": "[encoded data removed]",
      "text/plain": [
       "<Figure size 360x360 with 1 Axes>"
      ]
     },
     "metadata": {
      "needs_background": "light"
     },
     "output_type": "display_data"
    },
    {
     "data": {
      "image/png": "[encoded data removed]",
      "text/plain": [
       "<Figure size 720x360 with 4 Axes>"
      ]
     },
     "metadata": {
      "needs_background": "light"
     },
     "output_type": "display_data"
    },
    {
     "name": "stdout",
     "output_type": "stream",
     "text": [
      "Train Precision 0.267\n",
      "Train Recall    0.877\n",
      "\n",
      "Test Precision  0.210\n",
      "Test Recall     0.753\n"
     ]
    }
   ],
   "source": [
    "Model_Eval(grid_rf_clf,X_train_pca95,X_test_pca95,y_train,y_test)"
   ]
  },
  {
   "cell_type": "markdown",
   "metadata": {},
   "source": [
    "The PCA dataset contains the top 15 PCA components, that explain 95% of the variance in the dataset.  The PCA trained random forest has a slightly lower AUC score but a higher test recall, which suggests it is less biased than the previous model trained on the full dataset.  "
   ]
  },
  {
   "cell_type": "code",
   "execution_count": 39,
   "metadata": {},
   "outputs": [
    {
     "data": {
      "image/png": "[encoded data removed]",
      "text/plain": [
       "<Figure size 360x360 with 1 Axes>"
      ]
     },
     "metadata": {
      "needs_background": "light"
     },
     "output_type": "display_data"
    }
   ],
   "source": [
    "fig,ax = plt.subplots(figsize=(5,5))\n",
    "plot_precision_recall_curve(grid_rf_clf,X_train_pca95,y_train,ax=ax,name='Train')\n",
    "plot_precision_recall_curve(grid_rf_clf,X_test_pca95,y_test,ax=ax,name='Test')\n",
    "plt.show()\n"
   ]
  },
  {
   "cell_type": "code",
   "execution_count": 40,
   "metadata": {},
   "outputs": [
    {
     "data": {
      "text/html": [
       "<div>\n",
       "<style scoped>\n",
       "    .dataframe tbody tr th:only-of-type {\n",
       "        vertical-align: middle;\n",
       "    }\n",
       "\n",
       "    .dataframe tbody tr th {\n",
       "        vertical-align: top;\n",
       "    }\n",
       "\n",
       "    .dataframe thead th {\n",
       "        text-align: right;\n",
       "    }\n",
       "</style>\n",
       "<table border=\"1\" class=\"dataframe\">\n",
       "  <thead>\n",
       "    <tr style=\"text-align: right;\">\n",
       "      <th></th>\n",
       "      <th>Model</th>\n",
       "      <th>Train_AUC</th>\n",
       "      <th>Test_AUC</th>\n",
       "      <th>Train_prec</th>\n",
       "      <th>Train_recal</th>\n",
       "      <th>Test_prec</th>\n",
       "      <th>Test_recal</th>\n",
       "    </tr>\n",
       "  </thead>\n",
       "  <tbody>\n",
       "    <tr>\n",
       "      <th>0</th>\n",
       "      <td>RandomForest default</td>\n",
       "      <td>0.9999985608363269</td>\n",
       "      <td>0.7527254327726582</td>\n",
       "      <td>0.9967637540453075</td>\n",
       "      <td>1.0</td>\n",
       "      <td>0.25842696629213485</td>\n",
       "      <td>0.2987012987012987</td>\n",
       "    </tr>\n",
       "    <tr>\n",
       "      <th>1</th>\n",
       "      <td>RandomForest tuned</td>\n",
       "      <td>0.9306035276779957</td>\n",
       "      <td>0.8270289332863122</td>\n",
       "      <td>0.32319819819819817</td>\n",
       "      <td>0.9318181818181818</td>\n",
       "      <td>0.24888888888888888</td>\n",
       "      <td>0.7272727272727273</td>\n",
       "    </tr>\n",
       "    <tr>\n",
       "      <th>2</th>\n",
       "      <td>RandomForest PCA</td>\n",
       "      <td>0.8944867558564367</td>\n",
       "      <td>0.8139192566583358</td>\n",
       "      <td>0.2665350444225074</td>\n",
       "      <td>0.8766233766233766</td>\n",
       "      <td>0.21014492753623187</td>\n",
       "      <td>0.7532467532467533</td>\n",
       "    </tr>\n",
       "  </tbody>\n",
       "</table>\n",
       "</div>"
      ],
      "text/plain": [
       "                  Model           Train_AUC            Test_AUC  \\\n",
       "0  RandomForest default  0.9999985608363269  0.7527254327726582   \n",
       "1    RandomForest tuned  0.9306035276779957  0.8270289332863122   \n",
       "2      RandomForest PCA  0.8944867558564367  0.8139192566583358   \n",
       "\n",
       "            Train_prec         Train_recal            Test_prec  \\\n",
       "0   0.9967637540453075                 1.0  0.25842696629213485   \n",
       "1  0.32319819819819817  0.9318181818181818  0.24888888888888888   \n",
       "2   0.2665350444225074  0.8766233766233766  0.21014492753623187   \n",
       "\n",
       "           Test_recal  \n",
       "0  0.2987012987012987  \n",
       "1  0.7272727272727273  \n",
       "2  0.7532467532467533  "
      ]
     },
     "execution_count": 40,
     "metadata": {},
     "output_type": "execute_result"
    }
   ],
   "source": [
    "scores_df = agg_score_df(scores_df,grid_rf_clf,'RandomForest PCA',X_train_pca95,X_test_pca95,y_train,y_test)\n",
    "scores_df.tail()"
   ]
  },
  {
   "cell_type": "markdown",
   "metadata": {},
   "source": [
    "# Boosted Decision trees"
   ]
  },
  {
   "cell_type": "code",
   "execution_count": 41,
   "metadata": {},
   "outputs": [],
   "source": [
    "### Import gradient boost and xgboost\n",
    "from sklearn.ensemble import GradientBoostingClassifier\n",
    "\n"
   ]
  },
  {
   "cell_type": "markdown",
   "metadata": {},
   "source": [
    "First I will try the Gradient Boosting classifier from sklearn, starting with the default model. "
   ]
  },
  {
   "cell_type": "code",
   "execution_count": 42,
   "metadata": {},
   "outputs": [
    {
     "name": "stdout",
     "output_type": "stream",
     "text": [
      "Train AUC:  0.9281905299192533\n",
      "Test AUC:  0.8462717919624648\n"
     ]
    }
   ],
   "source": [
    "\n",
    "params={'learning_rate':[0.1]}\n",
    "\n",
    "gb_clf = GradientBoostingClassifier(random_state=random_seed)\n",
    "grid_gb_clf = GridSearchCV(gb_clf,param_grid=params,cv=5,\\\n",
    "                           scoring = make_scorer(roc_auc_score))\n",
    "grid_gb_clf.fit(X_train,y_train)\n",
    "\n",
    "print('Train AUC: ', roc_auc_score(y_train,grid_gb_clf.predict_proba(X_train)[:,1]))\n",
    "print('Test AUC: ', roc_auc_score(y_test,grid_gb_clf.predict_proba(X_test)[:,1]))\n",
    "\n"
   ]
  },
  {
   "cell_type": "code",
   "execution_count": 43,
   "metadata": {
    "scrolled": false
   },
   "outputs": [
    {
     "data": {
      "image/png": "[encoded data removed]",
      "text/plain": [
       "<Figure size 360x360 with 1 Axes>"
      ]
     },
     "metadata": {
      "needs_background": "light"
     },
     "output_type": "display_data"
    },
    {
     "data": {
      "image/png": "[encoded data removed]",
      "text/plain": [
       "<Figure size 720x360 with 4 Axes>"
      ]
     },
     "metadata": {
      "needs_background": "light"
     },
     "output_type": "display_data"
    },
    {
     "name": "stdout",
     "output_type": "stream",
     "text": [
      "Train Precision 0.825\n",
      "Train Recall    0.214\n",
      "\n",
      "Test Precision  0.545\n",
      "Test Recall     0.156\n"
     ]
    }
   ],
   "source": [
    "Model_Eval(grid_gb_clf,X_train,X_test,y_train,y_test)"
   ]
  },
  {
   "cell_type": "code",
   "execution_count": 44,
   "metadata": {},
   "outputs": [
    {
     "data": {
      "text/html": [
       "<div>\n",
       "<style scoped>\n",
       "    .dataframe tbody tr th:only-of-type {\n",
       "        vertical-align: middle;\n",
       "    }\n",
       "\n",
       "    .dataframe tbody tr th {\n",
       "        vertical-align: top;\n",
       "    }\n",
       "\n",
       "    .dataframe thead th {\n",
       "        text-align: right;\n",
       "    }\n",
       "</style>\n",
       "<table border=\"1\" class=\"dataframe\">\n",
       "  <thead>\n",
       "    <tr style=\"text-align: right;\">\n",
       "      <th></th>\n",
       "      <th>Model</th>\n",
       "      <th>Train_AUC</th>\n",
       "      <th>Test_AUC</th>\n",
       "      <th>Train_prec</th>\n",
       "      <th>Train_recal</th>\n",
       "      <th>Test_prec</th>\n",
       "      <th>Test_recal</th>\n",
       "    </tr>\n",
       "  </thead>\n",
       "  <tbody>\n",
       "    <tr>\n",
       "      <th>0</th>\n",
       "      <td>RandomForest default</td>\n",
       "      <td>0.9999985608363269</td>\n",
       "      <td>0.7527254327726582</td>\n",
       "      <td>0.9967637540453075</td>\n",
       "      <td>1.0</td>\n",
       "      <td>0.25842696629213485</td>\n",
       "      <td>0.2987012987012987</td>\n",
       "    </tr>\n",
       "    <tr>\n",
       "      <th>1</th>\n",
       "      <td>RandomForest tuned</td>\n",
       "      <td>0.9306035276779957</td>\n",
       "      <td>0.8270289332863122</td>\n",
       "      <td>0.32319819819819817</td>\n",
       "      <td>0.9318181818181818</td>\n",
       "      <td>0.24888888888888888</td>\n",
       "      <td>0.7272727272727273</td>\n",
       "    </tr>\n",
       "    <tr>\n",
       "      <th>2</th>\n",
       "      <td>RandomForest PCA</td>\n",
       "      <td>0.8944867558564367</td>\n",
       "      <td>0.8139192566583358</td>\n",
       "      <td>0.2665350444225074</td>\n",
       "      <td>0.8766233766233766</td>\n",
       "      <td>0.21014492753623187</td>\n",
       "      <td>0.7532467532467533</td>\n",
       "    </tr>\n",
       "    <tr>\n",
       "      <th>3</th>\n",
       "      <td>Gradient Boost default</td>\n",
       "      <td>0.9281905299192533</td>\n",
       "      <td>0.8462717919624648</td>\n",
       "      <td>0.825</td>\n",
       "      <td>0.21428571428571427</td>\n",
       "      <td>0.5454545454545454</td>\n",
       "      <td>0.15584415584415584</td>\n",
       "    </tr>\n",
       "  </tbody>\n",
       "</table>\n",
       "</div>"
      ],
      "text/plain": [
       "                    Model           Train_AUC            Test_AUC  \\\n",
       "0    RandomForest default  0.9999985608363269  0.7527254327726582   \n",
       "1      RandomForest tuned  0.9306035276779957  0.8270289332863122   \n",
       "2        RandomForest PCA  0.8944867558564367  0.8139192566583358   \n",
       "3  Gradient Boost default  0.9281905299192533  0.8462717919624648   \n",
       "\n",
       "            Train_prec          Train_recal            Test_prec  \\\n",
       "0   0.9967637540453075                  1.0  0.25842696629213485   \n",
       "1  0.32319819819819817   0.9318181818181818  0.24888888888888888   \n",
       "2   0.2665350444225074   0.8766233766233766  0.21014492753623187   \n",
       "3                0.825  0.21428571428571427   0.5454545454545454   \n",
       "\n",
       "            Test_recal  \n",
       "0   0.2987012987012987  \n",
       "1   0.7272727272727273  \n",
       "2   0.7532467532467533  \n",
       "3  0.15584415584415584  "
      ]
     },
     "execution_count": 44,
     "metadata": {},
     "output_type": "execute_result"
    }
   ],
   "source": [
    "scores_df = agg_score_df(scores_df,grid_gb_clf,'Gradient Boost default',X_train,X_test,y_train,y_test)\n",
    "scores_df.tail()"
   ]
  },
  {
   "cell_type": "code",
   "execution_count": null,
   "metadata": {},
   "outputs": [],
   "source": []
  },
  {
   "cell_type": "markdown",
   "metadata": {},
   "source": [
    "The AUC's look great, but the recall is very low.  The model needs to do have a better recall score so it doesn't miss a lot of positive WNV cases.  Now I will try to tune the model.     "
   ]
  },
  {
   "cell_type": "code",
   "execution_count": 45,
   "metadata": {},
   "outputs": [
    {
     "name": "stdout",
     "output_type": "stream",
     "text": [
      "ccp_alpha\n",
      "criterion\n",
      "init\n",
      "learning_rate\n",
      "loss\n",
      "max_depth\n",
      "max_features\n",
      "max_leaf_nodes\n",
      "min_impurity_decrease\n",
      "min_impurity_split\n",
      "min_samples_leaf\n",
      "min_samples_split\n",
      "min_weight_fraction_leaf\n",
      "n_estimators\n",
      "n_iter_no_change\n",
      "presort\n",
      "random_state\n",
      "subsample\n",
      "tol\n",
      "validation_fraction\n",
      "verbose\n",
      "warm_start\n"
     ]
    }
   ],
   "source": [
    "### Gradient Boosting Classifier parameters\n",
    "for i in GradientBoostingClassifier().get_params().keys():print(i)"
   ]
  },
  {
   "cell_type": "code",
   "execution_count": 46,
   "metadata": {},
   "outputs": [
    {
     "name": "stdout",
     "output_type": "stream",
     "text": [
      "Best Params:  {'learning_rate': 0.8, 'max_depth': 5, 'max_features': 0.5, 'n_estimators': 40, 'subsample': 0.5}\n",
      "Best Score:  0.6367245401045374\n"
     ]
    }
   ],
   "source": [
    "### Gradient boosting model\n",
    "params = {'max_depth':[2,3,5],\\\n",
    "         'learning_rate':[0.1,0.5,0.8,1],\\\n",
    "         'n_estimators':[20,40,80],\\\n",
    "          'max_features':[.5,.8,1],\\\n",
    "         'subsample':[.5,.8,1]}\n",
    "\n",
    "\n",
    "gb_clf = GradientBoostingClassifier(random_state=random_seed)\n",
    "grid_gb_clf = GridSearchCV(gb_clf,param_grid=params,cv=5,n_jobs=-1,\\\n",
    "                           scoring=make_scorer(roc_auc_score))\n",
    "grid_gb_clf.fit(X_train,y_train)\n",
    "print('Best Params: ',grid_gb_clf.best_params_)\n",
    "print('Best Score: ',grid_gb_clf.best_score_)\n"
   ]
  },
  {
   "cell_type": "markdown",
   "metadata": {},
   "source": [
    "That took much longer than the random forest, the ensemble is done in series after all.  "
   ]
  },
  {
   "cell_type": "code",
   "execution_count": 132,
   "metadata": {},
   "outputs": [
    {
     "data": {
      "image/png": "[encoded data removed]",
      "text/plain": [
       "<Figure size 360x360 with 1 Axes>"
      ]
     },
     "metadata": {
      "needs_background": "light"
     },
     "output_type": "display_data"
    },
    {
     "data": {
      "image/png": "[encoded data removed]",
      "text/plain": [
       "<Figure size 720x360 with 4 Axes>"
      ]
     },
     "metadata": {
      "needs_background": "light"
     },
     "output_type": "display_data"
    },
    {
     "name": "stdout",
     "output_type": "stream",
     "text": [
      "Train Precision 0.540\n",
      "Train Recall    0.416\n",
      "\n",
      "Test Precision  0.328\n",
      "Test Recall     0.286\n"
     ]
    }
   ],
   "source": [
    "Model_Eval(grid_gb_clf,X_train,X_test,y_train,y_test)"
   ]
  },
  {
   "cell_type": "code",
   "execution_count": 129,
   "metadata": {},
   "outputs": [
    {
     "data": {
      "text/html": [
       "<div>\n",
       "<style scoped>\n",
       "    .dataframe tbody tr th:only-of-type {\n",
       "        vertical-align: middle;\n",
       "    }\n",
       "\n",
       "    .dataframe tbody tr th {\n",
       "        vertical-align: top;\n",
       "    }\n",
       "\n",
       "    .dataframe thead th {\n",
       "        text-align: right;\n",
       "    }\n",
       "</style>\n",
       "<table border=\"1\" class=\"dataframe\">\n",
       "  <thead>\n",
       "    <tr style=\"text-align: right;\">\n",
       "      <th></th>\n",
       "      <th>Model</th>\n",
       "      <th>Train_AUC</th>\n",
       "      <th>Test_AUC</th>\n",
       "      <th>Train_prec</th>\n",
       "      <th>Train_recal</th>\n",
       "      <th>Test_prec</th>\n",
       "      <th>Test_recal</th>\n",
       "    </tr>\n",
       "  </thead>\n",
       "  <tbody>\n",
       "    <tr>\n",
       "      <th>0</th>\n",
       "      <td>RandomForest default</td>\n",
       "      <td>0.9999985608363269</td>\n",
       "      <td>0.7527254327726582</td>\n",
       "      <td>0.9967637540453075</td>\n",
       "      <td>1.0</td>\n",
       "      <td>0.25842696629213485</td>\n",
       "      <td>0.2987012987012987</td>\n",
       "    </tr>\n",
       "    <tr>\n",
       "      <th>1</th>\n",
       "      <td>RandomForest tuned</td>\n",
       "      <td>0.9306035276779957</td>\n",
       "      <td>0.8270289332863122</td>\n",
       "      <td>0.32319819819819817</td>\n",
       "      <td>0.9318181818181818</td>\n",
       "      <td>0.24888888888888888</td>\n",
       "      <td>0.7272727272727273</td>\n",
       "    </tr>\n",
       "    <tr>\n",
       "      <th>2</th>\n",
       "      <td>RandomForest PCA</td>\n",
       "      <td>0.8944867558564367</td>\n",
       "      <td>0.8139192566583358</td>\n",
       "      <td>0.2665350444225074</td>\n",
       "      <td>0.8766233766233766</td>\n",
       "      <td>0.21014492753623187</td>\n",
       "      <td>0.7532467532467533</td>\n",
       "    </tr>\n",
       "    <tr>\n",
       "      <th>3</th>\n",
       "      <td>Gradient Boost default</td>\n",
       "      <td>0.9281905299192533</td>\n",
       "      <td>0.8462717919624648</td>\n",
       "      <td>0.825</td>\n",
       "      <td>0.21428571428571427</td>\n",
       "      <td>0.5454545454545454</td>\n",
       "      <td>0.15584415584415584</td>\n",
       "    </tr>\n",
       "    <tr>\n",
       "      <th>4</th>\n",
       "      <td>Gradient Boost tuned</td>\n",
       "      <td>0.8269914187467378</td>\n",
       "      <td>0.7537220748554869</td>\n",
       "      <td>0.540084388185654</td>\n",
       "      <td>0.4155844155844156</td>\n",
       "      <td>0.3283582089552239</td>\n",
       "      <td>0.2857142857142857</td>\n",
       "    </tr>\n",
       "  </tbody>\n",
       "</table>\n",
       "</div>"
      ],
      "text/plain": [
       "                    Model           Train_AUC            Test_AUC  \\\n",
       "0    RandomForest default  0.9999985608363269  0.7527254327726582   \n",
       "1      RandomForest tuned  0.9306035276779957  0.8270289332863122   \n",
       "2        RandomForest PCA  0.8944867558564367  0.8139192566583358   \n",
       "3  Gradient Boost default  0.9281905299192533  0.8462717919624648   \n",
       "4    Gradient Boost tuned  0.8269914187467378  0.7537220748554869   \n",
       "\n",
       "            Train_prec          Train_recal            Test_prec  \\\n",
       "0   0.9967637540453075                  1.0  0.25842696629213485   \n",
       "1  0.32319819819819817   0.9318181818181818  0.24888888888888888   \n",
       "2   0.2665350444225074   0.8766233766233766  0.21014492753623187   \n",
       "3                0.825  0.21428571428571427   0.5454545454545454   \n",
       "4    0.540084388185654   0.4155844155844156   0.3283582089552239   \n",
       "\n",
       "            Test_recal  \n",
       "0   0.2987012987012987  \n",
       "1   0.7272727272727273  \n",
       "2   0.7532467532467533  \n",
       "3  0.15584415584415584  \n",
       "4   0.2857142857142857  "
      ]
     },
     "execution_count": 129,
     "metadata": {},
     "output_type": "execute_result"
    }
   ],
   "source": [
    "scores_df = agg_score_df(scores_df,grid_gb_clf,'Gradient Boost tuned',X_train,X_test,y_train,y_test)\n",
    "scores_df.tail()"
   ]
  },
  {
   "cell_type": "markdown",
   "metadata": {},
   "source": [
    "The AUC's are now both lower than the default model.  However, the tuned model has less bias and higher recall scores for both the training and testing set.\n",
    "\n",
    "\n",
    "The tuned Gradient Boosting model scores lower than the tuned Random Forest model.  \n"
   ]
  },
  {
   "cell_type": "markdown",
   "metadata": {},
   "source": [
    "Now I will prefrom the same modeling task but using the PCA transformed features. "
   ]
  },
  {
   "cell_type": "code",
   "execution_count": 142,
   "metadata": {},
   "outputs": [
    {
     "name": "stdout",
     "output_type": "stream",
     "text": [
      "Best Params:  {'learning_rate': 0.8, 'max_depth': 5, 'max_features': 0.5, 'n_estimators': 80, 'subsample': 0.5}\n",
      "Best Score:  0.6189515539145221\n"
     ]
    }
   ],
   "source": [
    "### Gradient boosting model using PCA transformed features\n",
    "params = {'max_depth':[2,3,5],\\\n",
    "         'learning_rate':[0.1,0.5,0.8,1],\\\n",
    "         'n_estimators':[20,40,80],\\\n",
    "          'max_features':[.5,.8,1],\\\n",
    "         'subsample':[.5,.8,1]}\n",
    "\n",
    "\n",
    "gb_clf = GradientBoostingClassifier(random_state=random_seed)\n",
    "grid_gb_clf = GridSearchCV(gb_clf,param_grid=params,cv=5,n_jobs=-1,\\\n",
    "                           scoring=make_scorer(roc_auc_score))\n",
    "grid_gb_clf.fit(X_train_pca95,y_train)\n",
    "print('Best Params: ',grid_gb_clf.best_params_)\n",
    "print('Best Score: ',grid_gb_clf.best_score_)\n"
   ]
  },
  {
   "cell_type": "code",
   "execution_count": 143,
   "metadata": {},
   "outputs": [
    {
     "data": {
      "image/png": "[encoded data removed]",
      "text/plain": [
       "<Figure size 360x360 with 1 Axes>"
      ]
     },
     "metadata": {
      "needs_background": "light"
     },
     "output_type": "display_data"
    },
    {
     "data": {
      "image/png": "[encoded data removed]",
      "text/plain": [
       "<Figure size 720x360 with 4 Axes>"
      ]
     },
     "metadata": {
      "needs_background": "light"
     },
     "output_type": "display_data"
    },
    {
     "name": "stdout",
     "output_type": "stream",
     "text": [
      "Train Precision 0.687\n",
      "Train Recall    0.669\n",
      "\n",
      "Test Precision  0.263\n",
      "Test Recall     0.260\n"
     ]
    }
   ],
   "source": [
    "Model_Eval(grid_gb_clf,X_train_pca95,X_test_pca95,y_train,y_test)"
   ]
  },
  {
   "cell_type": "code",
   "execution_count": 144,
   "metadata": {},
   "outputs": [
    {
     "data": {
      "text/html": [
       "<div>\n",
       "<style scoped>\n",
       "    .dataframe tbody tr th:only-of-type {\n",
       "        vertical-align: middle;\n",
       "    }\n",
       "\n",
       "    .dataframe tbody tr th {\n",
       "        vertical-align: top;\n",
       "    }\n",
       "\n",
       "    .dataframe thead th {\n",
       "        text-align: right;\n",
       "    }\n",
       "</style>\n",
       "<table border=\"1\" class=\"dataframe\">\n",
       "  <thead>\n",
       "    <tr style=\"text-align: right;\">\n",
       "      <th></th>\n",
       "      <th>Model</th>\n",
       "      <th>Train_AUC</th>\n",
       "      <th>Test_AUC</th>\n",
       "      <th>Train_prec</th>\n",
       "      <th>Train_recal</th>\n",
       "      <th>Test_prec</th>\n",
       "      <th>Test_recal</th>\n",
       "    </tr>\n",
       "  </thead>\n",
       "  <tbody>\n",
       "    <tr>\n",
       "      <th>1</th>\n",
       "      <td>RandomForest tuned</td>\n",
       "      <td>0.9306035276779957</td>\n",
       "      <td>0.8270289332863122</td>\n",
       "      <td>0.32319819819819817</td>\n",
       "      <td>0.9318181818181818</td>\n",
       "      <td>0.24888888888888888</td>\n",
       "      <td>0.7272727272727273</td>\n",
       "    </tr>\n",
       "    <tr>\n",
       "      <th>2</th>\n",
       "      <td>RandomForest PCA</td>\n",
       "      <td>0.8944867558564367</td>\n",
       "      <td>0.8139192566583358</td>\n",
       "      <td>0.2665350444225074</td>\n",
       "      <td>0.8766233766233766</td>\n",
       "      <td>0.21014492753623187</td>\n",
       "      <td>0.7532467532467533</td>\n",
       "    </tr>\n",
       "    <tr>\n",
       "      <th>3</th>\n",
       "      <td>Gradient Boost default</td>\n",
       "      <td>0.9281905299192533</td>\n",
       "      <td>0.8462717919624648</td>\n",
       "      <td>0.825</td>\n",
       "      <td>0.21428571428571427</td>\n",
       "      <td>0.5454545454545454</td>\n",
       "      <td>0.15584415584415584</td>\n",
       "    </tr>\n",
       "    <tr>\n",
       "      <th>4</th>\n",
       "      <td>Gradient Boost tuned</td>\n",
       "      <td>0.8269914187467378</td>\n",
       "      <td>0.7537220748554869</td>\n",
       "      <td>0.540084388185654</td>\n",
       "      <td>0.4155844155844156</td>\n",
       "      <td>0.3283582089552239</td>\n",
       "      <td>0.2857142857142857</td>\n",
       "    </tr>\n",
       "    <tr>\n",
       "      <th>5</th>\n",
       "      <td>Gradient Boost PCA</td>\n",
       "      <td>0.8953516932240336</td>\n",
       "      <td>0.6920069304957145</td>\n",
       "      <td>0.6866666666666666</td>\n",
       "      <td>0.6688311688311688</td>\n",
       "      <td>0.2631578947368421</td>\n",
       "      <td>0.2597402597402597</td>\n",
       "    </tr>\n",
       "  </tbody>\n",
       "</table>\n",
       "</div>"
      ],
      "text/plain": [
       "                    Model           Train_AUC            Test_AUC  \\\n",
       "1      RandomForest tuned  0.9306035276779957  0.8270289332863122   \n",
       "2        RandomForest PCA  0.8944867558564367  0.8139192566583358   \n",
       "3  Gradient Boost default  0.9281905299192533  0.8462717919624648   \n",
       "4    Gradient Boost tuned  0.8269914187467378  0.7537220748554869   \n",
       "5      Gradient Boost PCA  0.8953516932240336  0.6920069304957145   \n",
       "\n",
       "            Train_prec          Train_recal            Test_prec  \\\n",
       "1  0.32319819819819817   0.9318181818181818  0.24888888888888888   \n",
       "2   0.2665350444225074   0.8766233766233766  0.21014492753623187   \n",
       "3                0.825  0.21428571428571427   0.5454545454545454   \n",
       "4    0.540084388185654   0.4155844155844156   0.3283582089552239   \n",
       "5   0.6866666666666666   0.6688311688311688   0.2631578947368421   \n",
       "\n",
       "            Test_recal  \n",
       "1   0.7272727272727273  \n",
       "2   0.7532467532467533  \n",
       "3  0.15584415584415584  \n",
       "4   0.2857142857142857  \n",
       "5   0.2597402597402597  "
      ]
     },
     "execution_count": 144,
     "metadata": {},
     "output_type": "execute_result"
    }
   ],
   "source": [
    "scores_df = agg_score_df(scores_df,grid_gb_clf,'Gradient Boost PCA',X_train_pca95,X_test_pca95,y_train,y_test)\n",
    "scores_df.tail()"
   ]
  },
  {
   "cell_type": "markdown",
   "metadata": {},
   "source": [
    "Using the PCA transformed dataset produced an even more biased and overfit model."
   ]
  },
  {
   "cell_type": "markdown",
   "metadata": {},
   "source": [
    "# Ask Rahul about tuning the GB model"
   ]
  },
  {
   "cell_type": "markdown",
   "metadata": {},
   "source": [
    "## XG Boost"
   ]
  },
  {
   "cell_type": "markdown",
   "metadata": {},
   "source": [
    "Now I will try an XG Boost model.  "
   ]
  },
  {
   "cell_type": "code",
   "execution_count": 145,
   "metadata": {},
   "outputs": [],
   "source": [
    "import xgboost"
   ]
  },
  {
   "cell_type": "code",
   "execution_count": 153,
   "metadata": {},
   "outputs": [
    {
     "name": "stdout",
     "output_type": "stream",
     "text": [
      "Train AUC:  0.931762\n",
      "Test AUC:  0.8440044\n"
     ]
    }
   ],
   "source": [
    "### try XG Boost using default parameters\n",
    "\n",
    "### Transform to dmatrix (I forget why...)\n",
    "data_dmatrix = xgboost.DMatrix(data=X_train,label=y_train)\n",
    "\n",
    "### Set basic parameters, No tuning yet!!\n",
    "params = {'objective':'binary:logistic','eval_metric':'auc'}\n",
    "\n",
    "\n",
    "\n",
    "cv_result = xgboost.cv(dtrain=data_dmatrix, params=params,\\\n",
    "                       nfold=5,as_pandas=True)\n",
    "\n",
    "print('Train AUC: ',cv_result['train-auc-mean'].iloc[-1])\n",
    "print('Test AUC: ',cv_result['test-auc-mean'].iloc[-1])\n",
    "\n",
    "\n",
    "#print('Best Params: ',grid_xgb.best_params_)\n"
   ]
  },
  {
   "cell_type": "code",
   "execution_count": 155,
   "metadata": {},
   "outputs": [
    {
     "name": "stderr",
     "output_type": "stream",
     "text": [
      "C:\\Users\\blain\\Anaconda3\\lib\\site-packages\\xgboost\\sklearn.py:888: UserWarning: The use of label encoder in XGBClassifier is deprecated and will be removed in a future release. To remove this warning, do the following: 1) Pass option use_label_encoder=False when constructing XGBClassifier object; and 2) Encode your labels (y) as integers starting with 0, i.e. 0, 1, 2, ..., [num_class - 1].\n",
      "  warnings.warn(label_encoder_deprecation_msg, UserWarning)\n"
     ]
    },
    {
     "name": "stdout",
     "output_type": "stream",
     "text": [
      "Train AUC:  0.9984533787725277\n",
      "Test AUC:  0.8374476762906514\n"
     ]
    }
   ],
   "source": [
    "params = {'objective':['binary:logistic'],'eval_metric':['auc']}\n",
    "xgb = xgboost.XGBClassifier()\n",
    "grid_xgb = GridSearchCV(xgb,param_grid=params,cv=5)\n",
    "grid_xgb.fit(X_train,y_train)\n",
    "\n",
    "print('Train AUC: ',roc_auc_score(y_train,grid_xgb.predict_proba(X_train)[:,1]))\n",
    "print('Test AUC: ',roc_auc_score(y_test,grid_xgb.predict_proba(X_test)[:,1]))\n"
   ]
  },
  {
   "cell_type": "code",
   "execution_count": 156,
   "metadata": {},
   "outputs": [
    {
     "data": {
      "image/png": "[encoded data removed]",
      "text/plain": [
       "<Figure size 360x360 with 1 Axes>"
      ]
     },
     "metadata": {
      "needs_background": "light"
     },
     "output_type": "display_data"
    },
    {
     "data": {
      "image/png": "[encoded data removed]",
      "text/plain": [
       "<Figure size 720x360 with 4 Axes>"
      ]
     },
     "metadata": {
      "needs_background": "light"
     },
     "output_type": "display_data"
    },
    {
     "name": "stdout",
     "output_type": "stream",
     "text": [
      "Train Precision 0.992\n",
      "Train Recall    0.795\n",
      "\n",
      "Test Precision  0.392\n",
      "Test Recall     0.260\n"
     ]
    }
   ],
   "source": [
    "Model_Eval(grid_xgb,X_train,X_test,y_train,y_test)"
   ]
  },
  {
   "cell_type": "code",
   "execution_count": 157,
   "metadata": {},
   "outputs": [
    {
     "data": {
      "text/html": [
       "<div>\n",
       "<style scoped>\n",
       "    .dataframe tbody tr th:only-of-type {\n",
       "        vertical-align: middle;\n",
       "    }\n",
       "\n",
       "    .dataframe tbody tr th {\n",
       "        vertical-align: top;\n",
       "    }\n",
       "\n",
       "    .dataframe thead th {\n",
       "        text-align: right;\n",
       "    }\n",
       "</style>\n",
       "<table border=\"1\" class=\"dataframe\">\n",
       "  <thead>\n",
       "    <tr style=\"text-align: right;\">\n",
       "      <th></th>\n",
       "      <th>Model</th>\n",
       "      <th>Train_AUC</th>\n",
       "      <th>Test_AUC</th>\n",
       "      <th>Train_prec</th>\n",
       "      <th>Train_recal</th>\n",
       "      <th>Test_prec</th>\n",
       "      <th>Test_recal</th>\n",
       "    </tr>\n",
       "  </thead>\n",
       "  <tbody>\n",
       "    <tr>\n",
       "      <th>2</th>\n",
       "      <td>RandomForest PCA</td>\n",
       "      <td>0.8944867558564367</td>\n",
       "      <td>0.8139192566583358</td>\n",
       "      <td>0.2665350444225074</td>\n",
       "      <td>0.8766233766233766</td>\n",
       "      <td>0.21014492753623187</td>\n",
       "      <td>0.7532467532467533</td>\n",
       "    </tr>\n",
       "    <tr>\n",
       "      <th>3</th>\n",
       "      <td>Gradient Boost default</td>\n",
       "      <td>0.9281905299192533</td>\n",
       "      <td>0.8462717919624648</td>\n",
       "      <td>0.825</td>\n",
       "      <td>0.21428571428571427</td>\n",
       "      <td>0.5454545454545454</td>\n",
       "      <td>0.15584415584415584</td>\n",
       "    </tr>\n",
       "    <tr>\n",
       "      <th>4</th>\n",
       "      <td>Gradient Boost tuned</td>\n",
       "      <td>0.8269914187467378</td>\n",
       "      <td>0.7537220748554869</td>\n",
       "      <td>0.540084388185654</td>\n",
       "      <td>0.4155844155844156</td>\n",
       "      <td>0.3283582089552239</td>\n",
       "      <td>0.2857142857142857</td>\n",
       "    </tr>\n",
       "    <tr>\n",
       "      <th>5</th>\n",
       "      <td>Gradient Boost PCA</td>\n",
       "      <td>0.8953516932240336</td>\n",
       "      <td>0.6920069304957145</td>\n",
       "      <td>0.6866666666666666</td>\n",
       "      <td>0.6688311688311688</td>\n",
       "      <td>0.2631578947368421</td>\n",
       "      <td>0.2597402597402597</td>\n",
       "    </tr>\n",
       "    <tr>\n",
       "      <th>6</th>\n",
       "      <td>XG Boost default</td>\n",
       "      <td>0.9984533787725277</td>\n",
       "      <td>0.8374476762906514</td>\n",
       "      <td>0.9919028340080972</td>\n",
       "      <td>0.7954545454545454</td>\n",
       "      <td>0.39215686274509803</td>\n",
       "      <td>0.2597402597402597</td>\n",
       "    </tr>\n",
       "  </tbody>\n",
       "</table>\n",
       "</div>"
      ],
      "text/plain": [
       "                    Model           Train_AUC            Test_AUC  \\\n",
       "2        RandomForest PCA  0.8944867558564367  0.8139192566583358   \n",
       "3  Gradient Boost default  0.9281905299192533  0.8462717919624648   \n",
       "4    Gradient Boost tuned  0.8269914187467378  0.7537220748554869   \n",
       "5      Gradient Boost PCA  0.8953516932240336  0.6920069304957145   \n",
       "6        XG Boost default  0.9984533787725277  0.8374476762906514   \n",
       "\n",
       "           Train_prec          Train_recal            Test_prec  \\\n",
       "2  0.2665350444225074   0.8766233766233766  0.21014492753623187   \n",
       "3               0.825  0.21428571428571427   0.5454545454545454   \n",
       "4   0.540084388185654   0.4155844155844156   0.3283582089552239   \n",
       "5  0.6866666666666666   0.6688311688311688   0.2631578947368421   \n",
       "6  0.9919028340080972   0.7954545454545454  0.39215686274509803   \n",
       "\n",
       "            Test_recal  \n",
       "2   0.7532467532467533  \n",
       "3  0.15584415584415584  \n",
       "4   0.2857142857142857  \n",
       "5   0.2597402597402597  \n",
       "6   0.2597402597402597  "
      ]
     },
     "execution_count": 157,
     "metadata": {},
     "output_type": "execute_result"
    }
   ],
   "source": [
    "scores_df = agg_score_df(scores_df,grid_xgb,'XG Boost default',X_train,X_test,y_train,y_test)\n",
    "scores_df.tail()"
   ]
  },
  {
   "cell_type": "markdown",
   "metadata": {},
   "source": [
    "The default XGB model is very overfit to the training set and generalizes very poorly to the testing set.  I will now attempt to tune the parameters.  \n"
   ]
  },
  {
   "cell_type": "code",
   "execution_count": 72,
   "metadata": {},
   "outputs": [
    {
     "name": "stdout",
     "output_type": "stream",
     "text": [
      "objective\n",
      "use_label_encoder\n",
      "base_score\n",
      "booster\n",
      "colsample_bylevel\n",
      "colsample_bynode\n",
      "colsample_bytree\n",
      "gamma\n",
      "gpu_id\n",
      "importance_type\n",
      "interaction_constraints\n",
      "learning_rate\n",
      "max_delta_step\n",
      "max_depth\n",
      "min_child_weight\n",
      "missing\n",
      "monotone_constraints\n",
      "n_estimators\n",
      "n_jobs\n",
      "num_parallel_tree\n",
      "random_state\n",
      "reg_alpha\n",
      "reg_lambda\n",
      "scale_pos_weight\n",
      "subsample\n",
      "tree_method\n",
      "validate_parameters\n",
      "verbosity\n"
     ]
    }
   ],
   "source": [
    "for i in xgboost.XGBClassifier().get_params().keys(): print(i)"
   ]
  },
  {
   "cell_type": "code",
   "execution_count": 166,
   "metadata": {},
   "outputs": [
    {
     "name": "stdout",
     "output_type": "stream",
     "text": [
      "Fitting 5 folds for each of 60 candidates, totalling 300 fits\n"
     ]
    },
    {
     "name": "stderr",
     "output_type": "stream",
     "text": [
      "[Parallel(n_jobs=-1)]: Using backend LokyBackend with 8 concurrent workers.\n",
      "[Parallel(n_jobs=-1)]: Done  34 tasks      | elapsed:    6.4s\n",
      "[Parallel(n_jobs=-1)]: Done 184 tasks      | elapsed:   37.4s\n",
      "[Parallel(n_jobs=-1)]: Done 300 out of 300 | elapsed:  1.0min finished\n"
     ]
    },
    {
     "name": "stdout",
     "output_type": "stream",
     "text": [
      "Best Params:  {'subsample': 0.3, 'objective': 'binary:logistic', 'max_depth': 8, 'learning_rate': 0.56, 'lambda': 8.1, 'gamma': 1, 'eval_metric': 'auc', 'colsample_bytree': 0.8000000000000003, 'alpha': 1}\n",
      "Best Score:  0.5847547331507498\n"
     ]
    }
   ],
   "source": [
    "### Grid search to prevent overfitting XG Boost\n",
    "\n",
    "from sklearn.model_selection import RandomizedSearchCV\n",
    "\n",
    "\n",
    "### Transform to dmatrix (I forget why...)\n",
    "data_dmatrix = xgboost.DMatrix(data=X_train,label=y_train)\n",
    "\n",
    "### Set parameter ranges, here there are alot so I will use randomized search\n",
    "params = {'objective':['binary:logistic'],'eval_metric':['auc'],\\\n",
    "         'subsample':np.arange(.3,.9,.1),\\\n",
    "         'colsample_bytree':np.arange(.3,.9,.1),\\\n",
    "         'gamma':np.arange(1,11,1), 'alpha':np.arange(1,100,10),\\\n",
    "         'lambda':np.arange(.1,10,1),\\\n",
    "         'learning_rate':np.arange(.01,.9,.05),\\\n",
    "         'max_depth':np.arange(3,15,1)}\n",
    "\n",
    "xgb = xgboost.XGBClassifier(use_label_encoder=False)\n",
    "\n",
    "rand_xgb = RandomizedSearchCV(estimator = xgb,param_distributions=params,cv=5,\\\n",
    "                             n_iter=60,n_jobs=-1,verbose=1,\\\n",
    "                              scoring = make_scorer(roc_auc_score))\n",
    "\n",
    "rand_xgb.fit(X_train,y_train)\n",
    "\n",
    "\n",
    "print('Best Params: ',rand_xgb.best_params_)\n",
    "print('Best Score: ',rand_xgb.best_score_)"
   ]
  },
  {
   "cell_type": "code",
   "execution_count": 167,
   "metadata": {},
   "outputs": [
    {
     "data": {
      "image/png": "[encoded data removed]",
      "text/plain": [
       "<Figure size 360x360 with 1 Axes>"
      ]
     },
     "metadata": {
      "needs_background": "light"
     },
     "output_type": "display_data"
    },
    {
     "data": {
      "image/png": "[encoded data removed]",
      "text/plain": [
       "<Figure size 720x360 with 4 Axes>"
      ]
     },
     "metadata": {
      "needs_background": "light"
     },
     "output_type": "display_data"
    },
    {
     "name": "stdout",
     "output_type": "stream",
     "text": [
      "Train Precision 0.714\n",
      "Train Recall    0.292\n",
      "\n",
      "Test Precision  0.463\n",
      "Test Recall     0.247\n"
     ]
    }
   ],
   "source": [
    "Model_Eval(rand_xgb,X_train,X_test,y_train,y_test)"
   ]
  },
  {
   "cell_type": "code",
   "execution_count": 168,
   "metadata": {},
   "outputs": [
    {
     "data": {
      "text/html": [
       "<div>\n",
       "<style scoped>\n",
       "    .dataframe tbody tr th:only-of-type {\n",
       "        vertical-align: middle;\n",
       "    }\n",
       "\n",
       "    .dataframe tbody tr th {\n",
       "        vertical-align: top;\n",
       "    }\n",
       "\n",
       "    .dataframe thead th {\n",
       "        text-align: right;\n",
       "    }\n",
       "</style>\n",
       "<table border=\"1\" class=\"dataframe\">\n",
       "  <thead>\n",
       "    <tr style=\"text-align: right;\">\n",
       "      <th></th>\n",
       "      <th>Model</th>\n",
       "      <th>Train_AUC</th>\n",
       "      <th>Test_AUC</th>\n",
       "      <th>Train_prec</th>\n",
       "      <th>Train_recal</th>\n",
       "      <th>Test_prec</th>\n",
       "      <th>Test_recal</th>\n",
       "    </tr>\n",
       "  </thead>\n",
       "  <tbody>\n",
       "    <tr>\n",
       "      <th>3</th>\n",
       "      <td>Gradient Boost default</td>\n",
       "      <td>0.9281905299192533</td>\n",
       "      <td>0.8462717919624648</td>\n",
       "      <td>0.825</td>\n",
       "      <td>0.21428571428571427</td>\n",
       "      <td>0.5454545454545454</td>\n",
       "      <td>0.15584415584415584</td>\n",
       "    </tr>\n",
       "    <tr>\n",
       "      <th>4</th>\n",
       "      <td>Gradient Boost tuned</td>\n",
       "      <td>0.8269914187467378</td>\n",
       "      <td>0.7537220748554869</td>\n",
       "      <td>0.540084388185654</td>\n",
       "      <td>0.4155844155844156</td>\n",
       "      <td>0.3283582089552239</td>\n",
       "      <td>0.2857142857142857</td>\n",
       "    </tr>\n",
       "    <tr>\n",
       "      <th>5</th>\n",
       "      <td>Gradient Boost PCA</td>\n",
       "      <td>0.8953516932240336</td>\n",
       "      <td>0.6920069304957145</td>\n",
       "      <td>0.6866666666666666</td>\n",
       "      <td>0.6688311688311688</td>\n",
       "      <td>0.2631578947368421</td>\n",
       "      <td>0.2597402597402597</td>\n",
       "    </tr>\n",
       "    <tr>\n",
       "      <th>6</th>\n",
       "      <td>XG Boost default</td>\n",
       "      <td>0.9984533787725277</td>\n",
       "      <td>0.8374476762906514</td>\n",
       "      <td>0.9919028340080972</td>\n",
       "      <td>0.7954545454545454</td>\n",
       "      <td>0.39215686274509803</td>\n",
       "      <td>0.2597402597402597</td>\n",
       "    </tr>\n",
       "    <tr>\n",
       "      <th>7</th>\n",
       "      <td>XG Boost tuned</td>\n",
       "      <td>0.93011469175033</td>\n",
       "      <td>0.8128229503672243</td>\n",
       "      <td>0.7142857142857143</td>\n",
       "      <td>0.2922077922077922</td>\n",
       "      <td>0.4634146341463415</td>\n",
       "      <td>0.24675324675324675</td>\n",
       "    </tr>\n",
       "  </tbody>\n",
       "</table>\n",
       "</div>"
      ],
      "text/plain": [
       "                    Model           Train_AUC            Test_AUC  \\\n",
       "3  Gradient Boost default  0.9281905299192533  0.8462717919624648   \n",
       "4    Gradient Boost tuned  0.8269914187467378  0.7537220748554869   \n",
       "5      Gradient Boost PCA  0.8953516932240336  0.6920069304957145   \n",
       "6        XG Boost default  0.9984533787725277  0.8374476762906514   \n",
       "7          XG Boost tuned    0.93011469175033  0.8128229503672243   \n",
       "\n",
       "           Train_prec          Train_recal            Test_prec  \\\n",
       "3               0.825  0.21428571428571427   0.5454545454545454   \n",
       "4   0.540084388185654   0.4155844155844156   0.3283582089552239   \n",
       "5  0.6866666666666666   0.6688311688311688   0.2631578947368421   \n",
       "6  0.9919028340080972   0.7954545454545454  0.39215686274509803   \n",
       "7  0.7142857142857143   0.2922077922077922   0.4634146341463415   \n",
       "\n",
       "            Test_recal  \n",
       "3  0.15584415584415584  \n",
       "4   0.2857142857142857  \n",
       "5   0.2597402597402597  \n",
       "6   0.2597402597402597  \n",
       "7  0.24675324675324675  "
      ]
     },
     "execution_count": 168,
     "metadata": {},
     "output_type": "execute_result"
    }
   ],
   "source": [
    "scores_df = agg_score_df(scores_df,rand_xgb,'XG Boost tuned',X_train,X_test,y_train,y_test)\n",
    "scores_df.tail()"
   ]
  },
  {
   "cell_type": "markdown",
   "metadata": {},
   "source": [
    "This looks better.  This model is less overfit than than the default model, but it doesn't perform very well on the test set.   \n",
    "___\n",
    "Now I will try the XGBoost model with the PCA transformed features. Maybe reducing the features will help overfitting."
   ]
  },
  {
   "cell_type": "code",
   "execution_count": 170,
   "metadata": {},
   "outputs": [
    {
     "name": "stdout",
     "output_type": "stream",
     "text": [
      "Fitting 5 folds for each of 60 candidates, totalling 300 fits\n"
     ]
    },
    {
     "name": "stderr",
     "output_type": "stream",
     "text": [
      "[Parallel(n_jobs=-1)]: Using backend LokyBackend with 8 concurrent workers.\n",
      "[Parallel(n_jobs=-1)]: Done  34 tasks      | elapsed:   10.6s\n",
      "[Parallel(n_jobs=-1)]: Done 184 tasks      | elapsed:   58.4s\n",
      "[Parallel(n_jobs=-1)]: Done 300 out of 300 | elapsed:  1.5min finished\n"
     ]
    },
    {
     "name": "stdout",
     "output_type": "stream",
     "text": [
      "Best Params:  {'subsample': 0.3, 'objective': 'binary:logistic', 'max_depth': 11, 'learning_rate': 0.76, 'lambda': 1.1, 'gamma': 8, 'eval_metric': 'auc', 'colsample_bytree': 0.7000000000000002, 'alpha': 1}\n",
      "Best Score:  0.5808220435117042\n"
     ]
    }
   ],
   "source": [
    "### Grid search to prevent overfitting XG Boost\n",
    "\n",
    "from sklearn.model_selection import RandomizedSearchCV\n",
    "\n",
    "\n",
    "### Transform to dmatrix (I forget why...)\n",
    "data_dmatrix = xgboost.DMatrix(data=X_train,label=y_train)\n",
    "\n",
    "### Set parameter ranges, here there are alot so I will use randomized search\n",
    "params = {'objective':['binary:logistic'],'eval_metric':['auc'],\\\n",
    "         'subsample':np.arange(.3,.9,.1),\\\n",
    "         'colsample_bytree':np.arange(.3,.9,.1),\\\n",
    "         'gamma':np.arange(1,11,1), 'alpha':np.arange(1,100,10),\\\n",
    "         'lambda':np.arange(.1,10,1),\\\n",
    "         'learning_rate':np.arange(.01,.9,.05),\\\n",
    "         'max_depth':np.arange(3,15,1)}\n",
    "\n",
    "xgb = xgboost.XGBClassifier(use_label_encoder=False)\n",
    "\n",
    "rand_xgb = RandomizedSearchCV(estimator = xgb,param_distributions=params,cv=5,\\\n",
    "                             n_iter=60,n_jobs=-1,verbose=1,\\\n",
    "                              scoring = make_scorer(roc_auc_score))\n",
    "\n",
    "rand_xgb.fit(X_train_pca95,y_train)\n",
    "\n",
    "\n",
    "print('Best Params: ',rand_xgb.best_params_)\n",
    "print('Best Score: ',rand_xgb.best_score_)"
   ]
  },
  {
   "cell_type": "code",
   "execution_count": 171,
   "metadata": {},
   "outputs": [
    {
     "data": {
      "image/png": "[encoded data removed]",
      "text/plain": [
       "<Figure size 360x360 with 1 Axes>"
      ]
     },
     "metadata": {
      "needs_background": "light"
     },
     "output_type": "display_data"
    },
    {
     "data": {
      "image/png": "[encoded data removed]",
      "text/plain": [
       "<Figure size 720x360 with 4 Axes>"
      ]
     },
     "metadata": {
      "needs_background": "light"
     },
     "output_type": "display_data"
    },
    {
     "name": "stdout",
     "output_type": "stream",
     "text": [
      "Train Precision 0.596\n",
      "Train Recall    0.331\n",
      "\n",
      "Test Precision  0.523\n",
      "Test Recall     0.299\n"
     ]
    }
   ],
   "source": [
    "Model_Eval(rand_xgb,X_train_pca95,X_test_pca95,y_train,y_test)"
   ]
  },
  {
   "cell_type": "code",
   "execution_count": 173,
   "metadata": {},
   "outputs": [
    {
     "data": {
      "text/html": [
       "<div>\n",
       "<style scoped>\n",
       "    .dataframe tbody tr th:only-of-type {\n",
       "        vertical-align: middle;\n",
       "    }\n",
       "\n",
       "    .dataframe tbody tr th {\n",
       "        vertical-align: top;\n",
       "    }\n",
       "\n",
       "    .dataframe thead th {\n",
       "        text-align: right;\n",
       "    }\n",
       "</style>\n",
       "<table border=\"1\" class=\"dataframe\">\n",
       "  <thead>\n",
       "    <tr style=\"text-align: right;\">\n",
       "      <th></th>\n",
       "      <th>Model</th>\n",
       "      <th>Train_AUC</th>\n",
       "      <th>Test_AUC</th>\n",
       "      <th>Train_prec</th>\n",
       "      <th>Train_recal</th>\n",
       "      <th>Test_prec</th>\n",
       "      <th>Test_recal</th>\n",
       "    </tr>\n",
       "  </thead>\n",
       "  <tbody>\n",
       "    <tr>\n",
       "      <th>4</th>\n",
       "      <td>Gradient Boost tuned</td>\n",
       "      <td>0.8269914187467378</td>\n",
       "      <td>0.7537220748554869</td>\n",
       "      <td>0.540084388185654</td>\n",
       "      <td>0.4155844155844156</td>\n",
       "      <td>0.3283582089552239</td>\n",
       "      <td>0.2857142857142857</td>\n",
       "    </tr>\n",
       "    <tr>\n",
       "      <th>5</th>\n",
       "      <td>Gradient Boost PCA</td>\n",
       "      <td>0.8953516932240336</td>\n",
       "      <td>0.6920069304957145</td>\n",
       "      <td>0.6866666666666666</td>\n",
       "      <td>0.6688311688311688</td>\n",
       "      <td>0.2631578947368421</td>\n",
       "      <td>0.2597402597402597</td>\n",
       "    </tr>\n",
       "    <tr>\n",
       "      <th>6</th>\n",
       "      <td>XG Boost default</td>\n",
       "      <td>0.9984533787725277</td>\n",
       "      <td>0.8374476762906514</td>\n",
       "      <td>0.9919028340080972</td>\n",
       "      <td>0.7954545454545454</td>\n",
       "      <td>0.39215686274509803</td>\n",
       "      <td>0.2597402597402597</td>\n",
       "    </tr>\n",
       "    <tr>\n",
       "      <th>7</th>\n",
       "      <td>XG Boost tuned</td>\n",
       "      <td>0.93011469175033</td>\n",
       "      <td>0.8128229503672243</td>\n",
       "      <td>0.7142857142857143</td>\n",
       "      <td>0.2922077922077922</td>\n",
       "      <td>0.4634146341463415</td>\n",
       "      <td>0.24675324675324675</td>\n",
       "    </tr>\n",
       "    <tr>\n",
       "      <th>8</th>\n",
       "      <td>XG Boost PCA tuned</td>\n",
       "      <td>0.9134050420619569</td>\n",
       "      <td>0.7701283368343581</td>\n",
       "      <td>0.5964912280701754</td>\n",
       "      <td>0.33116883116883117</td>\n",
       "      <td>0.5227272727272727</td>\n",
       "      <td>0.2987012987012987</td>\n",
       "    </tr>\n",
       "  </tbody>\n",
       "</table>\n",
       "</div>"
      ],
      "text/plain": [
       "                  Model           Train_AUC            Test_AUC  \\\n",
       "4  Gradient Boost tuned  0.8269914187467378  0.7537220748554869   \n",
       "5    Gradient Boost PCA  0.8953516932240336  0.6920069304957145   \n",
       "6      XG Boost default  0.9984533787725277  0.8374476762906514   \n",
       "7        XG Boost tuned    0.93011469175033  0.8128229503672243   \n",
       "8    XG Boost PCA tuned  0.9134050420619569  0.7701283368343581   \n",
       "\n",
       "           Train_prec          Train_recal            Test_prec  \\\n",
       "4   0.540084388185654   0.4155844155844156   0.3283582089552239   \n",
       "5  0.6866666666666666   0.6688311688311688   0.2631578947368421   \n",
       "6  0.9919028340080972   0.7954545454545454  0.39215686274509803   \n",
       "7  0.7142857142857143   0.2922077922077922   0.4634146341463415   \n",
       "8  0.5964912280701754  0.33116883116883117   0.5227272727272727   \n",
       "\n",
       "            Test_recal  \n",
       "4   0.2857142857142857  \n",
       "5   0.2597402597402597  \n",
       "6   0.2597402597402597  \n",
       "7  0.24675324675324675  \n",
       "8   0.2987012987012987  "
      ]
     },
     "execution_count": 173,
     "metadata": {},
     "output_type": "execute_result"
    }
   ],
   "source": [
    "scores_df = agg_score_df(scores_df,rand_xgb,'XG Boost PCA tuned',X_train_pca95,X_test_pca95,y_train,y_test)\n",
    "scores_df.tail()"
   ]
  },
  {
   "cell_type": "markdown",
   "metadata": {},
   "source": [
    "This model looks pretty good.  It appears to not be overfit as the training and testing precision and recall are very similar.  The PCA trained XG Boost model has a higher test precision and recall than the previous 2 models.  However, the testing AUC curve is one of the lowest I have seen so far.  "
   ]
  },
  {
   "cell_type": "markdown",
   "metadata": {},
   "source": [
    "# Support Vector Machine"
   ]
  },
  {
   "cell_type": "code",
   "execution_count": 174,
   "metadata": {},
   "outputs": [],
   "source": [
    "from sklearn.svm import SVC"
   ]
  },
  {
   "cell_type": "code",
   "execution_count": 181,
   "metadata": {},
   "outputs": [
    {
     "name": "stdout",
     "output_type": "stream",
     "text": [
      "Best Params:  {'C': 1, 'class_weight': 'balanced'}\n",
      "Best Score;  0.771731608557405\n"
     ]
    }
   ],
   "source": [
    "### try default Support vector classifier\n",
    "\n",
    "params={'C':[1],'class_weight':['balanced']}\n",
    "### without balanced class weights the model only predicts negatives\n",
    "\n",
    "svc = SVC(random_state=random_seed,probability=True)\n",
    "\n",
    "grid_svc = GridSearchCV(svc,param_grid=params,cv=5,n_jobs=-1,\\\n",
    "                       scoring = make_scorer(roc_auc_score))\n",
    "\n",
    "grid_svc.fit(X_train,y_train)\n",
    "\n",
    "print('Best Params: ',grid_svc.best_params_)\n",
    "print('Best Score; ',grid_svc.best_score_)"
   ]
  },
  {
   "cell_type": "code",
   "execution_count": 182,
   "metadata": {
    "scrolled": false
   },
   "outputs": [
    {
     "data": {
      "image/png": "[encoded data removed]",
      "text/plain": [
       "<Figure size 360x360 with 1 Axes>"
      ]
     },
     "metadata": {
      "needs_background": "light"
     },
     "output_type": "display_data"
    },
    {
     "data": {
      "image/png": "[encoded data removed]",
      "text/plain": [
       "<Figure size 720x360 with 4 Axes>"
      ]
     },
     "metadata": {
      "needs_background": "light"
     },
     "output_type": "display_data"
    },
    {
     "name": "stdout",
     "output_type": "stream",
     "text": [
      "Train Precision 0.235\n",
      "Train Recall    0.912\n",
      "\n",
      "Test Precision  0.204\n",
      "Test Recall     0.831\n"
     ]
    }
   ],
   "source": [
    "Model_Eval(grid_svc,X_train,X_test,y_train,y_test)"
   ]
  },
  {
   "cell_type": "code",
   "execution_count": 183,
   "metadata": {},
   "outputs": [
    {
     "data": {
      "text/html": [
       "<div>\n",
       "<style scoped>\n",
       "    .dataframe tbody tr th:only-of-type {\n",
       "        vertical-align: middle;\n",
       "    }\n",
       "\n",
       "    .dataframe tbody tr th {\n",
       "        vertical-align: top;\n",
       "    }\n",
       "\n",
       "    .dataframe thead th {\n",
       "        text-align: right;\n",
       "    }\n",
       "</style>\n",
       "<table border=\"1\" class=\"dataframe\">\n",
       "  <thead>\n",
       "    <tr style=\"text-align: right;\">\n",
       "      <th></th>\n",
       "      <th>Model</th>\n",
       "      <th>Train_AUC</th>\n",
       "      <th>Test_AUC</th>\n",
       "      <th>Train_prec</th>\n",
       "      <th>Train_recal</th>\n",
       "      <th>Test_prec</th>\n",
       "      <th>Test_recal</th>\n",
       "    </tr>\n",
       "  </thead>\n",
       "  <tbody>\n",
       "    <tr>\n",
       "      <th>5</th>\n",
       "      <td>Gradient Boost PCA</td>\n",
       "      <td>0.8953516932240336</td>\n",
       "      <td>0.6920069304957145</td>\n",
       "      <td>0.6866666666666666</td>\n",
       "      <td>0.6688311688311688</td>\n",
       "      <td>0.2631578947368421</td>\n",
       "      <td>0.2597402597402597</td>\n",
       "    </tr>\n",
       "    <tr>\n",
       "      <th>6</th>\n",
       "      <td>XG Boost default</td>\n",
       "      <td>0.9984533787725277</td>\n",
       "      <td>0.8374476762906514</td>\n",
       "      <td>0.9919028340080972</td>\n",
       "      <td>0.7954545454545454</td>\n",
       "      <td>0.39215686274509803</td>\n",
       "      <td>0.2597402597402597</td>\n",
       "    </tr>\n",
       "    <tr>\n",
       "      <th>7</th>\n",
       "      <td>XG Boost tuned</td>\n",
       "      <td>0.93011469175033</td>\n",
       "      <td>0.8128229503672243</td>\n",
       "      <td>0.7142857142857143</td>\n",
       "      <td>0.2922077922077922</td>\n",
       "      <td>0.4634146341463415</td>\n",
       "      <td>0.24675324675324675</td>\n",
       "    </tr>\n",
       "    <tr>\n",
       "      <th>8</th>\n",
       "      <td>XG Boost PCA tuned</td>\n",
       "      <td>0.9134050420619569</td>\n",
       "      <td>0.7701283368343581</td>\n",
       "      <td>0.5964912280701754</td>\n",
       "      <td>0.33116883116883117</td>\n",
       "      <td>0.5227272727272727</td>\n",
       "      <td>0.2987012987012987</td>\n",
       "    </tr>\n",
       "    <tr>\n",
       "      <th>9</th>\n",
       "      <td>SVC default</td>\n",
       "      <td>0.8850607135181603</td>\n",
       "      <td>0.8354313926923135</td>\n",
       "      <td>0.23534338358458962</td>\n",
       "      <td>0.9123376623376623</td>\n",
       "      <td>0.20447284345047922</td>\n",
       "      <td>0.8311688311688312</td>\n",
       "    </tr>\n",
       "  </tbody>\n",
       "</table>\n",
       "</div>"
      ],
      "text/plain": [
       "                Model           Train_AUC            Test_AUC  \\\n",
       "5  Gradient Boost PCA  0.8953516932240336  0.6920069304957145   \n",
       "6    XG Boost default  0.9984533787725277  0.8374476762906514   \n",
       "7      XG Boost tuned    0.93011469175033  0.8128229503672243   \n",
       "8  XG Boost PCA tuned  0.9134050420619569  0.7701283368343581   \n",
       "9         SVC default  0.8850607135181603  0.8354313926923135   \n",
       "\n",
       "            Train_prec          Train_recal            Test_prec  \\\n",
       "5   0.6866666666666666   0.6688311688311688   0.2631578947368421   \n",
       "6   0.9919028340080972   0.7954545454545454  0.39215686274509803   \n",
       "7   0.7142857142857143   0.2922077922077922   0.4634146341463415   \n",
       "8   0.5964912280701754  0.33116883116883117   0.5227272727272727   \n",
       "9  0.23534338358458962   0.9123376623376623  0.20447284345047922   \n",
       "\n",
       "            Test_recal  \n",
       "5   0.2597402597402597  \n",
       "6   0.2597402597402597  \n",
       "7  0.24675324675324675  \n",
       "8   0.2987012987012987  \n",
       "9   0.8311688311688312  "
      ]
     },
     "execution_count": 183,
     "metadata": {},
     "output_type": "execute_result"
    }
   ],
   "source": [
    "scores_df = agg_score_df(scores_df,grid_svc,'SVC default',X_train,X_test,y_train,y_test)\n",
    "scores_df.tail()"
   ]
  },
  {
   "cell_type": "markdown",
   "metadata": {},
   "source": [
    "Wow that looks pretty great.  The AUC values are high, the recall's are very high, and the model has low bias. Now I will try to improve the result with hyper-parameter tuning. "
   ]
  },
  {
   "cell_type": "code",
   "execution_count": 247,
   "metadata": {},
   "outputs": [
    {
     "name": "stdout",
     "output_type": "stream",
     "text": [
      "Best Params:  {'C': 1.5, 'class_weight': 'balanced', 'gamma': 'scale', 'kernel': 'rbf'}\n",
      "Best Score;  0.7752645296133531\n"
     ]
    }
   ],
   "source": [
    "### try tuning the SVC\n",
    "\n",
    "params={'C':[1,1.5,2,4], 'kernel':['rbf','linear'],\\\n",
    "        'gamma':['scale','auto'], 'class_weight':['balanced']}\n",
    "\n",
    "svc = SVC(random_state=random_seed,probability=True)\n",
    "\n",
    "grid_svc = GridSearchCV(svc,param_grid=params,cv=5,n_jobs=-1,\\\n",
    "                        scoring=make_scorer(roc_auc_score))\n",
    "\n",
    "grid_svc.fit(X_train,y_train)\n",
    "\n",
    "print('Best Params: ',grid_svc.best_params_)\n",
    "print('Best Score; ',grid_svc.best_score_)"
   ]
  },
  {
   "cell_type": "code",
   "execution_count": 248,
   "metadata": {
    "scrolled": false
   },
   "outputs": [
    {
     "data": {
      "image/png": "[encoded data removed]",
      "text/plain": [
       "<Figure size 360x360 with 1 Axes>"
      ]
     },
     "metadata": {
      "needs_background": "light"
     },
     "output_type": "display_data"
    },
    {
     "data": {
      "image/png": "[encoded data removed]",
      "text/plain": [
       "<Figure size 720x360 with 4 Axes>"
      ]
     },
     "metadata": {
      "needs_background": "light"
     },
     "output_type": "display_data"
    },
    {
     "name": "stdout",
     "output_type": "stream",
     "text": [
      "Train Precision 0.239\n",
      "Train Recall    0.903\n",
      "\n",
      "Test Precision  0.212\n",
      "Test Recall     0.844\n"
     ]
    }
   ],
   "source": [
    "Model_Eval(grid_svc,X_train,X_test,y_train,y_test)"
   ]
  },
  {
   "cell_type": "code",
   "execution_count": 249,
   "metadata": {},
   "outputs": [
    {
     "data": {
      "text/html": [
       "<div>\n",
       "<style scoped>\n",
       "    .dataframe tbody tr th:only-of-type {\n",
       "        vertical-align: middle;\n",
       "    }\n",
       "\n",
       "    .dataframe tbody tr th {\n",
       "        vertical-align: top;\n",
       "    }\n",
       "\n",
       "    .dataframe thead th {\n",
       "        text-align: right;\n",
       "    }\n",
       "</style>\n",
       "<table border=\"1\" class=\"dataframe\">\n",
       "  <thead>\n",
       "    <tr style=\"text-align: right;\">\n",
       "      <th></th>\n",
       "      <th>Model</th>\n",
       "      <th>Train_AUC</th>\n",
       "      <th>Test_AUC</th>\n",
       "      <th>Train_prec</th>\n",
       "      <th>Train_recal</th>\n",
       "      <th>Test_prec</th>\n",
       "      <th>Test_recal</th>\n",
       "    </tr>\n",
       "  </thead>\n",
       "  <tbody>\n",
       "    <tr>\n",
       "      <th>6</th>\n",
       "      <td>XG Boost PCA tuned</td>\n",
       "      <td>0.913405</td>\n",
       "      <td>0.770128</td>\n",
       "      <td>0.596491</td>\n",
       "      <td>0.331169</td>\n",
       "      <td>0.522727</td>\n",
       "      <td>0.298701</td>\n",
       "    </tr>\n",
       "    <tr>\n",
       "      <th>7</th>\n",
       "      <td>Gradient Boost tuned</td>\n",
       "      <td>0.826991</td>\n",
       "      <td>0.753722</td>\n",
       "      <td>0.540084</td>\n",
       "      <td>0.415584</td>\n",
       "      <td>0.328358</td>\n",
       "      <td>0.285714</td>\n",
       "    </tr>\n",
       "    <tr>\n",
       "      <th>8</th>\n",
       "      <td>RandomForest default</td>\n",
       "      <td>0.999999</td>\n",
       "      <td>0.752725</td>\n",
       "      <td>0.996764</td>\n",
       "      <td>1.0</td>\n",
       "      <td>0.258427</td>\n",
       "      <td>0.298701</td>\n",
       "    </tr>\n",
       "    <tr>\n",
       "      <th>9</th>\n",
       "      <td>Gradient Boost PCA</td>\n",
       "      <td>0.895352</td>\n",
       "      <td>0.692007</td>\n",
       "      <td>0.686667</td>\n",
       "      <td>0.668831</td>\n",
       "      <td>0.263158</td>\n",
       "      <td>0.25974</td>\n",
       "    </tr>\n",
       "    <tr>\n",
       "      <th>10</th>\n",
       "      <td>SVC tuned</td>\n",
       "      <td>0.8893705289981886</td>\n",
       "      <td>0.8349407381284595</td>\n",
       "      <td>0.23924268502581755</td>\n",
       "      <td>0.9025974025974026</td>\n",
       "      <td>0.21241830065359477</td>\n",
       "      <td>0.8441558441558441</td>\n",
       "    </tr>\n",
       "  </tbody>\n",
       "</table>\n",
       "</div>"
      ],
      "text/plain": [
       "                   Model           Train_AUC            Test_AUC  \\\n",
       "6     XG Boost PCA tuned            0.913405            0.770128   \n",
       "7   Gradient Boost tuned            0.826991            0.753722   \n",
       "8   RandomForest default            0.999999            0.752725   \n",
       "9     Gradient Boost PCA            0.895352            0.692007   \n",
       "10             SVC tuned  0.8893705289981886  0.8349407381284595   \n",
       "\n",
       "             Train_prec         Train_recal            Test_prec  \\\n",
       "6              0.596491            0.331169             0.522727   \n",
       "7              0.540084            0.415584             0.328358   \n",
       "8              0.996764                 1.0             0.258427   \n",
       "9              0.686667            0.668831             0.263158   \n",
       "10  0.23924268502581755  0.9025974025974026  0.21241830065359477   \n",
       "\n",
       "            Test_recal  \n",
       "6             0.298701  \n",
       "7             0.285714  \n",
       "8             0.298701  \n",
       "9              0.25974  \n",
       "10  0.8441558441558441  "
      ]
     },
     "execution_count": 249,
     "metadata": {},
     "output_type": "execute_result"
    }
   ],
   "source": [
    "scores_df = agg_score_df(scores_df,grid_svc,'SVC tuned',X_train,X_test,y_train,y_test)\n",
    "scores_df.tail()"
   ]
  },
  {
   "cell_type": "markdown",
   "metadata": {},
   "source": [
    "The model performance is very similar to the default, but the grid search found `C`= 1.5 to produce a better result. The SVC model appears to generalize well to the testing data to the training data and the AUC is high with high recall instead of high precision. "
   ]
  },
  {
   "cell_type": "markdown",
   "metadata": {},
   "source": [
    "  "
   ]
  },
  {
   "cell_type": "code",
   "execution_count": 250,
   "metadata": {},
   "outputs": [
    {
     "name": "stdout",
     "output_type": "stream",
     "text": [
      "Best Params:  {'C': 2, 'class_weight': 'balanced', 'gamma': 'scale', 'kernel': 'rbf'}\n",
      "Best Score;  0.7774005429308739\n"
     ]
    }
   ],
   "source": [
    "### Try SVC using PCA features\n",
    "\n",
    "params={'C':[.5,1,1.5,2,4], 'kernel':['rbf','linear'],\\\n",
    "        'gamma':['scale','auto'], 'class_weight':['balanced']}\n",
    "\n",
    "svc = SVC(random_state=random_seed,probability=True)\n",
    "\n",
    "grid_svc = GridSearchCV(svc,param_grid=params,cv=5,n_jobs=-1,\\\n",
    "                        scoring=make_scorer(roc_auc_score))\n",
    "\n",
    "grid_svc.fit(X_train_pca95,y_train)\n",
    "\n",
    "print('Best Params: ',grid_svc.best_params_)\n",
    "print('Best Score; ',grid_svc.best_score_)"
   ]
  },
  {
   "cell_type": "code",
   "execution_count": 251,
   "metadata": {
    "scrolled": false
   },
   "outputs": [
    {
     "data": {
      "image/png": "[encoded data removed]",
      "text/plain": [
       "<Figure size 360x360 with 1 Axes>"
      ]
     },
     "metadata": {
      "needs_background": "light"
     },
     "output_type": "display_data"
    },
    {
     "data": {
      "image/png": "[encoded data removed]",
      "text/plain": [
       "<Figure size 720x360 with 4 Axes>"
      ]
     },
     "metadata": {
      "needs_background": "light"
     },
     "output_type": "display_data"
    },
    {
     "name": "stdout",
     "output_type": "stream",
     "text": [
      "Train Precision 0.238\n",
      "Train Recall    0.906\n",
      "\n",
      "Test Precision  0.214\n",
      "Test Recall     0.844\n"
     ]
    }
   ],
   "source": [
    "Model_Eval(grid_svc,X_train_pca95,X_test_pca95,y_train,y_test)"
   ]
  },
  {
   "cell_type": "code",
   "execution_count": 252,
   "metadata": {},
   "outputs": [
    {
     "data": {
      "text/html": [
       "<div>\n",
       "<style scoped>\n",
       "    .dataframe tbody tr th:only-of-type {\n",
       "        vertical-align: middle;\n",
       "    }\n",
       "\n",
       "    .dataframe tbody tr th {\n",
       "        vertical-align: top;\n",
       "    }\n",
       "\n",
       "    .dataframe thead th {\n",
       "        text-align: right;\n",
       "    }\n",
       "</style>\n",
       "<table border=\"1\" class=\"dataframe\">\n",
       "  <thead>\n",
       "    <tr style=\"text-align: right;\">\n",
       "      <th></th>\n",
       "      <th>Model</th>\n",
       "      <th>Train_AUC</th>\n",
       "      <th>Test_AUC</th>\n",
       "      <th>Train_prec</th>\n",
       "      <th>Train_recal</th>\n",
       "      <th>Test_prec</th>\n",
       "      <th>Test_recal</th>\n",
       "    </tr>\n",
       "  </thead>\n",
       "  <tbody>\n",
       "    <tr>\n",
       "      <th>7</th>\n",
       "      <td>Gradient Boost tuned</td>\n",
       "      <td>0.826991</td>\n",
       "      <td>0.753722</td>\n",
       "      <td>0.540084</td>\n",
       "      <td>0.415584</td>\n",
       "      <td>0.328358</td>\n",
       "      <td>0.285714</td>\n",
       "    </tr>\n",
       "    <tr>\n",
       "      <th>8</th>\n",
       "      <td>RandomForest default</td>\n",
       "      <td>0.999999</td>\n",
       "      <td>0.752725</td>\n",
       "      <td>0.996764</td>\n",
       "      <td>1.0</td>\n",
       "      <td>0.258427</td>\n",
       "      <td>0.298701</td>\n",
       "    </tr>\n",
       "    <tr>\n",
       "      <th>9</th>\n",
       "      <td>Gradient Boost PCA</td>\n",
       "      <td>0.895352</td>\n",
       "      <td>0.692007</td>\n",
       "      <td>0.686667</td>\n",
       "      <td>0.668831</td>\n",
       "      <td>0.263158</td>\n",
       "      <td>0.25974</td>\n",
       "    </tr>\n",
       "    <tr>\n",
       "      <th>10</th>\n",
       "      <td>SVC tuned</td>\n",
       "      <td>0.8893705289981886</td>\n",
       "      <td>0.8349407381284595</td>\n",
       "      <td>0.23924268502581755</td>\n",
       "      <td>0.9025974025974026</td>\n",
       "      <td>0.21241830065359477</td>\n",
       "      <td>0.8441558441558441</td>\n",
       "    </tr>\n",
       "    <tr>\n",
       "      <th>11</th>\n",
       "      <td>SVC PCA</td>\n",
       "      <td>0.8852430075834331</td>\n",
       "      <td>0.8317514834634079</td>\n",
       "      <td>0.2380546075085324</td>\n",
       "      <td>0.9058441558441559</td>\n",
       "      <td>0.2138157894736842</td>\n",
       "      <td>0.8441558441558441</td>\n",
       "    </tr>\n",
       "  </tbody>\n",
       "</table>\n",
       "</div>"
      ],
      "text/plain": [
       "                   Model           Train_AUC            Test_AUC  \\\n",
       "7   Gradient Boost tuned            0.826991            0.753722   \n",
       "8   RandomForest default            0.999999            0.752725   \n",
       "9     Gradient Boost PCA            0.895352            0.692007   \n",
       "10             SVC tuned  0.8893705289981886  0.8349407381284595   \n",
       "11               SVC PCA  0.8852430075834331  0.8317514834634079   \n",
       "\n",
       "             Train_prec         Train_recal            Test_prec  \\\n",
       "7              0.540084            0.415584             0.328358   \n",
       "8              0.996764                 1.0             0.258427   \n",
       "9              0.686667            0.668831             0.263158   \n",
       "10  0.23924268502581755  0.9025974025974026  0.21241830065359477   \n",
       "11   0.2380546075085324  0.9058441558441559   0.2138157894736842   \n",
       "\n",
       "            Test_recal  \n",
       "7             0.285714  \n",
       "8             0.298701  \n",
       "9              0.25974  \n",
       "10  0.8441558441558441  \n",
       "11  0.8441558441558441  "
      ]
     },
     "execution_count": 252,
     "metadata": {},
     "output_type": "execute_result"
    }
   ],
   "source": [
    "scores_df = agg_score_df(scores_df,grid_svc,'SVC PCA',X_train_pca95,X_test_pca95,y_train,y_test)\n",
    "scores_df.tail()"
   ]
  },
  {
   "cell_type": "markdown",
   "metadata": {},
   "source": [
    "Performance of the PCA trained model is nearly identical to the previous model. "
   ]
  },
  {
   "cell_type": "markdown",
   "metadata": {},
   "source": [
    "## Logistic Regression"
   ]
  },
  {
   "cell_type": "markdown",
   "metadata": {},
   "source": [
    "Try tuning a logistic regression model again after some practice working with other models.  "
   ]
  },
  {
   "cell_type": "code",
   "execution_count": 15,
   "metadata": {},
   "outputs": [
    {
     "name": "stdout",
     "output_type": "stream",
     "text": [
      "Train AUC: 0.852219957938043\n",
      "Test AUC: 0.820267100078198\n"
     ]
    }
   ],
   "source": [
    "from sklearn.linear_model import LogisticRegression\n",
    "\n",
    "\n",
    "logr = LogisticRegression(random_state=random_seed,n_jobs=-1)\n",
    "\n",
    "params = {'C':[.01,.1,.5,1,1.5,5,10], 'class_weight':[None,'balanced'],\\\n",
    "         'penalty':['l1','l2'], 'tol':[1E-5,1E-4,1E-3],'max_iter':[200]}\n",
    "\n",
    "grid_logr = GridSearchCV(logr,param_grid=params,cv=5,n_jobs=-1,\\\n",
    "                         scoring=make_scorer(roc_auc_score))\n",
    "\n",
    "grid_logr.fit(X_train,y_train)\n",
    "\n",
    "print('Train AUC:',roc_auc_score(y_train,grid_logr.predict_proba(X_train)[:,1]))\n",
    "print('Test AUC:',roc_auc_score(y_test,grid_logr.predict_proba(X_test)[:,1]))\n"
   ]
  },
  {
   "cell_type": "code",
   "execution_count": 16,
   "metadata": {
    "scrolled": false
   },
   "outputs": [
    {
     "data": {
      "image/png": "[encoded data removed]",
      "text/plain": [
       "<Figure size 360x360 with 1 Axes>"
      ]
     },
     "metadata": {
      "needs_background": "light"
     },
     "output_type": "display_data"
    },
    {
     "data": {
      "image/png": "[encoded data removed]",
      "text/plain": [
       "<Figure size 720x360 with 4 Axes>"
      ]
     },
     "metadata": {
      "needs_background": "light"
     },
     "output_type": "display_data"
    },
    {
     "name": "stdout",
     "output_type": "stream",
     "text": [
      "Train Precision 0.203\n",
      "Train Recall    0.857\n",
      "\n",
      "Test Precision  0.184\n",
      "Test Recall     0.857\n"
     ]
    }
   ],
   "source": [
    "Model_Eval(grid_logr,X_train,X_test,y_train,y_test)"
   ]
  },
  {
   "cell_type": "markdown",
   "metadata": {},
   "source": [
    "The tuned Logistic Regression Model looks pretty good.  It is clearly not overfit to the training data and has >.8 AUC and Recall"
   ]
  },
  {
   "cell_type": "code",
   "execution_count": 252,
   "metadata": {},
   "outputs": [
    {
     "data": {
      "text/html": [
       "<div>\n",
       "<style scoped>\n",
       "    .dataframe tbody tr th:only-of-type {\n",
       "        vertical-align: middle;\n",
       "    }\n",
       "\n",
       "    .dataframe tbody tr th {\n",
       "        vertical-align: top;\n",
       "    }\n",
       "\n",
       "    .dataframe thead th {\n",
       "        text-align: right;\n",
       "    }\n",
       "</style>\n",
       "<table border=\"1\" class=\"dataframe\">\n",
       "  <thead>\n",
       "    <tr style=\"text-align: right;\">\n",
       "      <th></th>\n",
       "      <th>Model</th>\n",
       "      <th>Train_AUC</th>\n",
       "      <th>Test_AUC</th>\n",
       "      <th>Train_prec</th>\n",
       "      <th>Train_recal</th>\n",
       "      <th>Test_prec</th>\n",
       "      <th>Test_recal</th>\n",
       "    </tr>\n",
       "  </thead>\n",
       "  <tbody>\n",
       "    <tr>\n",
       "      <th>7</th>\n",
       "      <td>Gradient Boost tuned</td>\n",
       "      <td>0.826991</td>\n",
       "      <td>0.753722</td>\n",
       "      <td>0.540084</td>\n",
       "      <td>0.415584</td>\n",
       "      <td>0.328358</td>\n",
       "      <td>0.285714</td>\n",
       "    </tr>\n",
       "    <tr>\n",
       "      <th>8</th>\n",
       "      <td>RandomForest default</td>\n",
       "      <td>0.999999</td>\n",
       "      <td>0.752725</td>\n",
       "      <td>0.996764</td>\n",
       "      <td>1.0</td>\n",
       "      <td>0.258427</td>\n",
       "      <td>0.298701</td>\n",
       "    </tr>\n",
       "    <tr>\n",
       "      <th>9</th>\n",
       "      <td>Gradient Boost PCA</td>\n",
       "      <td>0.895352</td>\n",
       "      <td>0.692007</td>\n",
       "      <td>0.686667</td>\n",
       "      <td>0.668831</td>\n",
       "      <td>0.263158</td>\n",
       "      <td>0.25974</td>\n",
       "    </tr>\n",
       "    <tr>\n",
       "      <th>10</th>\n",
       "      <td>SVC tuned</td>\n",
       "      <td>0.8893705289981886</td>\n",
       "      <td>0.8349407381284595</td>\n",
       "      <td>0.23924268502581755</td>\n",
       "      <td>0.9025974025974026</td>\n",
       "      <td>0.21241830065359477</td>\n",
       "      <td>0.8441558441558441</td>\n",
       "    </tr>\n",
       "    <tr>\n",
       "      <th>11</th>\n",
       "      <td>SVC PCA</td>\n",
       "      <td>0.8852430075834331</td>\n",
       "      <td>0.8317514834634079</td>\n",
       "      <td>0.2380546075085324</td>\n",
       "      <td>0.9058441558441559</td>\n",
       "      <td>0.2138157894736842</td>\n",
       "      <td>0.8441558441558441</td>\n",
       "    </tr>\n",
       "  </tbody>\n",
       "</table>\n",
       "</div>"
      ],
      "text/plain": [
       "                   Model           Train_AUC            Test_AUC  \\\n",
       "7   Gradient Boost tuned            0.826991            0.753722   \n",
       "8   RandomForest default            0.999999            0.752725   \n",
       "9     Gradient Boost PCA            0.895352            0.692007   \n",
       "10             SVC tuned  0.8893705289981886  0.8349407381284595   \n",
       "11               SVC PCA  0.8852430075834331  0.8317514834634079   \n",
       "\n",
       "             Train_prec         Train_recal            Test_prec  \\\n",
       "7              0.540084            0.415584             0.328358   \n",
       "8              0.996764                 1.0             0.258427   \n",
       "9              0.686667            0.668831             0.263158   \n",
       "10  0.23924268502581755  0.9025974025974026  0.21241830065359477   \n",
       "11   0.2380546075085324  0.9058441558441559   0.2138157894736842   \n",
       "\n",
       "            Test_recal  \n",
       "7             0.285714  \n",
       "8             0.298701  \n",
       "9              0.25974  \n",
       "10  0.8441558441558441  \n",
       "11  0.8441558441558441  "
      ]
     },
     "execution_count": 252,
     "metadata": {},
     "output_type": "execute_result"
    }
   ],
   "source": [
    "scores_df = agg_score_df(scores_df,grid_svc,'LogReg tuned',X_train,X_test,y_train,y_test)\n",
    "scores_df.tail()"
   ]
  },
  {
   "cell_type": "code",
   "execution_count": 19,
   "metadata": {},
   "outputs": [
    {
     "name": "stdout",
     "output_type": "stream",
     "text": [
      "Train AUC: 0.7811924334530718\n",
      "Test AUC: 0.7578619727380057\n"
     ]
    }
   ],
   "source": [
    "from sklearn.linear_model import LogisticRegression\n",
    "\n",
    "\n",
    "logr = LogisticRegression(random_state=random_seed,n_jobs=-1)\n",
    "\n",
    "params = {'C':[.01,.1,.5,1,1.5,5,10], 'class_weight':[None,'balanced'],\\\n",
    "         'penalty':['l1','l2'], 'tol':[1E-5,1E-4,1E-3],'max_iter':[200]}\n",
    "\n",
    "grid_logr = GridSearchCV(logr,param_grid=params,cv=5,n_jobs=-1,\\\n",
    "                         scoring=make_scorer(roc_auc_score))\n",
    "\n",
    "grid_logr.fit(X_train_pca95,y_train)\n",
    "\n",
    "print('Train AUC:',roc_auc_score(y_train,grid_logr.predict_proba(X_train_pca95)[:,1]))\n",
    "print('Test AUC:',roc_auc_score(y_test,grid_logr.predict_proba(X_test_pca95)[:,1]))\n"
   ]
  },
  {
   "cell_type": "code",
   "execution_count": 20,
   "metadata": {
    "scrolled": false
   },
   "outputs": [
    {
     "data": {
      "image/png": "[encoded data removed]",
      "text/plain": [
       "<Figure size 360x360 with 1 Axes>"
      ]
     },
     "metadata": {
      "needs_background": "light"
     },
     "output_type": "display_data"
    },
    {
     "data": {
      "image/png": "[encoded data removed]",
      "text/plain": [
       "<Figure size 720x360 with 4 Axes>"
      ]
     },
     "metadata": {
      "needs_background": "light"
     },
     "output_type": "display_data"
    },
    {
     "name": "stdout",
     "output_type": "stream",
     "text": [
      "Train Precision 0.185\n",
      "Train Recall    0.718\n",
      "\n",
      "Test Precision  0.172\n",
      "Test Recall     0.714\n"
     ]
    }
   ],
   "source": [
    "Model_Eval(grid_logr,X_train_pca95,X_test_pca95,y_train,y_test)"
   ]
  },
  {
   "cell_type": "code",
   "execution_count": 252,
   "metadata": {},
   "outputs": [
    {
     "data": {
      "text/html": [
       "<div>\n",
       "<style scoped>\n",
       "    .dataframe tbody tr th:only-of-type {\n",
       "        vertical-align: middle;\n",
       "    }\n",
       "\n",
       "    .dataframe tbody tr th {\n",
       "        vertical-align: top;\n",
       "    }\n",
       "\n",
       "    .dataframe thead th {\n",
       "        text-align: right;\n",
       "    }\n",
       "</style>\n",
       "<table border=\"1\" class=\"dataframe\">\n",
       "  <thead>\n",
       "    <tr style=\"text-align: right;\">\n",
       "      <th></th>\n",
       "      <th>Model</th>\n",
       "      <th>Train_AUC</th>\n",
       "      <th>Test_AUC</th>\n",
       "      <th>Train_prec</th>\n",
       "      <th>Train_recal</th>\n",
       "      <th>Test_prec</th>\n",
       "      <th>Test_recal</th>\n",
       "    </tr>\n",
       "  </thead>\n",
       "  <tbody>\n",
       "    <tr>\n",
       "      <th>7</th>\n",
       "      <td>Gradient Boost tuned</td>\n",
       "      <td>0.826991</td>\n",
       "      <td>0.753722</td>\n",
       "      <td>0.540084</td>\n",
       "      <td>0.415584</td>\n",
       "      <td>0.328358</td>\n",
       "      <td>0.285714</td>\n",
       "    </tr>\n",
       "    <tr>\n",
       "      <th>8</th>\n",
       "      <td>RandomForest default</td>\n",
       "      <td>0.999999</td>\n",
       "      <td>0.752725</td>\n",
       "      <td>0.996764</td>\n",
       "      <td>1.0</td>\n",
       "      <td>0.258427</td>\n",
       "      <td>0.298701</td>\n",
       "    </tr>\n",
       "    <tr>\n",
       "      <th>9</th>\n",
       "      <td>Gradient Boost PCA</td>\n",
       "      <td>0.895352</td>\n",
       "      <td>0.692007</td>\n",
       "      <td>0.686667</td>\n",
       "      <td>0.668831</td>\n",
       "      <td>0.263158</td>\n",
       "      <td>0.25974</td>\n",
       "    </tr>\n",
       "    <tr>\n",
       "      <th>10</th>\n",
       "      <td>SVC tuned</td>\n",
       "      <td>0.8893705289981886</td>\n",
       "      <td>0.8349407381284595</td>\n",
       "      <td>0.23924268502581755</td>\n",
       "      <td>0.9025974025974026</td>\n",
       "      <td>0.21241830065359477</td>\n",
       "      <td>0.8441558441558441</td>\n",
       "    </tr>\n",
       "    <tr>\n",
       "      <th>11</th>\n",
       "      <td>SVC PCA</td>\n",
       "      <td>0.8852430075834331</td>\n",
       "      <td>0.8317514834634079</td>\n",
       "      <td>0.2380546075085324</td>\n",
       "      <td>0.9058441558441559</td>\n",
       "      <td>0.2138157894736842</td>\n",
       "      <td>0.8441558441558441</td>\n",
       "    </tr>\n",
       "  </tbody>\n",
       "</table>\n",
       "</div>"
      ],
      "text/plain": [
       "                   Model           Train_AUC            Test_AUC  \\\n",
       "7   Gradient Boost tuned            0.826991            0.753722   \n",
       "8   RandomForest default            0.999999            0.752725   \n",
       "9     Gradient Boost PCA            0.895352            0.692007   \n",
       "10             SVC tuned  0.8893705289981886  0.8349407381284595   \n",
       "11               SVC PCA  0.8852430075834331  0.8317514834634079   \n",
       "\n",
       "             Train_prec         Train_recal            Test_prec  \\\n",
       "7              0.540084            0.415584             0.328358   \n",
       "8              0.996764                 1.0             0.258427   \n",
       "9              0.686667            0.668831             0.263158   \n",
       "10  0.23924268502581755  0.9025974025974026  0.21241830065359477   \n",
       "11   0.2380546075085324  0.9058441558441559   0.2138157894736842   \n",
       "\n",
       "            Test_recal  \n",
       "7             0.285714  \n",
       "8             0.298701  \n",
       "9              0.25974  \n",
       "10  0.8441558441558441  \n",
       "11  0.8441558441558441  "
      ]
     },
     "execution_count": 252,
     "metadata": {},
     "output_type": "execute_result"
    }
   ],
   "source": [
    "scores_df = agg_score_df(scores_df,grid_logr,'LogReg PCA',X_train_pca95,X_test_pca95,y_train,y_test)\n",
    "scores_df.tail()"
   ]
  },
  {
   "cell_type": "markdown",
   "metadata": {},
   "source": [
    "The PCA trained model looks pretty good as well but loses a bit of predictive power compared to the previous logistic regression model. "
   ]
  },
  {
   "cell_type": "markdown",
   "metadata": {},
   "source": [
    "# Evaluate performance of all models and the choose best model"
   ]
  },
  {
   "cell_type": "code",
   "execution_count": 253,
   "metadata": {},
   "outputs": [],
   "source": [
    "### Sort and change column types to numeric\n",
    "\n",
    "for c in scores_df.columns:\n",
    "    if c =='Model': continue\n",
    "    scores_df[c] = pd.to_numeric(scores_df[c])\n",
    "scores_df = scores_df.sort_values(by='Test_AUC',ascending=False)"
   ]
  },
  {
   "cell_type": "code",
   "execution_count": 254,
   "metadata": {},
   "outputs": [
    {
     "data": {
      "image/png": "[encoded data removed]",
      "text/plain": [
       "<Figure size 720x432 with 1 Axes>"
      ]
     },
     "metadata": {
      "needs_background": "light"
     },
     "output_type": "display_data"
    }
   ],
   "source": [
    "### Bar plot of Test AUC and Test Recall\n",
    "\n",
    "ind = np.arange(scores_df.shape[0])\n",
    "width = .35\n",
    "\n",
    "fig, ax = plt.subplots(figsize=(10,6))\n",
    "\n",
    "ax.bar(ind-width/2,scores_df.Test_AUC,width,label='Test AUC')\n",
    "ax.bar(ind+width/2,scores_df.Test_recal,width,label='Test recall')\n",
    "\n",
    "ax.set_ylabel('Scores')\n",
    "\n",
    "ax.set_ylim(0,1)\n",
    "\n",
    "ax.set_xticks(ind)\n",
    "ax.set_xticklabels(scores_df.Model,rotation=75)\n",
    "\n",
    "ax.set_title('Model Metric Scores')\n",
    "ax.legend()\n",
    "\n",
    "plt.show()\n",
    "\n"
   ]
  },
  {
   "cell_type": "markdown",
   "metadata": {},
   "source": [
    "After looking at the above plot I will select the tuned SCV model.  I will now train the tuned model on all of the training data and then export the model.  "
   ]
  },
  {
   "cell_type": "code",
   "execution_count": 256,
   "metadata": {},
   "outputs": [],
   "source": [
    "### Concatenate the train and test sets into one large training set \n",
    "X = pd.concat([pd.DataFrame(X_train),pd.DataFrame(X_test)]).to_numpy()\n",
    "y = pd.concat([pd.Series(y_train),pd.Series(y_test)]).to_numpy()"
   ]
  },
  {
   "cell_type": "code",
   "execution_count": 267,
   "metadata": {},
   "outputs": [
    {
     "name": "stdout",
     "output_type": "stream",
     "text": [
      "Train AUC:  0.8819173263512664\n"
     ]
    }
   ],
   "source": [
    "### Train the model with all of the data,\n",
    "### and with the parameters in the tuned model above\n",
    "\n",
    "\n",
    "svc = SVC(C=1.5,class_weight='balanced',gamma='scale',\\\n",
    "          kernel='rbf',random_state=random_seed,probability=True)\n",
    "svc.fit(X,y)\n",
    "\n",
    "print('Train AUC: ',roc_auc_score(y,svc.predict_proba(X)[:,1]))"
   ]
  },
  {
   "cell_type": "markdown",
   "metadata": {},
   "source": [
    "Looks good.  Now I have a support vector classifier tuned using cross validation and tested on a hold out set that has now been trained on all of the available data and is ready for deployment.  \n",
    "___\n",
    "Now I will 'pickle' the model and save it. "
   ]
  },
  {
   "cell_type": "code",
   "execution_count": 268,
   "metadata": {},
   "outputs": [],
   "source": [
    "import pickle\n",
    "with open('SVC_final_classifier.pkl','wb') as fid:\n",
    "    pickle.dump(svc,fid)"
   ]
  },
  {
   "cell_type": "code",
   "execution_count": null,
   "metadata": {},
   "outputs": [],
   "source": []
  },
  {
   "cell_type": "code",
   "execution_count": null,
   "metadata": {},
   "outputs": [],
   "source": []
  },
  {
   "cell_type": "code",
   "execution_count": null,
   "metadata": {},
   "outputs": [],
   "source": []
  },
  {
   "cell_type": "code",
   "execution_count": null,
   "metadata": {},
   "outputs": [],
   "source": []
  },
  {
   "cell_type": "code",
   "execution_count": null,
   "metadata": {},
   "outputs": [],
   "source": []
  }
 ],
 "metadata": {
  "kernelspec": {
   "display_name": "Python 3",
   "language": "python",
   "name": "python3"
  },
  "language_info": {
   "codemirror_mode": {
    "name": "ipython",
    "version": 3
   },
   "file_extension": ".py",
   "mimetype": "text/x-python",
   "name": "python",
   "nbconvert_exporter": "python",
   "pygments_lexer": "ipython3",
   "version": "3.7.6"
  }
 },
 "nbformat": 4,
 "nbformat_minor": 4
}
