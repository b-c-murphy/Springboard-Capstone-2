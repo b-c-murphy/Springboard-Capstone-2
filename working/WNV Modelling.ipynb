{
 "cells": [
  {
   "cell_type": "markdown",
   "metadata": {},
   "source": [
    "# Modelling!\n",
    "\n",
    "I will now dive into modelling the WNV cases using the datasets created in the previous Preprocessing notebook.  Hopefully I can improve upon the Logistic Regression model (especially the recall score) at the end of that notebook. \n",
    "\n",
    "Steps:\n",
    "1.  Import data sets and modeling packages from sklearn. \n",
    "2. Try different models, tune hyperparameters and evaluate each.  \n",
    "    1. Random Forest\n",
    "    2. Gradient Boost\n",
    "    3. XG Boost\n",
    "    4. Support Vector Classifier\n",
    "    5. Revist Logistic regression\n",
    "3. Select the best model and output the model. Selection will be based on:\n",
    "    - Test AUC score\n",
    "    - Test Recall score"
   ]
  },
  {
   "cell_type": "markdown",
   "metadata": {},
   "source": [
    "Import pandas numpy and all of the datasets."
   ]
  },
  {
   "cell_type": "code",
   "execution_count": 1,
   "metadata": {},
   "outputs": [],
   "source": [
    "random_seed = 27"
   ]
  },
  {
   "cell_type": "code",
   "execution_count": 2,
   "metadata": {},
   "outputs": [],
   "source": [
    "import pandas as pd\n",
    "import numpy as np\n",
    "import matplotlib.pyplot as plt"
   ]
  },
  {
   "cell_type": "code",
   "execution_count": 3,
   "metadata": {},
   "outputs": [],
   "source": [
    "y_train = pd.read_csv('y_train.csv',index_col=0).to_numpy().reshape(-1,)\n",
    "y_test = pd.read_csv('y_test.csv',index_col=0).to_numpy().reshape(-1,)\n",
    "\n",
    "### Note these are already standard scaled\n",
    "X_train = pd.read_csv('X_train.csv',index_col=0).to_numpy()\n",
    "X_test = pd.read_csv('X_test.csv',index_col=0).to_numpy()\n",
    "\n",
    "#X_train_pca95 = pd.read_csv('X_train_pca95.csv',index_col=0).to_numpy()\n",
    "#X_test_pca95 = pd.read_csv('X_test_pca95.csv',index_col=0).to_numpy()\n",
    "\n",
    "#X_train_nmf = pd.read_csv('X_train_nmf.csv',index_col=0).to_numpy()\n",
    "#X_test_nmf = pd.read_csv('X_test_nmf.csv',index_col=0).to_numpy()"
   ]
  },
  {
   "cell_type": "markdown",
   "metadata": {},
   "source": [
    "Next a couple functions that will help in evaluating model performance and collecting the model metrics to help with selecting a model."
   ]
  },
  {
   "cell_type": "code",
   "execution_count": 4,
   "metadata": {},
   "outputs": [],
   "source": [
    "def Model_Eval(estimator,X_train,X_test,y_train,y_test):\n",
    "    from sklearn.metrics import plot_confusion_matrix,precision_score,\\\n",
    "                                recall_score, plot_roc_curve\n",
    "    import matplotlib.pyplot as plt\n",
    "    \n",
    "    fig,ax = plt.subplots(figsize=(5,5))\n",
    "    plot_roc_curve(estimator,X_train,y_train,ax=ax,name='Train')\n",
    "    plot_roc_curve(estimator,X_test,y_test,ax=ax,name='Test')\n",
    "    plt.title('ROC curve')\n",
    "    plt.show()\n",
    "\n",
    "    fig,ax = plt.subplots(1,2,figsize=(10,5),tight_layout=True)\n",
    "    plot_confusion_matrix(estimator,X_train,y_train,values_format='.4g',ax=ax[0],cmap='Blues')\n",
    "    plot_confusion_matrix(estimator,X_test,y_test,values_format='.4g',ax=ax[1],cmap='Oranges')\n",
    "    ax[0].set_title('Train')\n",
    "    ax[1].set_title('Test')\n",
    "    plt.show()\n",
    "\n",
    "    ### Training\n",
    "    print('Train Precision {:.3f}'.format(precision_score(\\\n",
    "                              y_train,estimator.predict(X_train))))\n",
    "    print('Train Recall    {:.3f}'.format(recall_score(\\\n",
    "                               y_train,estimator.predict(X_train))))\n",
    "    print()\n",
    "    ### Testing\n",
    "    print('Test Precision  {:.3f}'.format(precision_score(\\\n",
    "                              y_test,estimator.predict(X_test))))\n",
    "    print('Test Recall     {:.3f}'.format(recall_score(\\\n",
    "                               y_test,estimator.predict(X_test))))"
   ]
  },
  {
   "cell_type": "markdown",
   "metadata": {},
   "source": [
    "Initialize dataframe for collecting model performance"
   ]
  },
  {
   "cell_type": "code",
   "execution_count": 5,
   "metadata": {},
   "outputs": [],
   "source": [
    "df_cols = ['Model','Train_AUC','Test_AUC','Train_prec','Train_recal','Test_prec','Test_recal']\n",
    "scores_df=pd.DataFrame(columns=df_cols)"
   ]
  },
  {
   "cell_type": "markdown",
   "metadata": {},
   "source": [
    "Define function that will update the model performance dataframe"
   ]
  },
  {
   "cell_type": "code",
   "execution_count": 6,
   "metadata": {},
   "outputs": [],
   "source": [
    "def agg_score_df(scores_df,estimator,name,X_train,X_test,y_train,y_test,\\\n",
    "                 df_cols=['Model','Train_AUC','Test_AUC','Train_prec',\\\n",
    "                          'Train_recal','Test_prec','Test_recal']):\n",
    "    \"\"\"\n",
    "    \"\"\"\n",
    "    scores=[]\n",
    "    scores.append(name)\n",
    "    scores.append(roc_auc_score(y_train,estimator.predict_proba(X_train)[:,1]))\n",
    "    scores.append(roc_auc_score(y_test,estimator.predict_proba(X_test)[:,1]))\n",
    "    scores.append(precision_score(y_train,estimator.predict(X_train)))\n",
    "    scores.append(recall_score(y_train,estimator.predict(X_train)))\n",
    "    scores.append(precision_score(y_test,estimator.predict(X_test)))\n",
    "    scores.append(recall_score(y_test,estimator.predict(X_test)))\n",
    "    \n",
    "    scores = np.array(scores).reshape(1,7)\n",
    "    scores_df = pd.concat([scores_df,pd.DataFrame(scores,columns=df_cols)])\n",
    "\n",
    "    return scores_df.reset_index(drop=True)"
   ]
  },
  {
   "cell_type": "markdown",
   "metadata": {},
   "source": [
    "Ready for modelling! First I will try a RandomForest classifier"
   ]
  },
  {
   "cell_type": "markdown",
   "metadata": {},
   "source": [
    "# Random Forest Classifier"
   ]
  },
  {
   "cell_type": "code",
   "execution_count": 7,
   "metadata": {},
   "outputs": [],
   "source": [
    "### import necessities from sklearn\n",
    "from sklearn.ensemble import RandomForestClassifier\n",
    "from sklearn.model_selection import GridSearchCV\n",
    "from sklearn.metrics import roc_auc_score, plot_confusion_matrix,\\\n",
    "                plot_precision_recall_curve, plot_roc_curve, make_scorer,\\\n",
    "                recall_score, precision_score, log_loss"
   ]
  },
  {
   "cell_type": "code",
   "execution_count": 8,
   "metadata": {},
   "outputs": [
    {
     "name": "stdout",
     "output_type": "stream",
     "text": [
      "Train AUC: 0.885\n",
      "Test AUC: 0.815\n"
     ]
    }
   ],
   "source": [
    "### Default Random Forest\n",
    "\n",
    "rf_clf = RandomForestClassifier(random_state=random_seed)\n",
    "rf_clf.fit(X_train,y_train)\n",
    "print('Train AUC: {:.3f}'.format(roc_auc_score(y_train,rf_clf.predict_proba(X_train)[:,1])))\n",
    "print('Test AUC: {:.3f}'.format(roc_auc_score(y_test,rf_clf.predict_proba(X_test)[:,1])))"
   ]
  },
  {
   "cell_type": "markdown",
   "metadata": {},
   "source": [
    "That looks ok.  It seems it is not overfit and it has pretty good predictive power with better performance than the default logistic regression.  \n",
    "___\n",
    "Next I will use GridSearchCV to perform a cross validation and tune the hyperparameters of the classifier. "
   ]
  },
  {
   "cell_type": "code",
   "execution_count": 9,
   "metadata": {
    "scrolled": false
   },
   "outputs": [
    {
     "data": {
      "image/png": "[encoded data removed]",
      "text/plain": [
       "<Figure size 360x360 with 1 Axes>"
      ]
     },
     "metadata": {
      "needs_background": "light"
     },
     "output_type": "display_data"
    },
    {
     "data": {
      "image/png": "[encoded data removed]",
      "text/plain": [
       "<Figure size 720x360 with 4 Axes>"
      ]
     },
     "metadata": {
      "needs_background": "light"
     },
     "output_type": "display_data"
    },
    {
     "name": "stdout",
     "output_type": "stream",
     "text": [
      "Train Precision 0.582\n",
      "Train Recall    0.149\n",
      "\n",
      "Test Precision  0.400\n",
      "Test Recall     0.130\n"
     ]
    }
   ],
   "source": [
    "Model_Eval(rf_clf,X_train,X_test,y_train,y_test)"
   ]
  },
  {
   "cell_type": "markdown",
   "metadata": {},
   "source": [
    "The precision and recall scores don't look great.  For this project I need higher recall, because I don't want to miss a lot of positive WNV cases.  Here I will start aggregating the scores to in a dataframe to make it easier to decide which is the best model.  "
   ]
  },
  {
   "cell_type": "code",
   "execution_count": 10,
   "metadata": {},
   "outputs": [
    {
     "data": {
      "text/html": [
       "<div>\n",
       "<style scoped>\n",
       "    .dataframe tbody tr th:only-of-type {\n",
       "        vertical-align: middle;\n",
       "    }\n",
       "\n",
       "    .dataframe tbody tr th {\n",
       "        vertical-align: top;\n",
       "    }\n",
       "\n",
       "    .dataframe thead th {\n",
       "        text-align: right;\n",
       "    }\n",
       "</style>\n",
       "<table border=\"1\" class=\"dataframe\">\n",
       "  <thead>\n",
       "    <tr style=\"text-align: right;\">\n",
       "      <th></th>\n",
       "      <th>Model</th>\n",
       "      <th>Train_AUC</th>\n",
       "      <th>Test_AUC</th>\n",
       "      <th>Train_prec</th>\n",
       "      <th>Train_recal</th>\n",
       "      <th>Test_prec</th>\n",
       "      <th>Test_recal</th>\n",
       "    </tr>\n",
       "  </thead>\n",
       "  <tbody>\n",
       "    <tr>\n",
       "      <th>0</th>\n",
       "      <td>RandomForest default</td>\n",
       "      <td>0.8850976520524394</td>\n",
       "      <td>0.8149082322636041</td>\n",
       "      <td>0.5822784810126582</td>\n",
       "      <td>0.14935064935064934</td>\n",
       "      <td>0.4</td>\n",
       "      <td>0.12987012987012986</td>\n",
       "    </tr>\n",
       "  </tbody>\n",
       "</table>\n",
       "</div>"
      ],
      "text/plain": [
       "                  Model           Train_AUC            Test_AUC  \\\n",
       "0  RandomForest default  0.8850976520524394  0.8149082322636041   \n",
       "\n",
       "           Train_prec          Train_recal Test_prec           Test_recal  \n",
       "0  0.5822784810126582  0.14935064935064934       0.4  0.12987012987012986  "
      ]
     },
     "execution_count": 10,
     "metadata": {},
     "output_type": "execute_result"
    }
   ],
   "source": [
    "scores_df = agg_score_df(scores_df,rf_clf,'RandomForest default',X_train,X_test,y_train,y_test)\n",
    "scores_df.tail()"
   ]
  },
  {
   "cell_type": "code",
   "execution_count": 11,
   "metadata": {},
   "outputs": [
    {
     "name": "stdout",
     "output_type": "stream",
     "text": [
      "bootstrap\n",
      "ccp_alpha\n",
      "class_weight\n",
      "criterion\n",
      "max_depth\n",
      "max_features\n",
      "max_leaf_nodes\n",
      "max_samples\n",
      "min_impurity_decrease\n",
      "min_impurity_split\n",
      "min_samples_leaf\n",
      "min_samples_split\n",
      "min_weight_fraction_leaf\n",
      "n_estimators\n",
      "n_jobs\n",
      "oob_score\n",
      "random_state\n",
      "verbose\n",
      "warm_start\n"
     ]
    }
   ],
   "source": [
    "for i in RandomForestClassifier().get_params().keys():print(i)"
   ]
  },
  {
   "cell_type": "code",
   "execution_count": 12,
   "metadata": {
    "scrolled": true
   },
   "outputs": [
    {
     "name": "stdout",
     "output_type": "stream",
     "text": [
      "Best Params:  {'class_weight': 'balanced', 'criterion': 'gini', 'max_depth': 9, 'n_estimators': 80, 'random_state': 27}\n",
      "Best Score:  0.7704287998765437\n"
     ]
    }
   ],
   "source": [
    "### define grid parameters and fit model\n",
    "\n",
    "params={'n_estimators':[50,80,100,120,150],\\\n",
    "       'criterion': ['gini','entropy'],\\\n",
    "       'max_depth':[3,5,7,9],\n",
    "       'class_weight':['balanced'],\\\n",
    "       'random_state': [random_seed]}\n",
    "\n",
    "rf_clf = RandomForestClassifier()\n",
    "\n",
    "grid_rf_clf = GridSearchCV(rf_clf,param_grid=params,cv=5,n_jobs=-1,\\\n",
    "                           scoring=make_scorer(roc_auc_score))\n",
    "\n",
    "grid_rf_clf.fit(X_train,y_train)\n",
    "\n",
    "print('Best Params: ',grid_rf_clf.best_params_)\n",
    "print('Best Score: ',grid_rf_clf.best_score_)"
   ]
  },
  {
   "cell_type": "code",
   "execution_count": 13,
   "metadata": {},
   "outputs": [
    {
     "data": {
      "image/png": "[encoded data removed]",
      "text/plain": [
       "<Figure size 360x360 with 1 Axes>"
      ]
     },
     "metadata": {
      "needs_background": "light"
     },
     "output_type": "display_data"
    },
    {
     "data": {
      "image/png": "[encoded data removed]",
      "text/plain": [
       "<Figure size 720x360 with 4 Axes>"
      ]
     },
     "metadata": {
      "needs_background": "light"
     },
     "output_type": "display_data"
    },
    {
     "name": "stdout",
     "output_type": "stream",
     "text": [
      "Train Precision 0.245\n",
      "Train Recall    0.867\n",
      "\n",
      "Test Precision  0.216\n",
      "Test Recall     0.792\n"
     ]
    }
   ],
   "source": [
    "Model_Eval(grid_rf_clf,X_train,X_test,y_train,y_test)"
   ]
  },
  {
   "cell_type": "markdown",
   "metadata": {},
   "source": [
    "That looks better but I am a little concerned about the difference in the training and testing AUC's.  The model might be a little overfit.  Maybe I should try to decrease the `max_depth` of the individual trees.  Recall has increased dramatically over the logistic regression model and the default RF.  Lets look at the precision-recall plot."
   ]
  },
  {
   "cell_type": "markdown",
   "metadata": {},
   "source": [
    "Lets look at the precision-recall plot."
   ]
  },
  {
   "cell_type": "code",
   "execution_count": 14,
   "metadata": {},
   "outputs": [
    {
     "data": {
      "image/png": "[encoded data removed]",
      "text/plain": [
       "<Figure size 360x360 with 1 Axes>"
      ]
     },
     "metadata": {
      "needs_background": "light"
     },
     "output_type": "display_data"
    }
   ],
   "source": [
    "fig,ax = plt.subplots(figsize=(5,5))\n",
    "plot_precision_recall_curve(grid_rf_clf,X_train,y_train,ax=ax,name='Train')\n",
    "plot_precision_recall_curve(grid_rf_clf,X_test,y_test,ax=ax,name='Test')\n",
    "plt.show()\n"
   ]
  },
  {
   "cell_type": "markdown",
   "metadata": {},
   "source": [
    "This is not ideal.  This plot again shows the difference in performance in the training and testing set. Now I will try the same exercise above but using the PCA reduced features.  "
   ]
  },
  {
   "cell_type": "code",
   "execution_count": 15,
   "metadata": {},
   "outputs": [
    {
     "data": {
      "text/html": [
       "<div>\n",
       "<style scoped>\n",
       "    .dataframe tbody tr th:only-of-type {\n",
       "        vertical-align: middle;\n",
       "    }\n",
       "\n",
       "    .dataframe tbody tr th {\n",
       "        vertical-align: top;\n",
       "    }\n",
       "\n",
       "    .dataframe thead th {\n",
       "        text-align: right;\n",
       "    }\n",
       "</style>\n",
       "<table border=\"1\" class=\"dataframe\">\n",
       "  <thead>\n",
       "    <tr style=\"text-align: right;\">\n",
       "      <th></th>\n",
       "      <th>Model</th>\n",
       "      <th>Train_AUC</th>\n",
       "      <th>Test_AUC</th>\n",
       "      <th>Train_prec</th>\n",
       "      <th>Train_recal</th>\n",
       "      <th>Test_prec</th>\n",
       "      <th>Test_recal</th>\n",
       "    </tr>\n",
       "  </thead>\n",
       "  <tbody>\n",
       "    <tr>\n",
       "      <th>0</th>\n",
       "      <td>RandomForest default</td>\n",
       "      <td>0.8850976520524394</td>\n",
       "      <td>0.8149082322636041</td>\n",
       "      <td>0.5822784810126582</td>\n",
       "      <td>0.14935064935064934</td>\n",
       "      <td>0.4</td>\n",
       "      <td>0.12987012987012986</td>\n",
       "    </tr>\n",
       "    <tr>\n",
       "      <th>1</th>\n",
       "      <td>RandomForest tuned</td>\n",
       "      <td>0.8806276096834608</td>\n",
       "      <td>0.8235176865637314</td>\n",
       "      <td>0.2445054945054945</td>\n",
       "      <td>0.8668831168831169</td>\n",
       "      <td>0.21554770318021202</td>\n",
       "      <td>0.7922077922077922</td>\n",
       "    </tr>\n",
       "  </tbody>\n",
       "</table>\n",
       "</div>"
      ],
      "text/plain": [
       "                  Model           Train_AUC            Test_AUC  \\\n",
       "0  RandomForest default  0.8850976520524394  0.8149082322636041   \n",
       "1    RandomForest tuned  0.8806276096834608  0.8235176865637314   \n",
       "\n",
       "           Train_prec          Train_recal            Test_prec  \\\n",
       "0  0.5822784810126582  0.14935064935064934                  0.4   \n",
       "1  0.2445054945054945   0.8668831168831169  0.21554770318021202   \n",
       "\n",
       "            Test_recal  \n",
       "0  0.12987012987012986  \n",
       "1   0.7922077922077922  "
      ]
     },
     "execution_count": 15,
     "metadata": {},
     "output_type": "execute_result"
    }
   ],
   "source": [
    "scores_df = agg_score_df(scores_df,grid_rf_clf,'RandomForest tuned',X_train,X_test,y_train,y_test)\n",
    "scores_df.tail()"
   ]
  },
  {
   "cell_type": "markdown",
   "metadata": {},
   "source": [
    "The tuned model is much better, but may still be a little to overfitted to the training data.\n",
    "___\n",
    "To mitigate overfitting I will try using the PCA transformed features. "
   ]
  },
  {
   "cell_type": "raw",
   "metadata": {
    "scrolled": true
   },
   "source": [
    "### define grid parameters and fit model\n",
    "\n",
    "params={'n_estimators':[50,80,100,120,150],\\\n",
    "       'criterion': ['gini','entropy'],\\\n",
    "       'max_depth':[3,5,7,9],\n",
    "       'class_weight':[None,'balanced'],\\\n",
    "       'random_state': [random_seed]}\n",
    "\n",
    "rf_clf = RandomForestClassifier()\n",
    "\n",
    "grid_rf_clf = GridSearchCV(rf_clf,param_grid=params,cv=5,n_jobs=-1,\\\n",
    "                           scoring=make_scorer(roc_auc_score),\\\n",
    "                          )\n",
    "\n",
    "grid_rf_clf.fit(X_train_pca95,y_train)\n",
    "\n",
    "print('Best Params: ',grid_rf_clf.best_params_)\n",
    "print('Best Score: ',grid_rf_clf.best_score_)"
   ]
  },
  {
   "cell_type": "raw",
   "metadata": {},
   "source": [
    "Model_Eval(grid_rf_clf,X_train_pca95,X_test_pca95,y_train,y_test)"
   ]
  },
  {
   "cell_type": "markdown",
   "metadata": {},
   "source": [
    "The PCA dataset contains the top 15 PCA components, that explain 95% of the variance in the dataset.  The PCA trained random forest has a slightly lower AUC score but a higher test recall, which suggests it is less biased than the previous model trained on the full dataset.  "
   ]
  },
  {
   "cell_type": "raw",
   "metadata": {},
   "source": [
    "fig,ax = plt.subplots(figsize=(5,5))\n",
    "plot_precision_recall_curve(grid_rf_clf,X_train_pca95,y_train,ax=ax,name='Train')\n",
    "plot_precision_recall_curve(grid_rf_clf,X_test_pca95,y_test,ax=ax,name='Test')\n",
    "plt.show()\n"
   ]
  },
  {
   "cell_type": "raw",
   "metadata": {},
   "source": [
    "scores_df = agg_score_df(scores_df,grid_rf_clf,'RandomForest PCA',X_train_pca95,X_test_pca95,y_train,y_test)\n",
    "scores_df.tail()"
   ]
  },
  {
   "cell_type": "markdown",
   "metadata": {},
   "source": [
    "# Boosted Decision trees"
   ]
  },
  {
   "cell_type": "code",
   "execution_count": 16,
   "metadata": {},
   "outputs": [],
   "source": [
    "### Import gradient boost and xgboost\n",
    "from sklearn.ensemble import GradientBoostingClassifier\n",
    "\n"
   ]
  },
  {
   "cell_type": "markdown",
   "metadata": {},
   "source": [
    "First I will try the Gradient Boosting classifier from sklearn, starting with the default model. "
   ]
  },
  {
   "cell_type": "code",
   "execution_count": 17,
   "metadata": {},
   "outputs": [
    {
     "name": "stdout",
     "output_type": "stream",
     "text": [
      "Train AUC:  0.8790891437168032\n",
      "Test AUC:  0.8300801913552799\n"
     ]
    }
   ],
   "source": [
    "\n",
    "params={'learning_rate':[0.1]}\n",
    "\n",
    "gb_clf = GradientBoostingClassifier(random_state=random_seed)\n",
    "grid_gb_clf = GridSearchCV(gb_clf,param_grid=params,cv=5,\\\n",
    "                           scoring = make_scorer(roc_auc_score))\n",
    "grid_gb_clf.fit(X_train,y_train)\n",
    "\n",
    "print('Train AUC: ', roc_auc_score(y_train,grid_gb_clf.predict_proba(X_train)[:,1]))\n",
    "print('Test AUC: ', roc_auc_score(y_test,grid_gb_clf.predict_proba(X_test)[:,1]))\n",
    "\n"
   ]
  },
  {
   "cell_type": "code",
   "execution_count": 18,
   "metadata": {
    "scrolled": false
   },
   "outputs": [
    {
     "data": {
      "image/png": "[encoded data removed]",
      "text/plain": [
       "<Figure size 360x360 with 1 Axes>"
      ]
     },
     "metadata": {
      "needs_background": "light"
     },
     "output_type": "display_data"
    },
    {
     "data": {
      "image/png": "[encoded data removed]",
      "text/plain": [
       "<Figure size 720x360 with 4 Axes>"
      ]
     },
     "metadata": {
      "needs_background": "light"
     },
     "output_type": "display_data"
    },
    {
     "name": "stdout",
     "output_type": "stream",
     "text": [
      "Train Precision 0.630\n",
      "Train Recall    0.094\n",
      "\n",
      "Test Precision  0.500\n",
      "Test Recall     0.117\n"
     ]
    }
   ],
   "source": [
    "Model_Eval(grid_gb_clf,X_train,X_test,y_train,y_test)"
   ]
  },
  {
   "cell_type": "code",
   "execution_count": 19,
   "metadata": {},
   "outputs": [
    {
     "data": {
      "text/html": [
       "<div>\n",
       "<style scoped>\n",
       "    .dataframe tbody tr th:only-of-type {\n",
       "        vertical-align: middle;\n",
       "    }\n",
       "\n",
       "    .dataframe tbody tr th {\n",
       "        vertical-align: top;\n",
       "    }\n",
       "\n",
       "    .dataframe thead th {\n",
       "        text-align: right;\n",
       "    }\n",
       "</style>\n",
       "<table border=\"1\" class=\"dataframe\">\n",
       "  <thead>\n",
       "    <tr style=\"text-align: right;\">\n",
       "      <th></th>\n",
       "      <th>Model</th>\n",
       "      <th>Train_AUC</th>\n",
       "      <th>Test_AUC</th>\n",
       "      <th>Train_prec</th>\n",
       "      <th>Train_recal</th>\n",
       "      <th>Test_prec</th>\n",
       "      <th>Test_recal</th>\n",
       "    </tr>\n",
       "  </thead>\n",
       "  <tbody>\n",
       "    <tr>\n",
       "      <th>0</th>\n",
       "      <td>RandomForest default</td>\n",
       "      <td>0.8850976520524394</td>\n",
       "      <td>0.8149082322636041</td>\n",
       "      <td>0.5822784810126582</td>\n",
       "      <td>0.14935064935064934</td>\n",
       "      <td>0.4</td>\n",
       "      <td>0.12987012987012986</td>\n",
       "    </tr>\n",
       "    <tr>\n",
       "      <th>1</th>\n",
       "      <td>RandomForest tuned</td>\n",
       "      <td>0.8806276096834608</td>\n",
       "      <td>0.8235176865637314</td>\n",
       "      <td>0.2445054945054945</td>\n",
       "      <td>0.8668831168831169</td>\n",
       "      <td>0.21554770318021202</td>\n",
       "      <td>0.7922077922077922</td>\n",
       "    </tr>\n",
       "    <tr>\n",
       "      <th>2</th>\n",
       "      <td>Gradient Boost default</td>\n",
       "      <td>0.8790891437168032</td>\n",
       "      <td>0.8300801913552799</td>\n",
       "      <td>0.6304347826086957</td>\n",
       "      <td>0.09415584415584416</td>\n",
       "      <td>0.5</td>\n",
       "      <td>0.11688311688311688</td>\n",
       "    </tr>\n",
       "  </tbody>\n",
       "</table>\n",
       "</div>"
      ],
      "text/plain": [
       "                    Model           Train_AUC            Test_AUC  \\\n",
       "0    RandomForest default  0.8850976520524394  0.8149082322636041   \n",
       "1      RandomForest tuned  0.8806276096834608  0.8235176865637314   \n",
       "2  Gradient Boost default  0.8790891437168032  0.8300801913552799   \n",
       "\n",
       "           Train_prec          Train_recal            Test_prec  \\\n",
       "0  0.5822784810126582  0.14935064935064934                  0.4   \n",
       "1  0.2445054945054945   0.8668831168831169  0.21554770318021202   \n",
       "2  0.6304347826086957  0.09415584415584416                  0.5   \n",
       "\n",
       "            Test_recal  \n",
       "0  0.12987012987012986  \n",
       "1   0.7922077922077922  \n",
       "2  0.11688311688311688  "
      ]
     },
     "execution_count": 19,
     "metadata": {},
     "output_type": "execute_result"
    }
   ],
   "source": [
    "scores_df = agg_score_df(scores_df,grid_gb_clf,'Gradient Boost default',X_train,X_test,y_train,y_test)\n",
    "scores_df.tail()"
   ]
  },
  {
   "cell_type": "markdown",
   "metadata": {},
   "source": [
    "The AUC's look great, but the recall is very low.  The model needs to do have a better recall score so it doesn't miss a lot of positive WNV cases.  Now I will try to tune the model.     "
   ]
  },
  {
   "cell_type": "code",
   "execution_count": 20,
   "metadata": {},
   "outputs": [
    {
     "name": "stdout",
     "output_type": "stream",
     "text": [
      "ccp_alpha\n",
      "criterion\n",
      "init\n",
      "learning_rate\n",
      "loss\n",
      "max_depth\n",
      "max_features\n",
      "max_leaf_nodes\n",
      "min_impurity_decrease\n",
      "min_impurity_split\n",
      "min_samples_leaf\n",
      "min_samples_split\n",
      "min_weight_fraction_leaf\n",
      "n_estimators\n",
      "n_iter_no_change\n",
      "presort\n",
      "random_state\n",
      "subsample\n",
      "tol\n",
      "validation_fraction\n",
      "verbose\n",
      "warm_start\n"
     ]
    }
   ],
   "source": [
    "### Gradient Boosting Classifier parameters\n",
    "for i in GradientBoostingClassifier().get_params().keys():print(i)"
   ]
  },
  {
   "cell_type": "code",
   "execution_count": 21,
   "metadata": {},
   "outputs": [
    {
     "name": "stdout",
     "output_type": "stream",
     "text": [
      "Best Params:  {'learning_rate': 1, 'max_depth': 3, 'max_features': 0.5, 'n_estimators': 40, 'subsample': 0.5}\n",
      "Best Score:  0.5841712728197251\n"
     ]
    }
   ],
   "source": [
    "### Gradient boosting model\n",
    "params = {'max_depth':[2,3,5],\\\n",
    "         'learning_rate':[0.1,0.5,0.8,1],\\\n",
    "         'n_estimators':[20,40,80],\\\n",
    "          'max_features':[.5,.8,1],\\\n",
    "         'subsample':[.5,.8,1]}\n",
    "\n",
    "\n",
    "gb_clf = GradientBoostingClassifier(random_state=random_seed)\n",
    "grid_gb_clf = GridSearchCV(gb_clf,param_grid=params,cv=5,n_jobs=-1,\\\n",
    "                           scoring=make_scorer(roc_auc_score))\n",
    "\n",
    "grid_gb_clf.fit(X_train,y_train)\n",
    "\n",
    "print('Best Params: ',grid_gb_clf.best_params_)\n",
    "print('Best Score: ',grid_gb_clf.best_score_)\n"
   ]
  },
  {
   "cell_type": "markdown",
   "metadata": {},
   "source": [
    "That took much longer than the random forest, the ensemble is done in series after all.  "
   ]
  },
  {
   "cell_type": "code",
   "execution_count": 22,
   "metadata": {},
   "outputs": [
    {
     "data": {
      "image/png": "[encoded data removed]",
      "text/plain": [
       "<Figure size 360x360 with 1 Axes>"
      ]
     },
     "metadata": {
      "needs_background": "light"
     },
     "output_type": "display_data"
    },
    {
     "data": {
      "image/png": "[encoded data removed]",
      "text/plain": [
       "<Figure size 720x360 with 4 Axes>"
      ]
     },
     "metadata": {
      "needs_background": "light"
     },
     "output_type": "display_data"
    },
    {
     "name": "stdout",
     "output_type": "stream",
     "text": [
      "Train Precision 0.397\n",
      "Train Recall    0.088\n",
      "\n",
      "Test Precision  0.200\n",
      "Test Recall     0.039\n"
     ]
    }
   ],
   "source": [
    "Model_Eval(grid_gb_clf,X_train,X_test,y_train,y_test)"
   ]
  },
  {
   "cell_type": "code",
   "execution_count": 23,
   "metadata": {},
   "outputs": [
    {
     "data": {
      "text/html": [
       "<div>\n",
       "<style scoped>\n",
       "    .dataframe tbody tr th:only-of-type {\n",
       "        vertical-align: middle;\n",
       "    }\n",
       "\n",
       "    .dataframe tbody tr th {\n",
       "        vertical-align: top;\n",
       "    }\n",
       "\n",
       "    .dataframe thead th {\n",
       "        text-align: right;\n",
       "    }\n",
       "</style>\n",
       "<table border=\"1\" class=\"dataframe\">\n",
       "  <thead>\n",
       "    <tr style=\"text-align: right;\">\n",
       "      <th></th>\n",
       "      <th>Model</th>\n",
       "      <th>Train_AUC</th>\n",
       "      <th>Test_AUC</th>\n",
       "      <th>Train_prec</th>\n",
       "      <th>Train_recal</th>\n",
       "      <th>Test_prec</th>\n",
       "      <th>Test_recal</th>\n",
       "    </tr>\n",
       "  </thead>\n",
       "  <tbody>\n",
       "    <tr>\n",
       "      <th>0</th>\n",
       "      <td>RandomForest default</td>\n",
       "      <td>0.8850976520524394</td>\n",
       "      <td>0.8149082322636041</td>\n",
       "      <td>0.5822784810126582</td>\n",
       "      <td>0.14935064935064934</td>\n",
       "      <td>0.4</td>\n",
       "      <td>0.12987012987012986</td>\n",
       "    </tr>\n",
       "    <tr>\n",
       "      <th>1</th>\n",
       "      <td>RandomForest tuned</td>\n",
       "      <td>0.8806276096834608</td>\n",
       "      <td>0.8235176865637314</td>\n",
       "      <td>0.2445054945054945</td>\n",
       "      <td>0.8668831168831169</td>\n",
       "      <td>0.21554770318021202</td>\n",
       "      <td>0.7922077922077922</td>\n",
       "    </tr>\n",
       "    <tr>\n",
       "      <th>2</th>\n",
       "      <td>Gradient Boost default</td>\n",
       "      <td>0.8790891437168032</td>\n",
       "      <td>0.8300801913552799</td>\n",
       "      <td>0.6304347826086957</td>\n",
       "      <td>0.09415584415584416</td>\n",
       "      <td>0.5</td>\n",
       "      <td>0.11688311688311688</td>\n",
       "    </tr>\n",
       "    <tr>\n",
       "      <th>3</th>\n",
       "      <td>Gradient Boost tuned</td>\n",
       "      <td>0.8570267646065519</td>\n",
       "      <td>0.7990769561017494</td>\n",
       "      <td>0.39705882352941174</td>\n",
       "      <td>0.08766233766233766</td>\n",
       "      <td>0.2</td>\n",
       "      <td>0.03896103896103896</td>\n",
       "    </tr>\n",
       "  </tbody>\n",
       "</table>\n",
       "</div>"
      ],
      "text/plain": [
       "                    Model           Train_AUC            Test_AUC  \\\n",
       "0    RandomForest default  0.8850976520524394  0.8149082322636041   \n",
       "1      RandomForest tuned  0.8806276096834608  0.8235176865637314   \n",
       "2  Gradient Boost default  0.8790891437168032  0.8300801913552799   \n",
       "3    Gradient Boost tuned  0.8570267646065519  0.7990769561017494   \n",
       "\n",
       "            Train_prec          Train_recal            Test_prec  \\\n",
       "0   0.5822784810126582  0.14935064935064934                  0.4   \n",
       "1   0.2445054945054945   0.8668831168831169  0.21554770318021202   \n",
       "2   0.6304347826086957  0.09415584415584416                  0.5   \n",
       "3  0.39705882352941174  0.08766233766233766                  0.2   \n",
       "\n",
       "            Test_recal  \n",
       "0  0.12987012987012986  \n",
       "1   0.7922077922077922  \n",
       "2  0.11688311688311688  \n",
       "3  0.03896103896103896  "
      ]
     },
     "execution_count": 23,
     "metadata": {},
     "output_type": "execute_result"
    }
   ],
   "source": [
    "scores_df = agg_score_df(scores_df,grid_gb_clf,'Gradient Boost tuned',X_train,X_test,y_train,y_test)\n",
    "scores_df.tail()"
   ]
  },
  {
   "cell_type": "markdown",
   "metadata": {},
   "source": [
    "The AUC's are now both lower than the default model??.  The tuned model also has lower precision and recall than the default??? Why tune?\n",
    "\n",
    "\n",
    "The tuned Gradient Boosting model scores lower than the tuned Random Forest model.  \n"
   ]
  },
  {
   "cell_type": "markdown",
   "metadata": {},
   "source": [
    "Now I will prefrom the same modeling task but using the PCA transformed features. "
   ]
  },
  {
   "cell_type": "raw",
   "metadata": {},
   "source": [
    "### Gradient boosting model using PCA transformed features\n",
    "params = {'max_depth':[2,3,5],\\\n",
    "         'learning_rate':[0.1,0.5,0.8,1],\\\n",
    "         'n_estimators':[20,40,80],\\\n",
    "          'max_features':[.5,.8,1],\\\n",
    "         'subsample':[.5,.8,1]}\n",
    "\n",
    "\n",
    "gb_clf = GradientBoostingClassifier(random_state=random_seed)\n",
    "grid_gb_clf = GridSearchCV(gb_clf,param_grid=params,cv=5,n_jobs=-1,\\\n",
    "                           scoring=make_scorer(roc_auc_score))\n",
    "grid_gb_clf.fit(X_train_pca95,y_train)\n",
    "print('Best Params: ',grid_gb_clf.best_params_)\n",
    "print('Best Score: ',grid_gb_clf.best_score_)\n"
   ]
  },
  {
   "cell_type": "raw",
   "metadata": {},
   "source": [
    "Model_Eval(grid_gb_clf,X_train_pca95,X_test_pca95,y_train,y_test)"
   ]
  },
  {
   "cell_type": "raw",
   "metadata": {},
   "source": [
    "scores_df = agg_score_df(scores_df,grid_gb_clf,'Gradient Boost PCA',X_train_pca95,X_test_pca95,y_train,y_test)\n",
    "scores_df.tail()"
   ]
  },
  {
   "cell_type": "markdown",
   "metadata": {},
   "source": [
    "Using the PCA transformed dataset produced an even more biased and overfit model."
   ]
  },
  {
   "cell_type": "markdown",
   "metadata": {},
   "source": [
    "# Ask Rahul about tuning the GB model"
   ]
  },
  {
   "cell_type": "markdown",
   "metadata": {},
   "source": [
    "## XG Boost"
   ]
  },
  {
   "cell_type": "markdown",
   "metadata": {},
   "source": [
    "Now I will try an XG Boost model.  "
   ]
  },
  {
   "cell_type": "code",
   "execution_count": 24,
   "metadata": {},
   "outputs": [],
   "source": [
    "import xgboost"
   ]
  },
  {
   "cell_type": "code",
   "execution_count": 25,
   "metadata": {},
   "outputs": [
    {
     "name": "stdout",
     "output_type": "stream",
     "text": [
      "Train AUC:  0.8857098000000001\n",
      "Test AUC:  0.8298304\n"
     ]
    }
   ],
   "source": [
    "### try XG Boost using default parameters\n",
    "\n",
    "### Transform to dmatrix (I forget why...)\n",
    "data_dmatrix = xgboost.DMatrix(data=X_train,label=y_train)\n",
    "\n",
    "### Set basic parameters, No tuning yet!!\n",
    "params = {'objective':'binary:logistic','eval_metric':'auc'}\n",
    "\n",
    "\n",
    "\n",
    "cv_result = xgboost.cv(dtrain=data_dmatrix, params=params,\\\n",
    "                       nfold=5,as_pandas=True)\n",
    "\n",
    "print('Train AUC: ',cv_result['train-auc-mean'].iloc[-1])\n",
    "print('Test AUC: ',cv_result['test-auc-mean'].iloc[-1])\n",
    "\n",
    "\n",
    "#print('Best Params: ',grid_xgb.best_params_)\n"
   ]
  },
  {
   "cell_type": "code",
   "execution_count": 26,
   "metadata": {},
   "outputs": [
    {
     "name": "stderr",
     "output_type": "stream",
     "text": [
      "C:\\Users\\blain\\Anaconda3\\lib\\site-packages\\xgboost\\sklearn.py:888: UserWarning: The use of label encoder in XGBClassifier is deprecated and will be removed in a future release. To remove this warning, do the following: 1) Pass option use_label_encoder=False when constructing XGBClassifier object; and 2) Encode your labels (y) as integers starting with 0, i.e. 0, 1, 2, ..., [num_class - 1].\n",
      "  warnings.warn(label_encoder_deprecation_msg, UserWarning)\n"
     ]
    },
    {
     "name": "stdout",
     "output_type": "stream",
     "text": [
      "Train AUC:  0.885339431549538\n",
      "Test AUC:  0.8292982106441373\n"
     ]
    }
   ],
   "source": [
    "params = {'objective':['binary:logistic'],'eval_metric':['auc']}\n",
    "xgb = xgboost.XGBClassifier()\n",
    "grid_xgb = GridSearchCV(xgb,param_grid=params,cv=5)\n",
    "grid_xgb.fit(X_train,y_train)\n",
    "\n",
    "print('Train AUC: ',roc_auc_score(y_train,grid_xgb.predict_proba(X_train)[:,1]))\n",
    "print('Test AUC: ',roc_auc_score(y_test,grid_xgb.predict_proba(X_test)[:,1]))\n"
   ]
  },
  {
   "cell_type": "code",
   "execution_count": 27,
   "metadata": {},
   "outputs": [
    {
     "data": {
      "image/png": "[encoded data removed]",
      "text/plain": [
       "<Figure size 360x360 with 1 Axes>"
      ]
     },
     "metadata": {
      "needs_background": "light"
     },
     "output_type": "display_data"
    },
    {
     "data": {
      "image/png": "[encoded data removed]",
      "text/plain": [
       "<Figure size 720x360 with 4 Axes>"
      ]
     },
     "metadata": {
      "needs_background": "light"
     },
     "output_type": "display_data"
    },
    {
     "name": "stdout",
     "output_type": "stream",
     "text": [
      "Train Precision 0.589\n",
      "Train Recall    0.140\n",
      "\n",
      "Test Precision  0.478\n",
      "Test Recall     0.143\n"
     ]
    }
   ],
   "source": [
    "Model_Eval(grid_xgb,X_train,X_test,y_train,y_test)"
   ]
  },
  {
   "cell_type": "code",
   "execution_count": 28,
   "metadata": {},
   "outputs": [
    {
     "data": {
      "text/html": [
       "<div>\n",
       "<style scoped>\n",
       "    .dataframe tbody tr th:only-of-type {\n",
       "        vertical-align: middle;\n",
       "    }\n",
       "\n",
       "    .dataframe tbody tr th {\n",
       "        vertical-align: top;\n",
       "    }\n",
       "\n",
       "    .dataframe thead th {\n",
       "        text-align: right;\n",
       "    }\n",
       "</style>\n",
       "<table border=\"1\" class=\"dataframe\">\n",
       "  <thead>\n",
       "    <tr style=\"text-align: right;\">\n",
       "      <th></th>\n",
       "      <th>Model</th>\n",
       "      <th>Train_AUC</th>\n",
       "      <th>Test_AUC</th>\n",
       "      <th>Train_prec</th>\n",
       "      <th>Train_recal</th>\n",
       "      <th>Test_prec</th>\n",
       "      <th>Test_recal</th>\n",
       "    </tr>\n",
       "  </thead>\n",
       "  <tbody>\n",
       "    <tr>\n",
       "      <th>0</th>\n",
       "      <td>RandomForest default</td>\n",
       "      <td>0.8850976520524394</td>\n",
       "      <td>0.8149082322636041</td>\n",
       "      <td>0.5822784810126582</td>\n",
       "      <td>0.14935064935064934</td>\n",
       "      <td>0.4</td>\n",
       "      <td>0.12987012987012986</td>\n",
       "    </tr>\n",
       "    <tr>\n",
       "      <th>1</th>\n",
       "      <td>RandomForest tuned</td>\n",
       "      <td>0.8806276096834608</td>\n",
       "      <td>0.8235176865637314</td>\n",
       "      <td>0.2445054945054945</td>\n",
       "      <td>0.8668831168831169</td>\n",
       "      <td>0.21554770318021202</td>\n",
       "      <td>0.7922077922077922</td>\n",
       "    </tr>\n",
       "    <tr>\n",
       "      <th>2</th>\n",
       "      <td>Gradient Boost default</td>\n",
       "      <td>0.8790891437168032</td>\n",
       "      <td>0.8300801913552799</td>\n",
       "      <td>0.6304347826086957</td>\n",
       "      <td>0.09415584415584416</td>\n",
       "      <td>0.5</td>\n",
       "      <td>0.11688311688311688</td>\n",
       "    </tr>\n",
       "    <tr>\n",
       "      <th>3</th>\n",
       "      <td>Gradient Boost tuned</td>\n",
       "      <td>0.8570267646065519</td>\n",
       "      <td>0.7990769561017494</td>\n",
       "      <td>0.39705882352941174</td>\n",
       "      <td>0.08766233766233766</td>\n",
       "      <td>0.2</td>\n",
       "      <td>0.03896103896103896</td>\n",
       "    </tr>\n",
       "    <tr>\n",
       "      <th>4</th>\n",
       "      <td>XG Boost default</td>\n",
       "      <td>0.885339431549538</td>\n",
       "      <td>0.8292982106441373</td>\n",
       "      <td>0.589041095890411</td>\n",
       "      <td>0.1396103896103896</td>\n",
       "      <td>0.4782608695652174</td>\n",
       "      <td>0.14285714285714285</td>\n",
       "    </tr>\n",
       "  </tbody>\n",
       "</table>\n",
       "</div>"
      ],
      "text/plain": [
       "                    Model           Train_AUC            Test_AUC  \\\n",
       "0    RandomForest default  0.8850976520524394  0.8149082322636041   \n",
       "1      RandomForest tuned  0.8806276096834608  0.8235176865637314   \n",
       "2  Gradient Boost default  0.8790891437168032  0.8300801913552799   \n",
       "3    Gradient Boost tuned  0.8570267646065519  0.7990769561017494   \n",
       "4        XG Boost default   0.885339431549538  0.8292982106441373   \n",
       "\n",
       "            Train_prec          Train_recal            Test_prec  \\\n",
       "0   0.5822784810126582  0.14935064935064934                  0.4   \n",
       "1   0.2445054945054945   0.8668831168831169  0.21554770318021202   \n",
       "2   0.6304347826086957  0.09415584415584416                  0.5   \n",
       "3  0.39705882352941174  0.08766233766233766                  0.2   \n",
       "4    0.589041095890411   0.1396103896103896   0.4782608695652174   \n",
       "\n",
       "            Test_recal  \n",
       "0  0.12987012987012986  \n",
       "1   0.7922077922077922  \n",
       "2  0.11688311688311688  \n",
       "3  0.03896103896103896  \n",
       "4  0.14285714285714285  "
      ]
     },
     "execution_count": 28,
     "metadata": {},
     "output_type": "execute_result"
    }
   ],
   "source": [
    "scores_df = agg_score_df(scores_df,grid_xgb,'XG Boost default',X_train,X_test,y_train,y_test)\n",
    "scores_df.tail()"
   ]
  },
  {
   "cell_type": "markdown",
   "metadata": {},
   "source": [
    "The default XGB model looks to has a pretty low testing recall score.  I will now attempt to tune the parameters.  \n"
   ]
  },
  {
   "cell_type": "code",
   "execution_count": 29,
   "metadata": {},
   "outputs": [
    {
     "name": "stdout",
     "output_type": "stream",
     "text": [
      "objective\n",
      "use_label_encoder\n",
      "base_score\n",
      "booster\n",
      "colsample_bylevel\n",
      "colsample_bynode\n",
      "colsample_bytree\n",
      "gamma\n",
      "gpu_id\n",
      "importance_type\n",
      "interaction_constraints\n",
      "learning_rate\n",
      "max_delta_step\n",
      "max_depth\n",
      "min_child_weight\n",
      "missing\n",
      "monotone_constraints\n",
      "n_estimators\n",
      "n_jobs\n",
      "num_parallel_tree\n",
      "random_state\n",
      "reg_alpha\n",
      "reg_lambda\n",
      "scale_pos_weight\n",
      "subsample\n",
      "tree_method\n",
      "validate_parameters\n",
      "verbosity\n"
     ]
    }
   ],
   "source": [
    "for i in xgboost.XGBClassifier().get_params().keys(): print(i)"
   ]
  },
  {
   "cell_type": "code",
   "execution_count": 30,
   "metadata": {},
   "outputs": [
    {
     "name": "stdout",
     "output_type": "stream",
     "text": [
      "Fitting 5 folds for each of 60 candidates, totalling 300 fits\n"
     ]
    },
    {
     "name": "stderr",
     "output_type": "stream",
     "text": [
      "[Parallel(n_jobs=-1)]: Using backend LokyBackend with 8 concurrent workers.\n",
      "[Parallel(n_jobs=-1)]: Done  34 tasks      | elapsed:    3.1s\n",
      "[Parallel(n_jobs=-1)]: Done 184 tasks      | elapsed:   18.1s\n",
      "[Parallel(n_jobs=-1)]: Done 300 out of 300 | elapsed:   29.8s finished\n"
     ]
    },
    {
     "name": "stdout",
     "output_type": "stream",
     "text": [
      "Best Params:  {'subsample': 0.4, 'objective': 'binary:logistic', 'max_depth': 10, 'learning_rate': 0.51, 'lambda': 3.1, 'gamma': 3, 'eval_metric': 'auc', 'colsample_bytree': 0.4, 'alpha': 1}\n",
      "Best Score:  0.5311419411588039\n"
     ]
    }
   ],
   "source": [
    "### Randomized search to prevent overfitting XG Boost\n",
    "\n",
    "from sklearn.model_selection import RandomizedSearchCV\n",
    "\n",
    "\n",
    "### Transform to dmatrix (I forget why...)\n",
    "data_dmatrix = xgboost.DMatrix(data=X_train,label=y_train)\n",
    "\n",
    "### Set parameter ranges, here there are alot so I will use randomized search\n",
    "params = {'objective':['binary:logistic'],'eval_metric':['auc'],\\\n",
    "         'subsample':np.arange(.3,.9,.1),\\\n",
    "         'colsample_bytree':np.arange(.3,.9,.1),\\\n",
    "         'gamma':np.arange(1,11,1), 'alpha':np.arange(1,100,10),\\\n",
    "         'lambda':np.arange(.1,10,1),\\\n",
    "         'learning_rate':np.arange(.01,.9,.05),\\\n",
    "         'max_depth':np.arange(3,15,1)}\n",
    "\n",
    "xgb = xgboost.XGBClassifier(use_label_encoder=False)\n",
    "\n",
    "rand_xgb = RandomizedSearchCV(estimator = xgb,param_distributions=params,cv=5,\\\n",
    "                             n_iter=60,n_jobs=-1,verbose=1,\\\n",
    "                              scoring = make_scorer(roc_auc_score))\n",
    "\n",
    "rand_xgb.fit(X_train,y_train)\n",
    "\n",
    "\n",
    "print('Best Params: ',rand_xgb.best_params_)\n",
    "print('Best Score: ',rand_xgb.best_score_)"
   ]
  },
  {
   "cell_type": "code",
   "execution_count": 31,
   "metadata": {},
   "outputs": [
    {
     "data": {
      "image/png": "[encoded data removed]",
      "text/plain": [
       "<Figure size 360x360 with 1 Axes>"
      ]
     },
     "metadata": {
      "needs_background": "light"
     },
     "output_type": "display_data"
    },
    {
     "data": {
      "image/png": "[encoded data removed]",
      "text/plain": [
       "<Figure size 720x360 with 4 Axes>"
      ]
     },
     "metadata": {
      "needs_background": "light"
     },
     "output_type": "display_data"
    },
    {
     "name": "stdout",
     "output_type": "stream",
     "text": [
      "Train Precision 0.557\n",
      "Train Recall    0.127\n",
      "\n",
      "Test Precision  0.412\n",
      "Test Recall     0.091\n"
     ]
    }
   ],
   "source": [
    "Model_Eval(rand_xgb,X_train,X_test,y_train,y_test)"
   ]
  },
  {
   "cell_type": "code",
   "execution_count": 32,
   "metadata": {},
   "outputs": [
    {
     "data": {
      "text/html": [
       "<div>\n",
       "<style scoped>\n",
       "    .dataframe tbody tr th:only-of-type {\n",
       "        vertical-align: middle;\n",
       "    }\n",
       "\n",
       "    .dataframe tbody tr th {\n",
       "        vertical-align: top;\n",
       "    }\n",
       "\n",
       "    .dataframe thead th {\n",
       "        text-align: right;\n",
       "    }\n",
       "</style>\n",
       "<table border=\"1\" class=\"dataframe\">\n",
       "  <thead>\n",
       "    <tr style=\"text-align: right;\">\n",
       "      <th></th>\n",
       "      <th>Model</th>\n",
       "      <th>Train_AUC</th>\n",
       "      <th>Test_AUC</th>\n",
       "      <th>Train_prec</th>\n",
       "      <th>Train_recal</th>\n",
       "      <th>Test_prec</th>\n",
       "      <th>Test_recal</th>\n",
       "    </tr>\n",
       "  </thead>\n",
       "  <tbody>\n",
       "    <tr>\n",
       "      <th>1</th>\n",
       "      <td>RandomForest tuned</td>\n",
       "      <td>0.8806276096834608</td>\n",
       "      <td>0.8235176865637314</td>\n",
       "      <td>0.2445054945054945</td>\n",
       "      <td>0.8668831168831169</td>\n",
       "      <td>0.21554770318021202</td>\n",
       "      <td>0.7922077922077922</td>\n",
       "    </tr>\n",
       "    <tr>\n",
       "      <th>2</th>\n",
       "      <td>Gradient Boost default</td>\n",
       "      <td>0.8790891437168032</td>\n",
       "      <td>0.8300801913552799</td>\n",
       "      <td>0.6304347826086957</td>\n",
       "      <td>0.09415584415584416</td>\n",
       "      <td>0.5</td>\n",
       "      <td>0.11688311688311688</td>\n",
       "    </tr>\n",
       "    <tr>\n",
       "      <th>3</th>\n",
       "      <td>Gradient Boost tuned</td>\n",
       "      <td>0.8570267646065519</td>\n",
       "      <td>0.7990769561017494</td>\n",
       "      <td>0.39705882352941174</td>\n",
       "      <td>0.08766233766233766</td>\n",
       "      <td>0.2</td>\n",
       "      <td>0.03896103896103896</td>\n",
       "    </tr>\n",
       "    <tr>\n",
       "      <th>4</th>\n",
       "      <td>XG Boost default</td>\n",
       "      <td>0.885339431549538</td>\n",
       "      <td>0.8292982106441373</td>\n",
       "      <td>0.589041095890411</td>\n",
       "      <td>0.1396103896103896</td>\n",
       "      <td>0.4782608695652174</td>\n",
       "      <td>0.14285714285714285</td>\n",
       "    </tr>\n",
       "    <tr>\n",
       "      <th>5</th>\n",
       "      <td>XG Boost tuned</td>\n",
       "      <td>0.8677067982254152</td>\n",
       "      <td>0.8209110841932565</td>\n",
       "      <td>0.5571428571428572</td>\n",
       "      <td>0.1266233766233766</td>\n",
       "      <td>0.4117647058823529</td>\n",
       "      <td>0.09090909090909091</td>\n",
       "    </tr>\n",
       "  </tbody>\n",
       "</table>\n",
       "</div>"
      ],
      "text/plain": [
       "                    Model           Train_AUC            Test_AUC  \\\n",
       "1      RandomForest tuned  0.8806276096834608  0.8235176865637314   \n",
       "2  Gradient Boost default  0.8790891437168032  0.8300801913552799   \n",
       "3    Gradient Boost tuned  0.8570267646065519  0.7990769561017494   \n",
       "4        XG Boost default   0.885339431549538  0.8292982106441373   \n",
       "5          XG Boost tuned  0.8677067982254152  0.8209110841932565   \n",
       "\n",
       "            Train_prec          Train_recal            Test_prec  \\\n",
       "1   0.2445054945054945   0.8668831168831169  0.21554770318021202   \n",
       "2   0.6304347826086957  0.09415584415584416                  0.5   \n",
       "3  0.39705882352941174  0.08766233766233766                  0.2   \n",
       "4    0.589041095890411   0.1396103896103896   0.4782608695652174   \n",
       "5   0.5571428571428572   0.1266233766233766   0.4117647058823529   \n",
       "\n",
       "            Test_recal  \n",
       "1   0.7922077922077922  \n",
       "2  0.11688311688311688  \n",
       "3  0.03896103896103896  \n",
       "4  0.14285714285714285  \n",
       "5  0.09090909090909091  "
      ]
     },
     "execution_count": 32,
     "metadata": {},
     "output_type": "execute_result"
    }
   ],
   "source": [
    "scores_df = agg_score_df(scores_df,rand_xgb,'XG Boost tuned',X_train,X_test,y_train,y_test)\n",
    "scores_df.tail()"
   ]
  },
  {
   "cell_type": "markdown",
   "metadata": {},
   "source": [
    "The AUC's are lower and the test precision and recall are lower as well.  What is going on?\n",
    "___\n",
    "Now I will try the XGBoost model with the PCA transformed features. Maybe reducing the features will help overfitting."
   ]
  },
  {
   "cell_type": "raw",
   "metadata": {},
   "source": [
    "### Grid search to prevent overfitting XG Boost\n",
    "\n",
    "from sklearn.model_selection import RandomizedSearchCV\n",
    "\n",
    "\n",
    "### Transform to dmatrix (I forget why...)\n",
    "data_dmatrix = xgboost.DMatrix(data=X_train,label=y_train)\n",
    "\n",
    "### Set parameter ranges, here there are alot so I will use randomized search\n",
    "params = {'objective':['binary:logistic'],'eval_metric':['auc'],\\\n",
    "         'subsample':np.arange(.3,.9,.1),\\\n",
    "         'colsample_bytree':np.arange(.3,.9,.1),\\\n",
    "         'gamma':np.arange(1,11,1), 'alpha':np.arange(1,100,10),\\\n",
    "         'lambda':np.arange(.1,10,1),\\\n",
    "         'learning_rate':np.arange(.01,.9,.05),\\\n",
    "         'max_depth':np.arange(3,15,1)}\n",
    "\n",
    "xgb = xgboost.XGBClassifier(use_label_encoder=False)\n",
    "\n",
    "rand_xgb = RandomizedSearchCV(estimator = xgb,param_distributions=params,cv=5,\\\n",
    "                             n_iter=60,n_jobs=-1,verbose=1,\\\n",
    "                              scoring = make_scorer(roc_auc_score))\n",
    "\n",
    "rand_xgb.fit(X_train_pca95,y_train)\n",
    "\n",
    "\n",
    "print('Best Params: ',rand_xgb.best_params_)\n",
    "print('Best Score: ',rand_xgb.best_score_)"
   ]
  },
  {
   "cell_type": "raw",
   "metadata": {},
   "source": [
    "Model_Eval(rand_xgb,X_train_pca95,X_test_pca95,y_train,y_test)"
   ]
  },
  {
   "cell_type": "raw",
   "metadata": {},
   "source": [
    "scores_df = agg_score_df(scores_df,rand_xgb,'XG Boost PCA tuned',X_train_pca95,X_test_pca95,y_train,y_test)\n",
    "scores_df.tail()"
   ]
  },
  {
   "cell_type": "markdown",
   "metadata": {},
   "source": [
    "This model looks pretty good.  It appears to not be overfit as the training and testing precision and recall are very similar.  The PCA trained XG Boost model has a higher test precision and recall than the previous 2 models.  However, the testing AUC curve is one of the lowest I have seen so far.  "
   ]
  },
  {
   "cell_type": "markdown",
   "metadata": {},
   "source": [
    "# Support Vector Machine"
   ]
  },
  {
   "cell_type": "code",
   "execution_count": 33,
   "metadata": {},
   "outputs": [],
   "source": [
    "from sklearn.svm import SVC"
   ]
  },
  {
   "cell_type": "code",
   "execution_count": 34,
   "metadata": {},
   "outputs": [
    {
     "name": "stdout",
     "output_type": "stream",
     "text": [
      "Best Params:  {'C': 1, 'class_weight': 'balanced'}\n",
      "Best Score;  0.7529218083689805\n"
     ]
    }
   ],
   "source": [
    "### try default Support vector classifier\n",
    "\n",
    "params={'C':[1],'class_weight':['balanced']}\n",
    "### without balanced class weights the model only predicts negatives\n",
    "\n",
    "svc = SVC(random_state=random_seed,probability=True)\n",
    "\n",
    "grid_svc = GridSearchCV(svc,param_grid=params,cv=5,n_jobs=-1,\\\n",
    "                       scoring = make_scorer(roc_auc_score))\n",
    "\n",
    "grid_svc.fit(X_train,y_train)\n",
    "\n",
    "print('Best Params: ',grid_svc.best_params_)\n",
    "print('Best Score; ',grid_svc.best_score_)"
   ]
  },
  {
   "cell_type": "code",
   "execution_count": 35,
   "metadata": {
    "scrolled": false
   },
   "outputs": [
    {
     "data": {
      "image/png": "[encoded data removed]",
      "text/plain": [
       "<Figure size 360x360 with 1 Axes>"
      ]
     },
     "metadata": {
      "needs_background": "light"
     },
     "output_type": "display_data"
    },
    {
     "data": {
      "image/png": "[encoded data removed]",
      "text/plain": [
       "<Figure size 720x360 with 4 Axes>"
      ]
     },
     "metadata": {
      "needs_background": "light"
     },
     "output_type": "display_data"
    },
    {
     "name": "stdout",
     "output_type": "stream",
     "text": [
      "Train Precision 0.215\n",
      "Train Recall    0.877\n",
      "\n",
      "Test Precision  0.197\n",
      "Test Recall     0.805\n"
     ]
    }
   ],
   "source": [
    "Model_Eval(grid_svc,X_train,X_test,y_train,y_test)"
   ]
  },
  {
   "cell_type": "code",
   "execution_count": 36,
   "metadata": {},
   "outputs": [
    {
     "data": {
      "text/html": [
       "<div>\n",
       "<style scoped>\n",
       "    .dataframe tbody tr th:only-of-type {\n",
       "        vertical-align: middle;\n",
       "    }\n",
       "\n",
       "    .dataframe tbody tr th {\n",
       "        vertical-align: top;\n",
       "    }\n",
       "\n",
       "    .dataframe thead th {\n",
       "        text-align: right;\n",
       "    }\n",
       "</style>\n",
       "<table border=\"1\" class=\"dataframe\">\n",
       "  <thead>\n",
       "    <tr style=\"text-align: right;\">\n",
       "      <th></th>\n",
       "      <th>Model</th>\n",
       "      <th>Train_AUC</th>\n",
       "      <th>Test_AUC</th>\n",
       "      <th>Train_prec</th>\n",
       "      <th>Train_recal</th>\n",
       "      <th>Test_prec</th>\n",
       "      <th>Test_recal</th>\n",
       "    </tr>\n",
       "  </thead>\n",
       "  <tbody>\n",
       "    <tr>\n",
       "      <th>2</th>\n",
       "      <td>Gradient Boost default</td>\n",
       "      <td>0.8790891437168032</td>\n",
       "      <td>0.8300801913552799</td>\n",
       "      <td>0.6304347826086957</td>\n",
       "      <td>0.09415584415584416</td>\n",
       "      <td>0.5</td>\n",
       "      <td>0.11688311688311688</td>\n",
       "    </tr>\n",
       "    <tr>\n",
       "      <th>3</th>\n",
       "      <td>Gradient Boost tuned</td>\n",
       "      <td>0.8570267646065519</td>\n",
       "      <td>0.7990769561017494</td>\n",
       "      <td>0.39705882352941174</td>\n",
       "      <td>0.08766233766233766</td>\n",
       "      <td>0.2</td>\n",
       "      <td>0.03896103896103896</td>\n",
       "    </tr>\n",
       "    <tr>\n",
       "      <th>4</th>\n",
       "      <td>XG Boost default</td>\n",
       "      <td>0.885339431549538</td>\n",
       "      <td>0.8292982106441373</td>\n",
       "      <td>0.589041095890411</td>\n",
       "      <td>0.1396103896103896</td>\n",
       "      <td>0.4782608695652174</td>\n",
       "      <td>0.14285714285714285</td>\n",
       "    </tr>\n",
       "    <tr>\n",
       "      <th>5</th>\n",
       "      <td>XG Boost tuned</td>\n",
       "      <td>0.8677067982254152</td>\n",
       "      <td>0.8209110841932565</td>\n",
       "      <td>0.5571428571428572</td>\n",
       "      <td>0.1266233766233766</td>\n",
       "      <td>0.4117647058823529</td>\n",
       "      <td>0.09090909090909091</td>\n",
       "    </tr>\n",
       "    <tr>\n",
       "      <th>6</th>\n",
       "      <td>SVC default</td>\n",
       "      <td>0.8305907670934267</td>\n",
       "      <td>0.796485686686395</td>\n",
       "      <td>0.21479713603818615</td>\n",
       "      <td>0.8766233766233766</td>\n",
       "      <td>0.19682539682539682</td>\n",
       "      <td>0.8051948051948052</td>\n",
       "    </tr>\n",
       "  </tbody>\n",
       "</table>\n",
       "</div>"
      ],
      "text/plain": [
       "                    Model           Train_AUC            Test_AUC  \\\n",
       "2  Gradient Boost default  0.8790891437168032  0.8300801913552799   \n",
       "3    Gradient Boost tuned  0.8570267646065519  0.7990769561017494   \n",
       "4        XG Boost default   0.885339431549538  0.8292982106441373   \n",
       "5          XG Boost tuned  0.8677067982254152  0.8209110841932565   \n",
       "6             SVC default  0.8305907670934267   0.796485686686395   \n",
       "\n",
       "            Train_prec          Train_recal            Test_prec  \\\n",
       "2   0.6304347826086957  0.09415584415584416                  0.5   \n",
       "3  0.39705882352941174  0.08766233766233766                  0.2   \n",
       "4    0.589041095890411   0.1396103896103896   0.4782608695652174   \n",
       "5   0.5571428571428572   0.1266233766233766   0.4117647058823529   \n",
       "6  0.21479713603818615   0.8766233766233766  0.19682539682539682   \n",
       "\n",
       "            Test_recal  \n",
       "2  0.11688311688311688  \n",
       "3  0.03896103896103896  \n",
       "4  0.14285714285714285  \n",
       "5  0.09090909090909091  \n",
       "6   0.8051948051948052  "
      ]
     },
     "execution_count": 36,
     "metadata": {},
     "output_type": "execute_result"
    }
   ],
   "source": [
    "scores_df = agg_score_df(scores_df,grid_svc,'SVC default',X_train,X_test,y_train,y_test)\n",
    "scores_df.tail()"
   ]
  },
  {
   "cell_type": "markdown",
   "metadata": {},
   "source": [
    "Wow that looks pretty great.  The AUC values are above .8 with only a small difference between them.  The recall's are very high, and the model has low bias. Now I will try to improve the result with hyper-parameter tuning. "
   ]
  },
  {
   "cell_type": "code",
   "execution_count": 37,
   "metadata": {},
   "outputs": [
    {
     "name": "stdout",
     "output_type": "stream",
     "text": [
      "Best Params:  {'C': 2, 'class_weight': 'balanced', 'gamma': 'scale', 'kernel': 'rbf'}\n",
      "Best Score;  0.7606735393517606\n"
     ]
    }
   ],
   "source": [
    "### try tuning the SVC\n",
    "\n",
    "params={'C':[1,1.5,2,4], 'kernel':['rbf','linear'],\\\n",
    "        'gamma':['scale','auto'], 'class_weight':['balanced']}\n",
    "\n",
    "svc = SVC(random_state=random_seed,probability=True)\n",
    "\n",
    "grid_svc = GridSearchCV(svc,param_grid=params,cv=5,n_jobs=-1,\\\n",
    "                        scoring=make_scorer(roc_auc_score))\n",
    "\n",
    "grid_svc.fit(X_train,y_train)\n",
    "\n",
    "print('Best Params: ',grid_svc.best_params_)\n",
    "print('Best Score; ',grid_svc.best_score_)"
   ]
  },
  {
   "cell_type": "code",
   "execution_count": 38,
   "metadata": {
    "scrolled": false
   },
   "outputs": [
    {
     "data": {
      "image/png": "[encoded data removed]",
      "text/plain": [
       "<Figure size 360x360 with 1 Axes>"
      ]
     },
     "metadata": {
      "needs_background": "light"
     },
     "output_type": "display_data"
    },
    {
     "data": {
      "image/png": "[encoded data removed]",
      "text/plain": [
       "<Figure size 720x360 with 4 Axes>"
      ]
     },
     "metadata": {
      "needs_background": "light"
     },
     "output_type": "display_data"
    },
    {
     "name": "stdout",
     "output_type": "stream",
     "text": [
      "Train Precision 0.225\n",
      "Train Recall    0.864\n",
      "\n",
      "Test Precision  0.209\n",
      "Test Recall     0.805\n"
     ]
    }
   ],
   "source": [
    "Model_Eval(grid_svc,X_train,X_test,y_train,y_test)"
   ]
  },
  {
   "cell_type": "code",
   "execution_count": 39,
   "metadata": {},
   "outputs": [
    {
     "data": {
      "text/html": [
       "<div>\n",
       "<style scoped>\n",
       "    .dataframe tbody tr th:only-of-type {\n",
       "        vertical-align: middle;\n",
       "    }\n",
       "\n",
       "    .dataframe tbody tr th {\n",
       "        vertical-align: top;\n",
       "    }\n",
       "\n",
       "    .dataframe thead th {\n",
       "        text-align: right;\n",
       "    }\n",
       "</style>\n",
       "<table border=\"1\" class=\"dataframe\">\n",
       "  <thead>\n",
       "    <tr style=\"text-align: right;\">\n",
       "      <th></th>\n",
       "      <th>Model</th>\n",
       "      <th>Train_AUC</th>\n",
       "      <th>Test_AUC</th>\n",
       "      <th>Train_prec</th>\n",
       "      <th>Train_recal</th>\n",
       "      <th>Test_prec</th>\n",
       "      <th>Test_recal</th>\n",
       "    </tr>\n",
       "  </thead>\n",
       "  <tbody>\n",
       "    <tr>\n",
       "      <th>3</th>\n",
       "      <td>Gradient Boost tuned</td>\n",
       "      <td>0.8570267646065519</td>\n",
       "      <td>0.7990769561017494</td>\n",
       "      <td>0.39705882352941174</td>\n",
       "      <td>0.08766233766233766</td>\n",
       "      <td>0.2</td>\n",
       "      <td>0.03896103896103896</td>\n",
       "    </tr>\n",
       "    <tr>\n",
       "      <th>4</th>\n",
       "      <td>XG Boost default</td>\n",
       "      <td>0.885339431549538</td>\n",
       "      <td>0.8292982106441373</td>\n",
       "      <td>0.589041095890411</td>\n",
       "      <td>0.1396103896103896</td>\n",
       "      <td>0.4782608695652174</td>\n",
       "      <td>0.14285714285714285</td>\n",
       "    </tr>\n",
       "    <tr>\n",
       "      <th>5</th>\n",
       "      <td>XG Boost tuned</td>\n",
       "      <td>0.8677067982254152</td>\n",
       "      <td>0.8209110841932565</td>\n",
       "      <td>0.5571428571428572</td>\n",
       "      <td>0.1266233766233766</td>\n",
       "      <td>0.4117647058823529</td>\n",
       "      <td>0.09090909090909091</td>\n",
       "    </tr>\n",
       "    <tr>\n",
       "      <th>6</th>\n",
       "      <td>SVC default</td>\n",
       "      <td>0.8305907670934267</td>\n",
       "      <td>0.796485686686395</td>\n",
       "      <td>0.21479713603818615</td>\n",
       "      <td>0.8766233766233766</td>\n",
       "      <td>0.19682539682539682</td>\n",
       "      <td>0.8051948051948052</td>\n",
       "    </tr>\n",
       "    <tr>\n",
       "      <th>7</th>\n",
       "      <td>SVC tuned</td>\n",
       "      <td>0.8412760776457585</td>\n",
       "      <td>0.8065287722902835</td>\n",
       "      <td>0.22504230118443316</td>\n",
       "      <td>0.8636363636363636</td>\n",
       "      <td>0.20875420875420875</td>\n",
       "      <td>0.8051948051948052</td>\n",
       "    </tr>\n",
       "  </tbody>\n",
       "</table>\n",
       "</div>"
      ],
      "text/plain": [
       "                  Model           Train_AUC            Test_AUC  \\\n",
       "3  Gradient Boost tuned  0.8570267646065519  0.7990769561017494   \n",
       "4      XG Boost default   0.885339431549538  0.8292982106441373   \n",
       "5        XG Boost tuned  0.8677067982254152  0.8209110841932565   \n",
       "6           SVC default  0.8305907670934267   0.796485686686395   \n",
       "7             SVC tuned  0.8412760776457585  0.8065287722902835   \n",
       "\n",
       "            Train_prec          Train_recal            Test_prec  \\\n",
       "3  0.39705882352941174  0.08766233766233766                  0.2   \n",
       "4    0.589041095890411   0.1396103896103896   0.4782608695652174   \n",
       "5   0.5571428571428572   0.1266233766233766   0.4117647058823529   \n",
       "6  0.21479713603818615   0.8766233766233766  0.19682539682539682   \n",
       "7  0.22504230118443316   0.8636363636363636  0.20875420875420875   \n",
       "\n",
       "            Test_recal  \n",
       "3  0.03896103896103896  \n",
       "4  0.14285714285714285  \n",
       "5  0.09090909090909091  \n",
       "6   0.8051948051948052  \n",
       "7   0.8051948051948052  "
      ]
     },
     "execution_count": 39,
     "metadata": {},
     "output_type": "execute_result"
    }
   ],
   "source": [
    "scores_df = agg_score_df(scores_df,grid_svc,'SVC tuned',X_train,X_test,y_train,y_test)\n",
    "scores_df.tail()"
   ]
  },
  {
   "cell_type": "markdown",
   "metadata": {},
   "source": [
    "The model Roc plots are very similar to the default, but the grid search found `C`= 2 to produce a better result. The SVC model appears to generalize well to the testing data to the training data and the AUC is high with much higher recall."
   ]
  },
  {
   "cell_type": "markdown",
   "metadata": {},
   "source": [
    "  "
   ]
  },
  {
   "cell_type": "raw",
   "metadata": {},
   "source": [
    "### Try SVC using PCA features\n",
    "\n",
    "params={'C':[.5,1,1.5,2,4], 'kernel':['rbf','linear'],\\\n",
    "        'gamma':['scale','auto'], 'class_weight':['balanced']}\n",
    "\n",
    "svc = SVC(random_state=random_seed,probability=True)\n",
    "\n",
    "grid_svc = GridSearchCV(svc,param_grid=params,cv=5,n_jobs=-1,\\\n",
    "                        scoring=make_scorer(roc_auc_score))\n",
    "\n",
    "grid_svc.fit(X_train_pca95,y_train)\n",
    "\n",
    "print('Best Params: ',grid_svc.best_params_)\n",
    "print('Best Score; ',grid_svc.best_score_)"
   ]
  },
  {
   "cell_type": "raw",
   "metadata": {
    "scrolled": false
   },
   "source": [
    "Model_Eval(grid_svc,X_train_pca95,X_test_pca95,y_train,y_test)"
   ]
  },
  {
   "cell_type": "raw",
   "metadata": {},
   "source": [
    "scores_df = agg_score_df(scores_df,grid_svc,'SVC PCA',X_train_pca95,X_test_pca95,y_train,y_test)\n",
    "scores_df.tail()"
   ]
  },
  {
   "cell_type": "markdown",
   "metadata": {},
   "source": [
    "Performance of the PCA trained model is nearly identical to the previous model. "
   ]
  },
  {
   "cell_type": "markdown",
   "metadata": {},
   "source": [
    "## Logistic Regression"
   ]
  },
  {
   "cell_type": "markdown",
   "metadata": {},
   "source": [
    "Try tuning a logistic regression model again after some practice working with other models.  "
   ]
  },
  {
   "cell_type": "code",
   "execution_count": 40,
   "metadata": {},
   "outputs": [
    {
     "name": "stdout",
     "output_type": "stream",
     "text": [
      "Train AUC: 0.7965190468514937\n",
      "Test AUC: 0.7766448427605454\n"
     ]
    }
   ],
   "source": [
    "from sklearn.linear_model import LogisticRegression\n",
    "\n",
    "\n",
    "logr = LogisticRegression(random_state=random_seed,n_jobs=-1)\n",
    "\n",
    "params = {'C':[.01,.1,.5,1,1.5,5,10], 'class_weight':[None,'balanced'],\\\n",
    "         'penalty':['l1','l2'], 'tol':[1E-5,1E-4,1E-3],'max_iter':[200]}\n",
    "\n",
    "grid_logr = GridSearchCV(logr,param_grid=params,cv=5,n_jobs=-1,\\\n",
    "                         scoring=make_scorer(roc_auc_score))\n",
    "\n",
    "grid_logr.fit(X_train,y_train)\n",
    "\n",
    "print('Train AUC:',roc_auc_score(y_train,grid_logr.predict_proba(X_train)[:,1]))\n",
    "print('Test AUC:',roc_auc_score(y_test,grid_logr.predict_proba(X_test)[:,1]))\n"
   ]
  },
  {
   "cell_type": "code",
   "execution_count": 41,
   "metadata": {
    "scrolled": false
   },
   "outputs": [
    {
     "data": {
      "image/png": "[encoded data removed]",
      "text/plain": [
       "<Figure size 360x360 with 1 Axes>"
      ]
     },
     "metadata": {
      "needs_background": "light"
     },
     "output_type": "display_data"
    },
    {
     "data": {
      "image/png": "[encoded data removed]",
      "text/plain": [
       "<Figure size 720x360 with 4 Axes>"
      ]
     },
     "metadata": {
      "needs_background": "light"
     },
     "output_type": "display_data"
    },
    {
     "name": "stdout",
     "output_type": "stream",
     "text": [
      "Train Precision 0.191\n",
      "Train Recall    0.786\n",
      "\n",
      "Test Precision  0.186\n",
      "Test Recall     0.779\n"
     ]
    }
   ],
   "source": [
    "Model_Eval(grid_logr,X_train,X_test,y_train,y_test)"
   ]
  },
  {
   "cell_type": "markdown",
   "metadata": {},
   "source": [
    "The tuned Logistic Regression Model looks pretty OK.  The ROC curves are not very steep and the AUC is a little lower than some other models.    It is clearly not overfit to the training data and has pretty good recall."
   ]
  },
  {
   "cell_type": "code",
   "execution_count": 42,
   "metadata": {},
   "outputs": [
    {
     "data": {
      "text/html": [
       "<div>\n",
       "<style scoped>\n",
       "    .dataframe tbody tr th:only-of-type {\n",
       "        vertical-align: middle;\n",
       "    }\n",
       "\n",
       "    .dataframe tbody tr th {\n",
       "        vertical-align: top;\n",
       "    }\n",
       "\n",
       "    .dataframe thead th {\n",
       "        text-align: right;\n",
       "    }\n",
       "</style>\n",
       "<table border=\"1\" class=\"dataframe\">\n",
       "  <thead>\n",
       "    <tr style=\"text-align: right;\">\n",
       "      <th></th>\n",
       "      <th>Model</th>\n",
       "      <th>Train_AUC</th>\n",
       "      <th>Test_AUC</th>\n",
       "      <th>Train_prec</th>\n",
       "      <th>Train_recal</th>\n",
       "      <th>Test_prec</th>\n",
       "      <th>Test_recal</th>\n",
       "    </tr>\n",
       "  </thead>\n",
       "  <tbody>\n",
       "    <tr>\n",
       "      <th>4</th>\n",
       "      <td>XG Boost default</td>\n",
       "      <td>0.885339431549538</td>\n",
       "      <td>0.8292982106441373</td>\n",
       "      <td>0.589041095890411</td>\n",
       "      <td>0.1396103896103896</td>\n",
       "      <td>0.4782608695652174</td>\n",
       "      <td>0.14285714285714285</td>\n",
       "    </tr>\n",
       "    <tr>\n",
       "      <th>5</th>\n",
       "      <td>XG Boost tuned</td>\n",
       "      <td>0.8677067982254152</td>\n",
       "      <td>0.8209110841932565</td>\n",
       "      <td>0.5571428571428572</td>\n",
       "      <td>0.1266233766233766</td>\n",
       "      <td>0.4117647058823529</td>\n",
       "      <td>0.09090909090909091</td>\n",
       "    </tr>\n",
       "    <tr>\n",
       "      <th>6</th>\n",
       "      <td>SVC default</td>\n",
       "      <td>0.8305907670934267</td>\n",
       "      <td>0.796485686686395</td>\n",
       "      <td>0.21479713603818615</td>\n",
       "      <td>0.8766233766233766</td>\n",
       "      <td>0.19682539682539682</td>\n",
       "      <td>0.8051948051948052</td>\n",
       "    </tr>\n",
       "    <tr>\n",
       "      <th>7</th>\n",
       "      <td>SVC tuned</td>\n",
       "      <td>0.8412760776457585</td>\n",
       "      <td>0.8065287722902835</td>\n",
       "      <td>0.22504230118443316</td>\n",
       "      <td>0.8636363636363636</td>\n",
       "      <td>0.20875420875420875</td>\n",
       "      <td>0.8051948051948052</td>\n",
       "    </tr>\n",
       "    <tr>\n",
       "      <th>8</th>\n",
       "      <td>LogReg tuned</td>\n",
       "      <td>0.7965190468514937</td>\n",
       "      <td>0.7766448427605454</td>\n",
       "      <td>0.19055118110236222</td>\n",
       "      <td>0.7857142857142857</td>\n",
       "      <td>0.18575851393188855</td>\n",
       "      <td>0.7792207792207793</td>\n",
       "    </tr>\n",
       "  </tbody>\n",
       "</table>\n",
       "</div>"
      ],
      "text/plain": [
       "              Model           Train_AUC            Test_AUC  \\\n",
       "4  XG Boost default   0.885339431549538  0.8292982106441373   \n",
       "5    XG Boost tuned  0.8677067982254152  0.8209110841932565   \n",
       "6       SVC default  0.8305907670934267   0.796485686686395   \n",
       "7         SVC tuned  0.8412760776457585  0.8065287722902835   \n",
       "8      LogReg tuned  0.7965190468514937  0.7766448427605454   \n",
       "\n",
       "            Train_prec         Train_recal            Test_prec  \\\n",
       "4    0.589041095890411  0.1396103896103896   0.4782608695652174   \n",
       "5   0.5571428571428572  0.1266233766233766   0.4117647058823529   \n",
       "6  0.21479713603818615  0.8766233766233766  0.19682539682539682   \n",
       "7  0.22504230118443316  0.8636363636363636  0.20875420875420875   \n",
       "8  0.19055118110236222  0.7857142857142857  0.18575851393188855   \n",
       "\n",
       "            Test_recal  \n",
       "4  0.14285714285714285  \n",
       "5  0.09090909090909091  \n",
       "6   0.8051948051948052  \n",
       "7   0.8051948051948052  \n",
       "8   0.7792207792207793  "
      ]
     },
     "execution_count": 42,
     "metadata": {},
     "output_type": "execute_result"
    }
   ],
   "source": [
    "scores_df = agg_score_df(scores_df,grid_logr,'LogReg tuned',X_train,X_test,y_train,y_test)\n",
    "scores_df.tail()"
   ]
  },
  {
   "cell_type": "raw",
   "metadata": {},
   "source": [
    "from sklearn.linear_model import LogisticRegression\n",
    "\n",
    "\n",
    "logr = LogisticRegression(random_state=random_seed,n_jobs=-1)\n",
    "\n",
    "params = {'C':[.01,.1,.5,1,1.5,5,10], 'class_weight':[None,'balanced'],\\\n",
    "         'penalty':['l1','l2'], 'tol':[1E-5,1E-4,1E-3],'max_iter':[200]}\n",
    "\n",
    "grid_logr = GridSearchCV(logr,param_grid=params,cv=5,n_jobs=-1,\\\n",
    "                         scoring=make_scorer(roc_auc_score))\n",
    "\n",
    "grid_logr.fit(X_train_pca95,y_train)\n",
    "\n",
    "print('Train AUC:',roc_auc_score(y_train,grid_logr.predict_proba(X_train_pca95)[:,1]))\n",
    "print('Test AUC:',roc_auc_score(y_test,grid_logr.predict_proba(X_test_pca95)[:,1]))\n"
   ]
  },
  {
   "cell_type": "raw",
   "metadata": {
    "scrolled": false
   },
   "source": [
    "Model_Eval(grid_logr,X_train_pca95,X_test_pca95,y_train,y_test)"
   ]
  },
  {
   "cell_type": "raw",
   "metadata": {},
   "source": [
    "scores_df = agg_score_df(scores_df,grid_logr,'LogReg PCA',X_train_pca95,X_test_pca95,y_train,y_test)\n",
    "scores_df.tail()"
   ]
  },
  {
   "cell_type": "markdown",
   "metadata": {},
   "source": [
    "The PCA trained model looks pretty good as well but loses a bit of predictive power compared to the previous logistic regression model. "
   ]
  },
  {
   "cell_type": "markdown",
   "metadata": {},
   "source": [
    "# Evaluate performance of all models and the choose best model"
   ]
  },
  {
   "cell_type": "code",
   "execution_count": 43,
   "metadata": {},
   "outputs": [],
   "source": [
    "### Sort and change column types to numeric\n",
    "\n",
    "for c in scores_df.columns:\n",
    "    if c =='Model': continue\n",
    "    scores_df[c] = pd.to_numeric(scores_df[c])\n",
    "scores_df = scores_df.sort_values(by='Test_AUC',ascending=False)"
   ]
  },
  {
   "cell_type": "code",
   "execution_count": 44,
   "metadata": {},
   "outputs": [
    {
     "data": {
      "image/png": "[encoded data removed]",
      "text/plain": [
       "<Figure size 720x432 with 1 Axes>"
      ]
     },
     "metadata": {
      "needs_background": "light"
     },
     "output_type": "display_data"
    }
   ],
   "source": [
    "### Bar plot of Test AUC and Test Recall\n",
    "\n",
    "ind = np.arange(scores_df.shape[0])\n",
    "width = .35\n",
    "\n",
    "fig, ax = plt.subplots(figsize=(10,6))\n",
    "\n",
    "ax.bar(ind-width/2,scores_df.Test_AUC,width,label='Test AUC')\n",
    "ax.bar(ind+width/2,scores_df.Test_recal,width,label='Test recall')\n",
    "\n",
    "ax.set_ylabel('Scores')\n",
    "\n",
    "ax.set_ylim(0,1)\n",
    "\n",
    "ax.set_xticks(ind)\n",
    "ax.set_xticklabels(scores_df.Model,rotation=75)\n",
    "\n",
    "ax.set_title('Model Metric Scores')\n",
    "ax.legend()\n",
    "\n",
    "plt.show()\n",
    "\n"
   ]
  },
  {
   "cell_type": "markdown",
   "metadata": {},
   "source": [
    "After looking at the above plot I will select the tuned RF model.  I will now train the tuned model on all of the training data and then export the model.  "
   ]
  },
  {
   "cell_type": "code",
   "execution_count": 48,
   "metadata": {},
   "outputs": [
    {
     "ename": "TypeError",
     "evalue": "exceptions must derive from BaseException",
     "output_type": "error",
     "traceback": [
      "\u001b[1;31m---------------------------------------------------------------------------\u001b[0m",
      "\u001b[1;31mTypeError\u001b[0m                                 Traceback (most recent call last)",
      "\u001b[1;32m<ipython-input-48-2fcba5214266>\u001b[0m in \u001b[0;36m<module>\u001b[1;34m\u001b[0m\n\u001b[1;32m----> 1\u001b[1;33m \u001b[1;32mraise\u001b[0m\u001b[1;33m(\u001b[0m\u001b[1;34m'stop'\u001b[0m\u001b[1;33m)\u001b[0m\u001b[1;33m\u001b[0m\u001b[1;33m\u001b[0m\u001b[0m\n\u001b[0m",
      "\u001b[1;31mTypeError\u001b[0m: exceptions must derive from BaseException"
     ]
    }
   ],
   "source": [
    "raise('stop')"
   ]
  },
  {
   "cell_type": "code",
   "execution_count": 49,
   "metadata": {},
   "outputs": [],
   "source": [
    "### Concatenate the train and test sets into one large training set \n",
    "X = pd.concat([pd.DataFrame(X_train),pd.DataFrame(X_test)]).to_numpy()\n",
    "y = pd.concat([pd.Series(y_train),pd.Series(y_test)]).to_numpy()"
   ]
  },
  {
   "cell_type": "code",
   "execution_count": 51,
   "metadata": {},
   "outputs": [
    {
     "name": "stdout",
     "output_type": "stream",
     "text": [
      "Train AUC:  0.8772701182060672\n",
      "Train Recall:  0.8649350649350649\n"
     ]
    }
   ],
   "source": [
    "### Train the model with all of the data,\n",
    "### and with the parameters in the tuned model above\n",
    "### RF Best Params  {'class_weight': 'balanced',\n",
    "### 'criterion': 'gini', 'max_depth': 9, 'n_estimators': 80,\n",
    "### 'random_state': 27}\n",
    "\n",
    "rf_clf = RandomForestClassifier(class_weight='balanced',criterion='gini',\\\n",
    "                            max_depth=9,n_estimators=80,random_state=random_seed)\n",
    "rf_clf.fit(X,y)\n",
    "\n",
    "print('Train AUC: ',roc_auc_score(y,rf_clf.predict_proba(X)[:,1]))\n",
    "print('Train Recall: ', recall_score(y,rf_clf.predict(X)))"
   ]
  },
  {
   "cell_type": "markdown",
   "metadata": {},
   "source": [
    "Looks good.  Now I have a support vector classifier tuned using cross validation and tested on a hold out set that has now been trained on all of the available data and is ready for deployment.  \n",
    "___\n",
    "Now I will 'pickle' the model and save it. "
   ]
  },
  {
   "cell_type": "code",
   "execution_count": 52,
   "metadata": {},
   "outputs": [],
   "source": [
    "import pickle\n",
    "with open('RF_final_classifier.pkl','wb') as fid:\n",
    "    pickle.dump(svc,fid)"
   ]
  },
  {
   "cell_type": "code",
   "execution_count": null,
   "metadata": {},
   "outputs": [],
   "source": []
  },
  {
   "cell_type": "code",
   "execution_count": null,
   "metadata": {},
   "outputs": [],
   "source": []
  },
  {
   "cell_type": "code",
   "execution_count": null,
   "metadata": {},
   "outputs": [],
   "source": []
  },
  {
   "cell_type": "code",
   "execution_count": null,
   "metadata": {},
   "outputs": [],
   "source": []
  }
 ],
 "metadata": {
  "kernelspec": {
   "display_name": "Python 3",
   "language": "python",
   "name": "python3"
  },
  "language_info": {
   "codemirror_mode": {
    "name": "ipython",
    "version": 3
   },
   "file_extension": ".py",
   "mimetype": "text/x-python",
   "name": "python",
   "nbconvert_exporter": "python",
   "pygments_lexer": "ipython3",
   "version": "3.7.6"
  }
 },
 "nbformat": 4,
 "nbformat_minor": 4
}
