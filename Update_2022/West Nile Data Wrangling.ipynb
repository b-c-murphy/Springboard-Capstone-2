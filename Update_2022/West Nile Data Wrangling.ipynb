{
 "cells": [
  {
   "cell_type": "markdown",
   "metadata": {},
   "source": [
    "# This notebook will read, clean, and organize the WNV data to prepare for Exploratory Data Analysis.  \n",
    "### Blaine Murphy \n",
    "### July 2021\n"
   ]
  },
  {
   "cell_type": "code",
   "execution_count": 1,
   "metadata": {},
   "outputs": [],
   "source": [
    "### Import Relevant libraries\n",
    "import pandas as pd\n",
    "import numpy as np\n",
    "import matplotlib.pyplot as plt\n",
    "import re\n",
    "from datetime import datetime, timedelta\n",
    "import seaborn as sns\n"
   ]
  },
  {
   "cell_type": "code",
   "execution_count": 2,
   "metadata": {},
   "outputs": [],
   "source": [
    "### Set folder containing the input data files\n",
    "folder = '../input/'"
   ]
  },
  {
   "cell_type": "markdown",
   "metadata": {},
   "source": [
    "## Training Set"
   ]
  },
  {
   "cell_type": "code",
   "execution_count": 3,
   "metadata": {},
   "outputs": [
    {
     "data": {
      "text/html": [
       "<div>\n",
       "<style scoped>\n",
       "    .dataframe tbody tr th:only-of-type {\n",
       "        vertical-align: middle;\n",
       "    }\n",
       "\n",
       "    .dataframe tbody tr th {\n",
       "        vertical-align: top;\n",
       "    }\n",
       "\n",
       "    .dataframe thead th {\n",
       "        text-align: right;\n",
       "    }\n",
       "</style>\n",
       "<table border=\"1\" class=\"dataframe\">\n",
       "  <thead>\n",
       "    <tr style=\"text-align: right;\">\n",
       "      <th></th>\n",
       "      <th>Date</th>\n",
       "      <th>Address</th>\n",
       "      <th>Species</th>\n",
       "      <th>Block</th>\n",
       "      <th>Street</th>\n",
       "      <th>Trap</th>\n",
       "      <th>AddressNumberAndStreet</th>\n",
       "      <th>Latitude</th>\n",
       "      <th>Longitude</th>\n",
       "      <th>AddressAccuracy</th>\n",
       "      <th>NumMosquitos</th>\n",
       "      <th>WnvPresent</th>\n",
       "    </tr>\n",
       "  </thead>\n",
       "  <tbody>\n",
       "    <tr>\n",
       "      <th>0</th>\n",
       "      <td>2007-05-29</td>\n",
       "      <td>4100 North Oak Park Avenue, Chicago, IL 60634,...</td>\n",
       "      <td>CULEX PIPIENS/RESTUANS</td>\n",
       "      <td>41</td>\n",
       "      <td>N OAK PARK AVE</td>\n",
       "      <td>T002</td>\n",
       "      <td>4100  N OAK PARK AVE, Chicago, IL</td>\n",
       "      <td>41.954690</td>\n",
       "      <td>-87.800991</td>\n",
       "      <td>9</td>\n",
       "      <td>1</td>\n",
       "      <td>0</td>\n",
       "    </tr>\n",
       "    <tr>\n",
       "      <th>1</th>\n",
       "      <td>2007-05-29</td>\n",
       "      <td>4100 North Oak Park Avenue, Chicago, IL 60634,...</td>\n",
       "      <td>CULEX RESTUANS</td>\n",
       "      <td>41</td>\n",
       "      <td>N OAK PARK AVE</td>\n",
       "      <td>T002</td>\n",
       "      <td>4100  N OAK PARK AVE, Chicago, IL</td>\n",
       "      <td>41.954690</td>\n",
       "      <td>-87.800991</td>\n",
       "      <td>9</td>\n",
       "      <td>1</td>\n",
       "      <td>0</td>\n",
       "    </tr>\n",
       "    <tr>\n",
       "      <th>2</th>\n",
       "      <td>2007-05-29</td>\n",
       "      <td>6200 North Mandell Avenue, Chicago, IL 60646, USA</td>\n",
       "      <td>CULEX RESTUANS</td>\n",
       "      <td>62</td>\n",
       "      <td>N MANDELL AVE</td>\n",
       "      <td>T007</td>\n",
       "      <td>6200  N MANDELL AVE, Chicago, IL</td>\n",
       "      <td>41.994991</td>\n",
       "      <td>-87.769279</td>\n",
       "      <td>9</td>\n",
       "      <td>1</td>\n",
       "      <td>0</td>\n",
       "    </tr>\n",
       "    <tr>\n",
       "      <th>3</th>\n",
       "      <td>2007-05-29</td>\n",
       "      <td>7900 West Foster Avenue, Chicago, IL 60656, USA</td>\n",
       "      <td>CULEX PIPIENS/RESTUANS</td>\n",
       "      <td>79</td>\n",
       "      <td>W FOSTER AVE</td>\n",
       "      <td>T015</td>\n",
       "      <td>7900  W FOSTER AVE, Chicago, IL</td>\n",
       "      <td>41.974089</td>\n",
       "      <td>-87.824812</td>\n",
       "      <td>8</td>\n",
       "      <td>1</td>\n",
       "      <td>0</td>\n",
       "    </tr>\n",
       "    <tr>\n",
       "      <th>4</th>\n",
       "      <td>2007-05-29</td>\n",
       "      <td>7900 West Foster Avenue, Chicago, IL 60656, USA</td>\n",
       "      <td>CULEX RESTUANS</td>\n",
       "      <td>79</td>\n",
       "      <td>W FOSTER AVE</td>\n",
       "      <td>T015</td>\n",
       "      <td>7900  W FOSTER AVE, Chicago, IL</td>\n",
       "      <td>41.974089</td>\n",
       "      <td>-87.824812</td>\n",
       "      <td>8</td>\n",
       "      <td>4</td>\n",
       "      <td>0</td>\n",
       "    </tr>\n",
       "  </tbody>\n",
       "</table>\n",
       "</div>"
      ],
      "text/plain": [
       "         Date                                            Address  \\\n",
       "0  2007-05-29  4100 North Oak Park Avenue, Chicago, IL 60634,...   \n",
       "1  2007-05-29  4100 North Oak Park Avenue, Chicago, IL 60634,...   \n",
       "2  2007-05-29  6200 North Mandell Avenue, Chicago, IL 60646, USA   \n",
       "3  2007-05-29    7900 West Foster Avenue, Chicago, IL 60656, USA   \n",
       "4  2007-05-29    7900 West Foster Avenue, Chicago, IL 60656, USA   \n",
       "\n",
       "                  Species  Block           Street  Trap  \\\n",
       "0  CULEX PIPIENS/RESTUANS     41   N OAK PARK AVE  T002   \n",
       "1          CULEX RESTUANS     41   N OAK PARK AVE  T002   \n",
       "2          CULEX RESTUANS     62    N MANDELL AVE  T007   \n",
       "3  CULEX PIPIENS/RESTUANS     79     W FOSTER AVE  T015   \n",
       "4          CULEX RESTUANS     79     W FOSTER AVE  T015   \n",
       "\n",
       "              AddressNumberAndStreet   Latitude  Longitude  AddressAccuracy  \\\n",
       "0  4100  N OAK PARK AVE, Chicago, IL  41.954690 -87.800991                9   \n",
       "1  4100  N OAK PARK AVE, Chicago, IL  41.954690 -87.800991                9   \n",
       "2   6200  N MANDELL AVE, Chicago, IL  41.994991 -87.769279                9   \n",
       "3    7900  W FOSTER AVE, Chicago, IL  41.974089 -87.824812                8   \n",
       "4    7900  W FOSTER AVE, Chicago, IL  41.974089 -87.824812                8   \n",
       "\n",
       "   NumMosquitos  WnvPresent  \n",
       "0             1           0  \n",
       "1             1           0  \n",
       "2             1           0  \n",
       "3             1           0  \n",
       "4             4           0  "
      ]
     },
     "execution_count": 3,
     "metadata": {},
     "output_type": "execute_result"
    }
   ],
   "source": [
    "### First import training set\n",
    "train=pd.read_csv(folder + 'train.csv')\n",
    "train.head(5)"
   ]
  },
  {
   "cell_type": "code",
   "execution_count": 4,
   "metadata": {},
   "outputs": [
    {
     "name": "stdout",
     "output_type": "stream",
     "text": [
      "<class 'pandas.core.frame.DataFrame'>\n",
      "RangeIndex: 10506 entries, 0 to 10505\n",
      "Data columns (total 12 columns):\n",
      " #   Column                  Non-Null Count  Dtype  \n",
      "---  ------                  --------------  -----  \n",
      " 0   Date                    10506 non-null  object \n",
      " 1   Address                 10506 non-null  object \n",
      " 2   Species                 10506 non-null  object \n",
      " 3   Block                   10506 non-null  int64  \n",
      " 4   Street                  10506 non-null  object \n",
      " 5   Trap                    10506 non-null  object \n",
      " 6   AddressNumberAndStreet  10506 non-null  object \n",
      " 7   Latitude                10506 non-null  float64\n",
      " 8   Longitude               10506 non-null  float64\n",
      " 9   AddressAccuracy         10506 non-null  int64  \n",
      " 10  NumMosquitos            10506 non-null  int64  \n",
      " 11  WnvPresent              10506 non-null  int64  \n",
      "dtypes: float64(2), int64(4), object(6)\n",
      "memory usage: 985.1+ KB\n"
     ]
    }
   ],
   "source": [
    "### High level of train examination\n",
    "train.info()"
   ]
  },
  {
   "cell_type": "markdown",
   "metadata": {},
   "source": [
    "The objective here is to create a model that will predict where there will be a positive West Nile virus test from a mosquito trap based on time, spraying, weather, and location.  The target value is 'WnvPresent' and it's values are 1 for a positive test in that mosquito trap and 0 for negative test. \n",
    "\n",
    "There do not appear to be any null values in the training set to deal with.  Next I will change a few data types in the training set and extract the ZIP code from the address column, that may be useful.   "
   ]
  },
  {
   "cell_type": "code",
   "execution_count": 5,
   "metadata": {},
   "outputs": [],
   "source": [
    "### Set some column types here\n",
    "train['Date'] = pd.to_datetime(train['Date'])\n",
    "train['Trap'] = pd.Categorical(train['Trap'])\n",
    "train['Species'] = pd.Categorical(train['Species'])\n",
    "\n",
    "### Extracting the ZIP from the address may be useful, I'll do that here\n",
    "### Regex looks for 5 numeric characters in a row and returns them as a string\n",
    "train['ZIP'] = train['Address'].str.findall('[0-9]{5}').str.join('').replace('',np.nan)"
   ]
  },
  {
   "cell_type": "code",
   "execution_count": 6,
   "metadata": {},
   "outputs": [
    {
     "data": {
      "text/plain": [
       "50"
      ]
     },
     "execution_count": 6,
     "metadata": {},
     "output_type": "execute_result"
    }
   ],
   "source": [
    "train.ZIP.nunique()\n",
    "#train.ZIP.value_counts()"
   ]
  },
  {
   "cell_type": "markdown",
   "metadata": {},
   "source": [
    "The mosquito traps are located in 50 different zip codes. However, there were some addresses that did not contain 5 digit ZIPs.  I'll try to fix this now."
   ]
  },
  {
   "cell_type": "code",
   "execution_count": 7,
   "metadata": {},
   "outputs": [
    {
     "data": {
      "text/plain": [
       "['T089', 'T145', 'T014', 'T115', 'T138', ..., 'T102', 'T157', 'T227', 'T226', 'T229']\n",
       "Length: 12\n",
       "Categories (136, object): ['T001', 'T002', 'T003', 'T004', ..., 'T237', 'T238', 'T900', 'T903']"
      ]
     },
     "execution_count": 7,
     "metadata": {},
     "output_type": "execute_result"
    }
   ],
   "source": [
    "train[train.ZIP.isnull()]['Trap'].unique()"
   ]
  },
  {
   "cell_type": "markdown",
   "metadata": {},
   "source": [
    "There are 12 traps that do not have a ZIP.  Can I identify a time efficient and repeatable way of imputing the correct ZIP? "
   ]
  },
  {
   "cell_type": "code",
   "execution_count": 8,
   "metadata": {},
   "outputs": [],
   "source": [
    "#train[train['Trap']=='T089']\n",
    "#train[train['Street'].str.contains('S VINCENNES')]\n",
    "\n",
    "### Street name is unqiue to this trap\n",
    "\n",
    "\n",
    "#train[train['Trap']=='T145']\n",
    "#train[train['Street'].str.contains('ASHLAND AVE OVERPASS')]\n"
   ]
  },
  {
   "cell_type": "markdown",
   "metadata": {},
   "source": [
    "For now I cannot come up with a way to impute the missing values of ZIP to the dataset.  For now I will drop this column before exporting the clean data at the end of this section. "
   ]
  },
  {
   "cell_type": "code",
   "execution_count": 9,
   "metadata": {},
   "outputs": [
    {
     "name": "stdout",
     "output_type": "stream",
     "text": [
      "<class 'pandas.core.frame.DataFrame'>\n",
      "RangeIndex: 10506 entries, 0 to 10505\n",
      "Data columns (total 13 columns):\n",
      " #   Column                  Non-Null Count  Dtype         \n",
      "---  ------                  --------------  -----         \n",
      " 0   Date                    10506 non-null  datetime64[ns]\n",
      " 1   Address                 10506 non-null  object        \n",
      " 2   Species                 10506 non-null  category      \n",
      " 3   Block                   10506 non-null  int64         \n",
      " 4   Street                  10506 non-null  object        \n",
      " 5   Trap                    10506 non-null  category      \n",
      " 6   AddressNumberAndStreet  10506 non-null  object        \n",
      " 7   Latitude                10506 non-null  float64       \n",
      " 8   Longitude               10506 non-null  float64       \n",
      " 9   AddressAccuracy         10506 non-null  int64         \n",
      " 10  NumMosquitos            10506 non-null  int64         \n",
      " 11  WnvPresent              10506 non-null  int64         \n",
      " 12  ZIP                     8998 non-null   object        \n",
      "dtypes: category(2), datetime64[ns](1), float64(2), int64(4), object(4)\n",
      "memory usage: 939.2+ KB\n"
     ]
    }
   ],
   "source": [
    "train.info()"
   ]
  },
  {
   "cell_type": "code",
   "execution_count": 10,
   "metadata": {},
   "outputs": [
    {
     "data": {
      "text/plain": [
       "CULEX PIPIENS/RESTUANS    4752\n",
       "CULEX RESTUANS            2740\n",
       "CULEX PIPIENS             2699\n",
       "CULEX TERRITANS            222\n",
       "CULEX SALINARIUS            86\n",
       "CULEX TARSALIS               6\n",
       "CULEX ERRATICUS              1\n",
       "Name: Species, dtype: int64"
      ]
     },
     "execution_count": 10,
     "metadata": {},
     "output_type": "execute_result"
    }
   ],
   "source": [
    "train.Species.value_counts()"
   ]
  },
  {
   "cell_type": "markdown",
   "metadata": {},
   "source": [
    "It appears in some instances that 2 of the mosquito species are lumped into one category called 'CULEX PIPIENS/RESTUANS'.  Note there are about equal numbers of Restuans and Pipiens in the data set and an almost equal number in those two combined as they are in the combined category."
   ]
  },
  {
   "cell_type": "code",
   "execution_count": 11,
   "metadata": {},
   "outputs": [
    {
     "data": {
      "text/plain": [
       "T900     750\n",
       "T115     542\n",
       "T138     314\n",
       "T002     185\n",
       "T135     183\n",
       "        ... \n",
       "T238       7\n",
       "T076       5\n",
       "T094B      5\n",
       "T237       3\n",
       "T040       2\n",
       "Name: Trap, Length: 136, dtype: int64"
      ]
     },
     "execution_count": 11,
     "metadata": {},
     "output_type": "execute_result"
    }
   ],
   "source": [
    "train.Trap.value_counts()"
   ]
  },
  {
   "cell_type": "markdown",
   "metadata": {},
   "source": [
    "The documentation says traps are not recorded if they didn't collect any mosquitos, which probably results in the differing counts records.  "
   ]
  },
  {
   "cell_type": "code",
   "execution_count": 12,
   "metadata": {},
   "outputs": [
    {
     "name": "stdout",
     "output_type": "stream",
     "text": [
      "First date: 2007-05-29 00:00:00\n",
      "Last date: 2013-09-26 00:00:00\n"
     ]
    },
    {
     "data": {
      "image/png": "[encoded data removed]",
      "text/plain": [
       "<Figure size 432x288 with 1 Axes>"
      ]
     },
     "metadata": {
      "needs_background": "light"
     },
     "output_type": "display_data"
    }
   ],
   "source": [
    "### To get an idea of the date range for these records\n",
    "\n",
    "print('First date:',train.Date.min())\n",
    "print('Last date:',train.Date.max())\n",
    "sns.lineplot(data=train,x='Date',y='NumMosquitos');"
   ]
  },
  {
   "cell_type": "markdown",
   "metadata": {},
   "source": [
    "The training data spans the summer months in 2007, 2009, 2011, and 2013.  The documentation says that the testing day will be for 2008, 2010, 2012, and 2014 I believe.  "
   ]
  },
  {
   "cell_type": "code",
   "execution_count": 13,
   "metadata": {},
   "outputs": [
    {
     "name": "stdout",
     "output_type": "stream",
     "text": [
      "(10506, 13)\n"
     ]
    },
    {
     "data": {
      "text/plain": [
       "0    0.947554\n",
       "1    0.052446\n",
       "Name: WnvPresent, dtype: float64"
      ]
     },
     "execution_count": 13,
     "metadata": {},
     "output_type": "execute_result"
    }
   ],
   "source": [
    "### Quick look at the number of positive cases\n",
    "\n",
    "print(train.shape)\n",
    "\n",
    "train.WnvPresent.value_counts()/train.shape[0]"
   ]
  },
  {
   "cell_type": "markdown",
   "metadata": {},
   "source": [
    "This is a heavily imbalanced dataset.  ~95% of records return a negative result for the mosquito test, while only 5% return a potivie test.  It looks to be in pretty good shape at the moment for analysis and modeling.\n"
   ]
  },
  {
   "cell_type": "code",
   "execution_count": 14,
   "metadata": {},
   "outputs": [
    {
     "name": "stdout",
     "output_type": "stream",
     "text": [
      "<class 'pandas.core.frame.DataFrame'>\n",
      "RangeIndex: 10506 entries, 0 to 10505\n",
      "Data columns (total 13 columns):\n",
      " #   Column                  Non-Null Count  Dtype         \n",
      "---  ------                  --------------  -----         \n",
      " 0   Date                    10506 non-null  datetime64[ns]\n",
      " 1   Address                 10506 non-null  object        \n",
      " 2   Species                 10506 non-null  category      \n",
      " 3   Block                   10506 non-null  int64         \n",
      " 4   Street                  10506 non-null  object        \n",
      " 5   Trap                    10506 non-null  category      \n",
      " 6   AddressNumberAndStreet  10506 non-null  object        \n",
      " 7   Latitude                10506 non-null  float64       \n",
      " 8   Longitude               10506 non-null  float64       \n",
      " 9   AddressAccuracy         10506 non-null  int64         \n",
      " 10  NumMosquitos            10506 non-null  int64         \n",
      " 11  WnvPresent              10506 non-null  int64         \n",
      " 12  ZIP                     8998 non-null   object        \n",
      "dtypes: category(2), datetime64[ns](1), float64(2), int64(4), object(4)\n",
      "memory usage: 939.2+ KB\n"
     ]
    }
   ],
   "source": [
    "train.info()"
   ]
  },
  {
   "cell_type": "code",
   "execution_count": 15,
   "metadata": {},
   "outputs": [
    {
     "data": {
      "image/png": "[encoded data removed]",
      "text/plain": [
       "<Figure size 432x288 with 1 Axes>"
      ]
     },
     "metadata": {
      "needs_background": "light"
     },
     "output_type": "display_data"
    }
   ],
   "source": [
    "### Histogram of the number of mosquitos collected\n",
    "train.NumMosquitos.hist()\n",
    "plt.ylabel('Frequency',fontsize=16)\n",
    "plt.xlabel('Mosquitos in trap',fontsize=16)\n",
    "\n",
    "plt.show()"
   ]
  },
  {
   "cell_type": "markdown",
   "metadata": {},
   "source": [
    "If there are more than 50 mosquitos in a trap, then a new record is created in the data, hence a spike at 50.  I will need to aggregate the date,trap duplicates"
   ]
  },
  {
   "cell_type": "code",
   "execution_count": 16,
   "metadata": {},
   "outputs": [
    {
     "data": {
      "image/png": "[encoded data removed]",
      "text/plain": [
       "<Figure size 432x288 with 1 Axes>"
      ]
     },
     "metadata": {
      "needs_background": "light"
     },
     "output_type": "display_data"
    }
   ],
   "source": [
    "###  Visualization of the number of date/trap duplicates\n",
    "\n",
    "train['DayTrap_dup'] = train.duplicated(subset=['Date','Trap'])\n",
    "daytrap_train = train.groupby(by=['Date','Trap'])[['DayTrap_dup']].sum()\n",
    "daytrap_train.reset_index(inplace=True)\n",
    "sns.lineplot(data=daytrap_train,x='Date',y='DayTrap_dup',hue='Trap')\n",
    "\n",
    "plt.legend().remove()\n",
    "plt.show()\n"
   ]
  },
  {
   "cell_type": "code",
   "execution_count": 17,
   "metadata": {},
   "outputs": [],
   "source": [
    "daytrap_train['Year'] = daytrap_train.Date.dt.year\n",
    "daytrap_train['DayOfYear'] = daytrap_train.Date.dt.dayofyear"
   ]
  },
  {
   "cell_type": "code",
   "execution_count": 18,
   "metadata": {},
   "outputs": [
    {
     "data": {
      "image/png": "[encoded data removed]",
      "text/plain": [
       "<Figure size 432x288 with 1 Axes>"
      ]
     },
     "metadata": {
      "needs_background": "light"
     },
     "output_type": "display_data"
    }
   ],
   "source": [
    "sns.lineplot(data=daytrap_train,x='DayOfYear',y='DayTrap_dup',hue='Year')\n",
    "\n",
    "plt.legend()\n",
    "plt.show()"
   ]
  },
  {
   "cell_type": "code",
   "execution_count": 19,
   "metadata": {},
   "outputs": [],
   "source": [
    "daytrap_train = daytrap_train[daytrap_train.DayTrap_dup>3]"
   ]
  },
  {
   "cell_type": "code",
   "execution_count": 20,
   "metadata": {},
   "outputs": [
    {
     "data": {
      "image/png": "[encoded data removed]",
      "text/plain": [
       "<Figure size 432x288 with 1 Axes>"
      ]
     },
     "metadata": {
      "needs_background": "light"
     },
     "output_type": "display_data"
    }
   ],
   "source": [
    "daytrap_train[daytrap_train.Year==2007]['DayTrap_dup'].hist(\\\n",
    "                    grid=False,density=True,histtype='step',bins = 50,\\\n",
    "                    cumulative =True,linewidth=2)\n",
    "daytrap_train[daytrap_train.Year==2009]['DayTrap_dup'].hist(\\\n",
    "                    grid=False,density=True,histtype='step',bins = 50,\\\n",
    "                    cumulative =True,linewidth=2)\n",
    "daytrap_train[daytrap_train.Year==2011]['DayTrap_dup'].hist(\\\n",
    "                    grid=False,density=True,histtype='step',bins = 50,\\\n",
    "                    cumulative =True,linewidth=2)\n",
    "daytrap_train[daytrap_train.Year==2013]['DayTrap_dup'].hist(\\\n",
    "                    grid=False,density=True,histtype='step',bins = 50,\\\n",
    "                    cumulative =True,linewidth=2)\n",
    "\n",
    "plt.legend(labels=['2007','2009','2011','2013'])\n",
    "plt.show()"
   ]
  },
  {
   "cell_type": "code",
   "execution_count": 21,
   "metadata": {
    "scrolled": true
   },
   "outputs": [
    {
     "data": {
      "image/png": "[encoded data removed]",
      "text/plain": [
       "<Figure size 432x288 with 1 Axes>"
      ]
     },
     "metadata": {
      "needs_background": "light"
     },
     "output_type": "display_data"
    }
   ],
   "source": [
    "sns.histplot(data=daytrap_train,x='DayTrap_dup',hue='Year',stat='density',kde=True,cumulative=True)\n",
    "\n",
    "plt.show()"
   ]
  },
  {
   "cell_type": "code",
   "execution_count": 22,
   "metadata": {},
   "outputs": [],
   "source": [
    "### I want the number of days in each year that have more than\n",
    "### one record per day \n",
    "dum = train.drop_duplicates(subset=['Date','Trap'],keep='last')"
   ]
  },
  {
   "cell_type": "code",
   "execution_count": 23,
   "metadata": {
    "scrolled": false
   },
   "outputs": [
    {
     "name": "stderr",
     "output_type": "stream",
     "text": [
      "C:\\Users\\blain\\Anaconda3\\lib\\site-packages\\ipykernel_launcher.py:1: SettingWithCopyWarning: \n",
      "A value is trying to be set on a copy of a slice from a DataFrame.\n",
      "Try using .loc[row_indexer,col_indexer] = value instead\n",
      "\n",
      "See the caveats in the documentation: https://pandas.pydata.org/pandas-docs/stable/user_guide/indexing.html#returning-a-view-versus-a-copy\n",
      "  \"\"\"Entry point for launching an IPython kernel.\n"
     ]
    },
    {
     "data": {
      "text/html": [
       "<div>\n",
       "<style scoped>\n",
       "    .dataframe tbody tr th:only-of-type {\n",
       "        vertical-align: middle;\n",
       "    }\n",
       "\n",
       "    .dataframe tbody tr th {\n",
       "        vertical-align: top;\n",
       "    }\n",
       "\n",
       "    .dataframe thead th {\n",
       "        text-align: right;\n",
       "    }\n",
       "</style>\n",
       "<table border=\"1\" class=\"dataframe\">\n",
       "  <thead>\n",
       "    <tr style=\"text-align: right;\">\n",
       "      <th></th>\n",
       "      <th>Trap</th>\n",
       "      <th>DayTrap_dup</th>\n",
       "    </tr>\n",
       "    <tr>\n",
       "      <th>Year</th>\n",
       "      <th></th>\n",
       "      <th></th>\n",
       "    </tr>\n",
       "  </thead>\n",
       "  <tbody>\n",
       "    <tr>\n",
       "      <th>2007</th>\n",
       "      <td>1459</td>\n",
       "      <td>1006</td>\n",
       "    </tr>\n",
       "    <tr>\n",
       "      <th>2009</th>\n",
       "      <td>1006</td>\n",
       "      <td>648</td>\n",
       "    </tr>\n",
       "    <tr>\n",
       "      <th>2011</th>\n",
       "      <td>988</td>\n",
       "      <td>574</td>\n",
       "    </tr>\n",
       "    <tr>\n",
       "      <th>2013</th>\n",
       "      <td>1163</td>\n",
       "      <td>709</td>\n",
       "    </tr>\n",
       "  </tbody>\n",
       "</table>\n",
       "</div>"
      ],
      "text/plain": [
       "      Trap  DayTrap_dup\n",
       "Year                   \n",
       "2007  1459         1006\n",
       "2009  1006          648\n",
       "2011   988          574\n",
       "2013  1163          709"
      ]
     },
     "execution_count": 23,
     "metadata": {},
     "output_type": "execute_result"
    }
   ],
   "source": [
    "dum['Year'] = dum.Date.dt.year\n",
    "dumall = dum.groupby('Year')[['Trap']].count()\n",
    "dum = dum.groupby('Year')[['DayTrap_dup']].sum()\n",
    "pd.concat([dumall,dum],axis=1)"
   ]
  },
  {
   "cell_type": "markdown",
   "metadata": {},
   "source": [
    "This is a good table for explaining the problem vs any of the visualizations above.  \n"
   ]
  },
  {
   "cell_type": "code",
   "execution_count": 24,
   "metadata": {
    "scrolled": true
   },
   "outputs": [
    {
     "data": {
      "text/html": [
       "<div>\n",
       "<style scoped>\n",
       "    .dataframe tbody tr th:only-of-type {\n",
       "        vertical-align: middle;\n",
       "    }\n",
       "\n",
       "    .dataframe tbody tr th {\n",
       "        vertical-align: top;\n",
       "    }\n",
       "\n",
       "    .dataframe thead th {\n",
       "        text-align: right;\n",
       "    }\n",
       "</style>\n",
       "<table border=\"1\" class=\"dataframe\">\n",
       "  <thead>\n",
       "    <tr style=\"text-align: right;\">\n",
       "      <th></th>\n",
       "      <th>Date</th>\n",
       "      <th>Address</th>\n",
       "      <th>Species</th>\n",
       "      <th>Block</th>\n",
       "      <th>Street</th>\n",
       "      <th>Trap</th>\n",
       "      <th>AddressNumberAndStreet</th>\n",
       "      <th>Latitude</th>\n",
       "      <th>Longitude</th>\n",
       "      <th>AddressAccuracy</th>\n",
       "      <th>NumMosquitos</th>\n",
       "      <th>WnvPresent</th>\n",
       "      <th>ZIP</th>\n",
       "      <th>DayTrap_dup</th>\n",
       "    </tr>\n",
       "  </thead>\n",
       "  <tbody>\n",
       "    <tr>\n",
       "      <th>9141</th>\n",
       "      <td>2013-07-25</td>\n",
       "      <td>ORD Terminal 5, O'Hare International Airport, ...</td>\n",
       "      <td>CULEX PIPIENS/RESTUANS</td>\n",
       "      <td>10</td>\n",
       "      <td>W OHARE AIRPORT</td>\n",
       "      <td>T900</td>\n",
       "      <td>1000  W OHARE AIRPORT, Chicago, IL</td>\n",
       "      <td>41.974689</td>\n",
       "      <td>-87.890615</td>\n",
       "      <td>9</td>\n",
       "      <td>3</td>\n",
       "      <td>0</td>\n",
       "      <td>60666</td>\n",
       "      <td>False</td>\n",
       "    </tr>\n",
       "    <tr>\n",
       "      <th>9142</th>\n",
       "      <td>2013-07-25</td>\n",
       "      <td>ORD Terminal 5, O'Hare International Airport, ...</td>\n",
       "      <td>CULEX PIPIENS/RESTUANS</td>\n",
       "      <td>10</td>\n",
       "      <td>W OHARE AIRPORT</td>\n",
       "      <td>T900</td>\n",
       "      <td>1000  W OHARE AIRPORT, Chicago, IL</td>\n",
       "      <td>41.974689</td>\n",
       "      <td>-87.890615</td>\n",
       "      <td>9</td>\n",
       "      <td>8</td>\n",
       "      <td>0</td>\n",
       "      <td>60666</td>\n",
       "      <td>True</td>\n",
       "    </tr>\n",
       "    <tr>\n",
       "      <th>9143</th>\n",
       "      <td>2013-07-25</td>\n",
       "      <td>ORD Terminal 5, O'Hare International Airport, ...</td>\n",
       "      <td>CULEX PIPIENS/RESTUANS</td>\n",
       "      <td>10</td>\n",
       "      <td>W OHARE AIRPORT</td>\n",
       "      <td>T900</td>\n",
       "      <td>1000  W OHARE AIRPORT, Chicago, IL</td>\n",
       "      <td>41.974689</td>\n",
       "      <td>-87.890615</td>\n",
       "      <td>9</td>\n",
       "      <td>7</td>\n",
       "      <td>0</td>\n",
       "      <td>60666</td>\n",
       "      <td>True</td>\n",
       "    </tr>\n",
       "    <tr>\n",
       "      <th>9144</th>\n",
       "      <td>2013-07-25</td>\n",
       "      <td>ORD Terminal 5, O'Hare International Airport, ...</td>\n",
       "      <td>CULEX PIPIENS/RESTUANS</td>\n",
       "      <td>10</td>\n",
       "      <td>W OHARE AIRPORT</td>\n",
       "      <td>T900</td>\n",
       "      <td>1000  W OHARE AIRPORT, Chicago, IL</td>\n",
       "      <td>41.974689</td>\n",
       "      <td>-87.890615</td>\n",
       "      <td>9</td>\n",
       "      <td>2</td>\n",
       "      <td>0</td>\n",
       "      <td>60666</td>\n",
       "      <td>True</td>\n",
       "    </tr>\n",
       "    <tr>\n",
       "      <th>9145</th>\n",
       "      <td>2013-07-25</td>\n",
       "      <td>ORD Terminal 5, O'Hare International Airport, ...</td>\n",
       "      <td>CULEX PIPIENS/RESTUANS</td>\n",
       "      <td>10</td>\n",
       "      <td>W OHARE AIRPORT</td>\n",
       "      <td>T900</td>\n",
       "      <td>1000  W OHARE AIRPORT, Chicago, IL</td>\n",
       "      <td>41.974689</td>\n",
       "      <td>-87.890615</td>\n",
       "      <td>9</td>\n",
       "      <td>11</td>\n",
       "      <td>0</td>\n",
       "      <td>60666</td>\n",
       "      <td>True</td>\n",
       "    </tr>\n",
       "    <tr>\n",
       "      <th>9146</th>\n",
       "      <td>2013-07-25</td>\n",
       "      <td>ORD Terminal 5, O'Hare International Airport, ...</td>\n",
       "      <td>CULEX PIPIENS/RESTUANS</td>\n",
       "      <td>10</td>\n",
       "      <td>W OHARE AIRPORT</td>\n",
       "      <td>T900</td>\n",
       "      <td>1000  W OHARE AIRPORT, Chicago, IL</td>\n",
       "      <td>41.974689</td>\n",
       "      <td>-87.890615</td>\n",
       "      <td>9</td>\n",
       "      <td>17</td>\n",
       "      <td>0</td>\n",
       "      <td>60666</td>\n",
       "      <td>True</td>\n",
       "    </tr>\n",
       "    <tr>\n",
       "      <th>9147</th>\n",
       "      <td>2013-07-25</td>\n",
       "      <td>ORD Terminal 5, O'Hare International Airport, ...</td>\n",
       "      <td>CULEX PIPIENS/RESTUANS</td>\n",
       "      <td>10</td>\n",
       "      <td>W OHARE AIRPORT</td>\n",
       "      <td>T900</td>\n",
       "      <td>1000  W OHARE AIRPORT, Chicago, IL</td>\n",
       "      <td>41.974689</td>\n",
       "      <td>-87.890615</td>\n",
       "      <td>9</td>\n",
       "      <td>5</td>\n",
       "      <td>0</td>\n",
       "      <td>60666</td>\n",
       "      <td>True</td>\n",
       "    </tr>\n",
       "    <tr>\n",
       "      <th>9148</th>\n",
       "      <td>2013-07-25</td>\n",
       "      <td>ORD Terminal 5, O'Hare International Airport, ...</td>\n",
       "      <td>CULEX RESTUANS</td>\n",
       "      <td>10</td>\n",
       "      <td>W OHARE AIRPORT</td>\n",
       "      <td>T900</td>\n",
       "      <td>1000  W OHARE AIRPORT, Chicago, IL</td>\n",
       "      <td>41.974689</td>\n",
       "      <td>-87.890615</td>\n",
       "      <td>9</td>\n",
       "      <td>2</td>\n",
       "      <td>0</td>\n",
       "      <td>60666</td>\n",
       "      <td>True</td>\n",
       "    </tr>\n",
       "    <tr>\n",
       "      <th>9149</th>\n",
       "      <td>2013-07-25</td>\n",
       "      <td>ORD Terminal 5, O'Hare International Airport, ...</td>\n",
       "      <td>CULEX RESTUANS</td>\n",
       "      <td>10</td>\n",
       "      <td>W OHARE AIRPORT</td>\n",
       "      <td>T900</td>\n",
       "      <td>1000  W OHARE AIRPORT, Chicago, IL</td>\n",
       "      <td>41.974689</td>\n",
       "      <td>-87.890615</td>\n",
       "      <td>9</td>\n",
       "      <td>50</td>\n",
       "      <td>0</td>\n",
       "      <td>60666</td>\n",
       "      <td>True</td>\n",
       "    </tr>\n",
       "    <tr>\n",
       "      <th>9150</th>\n",
       "      <td>2013-07-25</td>\n",
       "      <td>ORD Terminal 5, O'Hare International Airport, ...</td>\n",
       "      <td>CULEX RESTUANS</td>\n",
       "      <td>10</td>\n",
       "      <td>W OHARE AIRPORT</td>\n",
       "      <td>T900</td>\n",
       "      <td>1000  W OHARE AIRPORT, Chicago, IL</td>\n",
       "      <td>41.974689</td>\n",
       "      <td>-87.890615</td>\n",
       "      <td>9</td>\n",
       "      <td>50</td>\n",
       "      <td>0</td>\n",
       "      <td>60666</td>\n",
       "      <td>True</td>\n",
       "    </tr>\n",
       "    <tr>\n",
       "      <th>9151</th>\n",
       "      <td>2013-07-25</td>\n",
       "      <td>ORD Terminal 5, O'Hare International Airport, ...</td>\n",
       "      <td>CULEX RESTUANS</td>\n",
       "      <td>10</td>\n",
       "      <td>W OHARE AIRPORT</td>\n",
       "      <td>T900</td>\n",
       "      <td>1000  W OHARE AIRPORT, Chicago, IL</td>\n",
       "      <td>41.974689</td>\n",
       "      <td>-87.890615</td>\n",
       "      <td>9</td>\n",
       "      <td>5</td>\n",
       "      <td>0</td>\n",
       "      <td>60666</td>\n",
       "      <td>True</td>\n",
       "    </tr>\n",
       "    <tr>\n",
       "      <th>9152</th>\n",
       "      <td>2013-07-25</td>\n",
       "      <td>ORD Terminal 5, O'Hare International Airport, ...</td>\n",
       "      <td>CULEX RESTUANS</td>\n",
       "      <td>10</td>\n",
       "      <td>W OHARE AIRPORT</td>\n",
       "      <td>T900</td>\n",
       "      <td>1000  W OHARE AIRPORT, Chicago, IL</td>\n",
       "      <td>41.974689</td>\n",
       "      <td>-87.890615</td>\n",
       "      <td>9</td>\n",
       "      <td>7</td>\n",
       "      <td>0</td>\n",
       "      <td>60666</td>\n",
       "      <td>True</td>\n",
       "    </tr>\n",
       "    <tr>\n",
       "      <th>9153</th>\n",
       "      <td>2013-07-25</td>\n",
       "      <td>ORD Terminal 5, O'Hare International Airport, ...</td>\n",
       "      <td>CULEX RESTUANS</td>\n",
       "      <td>10</td>\n",
       "      <td>W OHARE AIRPORT</td>\n",
       "      <td>T900</td>\n",
       "      <td>1000  W OHARE AIRPORT, Chicago, IL</td>\n",
       "      <td>41.974689</td>\n",
       "      <td>-87.890615</td>\n",
       "      <td>9</td>\n",
       "      <td>14</td>\n",
       "      <td>0</td>\n",
       "      <td>60666</td>\n",
       "      <td>True</td>\n",
       "    </tr>\n",
       "    <tr>\n",
       "      <th>9154</th>\n",
       "      <td>2013-07-25</td>\n",
       "      <td>ORD Terminal 5, O'Hare International Airport, ...</td>\n",
       "      <td>CULEX RESTUANS</td>\n",
       "      <td>10</td>\n",
       "      <td>W OHARE AIRPORT</td>\n",
       "      <td>T900</td>\n",
       "      <td>1000  W OHARE AIRPORT, Chicago, IL</td>\n",
       "      <td>41.974689</td>\n",
       "      <td>-87.890615</td>\n",
       "      <td>9</td>\n",
       "      <td>4</td>\n",
       "      <td>0</td>\n",
       "      <td>60666</td>\n",
       "      <td>True</td>\n",
       "    </tr>\n",
       "    <tr>\n",
       "      <th>9155</th>\n",
       "      <td>2013-07-25</td>\n",
       "      <td>ORD Terminal 5, O'Hare International Airport, ...</td>\n",
       "      <td>CULEX RESTUANS</td>\n",
       "      <td>10</td>\n",
       "      <td>W OHARE AIRPORT</td>\n",
       "      <td>T900</td>\n",
       "      <td>1000  W OHARE AIRPORT, Chicago, IL</td>\n",
       "      <td>41.974689</td>\n",
       "      <td>-87.890615</td>\n",
       "      <td>9</td>\n",
       "      <td>16</td>\n",
       "      <td>0</td>\n",
       "      <td>60666</td>\n",
       "      <td>True</td>\n",
       "    </tr>\n",
       "    <tr>\n",
       "      <th>9156</th>\n",
       "      <td>2013-07-25</td>\n",
       "      <td>ORD Terminal 5, O'Hare International Airport, ...</td>\n",
       "      <td>CULEX RESTUANS</td>\n",
       "      <td>10</td>\n",
       "      <td>W OHARE AIRPORT</td>\n",
       "      <td>T900</td>\n",
       "      <td>1000  W OHARE AIRPORT, Chicago, IL</td>\n",
       "      <td>41.974689</td>\n",
       "      <td>-87.890615</td>\n",
       "      <td>9</td>\n",
       "      <td>39</td>\n",
       "      <td>0</td>\n",
       "      <td>60666</td>\n",
       "      <td>True</td>\n",
       "    </tr>\n",
       "    <tr>\n",
       "      <th>9157</th>\n",
       "      <td>2013-07-25</td>\n",
       "      <td>ORD Terminal 5, O'Hare International Airport, ...</td>\n",
       "      <td>CULEX RESTUANS</td>\n",
       "      <td>10</td>\n",
       "      <td>W OHARE AIRPORT</td>\n",
       "      <td>T900</td>\n",
       "      <td>1000  W OHARE AIRPORT, Chicago, IL</td>\n",
       "      <td>41.974689</td>\n",
       "      <td>-87.890615</td>\n",
       "      <td>9</td>\n",
       "      <td>5</td>\n",
       "      <td>0</td>\n",
       "      <td>60666</td>\n",
       "      <td>True</td>\n",
       "    </tr>\n",
       "    <tr>\n",
       "      <th>9158</th>\n",
       "      <td>2013-07-25</td>\n",
       "      <td>ORD Terminal 5, O'Hare International Airport, ...</td>\n",
       "      <td>CULEX RESTUANS</td>\n",
       "      <td>10</td>\n",
       "      <td>W OHARE AIRPORT</td>\n",
       "      <td>T900</td>\n",
       "      <td>1000  W OHARE AIRPORT, Chicago, IL</td>\n",
       "      <td>41.974689</td>\n",
       "      <td>-87.890615</td>\n",
       "      <td>9</td>\n",
       "      <td>1</td>\n",
       "      <td>0</td>\n",
       "      <td>60666</td>\n",
       "      <td>True</td>\n",
       "    </tr>\n",
       "    <tr>\n",
       "      <th>9159</th>\n",
       "      <td>2013-07-25</td>\n",
       "      <td>ORD Terminal 5, O'Hare International Airport, ...</td>\n",
       "      <td>CULEX PIPIENS</td>\n",
       "      <td>10</td>\n",
       "      <td>W OHARE AIRPORT</td>\n",
       "      <td>T900</td>\n",
       "      <td>1000  W OHARE AIRPORT, Chicago, IL</td>\n",
       "      <td>41.974689</td>\n",
       "      <td>-87.890615</td>\n",
       "      <td>9</td>\n",
       "      <td>18</td>\n",
       "      <td>0</td>\n",
       "      <td>60666</td>\n",
       "      <td>True</td>\n",
       "    </tr>\n",
       "    <tr>\n",
       "      <th>9160</th>\n",
       "      <td>2013-07-25</td>\n",
       "      <td>ORD Terminal 5, O'Hare International Airport, ...</td>\n",
       "      <td>CULEX PIPIENS</td>\n",
       "      <td>10</td>\n",
       "      <td>W OHARE AIRPORT</td>\n",
       "      <td>T900</td>\n",
       "      <td>1000  W OHARE AIRPORT, Chicago, IL</td>\n",
       "      <td>41.974689</td>\n",
       "      <td>-87.890615</td>\n",
       "      <td>9</td>\n",
       "      <td>6</td>\n",
       "      <td>0</td>\n",
       "      <td>60666</td>\n",
       "      <td>True</td>\n",
       "    </tr>\n",
       "  </tbody>\n",
       "</table>\n",
       "</div>"
      ],
      "text/plain": [
       "           Date                                            Address  \\\n",
       "9141 2013-07-25  ORD Terminal 5, O'Hare International Airport, ...   \n",
       "9142 2013-07-25  ORD Terminal 5, O'Hare International Airport, ...   \n",
       "9143 2013-07-25  ORD Terminal 5, O'Hare International Airport, ...   \n",
       "9144 2013-07-25  ORD Terminal 5, O'Hare International Airport, ...   \n",
       "9145 2013-07-25  ORD Terminal 5, O'Hare International Airport, ...   \n",
       "9146 2013-07-25  ORD Terminal 5, O'Hare International Airport, ...   \n",
       "9147 2013-07-25  ORD Terminal 5, O'Hare International Airport, ...   \n",
       "9148 2013-07-25  ORD Terminal 5, O'Hare International Airport, ...   \n",
       "9149 2013-07-25  ORD Terminal 5, O'Hare International Airport, ...   \n",
       "9150 2013-07-25  ORD Terminal 5, O'Hare International Airport, ...   \n",
       "9151 2013-07-25  ORD Terminal 5, O'Hare International Airport, ...   \n",
       "9152 2013-07-25  ORD Terminal 5, O'Hare International Airport, ...   \n",
       "9153 2013-07-25  ORD Terminal 5, O'Hare International Airport, ...   \n",
       "9154 2013-07-25  ORD Terminal 5, O'Hare International Airport, ...   \n",
       "9155 2013-07-25  ORD Terminal 5, O'Hare International Airport, ...   \n",
       "9156 2013-07-25  ORD Terminal 5, O'Hare International Airport, ...   \n",
       "9157 2013-07-25  ORD Terminal 5, O'Hare International Airport, ...   \n",
       "9158 2013-07-25  ORD Terminal 5, O'Hare International Airport, ...   \n",
       "9159 2013-07-25  ORD Terminal 5, O'Hare International Airport, ...   \n",
       "9160 2013-07-25  ORD Terminal 5, O'Hare International Airport, ...   \n",
       "\n",
       "                     Species  Block            Street  Trap  \\\n",
       "9141  CULEX PIPIENS/RESTUANS     10   W OHARE AIRPORT  T900   \n",
       "9142  CULEX PIPIENS/RESTUANS     10   W OHARE AIRPORT  T900   \n",
       "9143  CULEX PIPIENS/RESTUANS     10   W OHARE AIRPORT  T900   \n",
       "9144  CULEX PIPIENS/RESTUANS     10   W OHARE AIRPORT  T900   \n",
       "9145  CULEX PIPIENS/RESTUANS     10   W OHARE AIRPORT  T900   \n",
       "9146  CULEX PIPIENS/RESTUANS     10   W OHARE AIRPORT  T900   \n",
       "9147  CULEX PIPIENS/RESTUANS     10   W OHARE AIRPORT  T900   \n",
       "9148          CULEX RESTUANS     10   W OHARE AIRPORT  T900   \n",
       "9149          CULEX RESTUANS     10   W OHARE AIRPORT  T900   \n",
       "9150          CULEX RESTUANS     10   W OHARE AIRPORT  T900   \n",
       "9151          CULEX RESTUANS     10   W OHARE AIRPORT  T900   \n",
       "9152          CULEX RESTUANS     10   W OHARE AIRPORT  T900   \n",
       "9153          CULEX RESTUANS     10   W OHARE AIRPORT  T900   \n",
       "9154          CULEX RESTUANS     10   W OHARE AIRPORT  T900   \n",
       "9155          CULEX RESTUANS     10   W OHARE AIRPORT  T900   \n",
       "9156          CULEX RESTUANS     10   W OHARE AIRPORT  T900   \n",
       "9157          CULEX RESTUANS     10   W OHARE AIRPORT  T900   \n",
       "9158          CULEX RESTUANS     10   W OHARE AIRPORT  T900   \n",
       "9159           CULEX PIPIENS     10   W OHARE AIRPORT  T900   \n",
       "9160           CULEX PIPIENS     10   W OHARE AIRPORT  T900   \n",
       "\n",
       "                  AddressNumberAndStreet   Latitude  Longitude  \\\n",
       "9141  1000  W OHARE AIRPORT, Chicago, IL  41.974689 -87.890615   \n",
       "9142  1000  W OHARE AIRPORT, Chicago, IL  41.974689 -87.890615   \n",
       "9143  1000  W OHARE AIRPORT, Chicago, IL  41.974689 -87.890615   \n",
       "9144  1000  W OHARE AIRPORT, Chicago, IL  41.974689 -87.890615   \n",
       "9145  1000  W OHARE AIRPORT, Chicago, IL  41.974689 -87.890615   \n",
       "9146  1000  W OHARE AIRPORT, Chicago, IL  41.974689 -87.890615   \n",
       "9147  1000  W OHARE AIRPORT, Chicago, IL  41.974689 -87.890615   \n",
       "9148  1000  W OHARE AIRPORT, Chicago, IL  41.974689 -87.890615   \n",
       "9149  1000  W OHARE AIRPORT, Chicago, IL  41.974689 -87.890615   \n",
       "9150  1000  W OHARE AIRPORT, Chicago, IL  41.974689 -87.890615   \n",
       "9151  1000  W OHARE AIRPORT, Chicago, IL  41.974689 -87.890615   \n",
       "9152  1000  W OHARE AIRPORT, Chicago, IL  41.974689 -87.890615   \n",
       "9153  1000  W OHARE AIRPORT, Chicago, IL  41.974689 -87.890615   \n",
       "9154  1000  W OHARE AIRPORT, Chicago, IL  41.974689 -87.890615   \n",
       "9155  1000  W OHARE AIRPORT, Chicago, IL  41.974689 -87.890615   \n",
       "9156  1000  W OHARE AIRPORT, Chicago, IL  41.974689 -87.890615   \n",
       "9157  1000  W OHARE AIRPORT, Chicago, IL  41.974689 -87.890615   \n",
       "9158  1000  W OHARE AIRPORT, Chicago, IL  41.974689 -87.890615   \n",
       "9159  1000  W OHARE AIRPORT, Chicago, IL  41.974689 -87.890615   \n",
       "9160  1000  W OHARE AIRPORT, Chicago, IL  41.974689 -87.890615   \n",
       "\n",
       "      AddressAccuracy  NumMosquitos  WnvPresent    ZIP  DayTrap_dup  \n",
       "9141                9             3           0  60666        False  \n",
       "9142                9             8           0  60666         True  \n",
       "9143                9             7           0  60666         True  \n",
       "9144                9             2           0  60666         True  \n",
       "9145                9            11           0  60666         True  \n",
       "9146                9            17           0  60666         True  \n",
       "9147                9             5           0  60666         True  \n",
       "9148                9             2           0  60666         True  \n",
       "9149                9            50           0  60666         True  \n",
       "9150                9            50           0  60666         True  \n",
       "9151                9             5           0  60666         True  \n",
       "9152                9             7           0  60666         True  \n",
       "9153                9            14           0  60666         True  \n",
       "9154                9             4           0  60666         True  \n",
       "9155                9            16           0  60666         True  \n",
       "9156                9            39           0  60666         True  \n",
       "9157                9             5           0  60666         True  \n",
       "9158                9             1           0  60666         True  \n",
       "9159                9            18           0  60666         True  \n",
       "9160                9             6           0  60666         True  "
      ]
     },
     "execution_count": 24,
     "metadata": {},
     "output_type": "execute_result"
    }
   ],
   "source": [
    "train[(train.Date=='2013-07-25') & (train.Trap=='T900')]"
   ]
  },
  {
   "cell_type": "markdown",
   "metadata": {},
   "source": [
    "The documentation says the records are limited to 50 mosquito samples.  For traps greater than 50 a new record is created.  To tidy the data for modeling I need to consolodate these records into one.  I need to sum the number of mosquitos caught, capture if there was a positive test, and capture the species in the combined record, while all of the other elements should be the same. First let's find the number of records I should have in the end by finding how many unique rows there are for `Date` and `Trap`."
   ]
  },
  {
   "cell_type": "code",
   "execution_count": 25,
   "metadata": {},
   "outputs": [
    {
     "name": "stdout",
     "output_type": "stream",
     "text": [
      "(12920, 3)\n",
      "(4616, 3)\n"
     ]
    }
   ],
   "source": [
    "dummy = train.groupby(['Date','Trap']).size().reset_index()\n",
    "print(dummy.shape)\n",
    "dummy = dummy[dummy[0]!=0]\n",
    "print(dummy.shape)\n",
    "#dummy[0]"
   ]
  },
  {
   "cell_type": "markdown",
   "metadata": {},
   "source": [
    "When I am done there should be only 4616 records in the training set"
   ]
  },
  {
   "cell_type": "code",
   "execution_count": 26,
   "metadata": {},
   "outputs": [
    {
     "data": {
      "text/plain": [
       "(10506, 14)"
      ]
     },
     "execution_count": 26,
     "metadata": {},
     "output_type": "execute_result"
    }
   ],
   "source": [
    "train.shape"
   ]
  },
  {
   "cell_type": "markdown",
   "metadata": {},
   "source": [
    "A quick check of the data integrity in the training set.  "
   ]
  },
  {
   "cell_type": "code",
   "execution_count": 27,
   "metadata": {},
   "outputs": [
    {
     "name": "stdout",
     "output_type": "stream",
     "text": [
      "(2589984, 4)\n",
      "(138, 4)\n"
     ]
    }
   ],
   "source": [
    "dummy = train.groupby(['Trap','Latitude','Longitude']).size().reset_index()\n",
    "print(dummy.shape)\n",
    "dummy = dummy[dummy[0]!=0]\n",
    "print(dummy.shape)\n",
    "#dummy[0]"
   ]
  },
  {
   "cell_type": "code",
   "execution_count": 28,
   "metadata": {},
   "outputs": [
    {
     "data": {
      "text/plain": [
       "136"
      ]
     },
     "execution_count": 28,
     "metadata": {},
     "output_type": "execute_result"
    }
   ],
   "source": [
    "train.Trap.nunique()"
   ]
  },
  {
   "cell_type": "markdown",
   "metadata": {},
   "source": [
    "It looks like there are 2 cases of traps with different latitudes and longitudes.  I will see if this is an error or not.  "
   ]
  },
  {
   "cell_type": "code",
   "execution_count": 29,
   "metadata": {
    "scrolled": true
   },
   "outputs": [
    {
     "data": {
      "text/html": [
       "<div>\n",
       "<style scoped>\n",
       "    .dataframe tbody tr th:only-of-type {\n",
       "        vertical-align: middle;\n",
       "    }\n",
       "\n",
       "    .dataframe tbody tr th {\n",
       "        vertical-align: top;\n",
       "    }\n",
       "\n",
       "    .dataframe thead th {\n",
       "        text-align: right;\n",
       "    }\n",
       "</style>\n",
       "<table border=\"1\" class=\"dataframe\">\n",
       "  <thead>\n",
       "    <tr style=\"text-align: right;\">\n",
       "      <th></th>\n",
       "      <th>Trap</th>\n",
       "      <th>Latitude</th>\n",
       "      <th>Longitude</th>\n",
       "      <th>0</th>\n",
       "    </tr>\n",
       "  </thead>\n",
       "  <tbody>\n",
       "    <tr>\n",
       "      <th>169880</th>\n",
       "      <td>T009</td>\n",
       "      <td>41.992478</td>\n",
       "      <td>-87.862995</td>\n",
       "      <td>80</td>\n",
       "    </tr>\n",
       "    <tr>\n",
       "      <th>484871</th>\n",
       "      <td>T035</td>\n",
       "      <td>41.836644</td>\n",
       "      <td>-87.677737</td>\n",
       "      <td>27</td>\n",
       "    </tr>\n",
       "  </tbody>\n",
       "</table>\n",
       "</div>"
      ],
      "text/plain": [
       "        Trap   Latitude  Longitude   0\n",
       "169880  T009  41.992478 -87.862995  80\n",
       "484871  T035  41.836644 -87.677737  27"
      ]
     },
     "execution_count": 29,
     "metadata": {},
     "output_type": "execute_result"
    }
   ],
   "source": [
    "dummy[dummy.duplicated('Trap')]"
   ]
  },
  {
   "cell_type": "code",
   "execution_count": 30,
   "metadata": {
    "scrolled": true
   },
   "outputs": [
    {
     "data": {
      "text/html": [
       "<div>\n",
       "<style scoped>\n",
       "    .dataframe tbody tr th:only-of-type {\n",
       "        vertical-align: middle;\n",
       "    }\n",
       "\n",
       "    .dataframe tbody tr th {\n",
       "        vertical-align: top;\n",
       "    }\n",
       "\n",
       "    .dataframe thead th {\n",
       "        text-align: right;\n",
       "    }\n",
       "</style>\n",
       "<table border=\"1\" class=\"dataframe\">\n",
       "  <thead>\n",
       "    <tr style=\"text-align: right;\">\n",
       "      <th></th>\n",
       "      <th>Trap</th>\n",
       "      <th>Latitude</th>\n",
       "      <th>Longitude</th>\n",
       "      <th>0</th>\n",
       "    </tr>\n",
       "  </thead>\n",
       "  <tbody>\n",
       "    <tr>\n",
       "      <th>169055</th>\n",
       "      <td>T009</td>\n",
       "      <td>41.981964</td>\n",
       "      <td>-87.812827</td>\n",
       "      <td>31</td>\n",
       "    </tr>\n",
       "    <tr>\n",
       "      <th>169880</th>\n",
       "      <td>T009</td>\n",
       "      <td>41.992478</td>\n",
       "      <td>-87.862995</td>\n",
       "      <td>80</td>\n",
       "    </tr>\n",
       "  </tbody>\n",
       "</table>\n",
       "</div>"
      ],
      "text/plain": [
       "        Trap   Latitude  Longitude   0\n",
       "169055  T009  41.981964 -87.812827  31\n",
       "169880  T009  41.992478 -87.862995  80"
      ]
     },
     "execution_count": 30,
     "metadata": {},
     "output_type": "execute_result"
    }
   ],
   "source": [
    "dummy[dummy.Trap.str.contains('T009')]"
   ]
  },
  {
   "cell_type": "code",
   "execution_count": 31,
   "metadata": {
    "scrolled": true
   },
   "outputs": [
    {
     "data": {
      "text/html": [
       "<div>\n",
       "<style scoped>\n",
       "    .dataframe tbody tr th:only-of-type {\n",
       "        vertical-align: middle;\n",
       "    }\n",
       "\n",
       "    .dataframe tbody tr th {\n",
       "        vertical-align: top;\n",
       "    }\n",
       "\n",
       "    .dataframe thead th {\n",
       "        text-align: right;\n",
       "    }\n",
       "</style>\n",
       "<table border=\"1\" class=\"dataframe\">\n",
       "  <thead>\n",
       "    <tr style=\"text-align: right;\">\n",
       "      <th></th>\n",
       "      <th>Trap</th>\n",
       "      <th>Latitude</th>\n",
       "      <th>Longitude</th>\n",
       "      <th>0</th>\n",
       "    </tr>\n",
       "  </thead>\n",
       "  <tbody>\n",
       "    <tr>\n",
       "      <th>481244</th>\n",
       "      <td>T035</td>\n",
       "      <td>41.763733</td>\n",
       "      <td>-87.742302</td>\n",
       "      <td>45</td>\n",
       "    </tr>\n",
       "    <tr>\n",
       "      <th>484871</th>\n",
       "      <td>T035</td>\n",
       "      <td>41.836644</td>\n",
       "      <td>-87.677737</td>\n",
       "      <td>27</td>\n",
       "    </tr>\n",
       "  </tbody>\n",
       "</table>\n",
       "</div>"
      ],
      "text/plain": [
       "        Trap   Latitude  Longitude   0\n",
       "481244  T035  41.763733 -87.742302  45\n",
       "484871  T035  41.836644 -87.677737  27"
      ]
     },
     "execution_count": 31,
     "metadata": {},
     "output_type": "execute_result"
    }
   ],
   "source": [
    "dummy[dummy.Trap.str.contains('T035')]"
   ]
  },
  {
   "cell_type": "markdown",
   "metadata": {},
   "source": [
    "At some point the traps were moved? I will and an `a` to the Trap name with the new Latitude and longitude in each case.  That way the traps will not be aggreggated incorrectly.  "
   ]
  },
  {
   "cell_type": "code",
   "execution_count": 32,
   "metadata": {
    "scrolled": true
   },
   "outputs": [],
   "source": [
    "train['Trap'] = train.Trap.cat.add_categories(['T035a','T009a'])"
   ]
  },
  {
   "cell_type": "code",
   "execution_count": 33,
   "metadata": {
    "scrolled": false
   },
   "outputs": [],
   "source": [
    "mask = (train.Trap=='T035') & (train.Latitude==41.763733) & (train.Longitude==-87.742302)\n",
    "train.loc[mask,'Trap'] = 'T035a'"
   ]
  },
  {
   "cell_type": "code",
   "execution_count": 34,
   "metadata": {},
   "outputs": [],
   "source": [
    "mask = (train.Trap=='T009') & (train.Latitude==41.992478) & (train.Longitude==-87.862995)\n",
    "train.loc[mask,'Trap'] = 'T009a'"
   ]
  },
  {
   "cell_type": "markdown",
   "metadata": {},
   "source": [
    "Boom, now these two traps can be aggregated correctly.  "
   ]
  },
  {
   "cell_type": "code",
   "execution_count": 35,
   "metadata": {},
   "outputs": [
    {
     "name": "stdout",
     "output_type": "stream",
     "text": [
      "(13110, 3)\n",
      "(4616, 3)\n"
     ]
    }
   ],
   "source": [
    "dummy = train.groupby(['Date','Trap']).size().reset_index()\n",
    "print(dummy.shape)\n",
    "dummy = dummy[dummy[0]!=0]\n",
    "print(dummy.shape)"
   ]
  },
  {
   "cell_type": "markdown",
   "metadata": {},
   "source": [
    "It looks like the training data only consits of 4,616 unique dates and trap locations.  Now we will aggregate the duplicate records to create single observations for dates and traps. That is too big of a reduction to account for the number of records that exactly equal 50.  Why else would their be duplicate records?"
   ]
  },
  {
   "cell_type": "code",
   "execution_count": 36,
   "metadata": {},
   "outputs": [
    {
     "data": {
      "text/plain": [
       "(8475, 4)"
      ]
     },
     "execution_count": 36,
     "metadata": {},
     "output_type": "execute_result"
    }
   ],
   "source": [
    "dummy = train.groupby(['Date','Trap','Species']).size().reset_index()\n",
    "dummy = dummy[dummy[0]!=0]\n",
    "dummy.shape"
   ]
  },
  {
   "cell_type": "markdown",
   "metadata": {},
   "source": [
    "This looks much closer to the number of additional records due to samples greater than 50 mosquitos. Some records are seperated by mosquito species.  \n",
    "\n",
    "That raises the question should I keep different species samples collected at the same time and the same place in different records or should I lump them into one observation and capture the range of species in that sample? ~A quick internet search leads me to believe that certain mosquito species are more likely to carry WNV than others.  Given this possibility I will not lump together mosquito species for now.~  \n",
    "\n",
    "I found a document from the CDC that says all of these mosquito species are capable carrying WNV and infecting humans.  Plus this not something that is available in the test set, so I will aggregate these records as well."
   ]
  },
  {
   "cell_type": "code",
   "execution_count": 37,
   "metadata": {},
   "outputs": [
    {
     "data": {
      "text/plain": [
       "['CULEX PIPIENS/RESTUANS',\n",
       " 'CULEX RESTUANS',\n",
       " 'CULEX PIPIENS',\n",
       " 'CULEX SALINARIUS',\n",
       " 'CULEX TERRITANS',\n",
       " 'CULEX TARSALIS',\n",
       " 'CULEX ERRATICUS']"
      ]
     },
     "execution_count": 37,
     "metadata": {},
     "output_type": "execute_result"
    }
   ],
   "source": [
    "list(train.Species.unique())"
   ]
  },
  {
   "cell_type": "code",
   "execution_count": 38,
   "metadata": {},
   "outputs": [],
   "source": [
    "### Function for aggregating mosquito species into a single record\n",
    "### to be used in groupby.agg() to capture all species of mosquito\n",
    "### taken in sample\n",
    "\n",
    "### Not used at this time\n",
    "\n",
    "def AggSpecies(ser):\n",
    "    \"\"\"Function to pass to groupby agg to combine the mosquito species column\"\"\"\n",
    "    ser = list(ser)\n",
    "    spec = []\n",
    "    for i in ser:\n",
    "        if '/' in i:\n",
    "            dum = i.replace('CULEX ','')\n",
    "            for ii in dum.split('/'):\n",
    "                spec.append(ii)\n",
    "        else:\n",
    "            spec.append(i.replace('CULEX ',''))\n",
    "    return 'CULEX ' +'/'.join(list(sorted(set(spec))))\n",
    "        "
   ]
  },
  {
   "cell_type": "code",
   "execution_count": 39,
   "metadata": {},
   "outputs": [
    {
     "data": {
      "text/plain": [
       "(4616, 5)"
      ]
     },
     "execution_count": 39,
     "metadata": {},
     "output_type": "execute_result"
    }
   ],
   "source": [
    "### Aggregate the NumMosquitos by summing and \n",
    "### WnvPresent with Max \n",
    "\n",
    "agg_records = train.groupby(by = ['Date','Trap']).agg({'Species':AggSpecies,'NumMosquitos':'sum','WnvPresent':'max'}).fillna(0.).reset_index()\n",
    "agg_records = agg_records[agg_records.NumMosquitos!=0.].reset_index(drop=True)\n",
    "agg_records.shape"
   ]
  },
  {
   "cell_type": "markdown",
   "metadata": {},
   "source": [
    "Perfect that is the number of unique combinations of  `Trap` and `Date` I found earlier\n"
   ]
  },
  {
   "cell_type": "code",
   "execution_count": 40,
   "metadata": {},
   "outputs": [
    {
     "name": "stdout",
     "output_type": "stream",
     "text": [
      "<class 'pandas.core.frame.DataFrame'>\n",
      "RangeIndex: 4616 entries, 0 to 4615\n",
      "Data columns (total 5 columns):\n",
      " #   Column        Non-Null Count  Dtype         \n",
      "---  ------        --------------  -----         \n",
      " 0   Date          4616 non-null   datetime64[ns]\n",
      " 1   Trap          4616 non-null   category      \n",
      " 2   Species       4616 non-null   object        \n",
      " 3   NumMosquitos  4616 non-null   int64         \n",
      " 4   WnvPresent    4616 non-null   float64       \n",
      "dtypes: category(1), datetime64[ns](1), float64(1), int64(1), object(1)\n",
      "memory usage: 158.5+ KB\n"
     ]
    }
   ],
   "source": [
    "agg_records.info()"
   ]
  },
  {
   "cell_type": "code",
   "execution_count": 41,
   "metadata": {},
   "outputs": [
    {
     "data": {
      "text/plain": [
       "0"
      ]
     },
     "execution_count": 41,
     "metadata": {},
     "output_type": "execute_result"
    }
   ],
   "source": [
    "agg_records.duplicated(subset=['Date','Trap']).sum()"
   ]
  },
  {
   "cell_type": "markdown",
   "metadata": {},
   "source": [
    "And now I will create new columns that represent what species was sampled in the trap on that date."
   ]
  },
  {
   "cell_type": "code",
   "execution_count": 42,
   "metadata": {},
   "outputs": [],
   "source": [
    "specs = ['RESTUANS','PIPIENS','SALINARIUS','TERRITANS','TARSALIS','ERRATICUS']\n",
    "for s in specs:\n",
    "    agg_records[s] = 0\n",
    "    agg_records[s] = np.where(agg_records['Species'].str.contains(s),1,0)\n"
   ]
  },
  {
   "cell_type": "code",
   "execution_count": 43,
   "metadata": {},
   "outputs": [
    {
     "data": {
      "text/html": [
       "<div>\n",
       "<style scoped>\n",
       "    .dataframe tbody tr th:only-of-type {\n",
       "        vertical-align: middle;\n",
       "    }\n",
       "\n",
       "    .dataframe tbody tr th {\n",
       "        vertical-align: top;\n",
       "    }\n",
       "\n",
       "    .dataframe thead th {\n",
       "        text-align: right;\n",
       "    }\n",
       "</style>\n",
       "<table border=\"1\" class=\"dataframe\">\n",
       "  <thead>\n",
       "    <tr style=\"text-align: right;\">\n",
       "      <th></th>\n",
       "      <th>Date</th>\n",
       "      <th>Trap</th>\n",
       "      <th>Species</th>\n",
       "      <th>NumMosquitos</th>\n",
       "      <th>WnvPresent</th>\n",
       "      <th>RESTUANS</th>\n",
       "      <th>PIPIENS</th>\n",
       "      <th>SALINARIUS</th>\n",
       "      <th>TERRITANS</th>\n",
       "      <th>TARSALIS</th>\n",
       "      <th>ERRATICUS</th>\n",
       "    </tr>\n",
       "  </thead>\n",
       "  <tbody>\n",
       "    <tr>\n",
       "      <th>0</th>\n",
       "      <td>2007-05-29</td>\n",
       "      <td>T002</td>\n",
       "      <td>CULEX PIPIENS/RESTUANS</td>\n",
       "      <td>2</td>\n",
       "      <td>0.0</td>\n",
       "      <td>1</td>\n",
       "      <td>1</td>\n",
       "      <td>0</td>\n",
       "      <td>0</td>\n",
       "      <td>0</td>\n",
       "      <td>0</td>\n",
       "    </tr>\n",
       "    <tr>\n",
       "      <th>1</th>\n",
       "      <td>2007-05-29</td>\n",
       "      <td>T007</td>\n",
       "      <td>CULEX RESTUANS</td>\n",
       "      <td>1</td>\n",
       "      <td>0.0</td>\n",
       "      <td>1</td>\n",
       "      <td>0</td>\n",
       "      <td>0</td>\n",
       "      <td>0</td>\n",
       "      <td>0</td>\n",
       "      <td>0</td>\n",
       "    </tr>\n",
       "    <tr>\n",
       "      <th>2</th>\n",
       "      <td>2007-05-29</td>\n",
       "      <td>T015</td>\n",
       "      <td>CULEX PIPIENS/RESTUANS</td>\n",
       "      <td>5</td>\n",
       "      <td>0.0</td>\n",
       "      <td>1</td>\n",
       "      <td>1</td>\n",
       "      <td>0</td>\n",
       "      <td>0</td>\n",
       "      <td>0</td>\n",
       "      <td>0</td>\n",
       "    </tr>\n",
       "    <tr>\n",
       "      <th>3</th>\n",
       "      <td>2007-05-29</td>\n",
       "      <td>T045</td>\n",
       "      <td>CULEX RESTUANS</td>\n",
       "      <td>2</td>\n",
       "      <td>0.0</td>\n",
       "      <td>1</td>\n",
       "      <td>0</td>\n",
       "      <td>0</td>\n",
       "      <td>0</td>\n",
       "      <td>0</td>\n",
       "      <td>0</td>\n",
       "    </tr>\n",
       "    <tr>\n",
       "      <th>4</th>\n",
       "      <td>2007-05-29</td>\n",
       "      <td>T046</td>\n",
       "      <td>CULEX RESTUANS</td>\n",
       "      <td>1</td>\n",
       "      <td>0.0</td>\n",
       "      <td>1</td>\n",
       "      <td>0</td>\n",
       "      <td>0</td>\n",
       "      <td>0</td>\n",
       "      <td>0</td>\n",
       "      <td>0</td>\n",
       "    </tr>\n",
       "  </tbody>\n",
       "</table>\n",
       "</div>"
      ],
      "text/plain": [
       "        Date  Trap                 Species  NumMosquitos  WnvPresent  \\\n",
       "0 2007-05-29  T002  CULEX PIPIENS/RESTUANS             2         0.0   \n",
       "1 2007-05-29  T007          CULEX RESTUANS             1         0.0   \n",
       "2 2007-05-29  T015  CULEX PIPIENS/RESTUANS             5         0.0   \n",
       "3 2007-05-29  T045          CULEX RESTUANS             2         0.0   \n",
       "4 2007-05-29  T046          CULEX RESTUANS             1         0.0   \n",
       "\n",
       "   RESTUANS  PIPIENS  SALINARIUS  TERRITANS  TARSALIS  ERRATICUS  \n",
       "0         1        1           0          0         0          0  \n",
       "1         1        0           0          0         0          0  \n",
       "2         1        1           0          0         0          0  \n",
       "3         1        0           0          0         0          0  \n",
       "4         1        0           0          0         0          0  "
      ]
     },
     "execution_count": 43,
     "metadata": {},
     "output_type": "execute_result"
    }
   ],
   "source": [
    "agg_records.head()"
   ]
  },
  {
   "cell_type": "code",
   "execution_count": 44,
   "metadata": {},
   "outputs": [
    {
     "data": {
      "text/html": [
       "<div>\n",
       "<style scoped>\n",
       "    .dataframe tbody tr th:only-of-type {\n",
       "        vertical-align: middle;\n",
       "    }\n",
       "\n",
       "    .dataframe tbody tr th {\n",
       "        vertical-align: top;\n",
       "    }\n",
       "\n",
       "    .dataframe thead th {\n",
       "        text-align: right;\n",
       "    }\n",
       "</style>\n",
       "<table border=\"1\" class=\"dataframe\">\n",
       "  <thead>\n",
       "    <tr style=\"text-align: right;\">\n",
       "      <th></th>\n",
       "      <th>NumMosquitos</th>\n",
       "      <th>WnvPresent</th>\n",
       "      <th>RESTUANS</th>\n",
       "      <th>PIPIENS</th>\n",
       "      <th>SALINARIUS</th>\n",
       "      <th>TERRITANS</th>\n",
       "      <th>TARSALIS</th>\n",
       "      <th>ERRATICUS</th>\n",
       "    </tr>\n",
       "  </thead>\n",
       "  <tbody>\n",
       "    <tr>\n",
       "      <th>count</th>\n",
       "      <td>4616.000000</td>\n",
       "      <td>4616.000000</td>\n",
       "      <td>4616.000000</td>\n",
       "      <td>4616.000000</td>\n",
       "      <td>4616.000000</td>\n",
       "      <td>4616.000000</td>\n",
       "      <td>4616.000000</td>\n",
       "      <td>4616.000000</td>\n",
       "    </tr>\n",
       "    <tr>\n",
       "      <th>mean</th>\n",
       "      <td>29.254549</td>\n",
       "      <td>0.083406</td>\n",
       "      <td>0.938475</td>\n",
       "      <td>0.895581</td>\n",
       "      <td>0.017981</td>\n",
       "      <td>0.046794</td>\n",
       "      <td>0.001300</td>\n",
       "      <td>0.000217</td>\n",
       "    </tr>\n",
       "    <tr>\n",
       "      <th>std</th>\n",
       "      <td>118.533327</td>\n",
       "      <td>0.276524</td>\n",
       "      <td>0.240317</td>\n",
       "      <td>0.305837</td>\n",
       "      <td>0.132896</td>\n",
       "      <td>0.211220</td>\n",
       "      <td>0.036034</td>\n",
       "      <td>0.014719</td>\n",
       "    </tr>\n",
       "    <tr>\n",
       "      <th>min</th>\n",
       "      <td>1.000000</td>\n",
       "      <td>0.000000</td>\n",
       "      <td>0.000000</td>\n",
       "      <td>0.000000</td>\n",
       "      <td>0.000000</td>\n",
       "      <td>0.000000</td>\n",
       "      <td>0.000000</td>\n",
       "      <td>0.000000</td>\n",
       "    </tr>\n",
       "    <tr>\n",
       "      <th>25%</th>\n",
       "      <td>3.000000</td>\n",
       "      <td>0.000000</td>\n",
       "      <td>1.000000</td>\n",
       "      <td>1.000000</td>\n",
       "      <td>0.000000</td>\n",
       "      <td>0.000000</td>\n",
       "      <td>0.000000</td>\n",
       "      <td>0.000000</td>\n",
       "    </tr>\n",
       "    <tr>\n",
       "      <th>50%</th>\n",
       "      <td>7.000000</td>\n",
       "      <td>0.000000</td>\n",
       "      <td>1.000000</td>\n",
       "      <td>1.000000</td>\n",
       "      <td>0.000000</td>\n",
       "      <td>0.000000</td>\n",
       "      <td>0.000000</td>\n",
       "      <td>0.000000</td>\n",
       "    </tr>\n",
       "    <tr>\n",
       "      <th>75%</th>\n",
       "      <td>20.000000</td>\n",
       "      <td>0.000000</td>\n",
       "      <td>1.000000</td>\n",
       "      <td>1.000000</td>\n",
       "      <td>0.000000</td>\n",
       "      <td>0.000000</td>\n",
       "      <td>0.000000</td>\n",
       "      <td>0.000000</td>\n",
       "    </tr>\n",
       "    <tr>\n",
       "      <th>max</th>\n",
       "      <td>3002.000000</td>\n",
       "      <td>1.000000</td>\n",
       "      <td>1.000000</td>\n",
       "      <td>1.000000</td>\n",
       "      <td>1.000000</td>\n",
       "      <td>1.000000</td>\n",
       "      <td>1.000000</td>\n",
       "      <td>1.000000</td>\n",
       "    </tr>\n",
       "  </tbody>\n",
       "</table>\n",
       "</div>"
      ],
      "text/plain": [
       "       NumMosquitos   WnvPresent     RESTUANS      PIPIENS   SALINARIUS  \\\n",
       "count   4616.000000  4616.000000  4616.000000  4616.000000  4616.000000   \n",
       "mean      29.254549     0.083406     0.938475     0.895581     0.017981   \n",
       "std      118.533327     0.276524     0.240317     0.305837     0.132896   \n",
       "min        1.000000     0.000000     0.000000     0.000000     0.000000   \n",
       "25%        3.000000     0.000000     1.000000     1.000000     0.000000   \n",
       "50%        7.000000     0.000000     1.000000     1.000000     0.000000   \n",
       "75%       20.000000     0.000000     1.000000     1.000000     0.000000   \n",
       "max     3002.000000     1.000000     1.000000     1.000000     1.000000   \n",
       "\n",
       "         TERRITANS     TARSALIS    ERRATICUS  \n",
       "count  4616.000000  4616.000000  4616.000000  \n",
       "mean      0.046794     0.001300     0.000217  \n",
       "std       0.211220     0.036034     0.014719  \n",
       "min       0.000000     0.000000     0.000000  \n",
       "25%       0.000000     0.000000     0.000000  \n",
       "50%       0.000000     0.000000     0.000000  \n",
       "75%       0.000000     0.000000     0.000000  \n",
       "max       1.000000     1.000000     1.000000  "
      ]
     },
     "execution_count": 44,
     "metadata": {},
     "output_type": "execute_result"
    }
   ],
   "source": [
    "agg_records.describe()"
   ]
  },
  {
   "cell_type": "markdown",
   "metadata": {},
   "source": [
    "Looks good, now I will drop the now unnecessary `Species` column."
   ]
  },
  {
   "cell_type": "code",
   "execution_count": 45,
   "metadata": {},
   "outputs": [
    {
     "data": {
      "text/plain": [
       "(4616, 10)"
      ]
     },
     "execution_count": 45,
     "metadata": {},
     "output_type": "execute_result"
    }
   ],
   "source": [
    "agg_records.drop('Species',axis=1,inplace=True)\n",
    "agg_records.shape"
   ]
  },
  {
   "cell_type": "markdown",
   "metadata": {},
   "source": [
    "That looks like the right shape.  Now I need to join the other columns from the original dataframe to these columns in the aggregated records. "
   ]
  },
  {
   "cell_type": "code",
   "execution_count": 46,
   "metadata": {},
   "outputs": [
    {
     "data": {
      "text/html": [
       "<div>\n",
       "<style scoped>\n",
       "    .dataframe tbody tr th:only-of-type {\n",
       "        vertical-align: middle;\n",
       "    }\n",
       "\n",
       "    .dataframe tbody tr th {\n",
       "        vertical-align: top;\n",
       "    }\n",
       "\n",
       "    .dataframe thead th {\n",
       "        text-align: right;\n",
       "    }\n",
       "</style>\n",
       "<table border=\"1\" class=\"dataframe\">\n",
       "  <thead>\n",
       "    <tr style=\"text-align: right;\">\n",
       "      <th></th>\n",
       "      <th>Date</th>\n",
       "      <th>Trap</th>\n",
       "      <th>NumMosquitos</th>\n",
       "      <th>WnvPresent</th>\n",
       "      <th>RESTUANS</th>\n",
       "      <th>PIPIENS</th>\n",
       "      <th>SALINARIUS</th>\n",
       "      <th>TERRITANS</th>\n",
       "      <th>TARSALIS</th>\n",
       "      <th>ERRATICUS</th>\n",
       "      <th>...</th>\n",
       "      <th>Block</th>\n",
       "      <th>Street</th>\n",
       "      <th>AddressNumberAndStreet</th>\n",
       "      <th>Latitude</th>\n",
       "      <th>Longitude</th>\n",
       "      <th>AddressAccuracy</th>\n",
       "      <th>NumMosquitos_orig</th>\n",
       "      <th>WnvPresent_orig</th>\n",
       "      <th>ZIP</th>\n",
       "      <th>DayTrap_dup</th>\n",
       "    </tr>\n",
       "  </thead>\n",
       "  <tbody>\n",
       "    <tr>\n",
       "      <th>0</th>\n",
       "      <td>2007-05-29</td>\n",
       "      <td>T002</td>\n",
       "      <td>2</td>\n",
       "      <td>0.0</td>\n",
       "      <td>1</td>\n",
       "      <td>1</td>\n",
       "      <td>0</td>\n",
       "      <td>0</td>\n",
       "      <td>0</td>\n",
       "      <td>0</td>\n",
       "      <td>...</td>\n",
       "      <td>41</td>\n",
       "      <td>N OAK PARK AVE</td>\n",
       "      <td>4100  N OAK PARK AVE, Chicago, IL</td>\n",
       "      <td>41.954690</td>\n",
       "      <td>-87.800991</td>\n",
       "      <td>9</td>\n",
       "      <td>1</td>\n",
       "      <td>0</td>\n",
       "      <td>60634</td>\n",
       "      <td>False</td>\n",
       "    </tr>\n",
       "    <tr>\n",
       "      <th>1</th>\n",
       "      <td>2007-05-29</td>\n",
       "      <td>T002</td>\n",
       "      <td>2</td>\n",
       "      <td>0.0</td>\n",
       "      <td>1</td>\n",
       "      <td>1</td>\n",
       "      <td>0</td>\n",
       "      <td>0</td>\n",
       "      <td>0</td>\n",
       "      <td>0</td>\n",
       "      <td>...</td>\n",
       "      <td>41</td>\n",
       "      <td>N OAK PARK AVE</td>\n",
       "      <td>4100  N OAK PARK AVE, Chicago, IL</td>\n",
       "      <td>41.954690</td>\n",
       "      <td>-87.800991</td>\n",
       "      <td>9</td>\n",
       "      <td>1</td>\n",
       "      <td>0</td>\n",
       "      <td>60634</td>\n",
       "      <td>True</td>\n",
       "    </tr>\n",
       "    <tr>\n",
       "      <th>2</th>\n",
       "      <td>2007-05-29</td>\n",
       "      <td>T007</td>\n",
       "      <td>1</td>\n",
       "      <td>0.0</td>\n",
       "      <td>1</td>\n",
       "      <td>0</td>\n",
       "      <td>0</td>\n",
       "      <td>0</td>\n",
       "      <td>0</td>\n",
       "      <td>0</td>\n",
       "      <td>...</td>\n",
       "      <td>62</td>\n",
       "      <td>N MANDELL AVE</td>\n",
       "      <td>6200  N MANDELL AVE, Chicago, IL</td>\n",
       "      <td>41.994991</td>\n",
       "      <td>-87.769279</td>\n",
       "      <td>9</td>\n",
       "      <td>1</td>\n",
       "      <td>0</td>\n",
       "      <td>60646</td>\n",
       "      <td>False</td>\n",
       "    </tr>\n",
       "  </tbody>\n",
       "</table>\n",
       "<p>3 rows × 22 columns</p>\n",
       "</div>"
      ],
      "text/plain": [
       "        Date  Trap  NumMosquitos  WnvPresent  RESTUANS  PIPIENS  SALINARIUS  \\\n",
       "0 2007-05-29  T002             2         0.0         1        1           0   \n",
       "1 2007-05-29  T002             2         0.0         1        1           0   \n",
       "2 2007-05-29  T007             1         0.0         1        0           0   \n",
       "\n",
       "   TERRITANS  TARSALIS  ERRATICUS  ... Block           Street  \\\n",
       "0          0         0          0  ...    41   N OAK PARK AVE   \n",
       "1          0         0          0  ...    41   N OAK PARK AVE   \n",
       "2          0         0          0  ...    62    N MANDELL AVE   \n",
       "\n",
       "              AddressNumberAndStreet   Latitude  Longitude  AddressAccuracy  \\\n",
       "0  4100  N OAK PARK AVE, Chicago, IL  41.954690 -87.800991                9   \n",
       "1  4100  N OAK PARK AVE, Chicago, IL  41.954690 -87.800991                9   \n",
       "2   6200  N MANDELL AVE, Chicago, IL  41.994991 -87.769279                9   \n",
       "\n",
       "   NumMosquitos_orig  WnvPresent_orig    ZIP  DayTrap_dup  \n",
       "0                  1                0  60634        False  \n",
       "1                  1                0  60634         True  \n",
       "2                  1                0  60646        False  \n",
       "\n",
       "[3 rows x 22 columns]"
      ]
     },
     "execution_count": 46,
     "metadata": {},
     "output_type": "execute_result"
    }
   ],
   "source": [
    "#merge_columns = ['Address', 'Block','Street','AddressNumberAndStreet','Latitude','Longitude','AddressAccuracy','ZIP']\n",
    "train_ed = agg_records.merge(train,how = 'left',on = ['Date','Trap'],\\\n",
    "                             suffixes=['','_orig'],validate='1:m')\n",
    "train_ed.head(3)"
   ]
  },
  {
   "cell_type": "code",
   "execution_count": 47,
   "metadata": {},
   "outputs": [
    {
     "data": {
      "text/plain": [
       "(4616, 18)"
      ]
     },
     "execution_count": 47,
     "metadata": {},
     "output_type": "execute_result"
    }
   ],
   "source": [
    "### A little clean up after merge\n",
    "train_ed = train_ed.drop(['NumMosquitos_orig','WnvPresent_orig','Species'],axis = 1)\n",
    "\n",
    "colz = ['Date','Trap','Address', 'Block','Street','AddressNumberAndStreet']\n",
    "colz += ['Latitude','Longitude','AddressAccuracy','ZIP']\n",
    "colz += specs  # adding species columns \n",
    "colz += ['NumMosquitos','WnvPresent']\n",
    "\n",
    "\n",
    "train_ed = train_ed[colz]\n",
    "train_ed.drop_duplicates(inplace = True)\n",
    "train_ed.reset_index(drop = True, inplace =True)\n",
    "train_ed.shape"
   ]
  },
  {
   "cell_type": "markdown",
   "metadata": {},
   "source": [
    "That looks like the right shape.  Now I'll double check the dataframe and column types before exporting the cleaned data."
   ]
  },
  {
   "cell_type": "code",
   "execution_count": 48,
   "metadata": {
    "scrolled": false
   },
   "outputs": [
    {
     "data": {
      "text/html": [
       "<div>\n",
       "<style scoped>\n",
       "    .dataframe tbody tr th:only-of-type {\n",
       "        vertical-align: middle;\n",
       "    }\n",
       "\n",
       "    .dataframe tbody tr th {\n",
       "        vertical-align: top;\n",
       "    }\n",
       "\n",
       "    .dataframe thead th {\n",
       "        text-align: right;\n",
       "    }\n",
       "</style>\n",
       "<table border=\"1\" class=\"dataframe\">\n",
       "  <thead>\n",
       "    <tr style=\"text-align: right;\">\n",
       "      <th></th>\n",
       "      <th>Date</th>\n",
       "      <th>Trap</th>\n",
       "      <th>Address</th>\n",
       "      <th>Block</th>\n",
       "      <th>Street</th>\n",
       "      <th>AddressNumberAndStreet</th>\n",
       "      <th>Latitude</th>\n",
       "      <th>Longitude</th>\n",
       "      <th>AddressAccuracy</th>\n",
       "      <th>ZIP</th>\n",
       "      <th>RESTUANS</th>\n",
       "      <th>PIPIENS</th>\n",
       "      <th>SALINARIUS</th>\n",
       "      <th>TERRITANS</th>\n",
       "      <th>TARSALIS</th>\n",
       "      <th>ERRATICUS</th>\n",
       "      <th>NumMosquitos</th>\n",
       "      <th>WnvPresent</th>\n",
       "    </tr>\n",
       "  </thead>\n",
       "  <tbody>\n",
       "    <tr>\n",
       "      <th>0</th>\n",
       "      <td>2007-05-29</td>\n",
       "      <td>T002</td>\n",
       "      <td>4100 North Oak Park Avenue, Chicago, IL 60634,...</td>\n",
       "      <td>41</td>\n",
       "      <td>N OAK PARK AVE</td>\n",
       "      <td>4100  N OAK PARK AVE, Chicago, IL</td>\n",
       "      <td>41.954690</td>\n",
       "      <td>-87.800991</td>\n",
       "      <td>9</td>\n",
       "      <td>60634</td>\n",
       "      <td>1</td>\n",
       "      <td>1</td>\n",
       "      <td>0</td>\n",
       "      <td>0</td>\n",
       "      <td>0</td>\n",
       "      <td>0</td>\n",
       "      <td>2</td>\n",
       "      <td>0.0</td>\n",
       "    </tr>\n",
       "    <tr>\n",
       "      <th>1</th>\n",
       "      <td>2007-05-29</td>\n",
       "      <td>T007</td>\n",
       "      <td>6200 North Mandell Avenue, Chicago, IL 60646, USA</td>\n",
       "      <td>62</td>\n",
       "      <td>N MANDELL AVE</td>\n",
       "      <td>6200  N MANDELL AVE, Chicago, IL</td>\n",
       "      <td>41.994991</td>\n",
       "      <td>-87.769279</td>\n",
       "      <td>9</td>\n",
       "      <td>60646</td>\n",
       "      <td>1</td>\n",
       "      <td>0</td>\n",
       "      <td>0</td>\n",
       "      <td>0</td>\n",
       "      <td>0</td>\n",
       "      <td>0</td>\n",
       "      <td>1</td>\n",
       "      <td>0.0</td>\n",
       "    </tr>\n",
       "    <tr>\n",
       "      <th>2</th>\n",
       "      <td>2007-05-29</td>\n",
       "      <td>T015</td>\n",
       "      <td>7900 West Foster Avenue, Chicago, IL 60656, USA</td>\n",
       "      <td>79</td>\n",
       "      <td>W FOSTER AVE</td>\n",
       "      <td>7900  W FOSTER AVE, Chicago, IL</td>\n",
       "      <td>41.974089</td>\n",
       "      <td>-87.824812</td>\n",
       "      <td>8</td>\n",
       "      <td>60656</td>\n",
       "      <td>1</td>\n",
       "      <td>1</td>\n",
       "      <td>0</td>\n",
       "      <td>0</td>\n",
       "      <td>0</td>\n",
       "      <td>0</td>\n",
       "      <td>5</td>\n",
       "      <td>0.0</td>\n",
       "    </tr>\n",
       "    <tr>\n",
       "      <th>3</th>\n",
       "      <td>2007-05-29</td>\n",
       "      <td>T045</td>\n",
       "      <td>1500 West Webster Avenue, Chicago, IL 60614, USA</td>\n",
       "      <td>15</td>\n",
       "      <td>W WEBSTER AVE</td>\n",
       "      <td>1500  W WEBSTER AVE, Chicago, IL</td>\n",
       "      <td>41.921600</td>\n",
       "      <td>-87.666455</td>\n",
       "      <td>8</td>\n",
       "      <td>60614</td>\n",
       "      <td>1</td>\n",
       "      <td>0</td>\n",
       "      <td>0</td>\n",
       "      <td>0</td>\n",
       "      <td>0</td>\n",
       "      <td>0</td>\n",
       "      <td>2</td>\n",
       "      <td>0.0</td>\n",
       "    </tr>\n",
       "    <tr>\n",
       "      <th>4</th>\n",
       "      <td>2007-05-29</td>\n",
       "      <td>T046</td>\n",
       "      <td>2500 West Grand Avenue, Chicago, IL 60654, USA</td>\n",
       "      <td>25</td>\n",
       "      <td>W GRAND AVE</td>\n",
       "      <td>2500  W GRAND AVE, Chicago, IL</td>\n",
       "      <td>41.891118</td>\n",
       "      <td>-87.654491</td>\n",
       "      <td>8</td>\n",
       "      <td>60654</td>\n",
       "      <td>1</td>\n",
       "      <td>0</td>\n",
       "      <td>0</td>\n",
       "      <td>0</td>\n",
       "      <td>0</td>\n",
       "      <td>0</td>\n",
       "      <td>1</td>\n",
       "      <td>0.0</td>\n",
       "    </tr>\n",
       "  </tbody>\n",
       "</table>\n",
       "</div>"
      ],
      "text/plain": [
       "        Date  Trap                                            Address  Block  \\\n",
       "0 2007-05-29  T002  4100 North Oak Park Avenue, Chicago, IL 60634,...     41   \n",
       "1 2007-05-29  T007  6200 North Mandell Avenue, Chicago, IL 60646, USA     62   \n",
       "2 2007-05-29  T015    7900 West Foster Avenue, Chicago, IL 60656, USA     79   \n",
       "3 2007-05-29  T045   1500 West Webster Avenue, Chicago, IL 60614, USA     15   \n",
       "4 2007-05-29  T046     2500 West Grand Avenue, Chicago, IL 60654, USA     25   \n",
       "\n",
       "            Street             AddressNumberAndStreet   Latitude  Longitude  \\\n",
       "0   N OAK PARK AVE  4100  N OAK PARK AVE, Chicago, IL  41.954690 -87.800991   \n",
       "1    N MANDELL AVE   6200  N MANDELL AVE, Chicago, IL  41.994991 -87.769279   \n",
       "2     W FOSTER AVE    7900  W FOSTER AVE, Chicago, IL  41.974089 -87.824812   \n",
       "3    W WEBSTER AVE   1500  W WEBSTER AVE, Chicago, IL  41.921600 -87.666455   \n",
       "4      W GRAND AVE     2500  W GRAND AVE, Chicago, IL  41.891118 -87.654491   \n",
       "\n",
       "   AddressAccuracy    ZIP  RESTUANS  PIPIENS  SALINARIUS  TERRITANS  TARSALIS  \\\n",
       "0                9  60634         1        1           0          0         0   \n",
       "1                9  60646         1        0           0          0         0   \n",
       "2                8  60656         1        1           0          0         0   \n",
       "3                8  60614         1        0           0          0         0   \n",
       "4                8  60654         1        0           0          0         0   \n",
       "\n",
       "   ERRATICUS  NumMosquitos  WnvPresent  \n",
       "0          0             2         0.0  \n",
       "1          0             1         0.0  \n",
       "2          0             5         0.0  \n",
       "3          0             2         0.0  \n",
       "4          0             1         0.0  "
      ]
     },
     "execution_count": 48,
     "metadata": {},
     "output_type": "execute_result"
    }
   ],
   "source": [
    "train_ed.head()"
   ]
  },
  {
   "cell_type": "code",
   "execution_count": 49,
   "metadata": {
    "scrolled": false
   },
   "outputs": [
    {
     "name": "stdout",
     "output_type": "stream",
     "text": [
      "<class 'pandas.core.frame.DataFrame'>\n",
      "RangeIndex: 4616 entries, 0 to 4615\n",
      "Data columns (total 18 columns):\n",
      " #   Column                  Non-Null Count  Dtype         \n",
      "---  ------                  --------------  -----         \n",
      " 0   Date                    4616 non-null   datetime64[ns]\n",
      " 1   Trap                    4616 non-null   category      \n",
      " 2   Address                 4616 non-null   object        \n",
      " 3   Block                   4616 non-null   int64         \n",
      " 4   Street                  4616 non-null   object        \n",
      " 5   AddressNumberAndStreet  4616 non-null   object        \n",
      " 6   Latitude                4616 non-null   float64       \n",
      " 7   Longitude               4616 non-null   float64       \n",
      " 8   AddressAccuracy         4616 non-null   int64         \n",
      " 9   ZIP                     4162 non-null   object        \n",
      " 10  RESTUANS                4616 non-null   int32         \n",
      " 11  PIPIENS                 4616 non-null   int32         \n",
      " 12  SALINARIUS              4616 non-null   int32         \n",
      " 13  TERRITANS               4616 non-null   int32         \n",
      " 14  TARSALIS                4616 non-null   int32         \n",
      " 15  ERRATICUS               4616 non-null   int32         \n",
      " 16  NumMosquitos            4616 non-null   int64         \n",
      " 17  WnvPresent              4616 non-null   float64       \n",
      "dtypes: category(1), datetime64[ns](1), float64(3), int32(6), int64(3), object(4)\n",
      "memory usage: 519.2+ KB\n"
     ]
    }
   ],
   "source": [
    "train_ed.info()"
   ]
  },
  {
   "cell_type": "code",
   "execution_count": 50,
   "metadata": {},
   "outputs": [],
   "source": [
    "### I will drop the ZIP code column for now because I can't come up with \n",
    "### a repeatable way of correctly filling in missing values\n",
    "train_ed.drop('ZIP',axis=1,inplace=True)"
   ]
  },
  {
   "cell_type": "code",
   "execution_count": 51,
   "metadata": {},
   "outputs": [
    {
     "name": "stdout",
     "output_type": "stream",
     "text": [
      "<class 'pandas.core.frame.DataFrame'>\n",
      "RangeIndex: 4616 entries, 0 to 4615\n",
      "Data columns (total 11 columns):\n",
      " #   Column                  Non-Null Count  Dtype         \n",
      "---  ------                  --------------  -----         \n",
      " 0   Date                    4616 non-null   datetime64[ns]\n",
      " 1   Trap                    4616 non-null   category      \n",
      " 2   Address                 4616 non-null   object        \n",
      " 3   Block                   4616 non-null   int64         \n",
      " 4   Street                  4616 non-null   object        \n",
      " 5   AddressNumberAndStreet  4616 non-null   object        \n",
      " 6   Latitude                4616 non-null   float64       \n",
      " 7   Longitude               4616 non-null   float64       \n",
      " 8   AddressAccuracy         4616 non-null   int64         \n",
      " 9   NumMosquitos            4616 non-null   int64         \n",
      " 10  WnvPresent              4616 non-null   float64       \n",
      "dtypes: category(1), datetime64[ns](1), float64(3), int64(3), object(3)\n",
      "memory usage: 374.9+ KB\n"
     ]
    }
   ],
   "source": [
    "### I will drop the mosquito species columns now,\n",
    "### as they are not in the test set and not available for prediction.\n",
    "\n",
    "train_ed.drop(['RESTUANS','PIPIENS','SALINARIUS','TERRITANS','TARSALIS','ERRATICUS'] ,axis =1 , inplace=True)\n",
    "train_ed.info()"
   ]
  },
  {
   "cell_type": "code",
   "execution_count": 52,
   "metadata": {},
   "outputs": [],
   "source": [
    "### Output clean, aggregated trap set\n",
    "train_ed.to_csv('train_clean.csv')"
   ]
  },
  {
   "cell_type": "code",
   "execution_count": 53,
   "metadata": {},
   "outputs": [
    {
     "data": {
      "text/plain": [
       "(4616, 11)"
      ]
     },
     "execution_count": 53,
     "metadata": {},
     "output_type": "execute_result"
    }
   ],
   "source": [
    "train_ed.shape"
   ]
  },
  {
   "cell_type": "code",
   "execution_count": 54,
   "metadata": {
    "scrolled": true
   },
   "outputs": [
    {
     "data": {
      "text/html": [
       "<div>\n",
       "<style scoped>\n",
       "    .dataframe tbody tr th:only-of-type {\n",
       "        vertical-align: middle;\n",
       "    }\n",
       "\n",
       "    .dataframe tbody tr th {\n",
       "        vertical-align: top;\n",
       "    }\n",
       "\n",
       "    .dataframe thead th {\n",
       "        text-align: right;\n",
       "    }\n",
       "</style>\n",
       "<table border=\"1\" class=\"dataframe\">\n",
       "  <thead>\n",
       "    <tr style=\"text-align: right;\">\n",
       "      <th></th>\n",
       "      <th>Date</th>\n",
       "      <th>Trap</th>\n",
       "      <th>Address</th>\n",
       "      <th>Block</th>\n",
       "      <th>Street</th>\n",
       "      <th>AddressNumberAndStreet</th>\n",
       "      <th>Latitude</th>\n",
       "      <th>Longitude</th>\n",
       "      <th>AddressAccuracy</th>\n",
       "      <th>NumMosquitos</th>\n",
       "      <th>WnvPresent</th>\n",
       "    </tr>\n",
       "  </thead>\n",
       "  <tbody>\n",
       "    <tr>\n",
       "      <th>0</th>\n",
       "      <td>2007-05-29</td>\n",
       "      <td>T002</td>\n",
       "      <td>4100 North Oak Park Avenue, Chicago, IL 60634,...</td>\n",
       "      <td>41</td>\n",
       "      <td>N OAK PARK AVE</td>\n",
       "      <td>4100  N OAK PARK AVE, Chicago, IL</td>\n",
       "      <td>41.954690</td>\n",
       "      <td>-87.800991</td>\n",
       "      <td>9</td>\n",
       "      <td>2</td>\n",
       "      <td>0.0</td>\n",
       "    </tr>\n",
       "    <tr>\n",
       "      <th>1</th>\n",
       "      <td>2007-05-29</td>\n",
       "      <td>T007</td>\n",
       "      <td>6200 North Mandell Avenue, Chicago, IL 60646, USA</td>\n",
       "      <td>62</td>\n",
       "      <td>N MANDELL AVE</td>\n",
       "      <td>6200  N MANDELL AVE, Chicago, IL</td>\n",
       "      <td>41.994991</td>\n",
       "      <td>-87.769279</td>\n",
       "      <td>9</td>\n",
       "      <td>1</td>\n",
       "      <td>0.0</td>\n",
       "    </tr>\n",
       "    <tr>\n",
       "      <th>2</th>\n",
       "      <td>2007-05-29</td>\n",
       "      <td>T015</td>\n",
       "      <td>7900 West Foster Avenue, Chicago, IL 60656, USA</td>\n",
       "      <td>79</td>\n",
       "      <td>W FOSTER AVE</td>\n",
       "      <td>7900  W FOSTER AVE, Chicago, IL</td>\n",
       "      <td>41.974089</td>\n",
       "      <td>-87.824812</td>\n",
       "      <td>8</td>\n",
       "      <td>5</td>\n",
       "      <td>0.0</td>\n",
       "    </tr>\n",
       "    <tr>\n",
       "      <th>3</th>\n",
       "      <td>2007-05-29</td>\n",
       "      <td>T045</td>\n",
       "      <td>1500 West Webster Avenue, Chicago, IL 60614, USA</td>\n",
       "      <td>15</td>\n",
       "      <td>W WEBSTER AVE</td>\n",
       "      <td>1500  W WEBSTER AVE, Chicago, IL</td>\n",
       "      <td>41.921600</td>\n",
       "      <td>-87.666455</td>\n",
       "      <td>8</td>\n",
       "      <td>2</td>\n",
       "      <td>0.0</td>\n",
       "    </tr>\n",
       "    <tr>\n",
       "      <th>4</th>\n",
       "      <td>2007-05-29</td>\n",
       "      <td>T046</td>\n",
       "      <td>2500 West Grand Avenue, Chicago, IL 60654, USA</td>\n",
       "      <td>25</td>\n",
       "      <td>W GRAND AVE</td>\n",
       "      <td>2500  W GRAND AVE, Chicago, IL</td>\n",
       "      <td>41.891118</td>\n",
       "      <td>-87.654491</td>\n",
       "      <td>8</td>\n",
       "      <td>1</td>\n",
       "      <td>0.0</td>\n",
       "    </tr>\n",
       "  </tbody>\n",
       "</table>\n",
       "</div>"
      ],
      "text/plain": [
       "        Date  Trap                                            Address  Block  \\\n",
       "0 2007-05-29  T002  4100 North Oak Park Avenue, Chicago, IL 60634,...     41   \n",
       "1 2007-05-29  T007  6200 North Mandell Avenue, Chicago, IL 60646, USA     62   \n",
       "2 2007-05-29  T015    7900 West Foster Avenue, Chicago, IL 60656, USA     79   \n",
       "3 2007-05-29  T045   1500 West Webster Avenue, Chicago, IL 60614, USA     15   \n",
       "4 2007-05-29  T046     2500 West Grand Avenue, Chicago, IL 60654, USA     25   \n",
       "\n",
       "            Street             AddressNumberAndStreet   Latitude  Longitude  \\\n",
       "0   N OAK PARK AVE  4100  N OAK PARK AVE, Chicago, IL  41.954690 -87.800991   \n",
       "1    N MANDELL AVE   6200  N MANDELL AVE, Chicago, IL  41.994991 -87.769279   \n",
       "2     W FOSTER AVE    7900  W FOSTER AVE, Chicago, IL  41.974089 -87.824812   \n",
       "3    W WEBSTER AVE   1500  W WEBSTER AVE, Chicago, IL  41.921600 -87.666455   \n",
       "4      W GRAND AVE     2500  W GRAND AVE, Chicago, IL  41.891118 -87.654491   \n",
       "\n",
       "   AddressAccuracy  NumMosquitos  WnvPresent  \n",
       "0                9             2         0.0  \n",
       "1                9             1         0.0  \n",
       "2                8             5         0.0  \n",
       "3                8             2         0.0  \n",
       "4                8             1         0.0  "
      ]
     },
     "execution_count": 54,
     "metadata": {},
     "output_type": "execute_result"
    }
   ],
   "source": [
    "train_ed.head()"
   ]
  },
  {
   "cell_type": "code",
   "execution_count": 55,
   "metadata": {},
   "outputs": [
    {
     "data": {
      "text/plain": [
       "Year\n",
       "2007    116\n",
       "2009     73\n",
       "2011     80\n",
       "2013     74\n",
       "Name: Trap, dtype: int64"
      ]
     },
     "execution_count": 55,
     "metadata": {},
     "output_type": "execute_result"
    }
   ],
   "source": [
    "train_ed['Year'] = train_ed.Date.dt.year\n",
    "train_ed.groupby('Year')['Trap'].nunique()"
   ]
  },
  {
   "cell_type": "code",
   "execution_count": 56,
   "metadata": {},
   "outputs": [
    {
     "data": {
      "text/plain": [
       "138"
      ]
     },
     "execution_count": 56,
     "metadata": {},
     "output_type": "execute_result"
    }
   ],
   "source": [
    "train_ed.Trap.nunique()"
   ]
  },
  {
   "cell_type": "markdown",
   "metadata": {},
   "source": [
    "Cleaning of train data is now complete.  I will follow the same process for the test set next.  "
   ]
  },
  {
   "cell_type": "markdown",
   "metadata": {},
   "source": [
    "## Wrangling of test set"
   ]
  },
  {
   "cell_type": "code",
   "execution_count": 57,
   "metadata": {},
   "outputs": [
    {
     "data": {
      "text/html": [
       "<div>\n",
       "<style scoped>\n",
       "    .dataframe tbody tr th:only-of-type {\n",
       "        vertical-align: middle;\n",
       "    }\n",
       "\n",
       "    .dataframe tbody tr th {\n",
       "        vertical-align: top;\n",
       "    }\n",
       "\n",
       "    .dataframe thead th {\n",
       "        text-align: right;\n",
       "    }\n",
       "</style>\n",
       "<table border=\"1\" class=\"dataframe\">\n",
       "  <thead>\n",
       "    <tr style=\"text-align: right;\">\n",
       "      <th></th>\n",
       "      <th>Id</th>\n",
       "      <th>Date</th>\n",
       "      <th>Address</th>\n",
       "      <th>Species</th>\n",
       "      <th>Block</th>\n",
       "      <th>Street</th>\n",
       "      <th>Trap</th>\n",
       "      <th>AddressNumberAndStreet</th>\n",
       "      <th>Latitude</th>\n",
       "      <th>Longitude</th>\n",
       "      <th>AddressAccuracy</th>\n",
       "    </tr>\n",
       "  </thead>\n",
       "  <tbody>\n",
       "    <tr>\n",
       "      <th>0</th>\n",
       "      <td>1</td>\n",
       "      <td>2008-06-11</td>\n",
       "      <td>4100 North Oak Park Avenue, Chicago, IL 60634,...</td>\n",
       "      <td>CULEX PIPIENS/RESTUANS</td>\n",
       "      <td>41</td>\n",
       "      <td>N OAK PARK AVE</td>\n",
       "      <td>T002</td>\n",
       "      <td>4100  N OAK PARK AVE, Chicago, IL</td>\n",
       "      <td>41.95469</td>\n",
       "      <td>-87.800991</td>\n",
       "      <td>9</td>\n",
       "    </tr>\n",
       "    <tr>\n",
       "      <th>1</th>\n",
       "      <td>2</td>\n",
       "      <td>2008-06-11</td>\n",
       "      <td>4100 North Oak Park Avenue, Chicago, IL 60634,...</td>\n",
       "      <td>CULEX RESTUANS</td>\n",
       "      <td>41</td>\n",
       "      <td>N OAK PARK AVE</td>\n",
       "      <td>T002</td>\n",
       "      <td>4100  N OAK PARK AVE, Chicago, IL</td>\n",
       "      <td>41.95469</td>\n",
       "      <td>-87.800991</td>\n",
       "      <td>9</td>\n",
       "    </tr>\n",
       "    <tr>\n",
       "      <th>2</th>\n",
       "      <td>3</td>\n",
       "      <td>2008-06-11</td>\n",
       "      <td>4100 North Oak Park Avenue, Chicago, IL 60634,...</td>\n",
       "      <td>CULEX PIPIENS</td>\n",
       "      <td>41</td>\n",
       "      <td>N OAK PARK AVE</td>\n",
       "      <td>T002</td>\n",
       "      <td>4100  N OAK PARK AVE, Chicago, IL</td>\n",
       "      <td>41.95469</td>\n",
       "      <td>-87.800991</td>\n",
       "      <td>9</td>\n",
       "    </tr>\n",
       "    <tr>\n",
       "      <th>3</th>\n",
       "      <td>4</td>\n",
       "      <td>2008-06-11</td>\n",
       "      <td>4100 North Oak Park Avenue, Chicago, IL 60634,...</td>\n",
       "      <td>CULEX SALINARIUS</td>\n",
       "      <td>41</td>\n",
       "      <td>N OAK PARK AVE</td>\n",
       "      <td>T002</td>\n",
       "      <td>4100  N OAK PARK AVE, Chicago, IL</td>\n",
       "      <td>41.95469</td>\n",
       "      <td>-87.800991</td>\n",
       "      <td>9</td>\n",
       "    </tr>\n",
       "    <tr>\n",
       "      <th>4</th>\n",
       "      <td>5</td>\n",
       "      <td>2008-06-11</td>\n",
       "      <td>4100 North Oak Park Avenue, Chicago, IL 60634,...</td>\n",
       "      <td>CULEX TERRITANS</td>\n",
       "      <td>41</td>\n",
       "      <td>N OAK PARK AVE</td>\n",
       "      <td>T002</td>\n",
       "      <td>4100  N OAK PARK AVE, Chicago, IL</td>\n",
       "      <td>41.95469</td>\n",
       "      <td>-87.800991</td>\n",
       "      <td>9</td>\n",
       "    </tr>\n",
       "  </tbody>\n",
       "</table>\n",
       "</div>"
      ],
      "text/plain": [
       "   Id        Date                                            Address  \\\n",
       "0   1  2008-06-11  4100 North Oak Park Avenue, Chicago, IL 60634,...   \n",
       "1   2  2008-06-11  4100 North Oak Park Avenue, Chicago, IL 60634,...   \n",
       "2   3  2008-06-11  4100 North Oak Park Avenue, Chicago, IL 60634,...   \n",
       "3   4  2008-06-11  4100 North Oak Park Avenue, Chicago, IL 60634,...   \n",
       "4   5  2008-06-11  4100 North Oak Park Avenue, Chicago, IL 60634,...   \n",
       "\n",
       "                  Species  Block           Street  Trap  \\\n",
       "0  CULEX PIPIENS/RESTUANS     41   N OAK PARK AVE  T002   \n",
       "1          CULEX RESTUANS     41   N OAK PARK AVE  T002   \n",
       "2           CULEX PIPIENS     41   N OAK PARK AVE  T002   \n",
       "3        CULEX SALINARIUS     41   N OAK PARK AVE  T002   \n",
       "4         CULEX TERRITANS     41   N OAK PARK AVE  T002   \n",
       "\n",
       "              AddressNumberAndStreet  Latitude  Longitude  AddressAccuracy  \n",
       "0  4100  N OAK PARK AVE, Chicago, IL  41.95469 -87.800991                9  \n",
       "1  4100  N OAK PARK AVE, Chicago, IL  41.95469 -87.800991                9  \n",
       "2  4100  N OAK PARK AVE, Chicago, IL  41.95469 -87.800991                9  \n",
       "3  4100  N OAK PARK AVE, Chicago, IL  41.95469 -87.800991                9  \n",
       "4  4100  N OAK PARK AVE, Chicago, IL  41.95469 -87.800991                9  "
      ]
     },
     "execution_count": 57,
     "metadata": {},
     "output_type": "execute_result"
    }
   ],
   "source": [
    "### Import test dataset\n",
    "test = pd.read_csv(folder+'test.csv')\n",
    "test.head()"
   ]
  },
  {
   "cell_type": "code",
   "execution_count": 58,
   "metadata": {},
   "outputs": [
    {
     "name": "stdout",
     "output_type": "stream",
     "text": [
      "<class 'pandas.core.frame.DataFrame'>\n",
      "RangeIndex: 116293 entries, 0 to 116292\n",
      "Data columns (total 11 columns):\n",
      " #   Column                  Non-Null Count   Dtype  \n",
      "---  ------                  --------------   -----  \n",
      " 0   Id                      116293 non-null  int64  \n",
      " 1   Date                    116293 non-null  object \n",
      " 2   Address                 116293 non-null  object \n",
      " 3   Species                 116293 non-null  object \n",
      " 4   Block                   116293 non-null  int64  \n",
      " 5   Street                  116293 non-null  object \n",
      " 6   Trap                    116293 non-null  object \n",
      " 7   AddressNumberAndStreet  116293 non-null  object \n",
      " 8   Latitude                116293 non-null  float64\n",
      " 9   Longitude               116293 non-null  float64\n",
      " 10  AddressAccuracy         116293 non-null  int64  \n",
      "dtypes: float64(2), int64(3), object(6)\n",
      "memory usage: 9.8+ MB\n"
     ]
    }
   ],
   "source": [
    "test.info()"
   ]
  },
  {
   "cell_type": "markdown",
   "metadata": {},
   "source": [
    "The test set is much longer, 10 times as long.  It includes all traps and dates, whereas the training data didn't include traps and dates that didn't collect any samples.  It includes an additional column `Id`, but this appears to just be the row index for the file.  Compared to the training set it is missing the `NumMosquitos` and the `WnvPresent` column  I will drop this Id column and do the same type conversions as in the test set."
   ]
  },
  {
   "cell_type": "code",
   "execution_count": 59,
   "metadata": {},
   "outputs": [],
   "source": [
    "test = test.drop('Id',axis=1)\n",
    "\n",
    "test['Date'] = pd.to_datetime(test['Date'])\n",
    "test['Trap'] = pd.Categorical(test['Trap'])\n",
    "test['Species'] = pd.Categorical(test['Species'])\n",
    "\n",
    "## Regex looks for 5 numeric characters in a row and returns them as a string\n",
    "test['ZIP'] = test['Address'].str.findall('[0-9]{5}').str.join('').replace('',np.nan)"
   ]
  },
  {
   "cell_type": "code",
   "execution_count": 60,
   "metadata": {},
   "outputs": [
    {
     "name": "stdout",
     "output_type": "stream",
     "text": [
      "<class 'pandas.core.frame.DataFrame'>\n",
      "RangeIndex: 116293 entries, 0 to 116292\n",
      "Data columns (total 11 columns):\n",
      " #   Column                  Non-Null Count   Dtype         \n",
      "---  ------                  --------------   -----         \n",
      " 0   Date                    116293 non-null  datetime64[ns]\n",
      " 1   Address                 116293 non-null  object        \n",
      " 2   Species                 116293 non-null  category      \n",
      " 3   Block                   116293 non-null  int64         \n",
      " 4   Street                  116293 non-null  object        \n",
      " 5   Trap                    116293 non-null  category      \n",
      " 6   AddressNumberAndStreet  116293 non-null  object        \n",
      " 7   Latitude                116293 non-null  float64       \n",
      " 8   Longitude               116293 non-null  float64       \n",
      " 9   AddressAccuracy         116293 non-null  int64         \n",
      " 10  ZIP                     106359 non-null  object        \n",
      "dtypes: category(2), datetime64[ns](1), float64(2), int64(2), object(4)\n",
      "memory usage: 8.3+ MB\n"
     ]
    }
   ],
   "source": [
    "test.info()"
   ]
  },
  {
   "cell_type": "code",
   "execution_count": 61,
   "metadata": {},
   "outputs": [
    {
     "name": "stdout",
     "output_type": "stream",
     "text": [
      "First date: 2008-06-11 00:00:00\n",
      "Last date: 2014-10-02 00:00:00\n"
     ]
    },
    {
     "data": {
      "image/png": "[encoded data removed]",
      "text/plain": [
       "<Figure size 432x288 with 1 Axes>"
      ]
     },
     "metadata": {
      "needs_background": "light"
     },
     "output_type": "display_data"
    }
   ],
   "source": [
    "### To get an idea of the date range for these records\n",
    "\n",
    "print('First date:',test.Date.min())\n",
    "print('Last date:',test.Date.max())\n",
    "sns.lineplot(data=test,x='Date',y='AddressAccuracy');"
   ]
  },
  {
   "cell_type": "markdown",
   "metadata": {},
   "source": [
    "The test set contains data for summer months in the years 2008, 2010, 2012, and 2014.\n",
    "\n",
    "There is no need to do the same aggretations as in the training data. I will double check all column types before exporting.\n"
   ]
  },
  {
   "cell_type": "code",
   "execution_count": 62,
   "metadata": {},
   "outputs": [
    {
     "name": "stdout",
     "output_type": "stream",
     "text": [
      "<class 'pandas.core.frame.DataFrame'>\n",
      "RangeIndex: 116293 entries, 0 to 116292\n",
      "Data columns (total 11 columns):\n",
      " #   Column                  Non-Null Count   Dtype         \n",
      "---  ------                  --------------   -----         \n",
      " 0   Date                    116293 non-null  datetime64[ns]\n",
      " 1   Address                 116293 non-null  object        \n",
      " 2   Species                 116293 non-null  category      \n",
      " 3   Block                   116293 non-null  int64         \n",
      " 4   Street                  116293 non-null  object        \n",
      " 5   Trap                    116293 non-null  category      \n",
      " 6   AddressNumberAndStreet  116293 non-null  object        \n",
      " 7   Latitude                116293 non-null  float64       \n",
      " 8   Longitude               116293 non-null  float64       \n",
      " 9   AddressAccuracy         116293 non-null  int64         \n",
      " 10  ZIP                     106359 non-null  object        \n",
      "dtypes: category(2), datetime64[ns](1), float64(2), int64(2), object(4)\n",
      "memory usage: 8.3+ MB\n"
     ]
    }
   ],
   "source": [
    "test.info()"
   ]
  },
  {
   "cell_type": "markdown",
   "metadata": {},
   "source": [
    "For now I will drop the ZIP column until I can come up with an efficient and accurate way of filling those null values"
   ]
  },
  {
   "cell_type": "code",
   "execution_count": 63,
   "metadata": {},
   "outputs": [],
   "source": [
    "test.drop('ZIP',axis=1,inplace=True)"
   ]
  },
  {
   "cell_type": "code",
   "execution_count": 64,
   "metadata": {},
   "outputs": [],
   "source": [
    "test.to_csv('test_clean.csv')"
   ]
  },
  {
   "cell_type": "markdown",
   "metadata": {},
   "source": [
    "## Mosquito spraying data"
   ]
  },
  {
   "cell_type": "code",
   "execution_count": 65,
   "metadata": {},
   "outputs": [
    {
     "data": {
      "text/html": [
       "<div>\n",
       "<style scoped>\n",
       "    .dataframe tbody tr th:only-of-type {\n",
       "        vertical-align: middle;\n",
       "    }\n",
       "\n",
       "    .dataframe tbody tr th {\n",
       "        vertical-align: top;\n",
       "    }\n",
       "\n",
       "    .dataframe thead th {\n",
       "        text-align: right;\n",
       "    }\n",
       "</style>\n",
       "<table border=\"1\" class=\"dataframe\">\n",
       "  <thead>\n",
       "    <tr style=\"text-align: right;\">\n",
       "      <th></th>\n",
       "      <th>Date</th>\n",
       "      <th>Time</th>\n",
       "      <th>Latitude</th>\n",
       "      <th>Longitude</th>\n",
       "    </tr>\n",
       "  </thead>\n",
       "  <tbody>\n",
       "    <tr>\n",
       "      <th>0</th>\n",
       "      <td>2011-08-29</td>\n",
       "      <td>6:56:58 PM</td>\n",
       "      <td>42.391623</td>\n",
       "      <td>-88.089163</td>\n",
       "    </tr>\n",
       "    <tr>\n",
       "      <th>1</th>\n",
       "      <td>2011-08-29</td>\n",
       "      <td>6:57:08 PM</td>\n",
       "      <td>42.391348</td>\n",
       "      <td>-88.089163</td>\n",
       "    </tr>\n",
       "    <tr>\n",
       "      <th>2</th>\n",
       "      <td>2011-08-29</td>\n",
       "      <td>6:57:18 PM</td>\n",
       "      <td>42.391022</td>\n",
       "      <td>-88.089157</td>\n",
       "    </tr>\n",
       "    <tr>\n",
       "      <th>3</th>\n",
       "      <td>2011-08-29</td>\n",
       "      <td>6:57:28 PM</td>\n",
       "      <td>42.390637</td>\n",
       "      <td>-88.089158</td>\n",
       "    </tr>\n",
       "    <tr>\n",
       "      <th>4</th>\n",
       "      <td>2011-08-29</td>\n",
       "      <td>6:57:38 PM</td>\n",
       "      <td>42.390410</td>\n",
       "      <td>-88.088858</td>\n",
       "    </tr>\n",
       "  </tbody>\n",
       "</table>\n",
       "</div>"
      ],
      "text/plain": [
       "         Date        Time   Latitude  Longitude\n",
       "0  2011-08-29  6:56:58 PM  42.391623 -88.089163\n",
       "1  2011-08-29  6:57:08 PM  42.391348 -88.089163\n",
       "2  2011-08-29  6:57:18 PM  42.391022 -88.089157\n",
       "3  2011-08-29  6:57:28 PM  42.390637 -88.089158\n",
       "4  2011-08-29  6:57:38 PM  42.390410 -88.088858"
      ]
     },
     "execution_count": 65,
     "metadata": {},
     "output_type": "execute_result"
    }
   ],
   "source": [
    "### First read in data and inspect\n",
    "spray=pd.read_csv(folder + 'spray.csv')\n",
    "spray.head()"
   ]
  },
  {
   "cell_type": "code",
   "execution_count": 66,
   "metadata": {},
   "outputs": [
    {
     "name": "stdout",
     "output_type": "stream",
     "text": [
      "<class 'pandas.core.frame.DataFrame'>\n",
      "RangeIndex: 14835 entries, 0 to 14834\n",
      "Data columns (total 4 columns):\n",
      " #   Column     Non-Null Count  Dtype  \n",
      "---  ------     --------------  -----  \n",
      " 0   Date       14835 non-null  object \n",
      " 1   Time       14251 non-null  object \n",
      " 2   Latitude   14835 non-null  float64\n",
      " 3   Longitude  14835 non-null  float64\n",
      "dtypes: float64(2), object(2)\n",
      "memory usage: 463.7+ KB\n"
     ]
    }
   ],
   "source": [
    "spray.info()"
   ]
  },
  {
   "cell_type": "markdown",
   "metadata": {},
   "source": [
    "There are ~600 missing values in the `Time` column, but the other columns look good so far. "
   ]
  },
  {
   "cell_type": "code",
   "execution_count": 67,
   "metadata": {},
   "outputs": [
    {
     "name": "stdout",
     "output_type": "stream",
     "text": [
      "2011-08-29 18:56:58\n",
      "2013-09-05 20:40:56\n"
     ]
    }
   ],
   "source": [
    "### To get an idea of the date range\n",
    "print(pd.to_datetime(spray['Date']+' '+spray['Time']).min())\n",
    "print(pd.to_datetime(spray['Date']+' '+spray['Time']).max())"
   ]
  },
  {
   "cell_type": "markdown",
   "metadata": {},
   "source": [
    "Now I will inspect the missing values in the `Time` column"
   ]
  },
  {
   "cell_type": "code",
   "execution_count": 68,
   "metadata": {},
   "outputs": [
    {
     "data": {
      "text/plain": [
       "2011-09-07    584\n",
       "Name: Date, dtype: int64"
      ]
     },
     "execution_count": 68,
     "metadata": {},
     "output_type": "execute_result"
    }
   ],
   "source": [
    "spray[spray.Time.isnull()]['Date'].value_counts()"
   ]
  },
  {
   "cell_type": "markdown",
   "metadata": {},
   "source": [
    "There are 584 missing values in the `Time` column and they all occur on the same day, `2011-09-07`. "
   ]
  },
  {
   "cell_type": "markdown",
   "metadata": {},
   "source": [
    "After exploring the data a little I noticed there are also duplicates."
   ]
  },
  {
   "cell_type": "code",
   "execution_count": 69,
   "metadata": {},
   "outputs": [
    {
     "data": {
      "text/plain": [
       "2011-09-07    541\n",
       "Name: Date, dtype: int64"
      ]
     },
     "execution_count": 69,
     "metadata": {},
     "output_type": "execute_result"
    }
   ],
   "source": [
    "spray[spray.duplicated()].Date.value_counts()"
   ]
  },
  {
   "cell_type": "markdown",
   "metadata": {},
   "source": [
    "There are in fact 541 duplicates and they are all on the same day as the null values.  Since they are complete duplicate rows, I will drop the duplicates from the dataframe."
   ]
  },
  {
   "cell_type": "code",
   "execution_count": 70,
   "metadata": {},
   "outputs": [
    {
     "data": {
      "text/plain": [
       "(14294, 4)"
      ]
     },
     "execution_count": 70,
     "metadata": {},
     "output_type": "execute_result"
    }
   ],
   "source": [
    "### After exploring the data I noticed there are complete\n",
    "### duplicate rows.  Those will be removed now.\n",
    "\n",
    "spray.drop_duplicates(keep='first',inplace=True)\n",
    "spray.reset_index(inplace=True,drop=True)\n",
    "spray.shape"
   ]
  },
  {
   "cell_type": "code",
   "execution_count": 71,
   "metadata": {},
   "outputs": [
    {
     "name": "stdout",
     "output_type": "stream",
     "text": [
      "<class 'pandas.core.frame.DataFrame'>\n",
      "RangeIndex: 14294 entries, 0 to 14293\n",
      "Data columns (total 4 columns):\n",
      " #   Column     Non-Null Count  Dtype  \n",
      "---  ------     --------------  -----  \n",
      " 0   Date       14294 non-null  object \n",
      " 1   Time       13710 non-null  object \n",
      " 2   Latitude   14294 non-null  float64\n",
      " 3   Longitude  14294 non-null  float64\n",
      "dtypes: float64(2), object(2)\n",
      "memory usage: 446.8+ KB\n"
     ]
    }
   ],
   "source": [
    "spray.info()"
   ]
  },
  {
   "cell_type": "markdown",
   "metadata": {},
   "source": [
    "After dropping the duplicate rows, there are still ~500 missing `Time` values.  I will see if the spraying follows a consistent pattern so that I might fill these nulls."
   ]
  },
  {
   "cell_type": "code",
   "execution_count": 72,
   "metadata": {
    "scrolled": true
   },
   "outputs": [],
   "source": [
    "spray['Timenull'] = (spray['Time'].isnull()) * 1\n",
    "\n",
    "odd_day=spray[spray['Date'] == '2011-09-07']"
   ]
  },
  {
   "cell_type": "code",
   "execution_count": 73,
   "metadata": {},
   "outputs": [
    {
     "data": {
      "text/plain": [
       "<Figure size 432x288 with 0 Axes>"
      ]
     },
     "metadata": {},
     "output_type": "display_data"
    },
    {
     "data": {
      "image/png": "[encoded data removed]",
      "text/plain": [
       "<Figure size 432x432 with 1 Axes>"
      ]
     },
     "metadata": {
      "needs_background": "light"
     },
     "output_type": "display_data"
    }
   ],
   "source": [
    "plt.set_cmap('viridis')\n",
    "plt.figure(figsize=(6,6))\n",
    "ax=plt.axes()\n",
    "#odd_day.plot(y='Latitude',x='Longitude',kind='scatter',color=odd_day.Timenull)\n",
    "ax.set_facecolor('lightgrey')\n",
    "plt.scatter(x=odd_day.Longitude,y=odd_day.Latitude,c=odd_day.Timenull)\n",
    "plt.title('Mosquito Spray on 2011-09-07')\n",
    "plt.show()"
   ]
  },
  {
   "cell_type": "markdown",
   "metadata": {},
   "source": [
    "The missing `Time` values look like they are from a continuous section of the spraying route.  Maybe I can find the beginning and end times as well as the frequency to fill in the time values.  "
   ]
  },
  {
   "cell_type": "code",
   "execution_count": 74,
   "metadata": {},
   "outputs": [
    {
     "name": "stdout",
     "output_type": "stream",
     "text": [
      "           Date        Time   Latitude  Longitude  Timenull\n",
      "484  2011-09-07  7:43:40 PM  41.983917 -87.793088         0\n",
      "485  2011-09-07  7:44:02 PM  41.984988 -87.793563         0\n",
      "486  2011-09-07  7:44:12 PM  41.985455 -87.793797         0\n",
      "487  2011-09-07  7:44:20 PM  41.985865 -87.793980         0\n",
      "488  2011-09-07  7:44:32 PM  41.986460 -87.794225         0\n",
      "489  2011-09-07         NaN  41.987092 -87.794286         1\n",
      "\n",
      "            Date        Time   Latitude  Longitude  Timenull\n",
      "1072  2011-09-07         NaN  41.993092 -87.810415         1\n",
      "1073  2011-09-07  7:46:30 PM  41.973465 -87.827643         0\n",
      "1074  2011-09-07  7:46:40 PM  41.973457 -87.828302         0\n",
      "1075  2011-09-07  7:46:50 PM  41.973435 -87.829073         0\n",
      "1076  2011-09-07  7:47:00 PM  41.973442 -87.829835         0\n",
      "1077  2011-09-07  7:47:10 PM  41.973418 -87.830568         0\n"
     ]
    }
   ],
   "source": [
    "firstnull = odd_day[odd_day['Time'].isnull()].index.min()\n",
    "lastnull = odd_day[odd_day['Time'].isnull()].index.max()\n",
    "print(odd_day.loc[firstnull-5:firstnull])\n",
    "print()\n",
    "print(odd_day.loc[lastnull:lastnull+5])"
   ]
  },
  {
   "cell_type": "markdown",
   "metadata": {},
   "source": [
    "The null time values are in a certain part of the spray run and are most certainly sequential with the same frequency as the rest of the spray run on that day.  I just need to know the beginning, end and frequency to fill in the null values. "
   ]
  },
  {
   "cell_type": "code",
   "execution_count": 75,
   "metadata": {},
   "outputs": [
    {
     "name": "stdout",
     "output_type": "stream",
     "text": [
      "# of Nulls\n",
      "584\n",
      "\n",
      "Missing Time (s)\n",
      "118\n"
     ]
    }
   ],
   "source": [
    "### Number of null records\n",
    "print('# of Nulls')\n",
    "print(odd_day.Time.isnull().sum())\n",
    "print()\n",
    "print('Missing Time (s)')\n",
    "print(60*2+30-32)"
   ]
  },
  {
   "cell_type": "markdown",
   "metadata": {},
   "source": [
    "It looks like the usual frequency of the data is 10 seconds, so that is too many null records to fill in the time gap of in the data.  Let's check the time series of that whole day."
   ]
  },
  {
   "cell_type": "code",
   "execution_count": 76,
   "metadata": {},
   "outputs": [
    {
     "name": "stderr",
     "output_type": "stream",
     "text": [
      "C:\\Users\\blain\\Anaconda3\\lib\\site-packages\\ipykernel_launcher.py:1: SettingWithCopyWarning: \n",
      "A value is trying to be set on a copy of a slice from a DataFrame.\n",
      "Try using .loc[row_indexer,col_indexer] = value instead\n",
      "\n",
      "See the caveats in the documentation: https://pandas.pydata.org/pandas-docs/stable/user_guide/indexing.html#returning-a-view-versus-a-copy\n",
      "  \"\"\"Entry point for launching an IPython kernel.\n",
      "C:\\Users\\blain\\Anaconda3\\lib\\site-packages\\ipykernel_launcher.py:2: SettingWithCopyWarning: \n",
      "A value is trying to be set on a copy of a slice from a DataFrame.\n",
      "Try using .loc[row_indexer,col_indexer] = value instead\n",
      "\n",
      "See the caveats in the documentation: https://pandas.pydata.org/pandas-docs/stable/user_guide/indexing.html#returning-a-view-versus-a-copy\n",
      "  \n"
     ]
    },
    {
     "data": {
      "text/html": [
       "<div>\n",
       "<style scoped>\n",
       "    .dataframe tbody tr th:only-of-type {\n",
       "        vertical-align: middle;\n",
       "    }\n",
       "\n",
       "    .dataframe tbody tr th {\n",
       "        vertical-align: top;\n",
       "    }\n",
       "\n",
       "    .dataframe thead th {\n",
       "        text-align: right;\n",
       "    }\n",
       "</style>\n",
       "<table border=\"1\" class=\"dataframe\">\n",
       "  <thead>\n",
       "    <tr style=\"text-align: right;\">\n",
       "      <th></th>\n",
       "      <th>Date</th>\n",
       "      <th>Time</th>\n",
       "      <th>Latitude</th>\n",
       "      <th>Longitude</th>\n",
       "      <th>Timenull</th>\n",
       "      <th>dTime</th>\n",
       "      <th>Time_sec</th>\n",
       "    </tr>\n",
       "  </thead>\n",
       "  <tbody>\n",
       "    <tr>\n",
       "      <th>476</th>\n",
       "      <td>2011-09-07</td>\n",
       "      <td>7:42:12 PM</td>\n",
       "      <td>41.982767</td>\n",
       "      <td>-87.788192</td>\n",
       "      <td>0</td>\n",
       "      <td>2022-01-10 19:42:12</td>\n",
       "      <td>70932.0</td>\n",
       "    </tr>\n",
       "    <tr>\n",
       "      <th>477</th>\n",
       "      <td>2011-09-07</td>\n",
       "      <td>7:42:22 PM</td>\n",
       "      <td>41.982727</td>\n",
       "      <td>-87.788737</td>\n",
       "      <td>0</td>\n",
       "      <td>2022-01-10 19:42:22</td>\n",
       "      <td>70942.0</td>\n",
       "    </tr>\n",
       "    <tr>\n",
       "      <th>478</th>\n",
       "      <td>2011-09-07</td>\n",
       "      <td>7:42:32 PM</td>\n",
       "      <td>41.982743</td>\n",
       "      <td>-87.789485</td>\n",
       "      <td>0</td>\n",
       "      <td>2022-01-10 19:42:32</td>\n",
       "      <td>70952.0</td>\n",
       "    </tr>\n",
       "    <tr>\n",
       "      <th>479</th>\n",
       "      <td>2011-09-07</td>\n",
       "      <td>7:42:42 PM</td>\n",
       "      <td>41.982742</td>\n",
       "      <td>-87.790277</td>\n",
       "      <td>0</td>\n",
       "      <td>2022-01-10 19:42:42</td>\n",
       "      <td>70962.0</td>\n",
       "    </tr>\n",
       "    <tr>\n",
       "      <th>480</th>\n",
       "      <td>2011-09-07</td>\n",
       "      <td>7:42:52 PM</td>\n",
       "      <td>41.982753</td>\n",
       "      <td>-87.791015</td>\n",
       "      <td>0</td>\n",
       "      <td>2022-01-10 19:42:52</td>\n",
       "      <td>70972.0</td>\n",
       "    </tr>\n",
       "  </tbody>\n",
       "</table>\n",
       "</div>"
      ],
      "text/plain": [
       "           Date        Time   Latitude  Longitude  Timenull  \\\n",
       "476  2011-09-07  7:42:12 PM  41.982767 -87.788192         0   \n",
       "477  2011-09-07  7:42:22 PM  41.982727 -87.788737         0   \n",
       "478  2011-09-07  7:42:32 PM  41.982743 -87.789485         0   \n",
       "479  2011-09-07  7:42:42 PM  41.982742 -87.790277         0   \n",
       "480  2011-09-07  7:42:52 PM  41.982753 -87.791015         0   \n",
       "\n",
       "                  dTime  Time_sec  \n",
       "476 2022-01-10 19:42:12   70932.0  \n",
       "477 2022-01-10 19:42:22   70942.0  \n",
       "478 2022-01-10 19:42:32   70952.0  \n",
       "479 2022-01-10 19:42:42   70962.0  \n",
       "480 2022-01-10 19:42:52   70972.0  "
      ]
     },
     "execution_count": 76,
     "metadata": {},
     "output_type": "execute_result"
    }
   ],
   "source": [
    "odd_day['dTime'] = pd.to_datetime(odd_day['Time'])\n",
    "odd_day['Time_sec'] = odd_day['dTime'].dt.second + 60*odd_day['dTime'].dt.minute + 60*60*odd_day['dTime'].dt.hour\n",
    "odd_day.sort_values('dTime').head()"
   ]
  },
  {
   "cell_type": "code",
   "execution_count": 77,
   "metadata": {},
   "outputs": [
    {
     "name": "stderr",
     "output_type": "stream",
     "text": [
      "C:\\Users\\blain\\Anaconda3\\lib\\site-packages\\ipykernel_launcher.py:1: SettingWithCopyWarning: \n",
      "A value is trying to be set on a copy of a slice from a DataFrame.\n",
      "Try using .loc[row_indexer,col_indexer] = value instead\n",
      "\n",
      "See the caveats in the documentation: https://pandas.pydata.org/pandas-docs/stable/user_guide/indexing.html#returning-a-view-versus-a-copy\n",
      "  \"\"\"Entry point for launching an IPython kernel.\n",
      "C:\\Users\\blain\\Anaconda3\\lib\\site-packages\\ipykernel_launcher.py:2: SettingWithCopyWarning: \n",
      "A value is trying to be set on a copy of a slice from a DataFrame.\n",
      "Try using .loc[row_indexer,col_indexer] = value instead\n",
      "\n",
      "See the caveats in the documentation: https://pandas.pydata.org/pandas-docs/stable/user_guide/indexing.html#returning-a-view-versus-a-copy\n",
      "  \n"
     ]
    },
    {
     "data": {
      "text/plain": [
       "6.0          1\n",
       "8.0          1\n",
       "9.0         13\n",
       "10.0       874\n",
       "11.0        13\n",
       "12.0         1\n",
       "13.0         1\n",
       "15.0         1\n",
       "20.0        39\n",
       "22.0         1\n",
       "30.0        15\n",
       "31.0         1\n",
       "34.0         1\n",
       "39.0         1\n",
       "40.0         9\n",
       "50.0         5\n",
       "60.0         2\n",
       "80.0         2\n",
       "90.0         2\n",
       "100.0        3\n",
       "81000.0      1\n",
       "Name: dTime_delta_sec, dtype: int64"
      ]
     },
     "execution_count": 77,
     "metadata": {},
     "output_type": "execute_result"
    }
   ],
   "source": [
    "odd_day['dTime_delta'] = odd_day.dTime.diff().shift(-1)\n",
    "odd_day['dTime_delta_sec'] = odd_day.dTime_delta.dt.seconds\n",
    "odd_day['dTime_delta_sec'].value_counts().sort_index()"
   ]
  },
  {
   "cell_type": "markdown",
   "metadata": {},
   "source": [
    "As I suspected the usual frequency of the records is 10 seconds.  I will create a plot of the route colored by the time of day in seconds to see whats going on."
   ]
  },
  {
   "cell_type": "code",
   "execution_count": 78,
   "metadata": {},
   "outputs": [
    {
     "data": {
      "text/plain": [
       "<Figure size 432x288 with 0 Axes>"
      ]
     },
     "metadata": {},
     "output_type": "display_data"
    },
    {
     "data": {
      "image/png": "[encoded data removed]",
      "text/plain": [
       "<Figure size 432x432 with 2 Axes>"
      ]
     },
     "metadata": {
      "needs_background": "light"
     },
     "output_type": "display_data"
    }
   ],
   "source": [
    "total = odd_day.copy()\n",
    "\n",
    "plt.set_cmap('cividis')\n",
    "plt.figure(figsize=(6,6))\n",
    "ax=plt.axes()\n",
    "#odd_day.plot(y='Latitude',x='Longitude',kind='scatter',color=odd_day.Timenull)\n",
    "#ax.set_facecolor('lightgrey')\n",
    "plt.scatter(x=total.Longitude,y=total.Latitude,c=total.Time_sec)\n",
    "plt.title('Mosquito Spray on 2011-09-07')\n",
    "plt.colorbar()\n",
    "plt.show()"
   ]
  },
  {
   "cell_type": "markdown",
   "metadata": {},
   "source": [
    "This plot shows that there is more than one mosquito spraying run, because there are obviously 2 contemporaneous routes. (The null times don't show up at all but are to the top of the plot).  I will check to make sure."
   ]
  },
  {
   "cell_type": "code",
   "execution_count": 79,
   "metadata": {},
   "outputs": [
    {
     "data": {
      "text/plain": [
       "<Figure size 432x288 with 0 Axes>"
      ]
     },
     "metadata": {},
     "output_type": "display_data"
    },
    {
     "data": {
      "image/png": "[encoded data removed]",
      "text/plain": [
       "<Figure size 432x432 with 2 Axes>"
      ]
     },
     "metadata": {
      "needs_background": "light"
     },
     "output_type": "display_data"
    }
   ],
   "source": [
    "west = odd_day[odd_day['Longitude'] < -87.807]\n",
    "\n",
    "plt.set_cmap('cividis')\n",
    "plt.figure(figsize=(6,6))\n",
    "ax=plt.axes()\n",
    "\n",
    "plt.scatter(x=west.Longitude,y=west.Latitude,c=west.Time_sec)\n",
    "plt.title('Mosquito Spray on 2011-09-07')\n",
    "plt.colorbar()\n",
    "plt.show()"
   ]
  },
  {
   "cell_type": "code",
   "execution_count": 80,
   "metadata": {},
   "outputs": [
    {
     "data": {
      "text/html": [
       "<div>\n",
       "<style scoped>\n",
       "    .dataframe tbody tr th:only-of-type {\n",
       "        vertical-align: middle;\n",
       "    }\n",
       "\n",
       "    .dataframe tbody tr th {\n",
       "        vertical-align: top;\n",
       "    }\n",
       "\n",
       "    .dataframe thead th {\n",
       "        text-align: right;\n",
       "    }\n",
       "</style>\n",
       "<table border=\"1\" class=\"dataframe\">\n",
       "  <thead>\n",
       "    <tr style=\"text-align: right;\">\n",
       "      <th></th>\n",
       "      <th>Date</th>\n",
       "      <th>Time</th>\n",
       "      <th>Latitude</th>\n",
       "      <th>Longitude</th>\n",
       "      <th>Timenull</th>\n",
       "      <th>dTime</th>\n",
       "      <th>Time_sec</th>\n",
       "      <th>dTime_delta</th>\n",
       "      <th>dTime_delta_sec</th>\n",
       "    </tr>\n",
       "  </thead>\n",
       "  <tbody>\n",
       "    <tr>\n",
       "      <th>1073</th>\n",
       "      <td>2011-09-07</td>\n",
       "      <td>7:46:30 PM</td>\n",
       "      <td>41.973465</td>\n",
       "      <td>-87.827643</td>\n",
       "      <td>0</td>\n",
       "      <td>2022-01-10 19:46:30</td>\n",
       "      <td>71190.0</td>\n",
       "      <td>0 days 00:00:10</td>\n",
       "      <td>10.0</td>\n",
       "    </tr>\n",
       "    <tr>\n",
       "      <th>1074</th>\n",
       "      <td>2011-09-07</td>\n",
       "      <td>7:46:40 PM</td>\n",
       "      <td>41.973457</td>\n",
       "      <td>-87.828302</td>\n",
       "      <td>0</td>\n",
       "      <td>2022-01-10 19:46:40</td>\n",
       "      <td>71200.0</td>\n",
       "      <td>0 days 00:00:10</td>\n",
       "      <td>10.0</td>\n",
       "    </tr>\n",
       "    <tr>\n",
       "      <th>1075</th>\n",
       "      <td>2011-09-07</td>\n",
       "      <td>7:46:50 PM</td>\n",
       "      <td>41.973435</td>\n",
       "      <td>-87.829073</td>\n",
       "      <td>0</td>\n",
       "      <td>2022-01-10 19:46:50</td>\n",
       "      <td>71210.0</td>\n",
       "      <td>0 days 00:00:10</td>\n",
       "      <td>10.0</td>\n",
       "    </tr>\n",
       "  </tbody>\n",
       "</table>\n",
       "</div>"
      ],
      "text/plain": [
       "            Date        Time   Latitude  Longitude  Timenull  \\\n",
       "1073  2011-09-07  7:46:30 PM  41.973465 -87.827643         0   \n",
       "1074  2011-09-07  7:46:40 PM  41.973457 -87.828302         0   \n",
       "1075  2011-09-07  7:46:50 PM  41.973435 -87.829073         0   \n",
       "\n",
       "                   dTime  Time_sec     dTime_delta  dTime_delta_sec  \n",
       "1073 2022-01-10 19:46:30   71190.0 0 days 00:00:10             10.0  \n",
       "1074 2022-01-10 19:46:40   71200.0 0 days 00:00:10             10.0  \n",
       "1075 2022-01-10 19:46:50   71210.0 0 days 00:00:10             10.0  "
      ]
     },
     "execution_count": 80,
     "metadata": {},
     "output_type": "execute_result"
    }
   ],
   "source": [
    "west.sort_values('Time_sec').head(3)"
   ]
  },
  {
   "cell_type": "code",
   "execution_count": 81,
   "metadata": {},
   "outputs": [
    {
     "data": {
      "text/plain": [
       "<Figure size 432x288 with 0 Axes>"
      ]
     },
     "metadata": {},
     "output_type": "display_data"
    },
    {
     "data": {
      "image/png": "[encoded data removed]",
      "text/plain": [
       "<Figure size 432x432 with 2 Axes>"
      ]
     },
     "metadata": {
      "needs_background": "light"
     },
     "output_type": "display_data"
    }
   ],
   "source": [
    "east = odd_day[odd_day['Longitude'] > -87.807]\n",
    "\n",
    "plt.set_cmap('cividis')\n",
    "plt.figure(figsize=(6,6))\n",
    "ax=plt.axes()\n",
    "#odd_day.plot(y='Latitude',x='Longitude',kind='scatter',color=odd_day.Timenull)\n",
    "#ax.set_facecolor('lightgrey')\n",
    "plt.scatter(x=east.Longitude,y=east.Latitude,c=east.Time_sec)\n",
    "plt.title('Mosquito Spray on 2011-09-07')\n",
    "plt.colorbar()\n",
    "plt.show()"
   ]
  },
  {
   "cell_type": "code",
   "execution_count": 82,
   "metadata": {},
   "outputs": [
    {
     "data": {
      "text/html": [
       "<div>\n",
       "<style scoped>\n",
       "    .dataframe tbody tr th:only-of-type {\n",
       "        vertical-align: middle;\n",
       "    }\n",
       "\n",
       "    .dataframe tbody tr th {\n",
       "        vertical-align: top;\n",
       "    }\n",
       "\n",
       "    .dataframe thead th {\n",
       "        text-align: right;\n",
       "    }\n",
       "</style>\n",
       "<table border=\"1\" class=\"dataframe\">\n",
       "  <thead>\n",
       "    <tr style=\"text-align: right;\">\n",
       "      <th></th>\n",
       "      <th>Date</th>\n",
       "      <th>Time</th>\n",
       "      <th>Latitude</th>\n",
       "      <th>Longitude</th>\n",
       "      <th>Timenull</th>\n",
       "      <th>dTime</th>\n",
       "      <th>Time_sec</th>\n",
       "      <th>dTime_delta</th>\n",
       "      <th>dTime_delta_sec</th>\n",
       "    </tr>\n",
       "  </thead>\n",
       "  <tbody>\n",
       "    <tr>\n",
       "      <th>476</th>\n",
       "      <td>2011-09-07</td>\n",
       "      <td>7:42:12 PM</td>\n",
       "      <td>41.982767</td>\n",
       "      <td>-87.788192</td>\n",
       "      <td>0</td>\n",
       "      <td>2022-01-10 19:42:12</td>\n",
       "      <td>70932.0</td>\n",
       "      <td>0 days 00:00:10</td>\n",
       "      <td>10.0</td>\n",
       "    </tr>\n",
       "    <tr>\n",
       "      <th>477</th>\n",
       "      <td>2011-09-07</td>\n",
       "      <td>7:42:22 PM</td>\n",
       "      <td>41.982727</td>\n",
       "      <td>-87.788737</td>\n",
       "      <td>0</td>\n",
       "      <td>2022-01-10 19:42:22</td>\n",
       "      <td>70942.0</td>\n",
       "      <td>0 days 00:00:10</td>\n",
       "      <td>10.0</td>\n",
       "    </tr>\n",
       "    <tr>\n",
       "      <th>478</th>\n",
       "      <td>2011-09-07</td>\n",
       "      <td>7:42:32 PM</td>\n",
       "      <td>41.982743</td>\n",
       "      <td>-87.789485</td>\n",
       "      <td>0</td>\n",
       "      <td>2022-01-10 19:42:32</td>\n",
       "      <td>70952.0</td>\n",
       "      <td>0 days 00:00:10</td>\n",
       "      <td>10.0</td>\n",
       "    </tr>\n",
       "  </tbody>\n",
       "</table>\n",
       "</div>"
      ],
      "text/plain": [
       "           Date        Time   Latitude  Longitude  Timenull  \\\n",
       "476  2011-09-07  7:42:12 PM  41.982767 -87.788192         0   \n",
       "477  2011-09-07  7:42:22 PM  41.982727 -87.788737         0   \n",
       "478  2011-09-07  7:42:32 PM  41.982743 -87.789485         0   \n",
       "\n",
       "                  dTime  Time_sec     dTime_delta  dTime_delta_sec  \n",
       "476 2022-01-10 19:42:12   70932.0 0 days 00:00:10             10.0  \n",
       "477 2022-01-10 19:42:22   70942.0 0 days 00:00:10             10.0  \n",
       "478 2022-01-10 19:42:32   70952.0 0 days 00:00:10             10.0  "
      ]
     },
     "execution_count": 82,
     "metadata": {},
     "output_type": "execute_result"
    }
   ],
   "source": [
    "east.sort_values('Time_sec').head(3)"
   ]
  },
  {
   "cell_type": "markdown",
   "metadata": {},
   "source": [
    "Yes they are 2 runs at the same time and they both start at about 7:45 PM.  I will assume that the missing `Time` values are a third run that starts at about the same time as these with 10 s periodicity."
   ]
  },
  {
   "cell_type": "code",
   "execution_count": 83,
   "metadata": {},
   "outputs": [],
   "source": [
    "### Split dataset into time null and time not null\n",
    "spray_tnull = spray[spray['Time'].isnull()].reset_index(drop=True)\n",
    "spray_tnotnull = spray[spray['Time'].notnull()]"
   ]
  },
  {
   "cell_type": "code",
   "execution_count": 84,
   "metadata": {},
   "outputs": [
    {
     "data": {
      "text/html": [
       "<div>\n",
       "<style scoped>\n",
       "    .dataframe tbody tr th:only-of-type {\n",
       "        vertical-align: middle;\n",
       "    }\n",
       "\n",
       "    .dataframe tbody tr th {\n",
       "        vertical-align: top;\n",
       "    }\n",
       "\n",
       "    .dataframe thead th {\n",
       "        text-align: right;\n",
       "    }\n",
       "</style>\n",
       "<table border=\"1\" class=\"dataframe\">\n",
       "  <thead>\n",
       "    <tr style=\"text-align: right;\">\n",
       "      <th></th>\n",
       "      <th>Date</th>\n",
       "      <th>Time</th>\n",
       "      <th>Latitude</th>\n",
       "      <th>Longitude</th>\n",
       "      <th>Timenull</th>\n",
       "    </tr>\n",
       "  </thead>\n",
       "  <tbody>\n",
       "    <tr>\n",
       "      <th>0</th>\n",
       "      <td>2011-09-07</td>\n",
       "      <td>NaN</td>\n",
       "      <td>41.987092</td>\n",
       "      <td>-87.794286</td>\n",
       "      <td>1</td>\n",
       "    </tr>\n",
       "    <tr>\n",
       "      <th>1</th>\n",
       "      <td>2011-09-07</td>\n",
       "      <td>NaN</td>\n",
       "      <td>41.987620</td>\n",
       "      <td>-87.794382</td>\n",
       "      <td>1</td>\n",
       "    </tr>\n",
       "    <tr>\n",
       "      <th>2</th>\n",
       "      <td>2011-09-07</td>\n",
       "      <td>NaN</td>\n",
       "      <td>41.988004</td>\n",
       "      <td>-87.794574</td>\n",
       "      <td>1</td>\n",
       "    </tr>\n",
       "    <tr>\n",
       "      <th>3</th>\n",
       "      <td>2011-09-07</td>\n",
       "      <td>NaN</td>\n",
       "      <td>41.988292</td>\n",
       "      <td>-87.795486</td>\n",
       "      <td>1</td>\n",
       "    </tr>\n",
       "    <tr>\n",
       "      <th>4</th>\n",
       "      <td>2011-09-07</td>\n",
       "      <td>NaN</td>\n",
       "      <td>41.988100</td>\n",
       "      <td>-87.796014</td>\n",
       "      <td>1</td>\n",
       "    </tr>\n",
       "    <tr>\n",
       "      <th>...</th>\n",
       "      <td>...</td>\n",
       "      <td>...</td>\n",
       "      <td>...</td>\n",
       "      <td>...</td>\n",
       "      <td>...</td>\n",
       "    </tr>\n",
       "    <tr>\n",
       "      <th>579</th>\n",
       "      <td>2011-09-07</td>\n",
       "      <td>NaN</td>\n",
       "      <td>41.995876</td>\n",
       "      <td>-87.811615</td>\n",
       "      <td>1</td>\n",
       "    </tr>\n",
       "    <tr>\n",
       "      <th>580</th>\n",
       "      <td>2011-09-07</td>\n",
       "      <td>NaN</td>\n",
       "      <td>41.995972</td>\n",
       "      <td>-87.810271</td>\n",
       "      <td>1</td>\n",
       "    </tr>\n",
       "    <tr>\n",
       "      <th>581</th>\n",
       "      <td>2011-09-07</td>\n",
       "      <td>NaN</td>\n",
       "      <td>41.995684</td>\n",
       "      <td>-87.810319</td>\n",
       "      <td>1</td>\n",
       "    </tr>\n",
       "    <tr>\n",
       "      <th>582</th>\n",
       "      <td>2011-09-07</td>\n",
       "      <td>NaN</td>\n",
       "      <td>41.994724</td>\n",
       "      <td>-87.810415</td>\n",
       "      <td>1</td>\n",
       "    </tr>\n",
       "    <tr>\n",
       "      <th>583</th>\n",
       "      <td>2011-09-07</td>\n",
       "      <td>NaN</td>\n",
       "      <td>41.993092</td>\n",
       "      <td>-87.810415</td>\n",
       "      <td>1</td>\n",
       "    </tr>\n",
       "  </tbody>\n",
       "</table>\n",
       "<p>584 rows × 5 columns</p>\n",
       "</div>"
      ],
      "text/plain": [
       "           Date Time   Latitude  Longitude  Timenull\n",
       "0    2011-09-07  NaN  41.987092 -87.794286         1\n",
       "1    2011-09-07  NaN  41.987620 -87.794382         1\n",
       "2    2011-09-07  NaN  41.988004 -87.794574         1\n",
       "3    2011-09-07  NaN  41.988292 -87.795486         1\n",
       "4    2011-09-07  NaN  41.988100 -87.796014         1\n",
       "..          ...  ...        ...        ...       ...\n",
       "579  2011-09-07  NaN  41.995876 -87.811615         1\n",
       "580  2011-09-07  NaN  41.995972 -87.810271         1\n",
       "581  2011-09-07  NaN  41.995684 -87.810319         1\n",
       "582  2011-09-07  NaN  41.994724 -87.810415         1\n",
       "583  2011-09-07  NaN  41.993092 -87.810415         1\n",
       "\n",
       "[584 rows x 5 columns]"
      ]
     },
     "execution_count": 84,
     "metadata": {},
     "output_type": "execute_result"
    }
   ],
   "source": [
    "spray_tnull"
   ]
  },
  {
   "cell_type": "markdown",
   "metadata": {},
   "source": [
    "Creation of a new date time series to fill the null values based on the previously stated assumption."
   ]
  },
  {
   "cell_type": "code",
   "execution_count": 85,
   "metadata": {},
   "outputs": [
    {
     "data": {
      "text/html": [
       "<div>\n",
       "<style scoped>\n",
       "    .dataframe tbody tr th:only-of-type {\n",
       "        vertical-align: middle;\n",
       "    }\n",
       "\n",
       "    .dataframe tbody tr th {\n",
       "        vertical-align: top;\n",
       "    }\n",
       "\n",
       "    .dataframe thead th {\n",
       "        text-align: right;\n",
       "    }\n",
       "</style>\n",
       "<table border=\"1\" class=\"dataframe\">\n",
       "  <thead>\n",
       "    <tr style=\"text-align: right;\">\n",
       "      <th></th>\n",
       "      <th>Date</th>\n",
       "      <th>Time</th>\n",
       "      <th>Latitude</th>\n",
       "      <th>Longitude</th>\n",
       "      <th>Timenull</th>\n",
       "      <th>dateTime</th>\n",
       "    </tr>\n",
       "  </thead>\n",
       "  <tbody>\n",
       "    <tr>\n",
       "      <th>0</th>\n",
       "      <td>2011-09-07</td>\n",
       "      <td>NaN</td>\n",
       "      <td>41.987092</td>\n",
       "      <td>-87.794286</td>\n",
       "      <td>1</td>\n",
       "      <td>2011-09-07 19:45:10</td>\n",
       "    </tr>\n",
       "    <tr>\n",
       "      <th>1</th>\n",
       "      <td>2011-09-07</td>\n",
       "      <td>NaN</td>\n",
       "      <td>41.987620</td>\n",
       "      <td>-87.794382</td>\n",
       "      <td>1</td>\n",
       "      <td>2011-09-07 19:45:20</td>\n",
       "    </tr>\n",
       "    <tr>\n",
       "      <th>2</th>\n",
       "      <td>2011-09-07</td>\n",
       "      <td>NaN</td>\n",
       "      <td>41.988004</td>\n",
       "      <td>-87.794574</td>\n",
       "      <td>1</td>\n",
       "      <td>2011-09-07 19:45:30</td>\n",
       "    </tr>\n",
       "    <tr>\n",
       "      <th>3</th>\n",
       "      <td>2011-09-07</td>\n",
       "      <td>NaN</td>\n",
       "      <td>41.988292</td>\n",
       "      <td>-87.795486</td>\n",
       "      <td>1</td>\n",
       "      <td>2011-09-07 19:45:40</td>\n",
       "    </tr>\n",
       "    <tr>\n",
       "      <th>4</th>\n",
       "      <td>2011-09-07</td>\n",
       "      <td>NaN</td>\n",
       "      <td>41.988100</td>\n",
       "      <td>-87.796014</td>\n",
       "      <td>1</td>\n",
       "      <td>2011-09-07 19:45:50</td>\n",
       "    </tr>\n",
       "    <tr>\n",
       "      <th>...</th>\n",
       "      <td>...</td>\n",
       "      <td>...</td>\n",
       "      <td>...</td>\n",
       "      <td>...</td>\n",
       "      <td>...</td>\n",
       "      <td>...</td>\n",
       "    </tr>\n",
       "    <tr>\n",
       "      <th>579</th>\n",
       "      <td>2011-09-07</td>\n",
       "      <td>NaN</td>\n",
       "      <td>41.995876</td>\n",
       "      <td>-87.811615</td>\n",
       "      <td>1</td>\n",
       "      <td>2011-09-07 21:21:40</td>\n",
       "    </tr>\n",
       "    <tr>\n",
       "      <th>580</th>\n",
       "      <td>2011-09-07</td>\n",
       "      <td>NaN</td>\n",
       "      <td>41.995972</td>\n",
       "      <td>-87.810271</td>\n",
       "      <td>1</td>\n",
       "      <td>2011-09-07 21:21:50</td>\n",
       "    </tr>\n",
       "    <tr>\n",
       "      <th>581</th>\n",
       "      <td>2011-09-07</td>\n",
       "      <td>NaN</td>\n",
       "      <td>41.995684</td>\n",
       "      <td>-87.810319</td>\n",
       "      <td>1</td>\n",
       "      <td>2011-09-07 21:22:00</td>\n",
       "    </tr>\n",
       "    <tr>\n",
       "      <th>582</th>\n",
       "      <td>2011-09-07</td>\n",
       "      <td>NaN</td>\n",
       "      <td>41.994724</td>\n",
       "      <td>-87.810415</td>\n",
       "      <td>1</td>\n",
       "      <td>2011-09-07 21:22:10</td>\n",
       "    </tr>\n",
       "    <tr>\n",
       "      <th>583</th>\n",
       "      <td>2011-09-07</td>\n",
       "      <td>NaN</td>\n",
       "      <td>41.993092</td>\n",
       "      <td>-87.810415</td>\n",
       "      <td>1</td>\n",
       "      <td>2011-09-07 21:22:20</td>\n",
       "    </tr>\n",
       "  </tbody>\n",
       "</table>\n",
       "<p>584 rows × 6 columns</p>\n",
       "</div>"
      ],
      "text/plain": [
       "           Date Time   Latitude  Longitude  Timenull            dateTime\n",
       "0    2011-09-07  NaN  41.987092 -87.794286         1 2011-09-07 19:45:10\n",
       "1    2011-09-07  NaN  41.987620 -87.794382         1 2011-09-07 19:45:20\n",
       "2    2011-09-07  NaN  41.988004 -87.794574         1 2011-09-07 19:45:30\n",
       "3    2011-09-07  NaN  41.988292 -87.795486         1 2011-09-07 19:45:40\n",
       "4    2011-09-07  NaN  41.988100 -87.796014         1 2011-09-07 19:45:50\n",
       "..          ...  ...        ...        ...       ...                 ...\n",
       "579  2011-09-07  NaN  41.995876 -87.811615         1 2011-09-07 21:21:40\n",
       "580  2011-09-07  NaN  41.995972 -87.810271         1 2011-09-07 21:21:50\n",
       "581  2011-09-07  NaN  41.995684 -87.810319         1 2011-09-07 21:22:00\n",
       "582  2011-09-07  NaN  41.994724 -87.810415         1 2011-09-07 21:22:10\n",
       "583  2011-09-07  NaN  41.993092 -87.810415         1 2011-09-07 21:22:20\n",
       "\n",
       "[584 rows x 6 columns]"
      ]
     },
     "execution_count": 85,
     "metadata": {},
     "output_type": "execute_result"
    }
   ],
   "source": [
    "interval = timedelta(seconds=10)\n",
    "start = datetime(year = 2011, month = 9, day = 7, hour=19, minute = 45, second = 0)\n",
    "\n",
    "dum = []\n",
    "\n",
    "for _ in range(584):\n",
    "    start+=interval\n",
    "    dum.append(start)\n",
    "dum = pd.Series(dum,name='dateTime')\n",
    "spray_tnull = spray_tnull.join(dum)\n",
    "spray_tnull"
   ]
  },
  {
   "cell_type": "markdown",
   "metadata": {},
   "source": [
    "Now recombine spray data frames into one and clean up extraneous columns so that it is ready for use. But first I will create a datetime column in the not null dataframe."
   ]
  },
  {
   "cell_type": "code",
   "execution_count": 86,
   "metadata": {},
   "outputs": [
    {
     "name": "stderr",
     "output_type": "stream",
     "text": [
      "C:\\Users\\blain\\Anaconda3\\lib\\site-packages\\ipykernel_launcher.py:2: SettingWithCopyWarning: \n",
      "A value is trying to be set on a copy of a slice from a DataFrame.\n",
      "Try using .loc[row_indexer,col_indexer] = value instead\n",
      "\n",
      "See the caveats in the documentation: https://pandas.pydata.org/pandas-docs/stable/user_guide/indexing.html#returning-a-view-versus-a-copy\n",
      "  \n"
     ]
    }
   ],
   "source": [
    "### Create datetime column in not null data frame\n",
    "spray_tnotnull['dateTime'] = pd.to_datetime(spray_tnotnull['Date'] + ' ' + spray_tnotnull['Time'])"
   ]
  },
  {
   "cell_type": "code",
   "execution_count": 87,
   "metadata": {},
   "outputs": [
    {
     "data": {
      "text/html": [
       "<div>\n",
       "<style scoped>\n",
       "    .dataframe tbody tr th:only-of-type {\n",
       "        vertical-align: middle;\n",
       "    }\n",
       "\n",
       "    .dataframe tbody tr th {\n",
       "        vertical-align: top;\n",
       "    }\n",
       "\n",
       "    .dataframe thead th {\n",
       "        text-align: right;\n",
       "    }\n",
       "</style>\n",
       "<table border=\"1\" class=\"dataframe\">\n",
       "  <thead>\n",
       "    <tr style=\"text-align: right;\">\n",
       "      <th></th>\n",
       "      <th>Date</th>\n",
       "      <th>Time</th>\n",
       "      <th>Latitude</th>\n",
       "      <th>Longitude</th>\n",
       "      <th>Timenull</th>\n",
       "      <th>dateTime</th>\n",
       "    </tr>\n",
       "  </thead>\n",
       "  <tbody>\n",
       "    <tr>\n",
       "      <th>0</th>\n",
       "      <td>2011-08-29</td>\n",
       "      <td>6:56:58 PM</td>\n",
       "      <td>42.391623</td>\n",
       "      <td>-88.089163</td>\n",
       "      <td>0</td>\n",
       "      <td>2011-08-29 18:56:58</td>\n",
       "    </tr>\n",
       "    <tr>\n",
       "      <th>1</th>\n",
       "      <td>2011-08-29</td>\n",
       "      <td>6:57:08 PM</td>\n",
       "      <td>42.391348</td>\n",
       "      <td>-88.089163</td>\n",
       "      <td>0</td>\n",
       "      <td>2011-08-29 18:57:08</td>\n",
       "    </tr>\n",
       "    <tr>\n",
       "      <th>2</th>\n",
       "      <td>2011-08-29</td>\n",
       "      <td>6:57:18 PM</td>\n",
       "      <td>42.391022</td>\n",
       "      <td>-88.089157</td>\n",
       "      <td>0</td>\n",
       "      <td>2011-08-29 18:57:18</td>\n",
       "    </tr>\n",
       "    <tr>\n",
       "      <th>3</th>\n",
       "      <td>2011-08-29</td>\n",
       "      <td>6:57:28 PM</td>\n",
       "      <td>42.390637</td>\n",
       "      <td>-88.089158</td>\n",
       "      <td>0</td>\n",
       "      <td>2011-08-29 18:57:28</td>\n",
       "    </tr>\n",
       "    <tr>\n",
       "      <th>4</th>\n",
       "      <td>2011-08-29</td>\n",
       "      <td>6:57:38 PM</td>\n",
       "      <td>42.390410</td>\n",
       "      <td>-88.088858</td>\n",
       "      <td>0</td>\n",
       "      <td>2011-08-29 18:57:38</td>\n",
       "    </tr>\n",
       "    <tr>\n",
       "      <th>...</th>\n",
       "      <td>...</td>\n",
       "      <td>...</td>\n",
       "      <td>...</td>\n",
       "      <td>...</td>\n",
       "      <td>...</td>\n",
       "      <td>...</td>\n",
       "    </tr>\n",
       "    <tr>\n",
       "      <th>14289</th>\n",
       "      <td>2013-09-05</td>\n",
       "      <td>8:34:11 PM</td>\n",
       "      <td>42.006587</td>\n",
       "      <td>-87.812355</td>\n",
       "      <td>0</td>\n",
       "      <td>2013-09-05 20:34:11</td>\n",
       "    </tr>\n",
       "    <tr>\n",
       "      <th>14290</th>\n",
       "      <td>2013-09-05</td>\n",
       "      <td>8:35:01 PM</td>\n",
       "      <td>42.006192</td>\n",
       "      <td>-87.816015</td>\n",
       "      <td>0</td>\n",
       "      <td>2013-09-05 20:35:01</td>\n",
       "    </tr>\n",
       "    <tr>\n",
       "      <th>14291</th>\n",
       "      <td>2013-09-05</td>\n",
       "      <td>8:35:21 PM</td>\n",
       "      <td>42.006022</td>\n",
       "      <td>-87.817392</td>\n",
       "      <td>0</td>\n",
       "      <td>2013-09-05 20:35:21</td>\n",
       "    </tr>\n",
       "    <tr>\n",
       "      <th>14292</th>\n",
       "      <td>2013-09-05</td>\n",
       "      <td>8:35:31 PM</td>\n",
       "      <td>42.005453</td>\n",
       "      <td>-87.817423</td>\n",
       "      <td>0</td>\n",
       "      <td>2013-09-05 20:35:31</td>\n",
       "    </tr>\n",
       "    <tr>\n",
       "      <th>14293</th>\n",
       "      <td>2013-09-05</td>\n",
       "      <td>8:35:41 PM</td>\n",
       "      <td>42.004805</td>\n",
       "      <td>-87.817460</td>\n",
       "      <td>0</td>\n",
       "      <td>2013-09-05 20:35:41</td>\n",
       "    </tr>\n",
       "  </tbody>\n",
       "</table>\n",
       "<p>13710 rows × 6 columns</p>\n",
       "</div>"
      ],
      "text/plain": [
       "             Date        Time   Latitude  Longitude  Timenull  \\\n",
       "0      2011-08-29  6:56:58 PM  42.391623 -88.089163         0   \n",
       "1      2011-08-29  6:57:08 PM  42.391348 -88.089163         0   \n",
       "2      2011-08-29  6:57:18 PM  42.391022 -88.089157         0   \n",
       "3      2011-08-29  6:57:28 PM  42.390637 -88.089158         0   \n",
       "4      2011-08-29  6:57:38 PM  42.390410 -88.088858         0   \n",
       "...           ...         ...        ...        ...       ...   \n",
       "14289  2013-09-05  8:34:11 PM  42.006587 -87.812355         0   \n",
       "14290  2013-09-05  8:35:01 PM  42.006192 -87.816015         0   \n",
       "14291  2013-09-05  8:35:21 PM  42.006022 -87.817392         0   \n",
       "14292  2013-09-05  8:35:31 PM  42.005453 -87.817423         0   \n",
       "14293  2013-09-05  8:35:41 PM  42.004805 -87.817460         0   \n",
       "\n",
       "                 dateTime  \n",
       "0     2011-08-29 18:56:58  \n",
       "1     2011-08-29 18:57:08  \n",
       "2     2011-08-29 18:57:18  \n",
       "3     2011-08-29 18:57:28  \n",
       "4     2011-08-29 18:57:38  \n",
       "...                   ...  \n",
       "14289 2013-09-05 20:34:11  \n",
       "14290 2013-09-05 20:35:01  \n",
       "14291 2013-09-05 20:35:21  \n",
       "14292 2013-09-05 20:35:31  \n",
       "14293 2013-09-05 20:35:41  \n",
       "\n",
       "[13710 rows x 6 columns]"
      ]
     },
     "execution_count": 87,
     "metadata": {},
     "output_type": "execute_result"
    }
   ],
   "source": [
    "spray_tnotnull"
   ]
  },
  {
   "cell_type": "markdown",
   "metadata": {},
   "source": [
    "Now these two dataframes can be concatenated. "
   ]
  },
  {
   "cell_type": "code",
   "execution_count": 88,
   "metadata": {},
   "outputs": [
    {
     "data": {
      "text/html": [
       "<div>\n",
       "<style scoped>\n",
       "    .dataframe tbody tr th:only-of-type {\n",
       "        vertical-align: middle;\n",
       "    }\n",
       "\n",
       "    .dataframe tbody tr th {\n",
       "        vertical-align: top;\n",
       "    }\n",
       "\n",
       "    .dataframe thead th {\n",
       "        text-align: right;\n",
       "    }\n",
       "</style>\n",
       "<table border=\"1\" class=\"dataframe\">\n",
       "  <thead>\n",
       "    <tr style=\"text-align: right;\">\n",
       "      <th></th>\n",
       "      <th>Date</th>\n",
       "      <th>Time</th>\n",
       "      <th>Latitude</th>\n",
       "      <th>Longitude</th>\n",
       "      <th>Timenull</th>\n",
       "      <th>dateTime</th>\n",
       "    </tr>\n",
       "  </thead>\n",
       "  <tbody>\n",
       "    <tr>\n",
       "      <th>0</th>\n",
       "      <td>2011-08-29</td>\n",
       "      <td>6:56:58 PM</td>\n",
       "      <td>42.391623</td>\n",
       "      <td>-88.089163</td>\n",
       "      <td>0</td>\n",
       "      <td>2011-08-29 18:56:58</td>\n",
       "    </tr>\n",
       "    <tr>\n",
       "      <th>1</th>\n",
       "      <td>2011-08-29</td>\n",
       "      <td>6:57:08 PM</td>\n",
       "      <td>42.391348</td>\n",
       "      <td>-88.089163</td>\n",
       "      <td>0</td>\n",
       "      <td>2011-08-29 18:57:08</td>\n",
       "    </tr>\n",
       "    <tr>\n",
       "      <th>2</th>\n",
       "      <td>2011-08-29</td>\n",
       "      <td>6:57:18 PM</td>\n",
       "      <td>42.391022</td>\n",
       "      <td>-88.089157</td>\n",
       "      <td>0</td>\n",
       "      <td>2011-08-29 18:57:18</td>\n",
       "    </tr>\n",
       "    <tr>\n",
       "      <th>3</th>\n",
       "      <td>2011-08-29</td>\n",
       "      <td>6:57:28 PM</td>\n",
       "      <td>42.390637</td>\n",
       "      <td>-88.089158</td>\n",
       "      <td>0</td>\n",
       "      <td>2011-08-29 18:57:28</td>\n",
       "    </tr>\n",
       "    <tr>\n",
       "      <th>4</th>\n",
       "      <td>2011-08-29</td>\n",
       "      <td>6:57:38 PM</td>\n",
       "      <td>42.390410</td>\n",
       "      <td>-88.088858</td>\n",
       "      <td>0</td>\n",
       "      <td>2011-08-29 18:57:38</td>\n",
       "    </tr>\n",
       "    <tr>\n",
       "      <th>...</th>\n",
       "      <td>...</td>\n",
       "      <td>...</td>\n",
       "      <td>...</td>\n",
       "      <td>...</td>\n",
       "      <td>...</td>\n",
       "      <td>...</td>\n",
       "    </tr>\n",
       "    <tr>\n",
       "      <th>14289</th>\n",
       "      <td>2013-09-05</td>\n",
       "      <td>8:40:16 PM</td>\n",
       "      <td>42.001388</td>\n",
       "      <td>-87.811297</td>\n",
       "      <td>0</td>\n",
       "      <td>2013-09-05 20:40:16</td>\n",
       "    </tr>\n",
       "    <tr>\n",
       "      <th>14290</th>\n",
       "      <td>2013-09-05</td>\n",
       "      <td>8:40:26 PM</td>\n",
       "      <td>42.000962</td>\n",
       "      <td>-87.811843</td>\n",
       "      <td>0</td>\n",
       "      <td>2013-09-05 20:40:26</td>\n",
       "    </tr>\n",
       "    <tr>\n",
       "      <th>14291</th>\n",
       "      <td>2013-09-05</td>\n",
       "      <td>8:40:36 PM</td>\n",
       "      <td>42.000553</td>\n",
       "      <td>-87.812330</td>\n",
       "      <td>0</td>\n",
       "      <td>2013-09-05 20:40:36</td>\n",
       "    </tr>\n",
       "    <tr>\n",
       "      <th>14292</th>\n",
       "      <td>2013-09-05</td>\n",
       "      <td>8:40:46 PM</td>\n",
       "      <td>42.000955</td>\n",
       "      <td>-87.813083</td>\n",
       "      <td>0</td>\n",
       "      <td>2013-09-05 20:40:46</td>\n",
       "    </tr>\n",
       "    <tr>\n",
       "      <th>14293</th>\n",
       "      <td>2013-09-05</td>\n",
       "      <td>8:40:56 PM</td>\n",
       "      <td>42.001430</td>\n",
       "      <td>-87.813842</td>\n",
       "      <td>0</td>\n",
       "      <td>2013-09-05 20:40:56</td>\n",
       "    </tr>\n",
       "  </tbody>\n",
       "</table>\n",
       "<p>14294 rows × 6 columns</p>\n",
       "</div>"
      ],
      "text/plain": [
       "             Date        Time   Latitude  Longitude  Timenull  \\\n",
       "0      2011-08-29  6:56:58 PM  42.391623 -88.089163         0   \n",
       "1      2011-08-29  6:57:08 PM  42.391348 -88.089163         0   \n",
       "2      2011-08-29  6:57:18 PM  42.391022 -88.089157         0   \n",
       "3      2011-08-29  6:57:28 PM  42.390637 -88.089158         0   \n",
       "4      2011-08-29  6:57:38 PM  42.390410 -88.088858         0   \n",
       "...           ...         ...        ...        ...       ...   \n",
       "14289  2013-09-05  8:40:16 PM  42.001388 -87.811297         0   \n",
       "14290  2013-09-05  8:40:26 PM  42.000962 -87.811843         0   \n",
       "14291  2013-09-05  8:40:36 PM  42.000553 -87.812330         0   \n",
       "14292  2013-09-05  8:40:46 PM  42.000955 -87.813083         0   \n",
       "14293  2013-09-05  8:40:56 PM  42.001430 -87.813842         0   \n",
       "\n",
       "                 dateTime  \n",
       "0     2011-08-29 18:56:58  \n",
       "1     2011-08-29 18:57:08  \n",
       "2     2011-08-29 18:57:18  \n",
       "3     2011-08-29 18:57:28  \n",
       "4     2011-08-29 18:57:38  \n",
       "...                   ...  \n",
       "14289 2013-09-05 20:40:16  \n",
       "14290 2013-09-05 20:40:26  \n",
       "14291 2013-09-05 20:40:36  \n",
       "14292 2013-09-05 20:40:46  \n",
       "14293 2013-09-05 20:40:56  \n",
       "\n",
       "[14294 rows x 6 columns]"
      ]
     },
     "execution_count": 88,
     "metadata": {},
     "output_type": "execute_result"
    }
   ],
   "source": [
    "spray_ed = pd.concat([spray_tnotnull,spray_tnull]).sort_values('dateTime').reset_index(drop=True)\n",
    "spray_ed"
   ]
  },
  {
   "cell_type": "markdown",
   "metadata": {},
   "source": [
    "Excellent.  Now I will drop the extraneous columns and export out the clean dataset.  "
   ]
  },
  {
   "cell_type": "code",
   "execution_count": 89,
   "metadata": {},
   "outputs": [],
   "source": [
    "spray_ed = spray_ed.drop(['Timenull','Date','Time'],axis=1).set_index('dateTime',drop=True)"
   ]
  },
  {
   "cell_type": "code",
   "execution_count": 90,
   "metadata": {},
   "outputs": [
    {
     "name": "stdout",
     "output_type": "stream",
     "text": [
      "<class 'pandas.core.frame.DataFrame'>\n",
      "DatetimeIndex: 14294 entries, 2011-08-29 18:56:58 to 2013-09-05 20:40:56\n",
      "Data columns (total 2 columns):\n",
      " #   Column     Non-Null Count  Dtype  \n",
      "---  ------     --------------  -----  \n",
      " 0   Latitude   14294 non-null  float64\n",
      " 1   Longitude  14294 non-null  float64\n",
      "dtypes: float64(2)\n",
      "memory usage: 335.0 KB\n"
     ]
    }
   ],
   "source": [
    "spray_ed.info()"
   ]
  },
  {
   "cell_type": "markdown",
   "metadata": {},
   "source": [
    "~~Looking good.~~\n",
    "\n",
    "There are outliers as seen in the map of my EDA notebook.  I will fix that here"
   ]
  },
  {
   "cell_type": "code",
   "execution_count": 91,
   "metadata": {},
   "outputs": [
    {
     "data": {
      "image/png": "[encoded data removed]",
      "text/plain": [
       "<Figure size 432x288 with 1 Axes>"
      ]
     },
     "metadata": {
      "needs_background": "light"
     },
     "output_type": "display_data"
    }
   ],
   "source": [
    "plt.scatter(x=spray_ed.Longitude,y=spray_ed.Latitude);\n",
    "#plt.xlim((-87.9,-87.8))\n",
    "### outliers or bad data"
   ]
  },
  {
   "cell_type": "code",
   "execution_count": 92,
   "metadata": {},
   "outputs": [
    {
     "data": {
      "text/html": [
       "<div>\n",
       "<style scoped>\n",
       "    .dataframe tbody tr th:only-of-type {\n",
       "        vertical-align: middle;\n",
       "    }\n",
       "\n",
       "    .dataframe tbody tr th {\n",
       "        vertical-align: top;\n",
       "    }\n",
       "\n",
       "    .dataframe thead th {\n",
       "        text-align: right;\n",
       "    }\n",
       "</style>\n",
       "<table border=\"1\" class=\"dataframe\">\n",
       "  <thead>\n",
       "    <tr style=\"text-align: right;\">\n",
       "      <th></th>\n",
       "      <th>Latitude</th>\n",
       "      <th>Longitude</th>\n",
       "    </tr>\n",
       "    <tr>\n",
       "      <th>dateTime</th>\n",
       "      <th></th>\n",
       "      <th></th>\n",
       "    </tr>\n",
       "  </thead>\n",
       "  <tbody>\n",
       "    <tr>\n",
       "      <th>2011-08-29 18:56:58</th>\n",
       "      <td>42.391623</td>\n",
       "      <td>-88.089163</td>\n",
       "    </tr>\n",
       "    <tr>\n",
       "      <th>2011-08-29 18:57:08</th>\n",
       "      <td>42.391348</td>\n",
       "      <td>-88.089163</td>\n",
       "    </tr>\n",
       "    <tr>\n",
       "      <th>2011-08-29 18:57:18</th>\n",
       "      <td>42.391022</td>\n",
       "      <td>-88.089157</td>\n",
       "    </tr>\n",
       "    <tr>\n",
       "      <th>2011-08-29 18:57:28</th>\n",
       "      <td>42.390637</td>\n",
       "      <td>-88.089158</td>\n",
       "    </tr>\n",
       "    <tr>\n",
       "      <th>2011-08-29 18:57:38</th>\n",
       "      <td>42.390410</td>\n",
       "      <td>-88.088858</td>\n",
       "    </tr>\n",
       "    <tr>\n",
       "      <th>...</th>\n",
       "      <td>...</td>\n",
       "      <td>...</td>\n",
       "    </tr>\n",
       "    <tr>\n",
       "      <th>2011-08-29 19:14:38</th>\n",
       "      <td>42.392902</td>\n",
       "      <td>-88.093853</td>\n",
       "    </tr>\n",
       "    <tr>\n",
       "      <th>2011-08-29 19:14:48</th>\n",
       "      <td>42.392587</td>\n",
       "      <td>-88.093867</td>\n",
       "    </tr>\n",
       "    <tr>\n",
       "      <th>2011-08-29 19:14:58</th>\n",
       "      <td>42.392308</td>\n",
       "      <td>-88.093873</td>\n",
       "    </tr>\n",
       "    <tr>\n",
       "      <th>2011-08-29 19:15:18</th>\n",
       "      <td>42.392183</td>\n",
       "      <td>-88.093767</td>\n",
       "    </tr>\n",
       "    <tr>\n",
       "      <th>2011-08-29 19:15:28</th>\n",
       "      <td>42.392508</td>\n",
       "      <td>-88.093847</td>\n",
       "    </tr>\n",
       "  </tbody>\n",
       "</table>\n",
       "<p>95 rows × 2 columns</p>\n",
       "</div>"
      ],
      "text/plain": [
       "                      Latitude  Longitude\n",
       "dateTime                                 \n",
       "2011-08-29 18:56:58  42.391623 -88.089163\n",
       "2011-08-29 18:57:08  42.391348 -88.089163\n",
       "2011-08-29 18:57:18  42.391022 -88.089157\n",
       "2011-08-29 18:57:28  42.390637 -88.089158\n",
       "2011-08-29 18:57:38  42.390410 -88.088858\n",
       "...                        ...        ...\n",
       "2011-08-29 19:14:38  42.392902 -88.093853\n",
       "2011-08-29 19:14:48  42.392587 -88.093867\n",
       "2011-08-29 19:14:58  42.392308 -88.093873\n",
       "2011-08-29 19:15:18  42.392183 -88.093767\n",
       "2011-08-29 19:15:28  42.392508 -88.093847\n",
       "\n",
       "[95 rows x 2 columns]"
      ]
     },
     "execution_count": 92,
     "metadata": {},
     "output_type": "execute_result"
    }
   ],
   "source": [
    "spray_ed[spray_ed.Latitude>42.2]"
   ]
  },
  {
   "cell_type": "markdown",
   "metadata": {},
   "source": [
    "These appear to be either incorrect or irrelevent to this project.  I will drop these now before exporting. "
   ]
  },
  {
   "cell_type": "code",
   "execution_count": 93,
   "metadata": {},
   "outputs": [],
   "source": [
    "spray_ed = spray_ed[spray_ed.Latitude<42.2]"
   ]
  },
  {
   "cell_type": "code",
   "execution_count": 94,
   "metadata": {},
   "outputs": [],
   "source": [
    "### One final fix for lonely data point that looks erroneous\n",
    "#spray_ed.Longitude.min()\n",
    "spray_ed = spray_ed[spray_ed.Longitude>-87.86]"
   ]
  },
  {
   "cell_type": "code",
   "execution_count": 95,
   "metadata": {},
   "outputs": [
    {
     "data": {
      "text/html": [
       "<div>\n",
       "<style scoped>\n",
       "    .dataframe tbody tr th:only-of-type {\n",
       "        vertical-align: middle;\n",
       "    }\n",
       "\n",
       "    .dataframe tbody tr th {\n",
       "        vertical-align: top;\n",
       "    }\n",
       "\n",
       "    .dataframe thead th {\n",
       "        text-align: right;\n",
       "    }\n",
       "</style>\n",
       "<table border=\"1\" class=\"dataframe\">\n",
       "  <thead>\n",
       "    <tr style=\"text-align: right;\">\n",
       "      <th></th>\n",
       "      <th>Latitude</th>\n",
       "      <th>Longitude</th>\n",
       "    </tr>\n",
       "    <tr>\n",
       "      <th>dateTime</th>\n",
       "      <th></th>\n",
       "      <th></th>\n",
       "    </tr>\n",
       "  </thead>\n",
       "  <tbody>\n",
       "    <tr>\n",
       "      <th>2011-12-31</th>\n",
       "      <td>1573</td>\n",
       "      <td>1573</td>\n",
       "    </tr>\n",
       "    <tr>\n",
       "      <th>2012-12-31</th>\n",
       "      <td>0</td>\n",
       "      <td>0</td>\n",
       "    </tr>\n",
       "    <tr>\n",
       "      <th>2013-12-31</th>\n",
       "      <td>12621</td>\n",
       "      <td>12621</td>\n",
       "    </tr>\n",
       "  </tbody>\n",
       "</table>\n",
       "</div>"
      ],
      "text/plain": [
       "            Latitude  Longitude\n",
       "dateTime                       \n",
       "2011-12-31      1573       1573\n",
       "2012-12-31         0          0\n",
       "2013-12-31     12621      12621"
      ]
     },
     "execution_count": 95,
     "metadata": {},
     "output_type": "execute_result"
    }
   ],
   "source": [
    "spray_ed.resample('Y').count()"
   ]
  },
  {
   "cell_type": "markdown",
   "metadata": {},
   "source": [
    "There is only spray data available for the years 2011 and 2013.  These 2 years are in the training set, but none of the test set has spray data available.  \n",
    "___\n",
    "Can I create a feature from this so that the model learns the effect of spraying and can also be included in the test set to indicate no spraying? Something to ponder..."
   ]
  },
  {
   "cell_type": "markdown",
   "metadata": {},
   "source": [
    "Perfect.  Now the data is ready for export."
   ]
  },
  {
   "cell_type": "code",
   "execution_count": 96,
   "metadata": {},
   "outputs": [],
   "source": [
    "spray_ed.to_csv('spray_clean.csv')"
   ]
  },
  {
   "cell_type": "markdown",
   "metadata": {},
   "source": [
    "## Weather data set"
   ]
  },
  {
   "cell_type": "markdown",
   "metadata": {},
   "source": [
    "Weather data is from the NOAA at the following two locations.  \n",
    "\n",
    "Station 1: CHICAGO O'HARE INTERNATIONAL AIRPORT Lat: 41.995 Lon: -87.933 Elev: 662 ft. above sea level\n",
    "\n",
    "Station 2: CHICAGO MIDWAY INTL ARPT Lat: 41.786 Lon: -87.752 Elev: 612 ft. above sea level\n",
    "\n",
    "First I'll read in the data and quickly examine it"
   ]
  },
  {
   "cell_type": "code",
   "execution_count": 97,
   "metadata": {},
   "outputs": [
    {
     "data": {
      "text/html": [
       "<div>\n",
       "<style scoped>\n",
       "    .dataframe tbody tr th:only-of-type {\n",
       "        vertical-align: middle;\n",
       "    }\n",
       "\n",
       "    .dataframe tbody tr th {\n",
       "        vertical-align: top;\n",
       "    }\n",
       "\n",
       "    .dataframe thead th {\n",
       "        text-align: right;\n",
       "    }\n",
       "</style>\n",
       "<table border=\"1\" class=\"dataframe\">\n",
       "  <thead>\n",
       "    <tr style=\"text-align: right;\">\n",
       "      <th></th>\n",
       "      <th>Station</th>\n",
       "      <th>Date</th>\n",
       "      <th>Tmax</th>\n",
       "      <th>Tmin</th>\n",
       "      <th>Tavg</th>\n",
       "      <th>Depart</th>\n",
       "      <th>DewPoint</th>\n",
       "      <th>WetBulb</th>\n",
       "      <th>Heat</th>\n",
       "      <th>Cool</th>\n",
       "      <th>...</th>\n",
       "      <th>CodeSum</th>\n",
       "      <th>Depth</th>\n",
       "      <th>Water1</th>\n",
       "      <th>SnowFall</th>\n",
       "      <th>PrecipTotal</th>\n",
       "      <th>StnPressure</th>\n",
       "      <th>SeaLevel</th>\n",
       "      <th>ResultSpeed</th>\n",
       "      <th>ResultDir</th>\n",
       "      <th>AvgSpeed</th>\n",
       "    </tr>\n",
       "  </thead>\n",
       "  <tbody>\n",
       "    <tr>\n",
       "      <th>0</th>\n",
       "      <td>1</td>\n",
       "      <td>2007-05-01</td>\n",
       "      <td>83</td>\n",
       "      <td>50</td>\n",
       "      <td>67</td>\n",
       "      <td>14</td>\n",
       "      <td>51</td>\n",
       "      <td>56</td>\n",
       "      <td>0</td>\n",
       "      <td>2</td>\n",
       "      <td>...</td>\n",
       "      <td></td>\n",
       "      <td>0</td>\n",
       "      <td>M</td>\n",
       "      <td>0.0</td>\n",
       "      <td>0.00</td>\n",
       "      <td>29.10</td>\n",
       "      <td>29.82</td>\n",
       "      <td>1.7</td>\n",
       "      <td>27</td>\n",
       "      <td>9.2</td>\n",
       "    </tr>\n",
       "    <tr>\n",
       "      <th>1</th>\n",
       "      <td>2</td>\n",
       "      <td>2007-05-01</td>\n",
       "      <td>84</td>\n",
       "      <td>52</td>\n",
       "      <td>68</td>\n",
       "      <td>M</td>\n",
       "      <td>51</td>\n",
       "      <td>57</td>\n",
       "      <td>0</td>\n",
       "      <td>3</td>\n",
       "      <td>...</td>\n",
       "      <td></td>\n",
       "      <td>M</td>\n",
       "      <td>M</td>\n",
       "      <td>M</td>\n",
       "      <td>0.00</td>\n",
       "      <td>29.18</td>\n",
       "      <td>29.82</td>\n",
       "      <td>2.7</td>\n",
       "      <td>25</td>\n",
       "      <td>9.6</td>\n",
       "    </tr>\n",
       "    <tr>\n",
       "      <th>2</th>\n",
       "      <td>1</td>\n",
       "      <td>2007-05-02</td>\n",
       "      <td>59</td>\n",
       "      <td>42</td>\n",
       "      <td>51</td>\n",
       "      <td>-3</td>\n",
       "      <td>42</td>\n",
       "      <td>47</td>\n",
       "      <td>14</td>\n",
       "      <td>0</td>\n",
       "      <td>...</td>\n",
       "      <td>BR</td>\n",
       "      <td>0</td>\n",
       "      <td>M</td>\n",
       "      <td>0.0</td>\n",
       "      <td>0.00</td>\n",
       "      <td>29.38</td>\n",
       "      <td>30.09</td>\n",
       "      <td>13.0</td>\n",
       "      <td>4</td>\n",
       "      <td>13.4</td>\n",
       "    </tr>\n",
       "    <tr>\n",
       "      <th>3</th>\n",
       "      <td>2</td>\n",
       "      <td>2007-05-02</td>\n",
       "      <td>60</td>\n",
       "      <td>43</td>\n",
       "      <td>52</td>\n",
       "      <td>M</td>\n",
       "      <td>42</td>\n",
       "      <td>47</td>\n",
       "      <td>13</td>\n",
       "      <td>0</td>\n",
       "      <td>...</td>\n",
       "      <td>BR HZ</td>\n",
       "      <td>M</td>\n",
       "      <td>M</td>\n",
       "      <td>M</td>\n",
       "      <td>0.00</td>\n",
       "      <td>29.44</td>\n",
       "      <td>30.08</td>\n",
       "      <td>13.3</td>\n",
       "      <td>2</td>\n",
       "      <td>13.4</td>\n",
       "    </tr>\n",
       "    <tr>\n",
       "      <th>4</th>\n",
       "      <td>1</td>\n",
       "      <td>2007-05-03</td>\n",
       "      <td>66</td>\n",
       "      <td>46</td>\n",
       "      <td>56</td>\n",
       "      <td>2</td>\n",
       "      <td>40</td>\n",
       "      <td>48</td>\n",
       "      <td>9</td>\n",
       "      <td>0</td>\n",
       "      <td>...</td>\n",
       "      <td></td>\n",
       "      <td>0</td>\n",
       "      <td>M</td>\n",
       "      <td>0.0</td>\n",
       "      <td>0.00</td>\n",
       "      <td>29.39</td>\n",
       "      <td>30.12</td>\n",
       "      <td>11.7</td>\n",
       "      <td>7</td>\n",
       "      <td>11.9</td>\n",
       "    </tr>\n",
       "    <tr>\n",
       "      <th>5</th>\n",
       "      <td>2</td>\n",
       "      <td>2007-05-03</td>\n",
       "      <td>67</td>\n",
       "      <td>48</td>\n",
       "      <td>58</td>\n",
       "      <td>M</td>\n",
       "      <td>40</td>\n",
       "      <td>50</td>\n",
       "      <td>7</td>\n",
       "      <td>0</td>\n",
       "      <td>...</td>\n",
       "      <td>HZ</td>\n",
       "      <td>M</td>\n",
       "      <td>M</td>\n",
       "      <td>M</td>\n",
       "      <td>0.00</td>\n",
       "      <td>29.46</td>\n",
       "      <td>30.12</td>\n",
       "      <td>12.9</td>\n",
       "      <td>6</td>\n",
       "      <td>13.2</td>\n",
       "    </tr>\n",
       "    <tr>\n",
       "      <th>6</th>\n",
       "      <td>1</td>\n",
       "      <td>2007-05-04</td>\n",
       "      <td>66</td>\n",
       "      <td>49</td>\n",
       "      <td>58</td>\n",
       "      <td>4</td>\n",
       "      <td>41</td>\n",
       "      <td>50</td>\n",
       "      <td>7</td>\n",
       "      <td>0</td>\n",
       "      <td>...</td>\n",
       "      <td>RA</td>\n",
       "      <td>0</td>\n",
       "      <td>M</td>\n",
       "      <td>0.0</td>\n",
       "      <td>T</td>\n",
       "      <td>29.31</td>\n",
       "      <td>30.05</td>\n",
       "      <td>10.4</td>\n",
       "      <td>8</td>\n",
       "      <td>10.8</td>\n",
       "    </tr>\n",
       "    <tr>\n",
       "      <th>7</th>\n",
       "      <td>2</td>\n",
       "      <td>2007-05-04</td>\n",
       "      <td>78</td>\n",
       "      <td>51</td>\n",
       "      <td>M</td>\n",
       "      <td>M</td>\n",
       "      <td>42</td>\n",
       "      <td>50</td>\n",
       "      <td>M</td>\n",
       "      <td>M</td>\n",
       "      <td>...</td>\n",
       "      <td></td>\n",
       "      <td>M</td>\n",
       "      <td>M</td>\n",
       "      <td>M</td>\n",
       "      <td>0.00</td>\n",
       "      <td>29.36</td>\n",
       "      <td>30.04</td>\n",
       "      <td>10.1</td>\n",
       "      <td>7</td>\n",
       "      <td>10.4</td>\n",
       "    </tr>\n",
       "    <tr>\n",
       "      <th>8</th>\n",
       "      <td>1</td>\n",
       "      <td>2007-05-05</td>\n",
       "      <td>66</td>\n",
       "      <td>53</td>\n",
       "      <td>60</td>\n",
       "      <td>5</td>\n",
       "      <td>38</td>\n",
       "      <td>49</td>\n",
       "      <td>5</td>\n",
       "      <td>0</td>\n",
       "      <td>...</td>\n",
       "      <td></td>\n",
       "      <td>0</td>\n",
       "      <td>M</td>\n",
       "      <td>0.0</td>\n",
       "      <td>T</td>\n",
       "      <td>29.40</td>\n",
       "      <td>30.10</td>\n",
       "      <td>11.7</td>\n",
       "      <td>7</td>\n",
       "      <td>12.0</td>\n",
       "    </tr>\n",
       "    <tr>\n",
       "      <th>9</th>\n",
       "      <td>2</td>\n",
       "      <td>2007-05-05</td>\n",
       "      <td>66</td>\n",
       "      <td>54</td>\n",
       "      <td>60</td>\n",
       "      <td>M</td>\n",
       "      <td>39</td>\n",
       "      <td>50</td>\n",
       "      <td>5</td>\n",
       "      <td>0</td>\n",
       "      <td>...</td>\n",
       "      <td></td>\n",
       "      <td>M</td>\n",
       "      <td>M</td>\n",
       "      <td>M</td>\n",
       "      <td>T</td>\n",
       "      <td>29.46</td>\n",
       "      <td>30.09</td>\n",
       "      <td>11.2</td>\n",
       "      <td>7</td>\n",
       "      <td>11.5</td>\n",
       "    </tr>\n",
       "    <tr>\n",
       "      <th>10</th>\n",
       "      <td>1</td>\n",
       "      <td>2007-05-06</td>\n",
       "      <td>68</td>\n",
       "      <td>49</td>\n",
       "      <td>59</td>\n",
       "      <td>4</td>\n",
       "      <td>30</td>\n",
       "      <td>46</td>\n",
       "      <td>6</td>\n",
       "      <td>0</td>\n",
       "      <td>...</td>\n",
       "      <td></td>\n",
       "      <td>0</td>\n",
       "      <td>M</td>\n",
       "      <td>0.0</td>\n",
       "      <td>0.00</td>\n",
       "      <td>29.57</td>\n",
       "      <td>30.29</td>\n",
       "      <td>14.4</td>\n",
       "      <td>11</td>\n",
       "      <td>15.0</td>\n",
       "    </tr>\n",
       "    <tr>\n",
       "      <th>11</th>\n",
       "      <td>2</td>\n",
       "      <td>2007-05-06</td>\n",
       "      <td>68</td>\n",
       "      <td>52</td>\n",
       "      <td>60</td>\n",
       "      <td>M</td>\n",
       "      <td>30</td>\n",
       "      <td>46</td>\n",
       "      <td>5</td>\n",
       "      <td>0</td>\n",
       "      <td>...</td>\n",
       "      <td></td>\n",
       "      <td>M</td>\n",
       "      <td>M</td>\n",
       "      <td>M</td>\n",
       "      <td>0.00</td>\n",
       "      <td>29.62</td>\n",
       "      <td>30.28</td>\n",
       "      <td>13.8</td>\n",
       "      <td>10</td>\n",
       "      <td>14.5</td>\n",
       "    </tr>\n",
       "    <tr>\n",
       "      <th>12</th>\n",
       "      <td>1</td>\n",
       "      <td>2007-05-07</td>\n",
       "      <td>83</td>\n",
       "      <td>47</td>\n",
       "      <td>65</td>\n",
       "      <td>10</td>\n",
       "      <td>41</td>\n",
       "      <td>54</td>\n",
       "      <td>0</td>\n",
       "      <td>0</td>\n",
       "      <td>...</td>\n",
       "      <td>RA</td>\n",
       "      <td>0</td>\n",
       "      <td>M</td>\n",
       "      <td>0.0</td>\n",
       "      <td>T</td>\n",
       "      <td>29.38</td>\n",
       "      <td>30.12</td>\n",
       "      <td>8.6</td>\n",
       "      <td>18</td>\n",
       "      <td>10.5</td>\n",
       "    </tr>\n",
       "    <tr>\n",
       "      <th>13</th>\n",
       "      <td>2</td>\n",
       "      <td>2007-05-07</td>\n",
       "      <td>84</td>\n",
       "      <td>50</td>\n",
       "      <td>67</td>\n",
       "      <td>M</td>\n",
       "      <td>39</td>\n",
       "      <td>53</td>\n",
       "      <td>0</td>\n",
       "      <td>2</td>\n",
       "      <td>...</td>\n",
       "      <td></td>\n",
       "      <td>M</td>\n",
       "      <td>M</td>\n",
       "      <td>M</td>\n",
       "      <td>0.00</td>\n",
       "      <td>29.44</td>\n",
       "      <td>30.12</td>\n",
       "      <td>8.5</td>\n",
       "      <td>17</td>\n",
       "      <td>9.9</td>\n",
       "    </tr>\n",
       "    <tr>\n",
       "      <th>14</th>\n",
       "      <td>1</td>\n",
       "      <td>2007-05-08</td>\n",
       "      <td>82</td>\n",
       "      <td>54</td>\n",
       "      <td>68</td>\n",
       "      <td>12</td>\n",
       "      <td>58</td>\n",
       "      <td>62</td>\n",
       "      <td>0</td>\n",
       "      <td>3</td>\n",
       "      <td>...</td>\n",
       "      <td>BR</td>\n",
       "      <td>0</td>\n",
       "      <td>M</td>\n",
       "      <td>0.0</td>\n",
       "      <td>0.00</td>\n",
       "      <td>29.29</td>\n",
       "      <td>30.03</td>\n",
       "      <td>2.7</td>\n",
       "      <td>11</td>\n",
       "      <td>5.8</td>\n",
       "    </tr>\n",
       "    <tr>\n",
       "      <th>15</th>\n",
       "      <td>2</td>\n",
       "      <td>2007-05-08</td>\n",
       "      <td>80</td>\n",
       "      <td>60</td>\n",
       "      <td>70</td>\n",
       "      <td>M</td>\n",
       "      <td>57</td>\n",
       "      <td>63</td>\n",
       "      <td>0</td>\n",
       "      <td>5</td>\n",
       "      <td>...</td>\n",
       "      <td>HZ</td>\n",
       "      <td>M</td>\n",
       "      <td>M</td>\n",
       "      <td>M</td>\n",
       "      <td>T</td>\n",
       "      <td>29.36</td>\n",
       "      <td>30.02</td>\n",
       "      <td>2.5</td>\n",
       "      <td>8</td>\n",
       "      <td>5.4</td>\n",
       "    </tr>\n",
       "    <tr>\n",
       "      <th>16</th>\n",
       "      <td>1</td>\n",
       "      <td>2007-05-09</td>\n",
       "      <td>77</td>\n",
       "      <td>61</td>\n",
       "      <td>69</td>\n",
       "      <td>13</td>\n",
       "      <td>59</td>\n",
       "      <td>63</td>\n",
       "      <td>0</td>\n",
       "      <td>4</td>\n",
       "      <td>...</td>\n",
       "      <td>BR HZ</td>\n",
       "      <td>0</td>\n",
       "      <td>M</td>\n",
       "      <td>0.0</td>\n",
       "      <td>0.13</td>\n",
       "      <td>29.21</td>\n",
       "      <td>29.94</td>\n",
       "      <td>3.9</td>\n",
       "      <td>9</td>\n",
       "      <td>6.2</td>\n",
       "    </tr>\n",
       "    <tr>\n",
       "      <th>17</th>\n",
       "      <td>2</td>\n",
       "      <td>2007-05-09</td>\n",
       "      <td>76</td>\n",
       "      <td>63</td>\n",
       "      <td>70</td>\n",
       "      <td>M</td>\n",
       "      <td>60</td>\n",
       "      <td>63</td>\n",
       "      <td>0</td>\n",
       "      <td>5</td>\n",
       "      <td>...</td>\n",
       "      <td>BR HZ</td>\n",
       "      <td>M</td>\n",
       "      <td>M</td>\n",
       "      <td>M</td>\n",
       "      <td>0.02</td>\n",
       "      <td>29.28</td>\n",
       "      <td>29.93</td>\n",
       "      <td>3.9</td>\n",
       "      <td>7</td>\n",
       "      <td>5.9</td>\n",
       "    </tr>\n",
       "    <tr>\n",
       "      <th>18</th>\n",
       "      <td>1</td>\n",
       "      <td>2007-05-10</td>\n",
       "      <td>84</td>\n",
       "      <td>56</td>\n",
       "      <td>70</td>\n",
       "      <td>14</td>\n",
       "      <td>52</td>\n",
       "      <td>60</td>\n",
       "      <td>0</td>\n",
       "      <td>5</td>\n",
       "      <td>...</td>\n",
       "      <td>BR</td>\n",
       "      <td>0</td>\n",
       "      <td>M</td>\n",
       "      <td>0.0</td>\n",
       "      <td>0.00</td>\n",
       "      <td>29.20</td>\n",
       "      <td>29.92</td>\n",
       "      <td>0.7</td>\n",
       "      <td>17</td>\n",
       "      <td>4.1</td>\n",
       "    </tr>\n",
       "    <tr>\n",
       "      <th>19</th>\n",
       "      <td>2</td>\n",
       "      <td>2007-05-10</td>\n",
       "      <td>83</td>\n",
       "      <td>59</td>\n",
       "      <td>71</td>\n",
       "      <td>M</td>\n",
       "      <td>52</td>\n",
       "      <td>61</td>\n",
       "      <td>0</td>\n",
       "      <td>6</td>\n",
       "      <td>...</td>\n",
       "      <td>BR HZ</td>\n",
       "      <td>M</td>\n",
       "      <td>M</td>\n",
       "      <td>M</td>\n",
       "      <td>0.00</td>\n",
       "      <td>29.26</td>\n",
       "      <td>29.91</td>\n",
       "      <td>2.0</td>\n",
       "      <td>9</td>\n",
       "      <td>3.9</td>\n",
       "    </tr>\n",
       "  </tbody>\n",
       "</table>\n",
       "<p>20 rows × 22 columns</p>\n",
       "</div>"
      ],
      "text/plain": [
       "    Station        Date  Tmax  Tmin Tavg Depart  DewPoint WetBulb Heat Cool  \\\n",
       "0         1  2007-05-01    83    50   67     14        51      56    0    2   \n",
       "1         2  2007-05-01    84    52   68      M        51      57    0    3   \n",
       "2         1  2007-05-02    59    42   51     -3        42      47   14    0   \n",
       "3         2  2007-05-02    60    43   52      M        42      47   13    0   \n",
       "4         1  2007-05-03    66    46   56      2        40      48    9    0   \n",
       "5         2  2007-05-03    67    48   58      M        40      50    7    0   \n",
       "6         1  2007-05-04    66    49   58      4        41      50    7    0   \n",
       "7         2  2007-05-04    78    51    M      M        42      50    M    M   \n",
       "8         1  2007-05-05    66    53   60      5        38      49    5    0   \n",
       "9         2  2007-05-05    66    54   60      M        39      50    5    0   \n",
       "10        1  2007-05-06    68    49   59      4        30      46    6    0   \n",
       "11        2  2007-05-06    68    52   60      M        30      46    5    0   \n",
       "12        1  2007-05-07    83    47   65     10        41      54    0    0   \n",
       "13        2  2007-05-07    84    50   67      M        39      53    0    2   \n",
       "14        1  2007-05-08    82    54   68     12        58      62    0    3   \n",
       "15        2  2007-05-08    80    60   70      M        57      63    0    5   \n",
       "16        1  2007-05-09    77    61   69     13        59      63    0    4   \n",
       "17        2  2007-05-09    76    63   70      M        60      63    0    5   \n",
       "18        1  2007-05-10    84    56   70     14        52      60    0    5   \n",
       "19        2  2007-05-10    83    59   71      M        52      61    0    6   \n",
       "\n",
       "    ... CodeSum Depth Water1 SnowFall PrecipTotal StnPressure SeaLevel  \\\n",
       "0   ...             0      M      0.0        0.00       29.10    29.82   \n",
       "1   ...             M      M        M        0.00       29.18    29.82   \n",
       "2   ...      BR     0      M      0.0        0.00       29.38    30.09   \n",
       "3   ...   BR HZ     M      M        M        0.00       29.44    30.08   \n",
       "4   ...             0      M      0.0        0.00       29.39    30.12   \n",
       "5   ...      HZ     M      M        M        0.00       29.46    30.12   \n",
       "6   ...      RA     0      M      0.0           T       29.31    30.05   \n",
       "7   ...             M      M        M        0.00       29.36    30.04   \n",
       "8   ...             0      M      0.0           T       29.40    30.10   \n",
       "9   ...             M      M        M           T       29.46    30.09   \n",
       "10  ...             0      M      0.0        0.00       29.57    30.29   \n",
       "11  ...             M      M        M        0.00       29.62    30.28   \n",
       "12  ...      RA     0      M      0.0           T       29.38    30.12   \n",
       "13  ...             M      M        M        0.00       29.44    30.12   \n",
       "14  ...      BR     0      M      0.0        0.00       29.29    30.03   \n",
       "15  ...      HZ     M      M        M           T       29.36    30.02   \n",
       "16  ...   BR HZ     0      M      0.0        0.13       29.21    29.94   \n",
       "17  ...   BR HZ     M      M        M        0.02       29.28    29.93   \n",
       "18  ...      BR     0      M      0.0        0.00       29.20    29.92   \n",
       "19  ...   BR HZ     M      M        M        0.00       29.26    29.91   \n",
       "\n",
       "   ResultSpeed ResultDir  AvgSpeed  \n",
       "0          1.7        27       9.2  \n",
       "1          2.7        25       9.6  \n",
       "2         13.0         4      13.4  \n",
       "3         13.3         2      13.4  \n",
       "4         11.7         7      11.9  \n",
       "5         12.9         6      13.2  \n",
       "6         10.4         8      10.8  \n",
       "7         10.1         7      10.4  \n",
       "8         11.7         7      12.0  \n",
       "9         11.2         7      11.5  \n",
       "10        14.4        11      15.0  \n",
       "11        13.8        10      14.5  \n",
       "12         8.6        18      10.5  \n",
       "13         8.5        17       9.9  \n",
       "14         2.7        11       5.8  \n",
       "15         2.5         8       5.4  \n",
       "16         3.9         9       6.2  \n",
       "17         3.9         7       5.9  \n",
       "18         0.7        17       4.1  \n",
       "19         2.0         9       3.9  \n",
       "\n",
       "[20 rows x 22 columns]"
      ]
     },
     "execution_count": 97,
     "metadata": {},
     "output_type": "execute_result"
    }
   ],
   "source": [
    "weather = pd.read_csv(folder + 'weather.csv')\n",
    "weather.head(20)"
   ]
  },
  {
   "cell_type": "code",
   "execution_count": 98,
   "metadata": {},
   "outputs": [
    {
     "name": "stdout",
     "output_type": "stream",
     "text": [
      "2007-05-01 00:00:00\n",
      "2014-10-31 00:00:00\n"
     ]
    }
   ],
   "source": [
    "### Check the date range of the data set\n",
    "weather['Date'] =  pd.to_datetime(weather['Date'])\n",
    "print(weather['Date'].min())\n",
    "print(weather['Date'].max())"
   ]
  },
  {
   "cell_type": "code",
   "execution_count": 99,
   "metadata": {},
   "outputs": [
    {
     "name": "stdout",
     "output_type": "stream",
     "text": [
      "<class 'pandas.core.frame.DataFrame'>\n",
      "RangeIndex: 2944 entries, 0 to 2943\n",
      "Data columns (total 22 columns):\n",
      " #   Column       Non-Null Count  Dtype         \n",
      "---  ------       --------------  -----         \n",
      " 0   Station      2944 non-null   int64         \n",
      " 1   Date         2944 non-null   datetime64[ns]\n",
      " 2   Tmax         2944 non-null   int64         \n",
      " 3   Tmin         2944 non-null   int64         \n",
      " 4   Tavg         2944 non-null   object        \n",
      " 5   Depart       2944 non-null   object        \n",
      " 6   DewPoint     2944 non-null   int64         \n",
      " 7   WetBulb      2944 non-null   object        \n",
      " 8   Heat         2944 non-null   object        \n",
      " 9   Cool         2944 non-null   object        \n",
      " 10  Sunrise      2944 non-null   object        \n",
      " 11  Sunset       2944 non-null   object        \n",
      " 12  CodeSum      2944 non-null   object        \n",
      " 13  Depth        2944 non-null   object        \n",
      " 14  Water1       2944 non-null   object        \n",
      " 15  SnowFall     2944 non-null   object        \n",
      " 16  PrecipTotal  2944 non-null   object        \n",
      " 17  StnPressure  2944 non-null   object        \n",
      " 18  SeaLevel     2944 non-null   object        \n",
      " 19  ResultSpeed  2944 non-null   float64       \n",
      " 20  ResultDir    2944 non-null   int64         \n",
      " 21  AvgSpeed     2944 non-null   object        \n",
      "dtypes: datetime64[ns](1), float64(1), int64(5), object(15)\n",
      "memory usage: 506.1+ KB\n"
     ]
    }
   ],
   "source": [
    "### Check  column types and presence of nulls\n",
    "weather.info()"
   ]
  },
  {
   "cell_type": "markdown",
   "metadata": {},
   "source": [
    "Apparently there are no null values! But the documentation suggests there are missing values labeled with 'M' and they are probably in the dataset becuase there are several columns that should have been switched to numeric. \n",
    "\n",
    "I'll now replace all 'M' strings with nulls"
   ]
  },
  {
   "cell_type": "code",
   "execution_count": 100,
   "metadata": {},
   "outputs": [
    {
     "name": "stdout",
     "output_type": "stream",
     "text": [
      "<class 'pandas.core.frame.DataFrame'>\n",
      "RangeIndex: 2944 entries, 0 to 2943\n",
      "Data columns (total 22 columns):\n",
      " #   Column       Non-Null Count  Dtype         \n",
      "---  ------       --------------  -----         \n",
      " 0   Station      2944 non-null   int64         \n",
      " 1   Date         2944 non-null   datetime64[ns]\n",
      " 2   Tmax         2944 non-null   int64         \n",
      " 3   Tmin         2944 non-null   int64         \n",
      " 4   Tavg         2933 non-null   object        \n",
      " 5   Depart       1472 non-null   object        \n",
      " 6   DewPoint     2944 non-null   int64         \n",
      " 7   WetBulb      2940 non-null   object        \n",
      " 8   Heat         2933 non-null   object        \n",
      " 9   Cool         2933 non-null   object        \n",
      " 10  Sunrise      2944 non-null   object        \n",
      " 11  Sunset       2944 non-null   object        \n",
      " 12  CodeSum      2944 non-null   object        \n",
      " 13  Depth        1472 non-null   object        \n",
      " 14  Water1       0 non-null      float64       \n",
      " 15  SnowFall     1472 non-null   object        \n",
      " 16  PrecipTotal  2942 non-null   object        \n",
      " 17  StnPressure  2940 non-null   object        \n",
      " 18  SeaLevel     2935 non-null   object        \n",
      " 19  ResultSpeed  2944 non-null   float64       \n",
      " 20  ResultDir    2944 non-null   int64         \n",
      " 21  AvgSpeed     2941 non-null   object        \n",
      "dtypes: datetime64[ns](1), float64(2), int64(5), object(14)\n",
      "memory usage: 506.1+ KB\n"
     ]
    }
   ],
   "source": [
    "### Drop missing records\n",
    "weather.replace(to_replace='M',value = np.nan,inplace=True)\n",
    "weather.info()"
   ]
  },
  {
   "cell_type": "markdown",
   "metadata": {},
   "source": [
    "There are a lot of nulls and the missing values `M` mean that the column types are wrong. First we will drop the completely null column `Water1`, and assign `CodeSum` as a categorical column.  I'll also check the columns `Depart`, `Depth`, and `Snowfall`.  "
   ]
  },
  {
   "cell_type": "code",
   "execution_count": 101,
   "metadata": {},
   "outputs": [],
   "source": [
    "weather.drop('Water1',axis=1,inplace=True)\n",
    "weather['CodeSum'] = pd.Categorical(weather['CodeSum'])\n",
    "\n",
    "### Convert date to datetime\n",
    "weather['Date'] = pd.to_datetime(weather.Date)\n"
   ]
  },
  {
   "cell_type": "code",
   "execution_count": 102,
   "metadata": {},
   "outputs": [
    {
     "data": {
      "text/plain": [
       "0    1472\n",
       "Name: Depth, dtype: int64"
      ]
     },
     "execution_count": 102,
     "metadata": {},
     "output_type": "execute_result"
    }
   ],
   "source": [
    "weather.Depth.value_counts()"
   ]
  },
  {
   "cell_type": "code",
   "execution_count": 103,
   "metadata": {},
   "outputs": [
    {
     "data": {
      "text/plain": [
       "1472"
      ]
     },
     "execution_count": 103,
     "metadata": {},
     "output_type": "execute_result"
    }
   ],
   "source": [
    "### Departure from normal column, degrees F\n",
    "weather.Depart.value_counts().sum()"
   ]
  },
  {
   "cell_type": "markdown",
   "metadata": {},
   "source": [
    "It looks like `Depth` is useless.  There are 1472 null values and 1472 0 values.  This column will be dropped. \n",
    "\n",
    "It looks like `SnowFall` is also usesless as half are null, and the other half are almost all `0`.  \n"
   ]
  },
  {
   "cell_type": "code",
   "execution_count": 104,
   "metadata": {},
   "outputs": [],
   "source": [
    "weather.drop('Depth',axis=1, inplace=True)"
   ]
  },
  {
   "cell_type": "markdown",
   "metadata": {},
   "source": [
    "`Depart` though looks like one of the stations was not reporting correctly.  I should be able to calculate the normal temperature from the other gauge and then calculate the departure for that incomplete station. \n",
    "\n",
    "There are values of '   T' in precip total\n"
   ]
  },
  {
   "cell_type": "code",
   "execution_count": 105,
   "metadata": {},
   "outputs": [
    {
     "data": {
      "text/plain": [
       "count    1047.000000\n",
       "mean        0.369026\n",
       "std         0.589221\n",
       "min         0.010000\n",
       "25%         0.040000\n",
       "50%         0.160000\n",
       "75%         0.470000\n",
       "max         6.860000\n",
       "Name: PrecipTotal, dtype: float64"
      ]
     },
     "execution_count": 105,
     "metadata": {},
     "output_type": "execute_result"
    }
   ],
   "source": [
    "### Find smallest non-zeor precipitation\n",
    "test = pd.to_numeric(weather.PrecipTotal, errors='coerce')\n",
    "test[test>0].describe()"
   ]
  },
  {
   "cell_type": "code",
   "execution_count": 106,
   "metadata": {},
   "outputs": [],
   "source": [
    "### replace 'Trace' with half of smallest value\n",
    "weather.PrecipTotal = weather.PrecipTotal.replace(to_replace = '  T', value = .005)"
   ]
  },
  {
   "cell_type": "code",
   "execution_count": 107,
   "metadata": {},
   "outputs": [
    {
     "name": "stdout",
     "output_type": "stream",
     "text": [
      "<class 'pandas.core.frame.DataFrame'>\n",
      "RangeIndex: 2944 entries, 0 to 2943\n",
      "Data columns (total 20 columns):\n",
      " #   Column       Non-Null Count  Dtype         \n",
      "---  ------       --------------  -----         \n",
      " 0   Station      2944 non-null   int64         \n",
      " 1   Date         2944 non-null   datetime64[ns]\n",
      " 2   Tmax         2944 non-null   int64         \n",
      " 3   Tmin         2944 non-null   int64         \n",
      " 4   Tavg         2933 non-null   object        \n",
      " 5   Depart       1472 non-null   object        \n",
      " 6   DewPoint     2944 non-null   int64         \n",
      " 7   WetBulb      2940 non-null   object        \n",
      " 8   Heat         2933 non-null   object        \n",
      " 9   Cool         2933 non-null   object        \n",
      " 10  Sunrise      2944 non-null   object        \n",
      " 11  Sunset       2944 non-null   object        \n",
      " 12  CodeSum      2944 non-null   category      \n",
      " 13  SnowFall     1472 non-null   object        \n",
      " 14  PrecipTotal  2942 non-null   object        \n",
      " 15  StnPressure  2940 non-null   object        \n",
      " 16  SeaLevel     2935 non-null   object        \n",
      " 17  ResultSpeed  2944 non-null   float64       \n",
      " 18  ResultDir    2944 non-null   int64         \n",
      " 19  AvgSpeed     2941 non-null   object        \n",
      "dtypes: category(1), datetime64[ns](1), float64(1), int64(5), object(12)\n",
      "memory usage: 442.8+ KB\n"
     ]
    }
   ],
   "source": [
    "weather.info()"
   ]
  },
  {
   "cell_type": "markdown",
   "metadata": {},
   "source": [
    "First set column types.\n",
    "\n",
    "2nd, I will tidy up the data by making each row one data and making the table wider.\n",
    "\n",
    "Then I will check and see if the two weather stations differ singificantly on the same day.\n",
    "\n"
   ]
  },
  {
   "cell_type": "code",
   "execution_count": 108,
   "metadata": {},
   "outputs": [],
   "source": [
    "convert_cols = ['Tavg','Depart','WetBulb','Heat','Cool','PrecipTotal','StnPressure','SeaLevel','AvgSpeed']\n",
    "for cc in convert_cols:\n",
    "    weather[cc] = pd.to_numeric(weather[cc], errors='coerce')"
   ]
  },
  {
   "cell_type": "code",
   "execution_count": 109,
   "metadata": {},
   "outputs": [
    {
     "name": "stdout",
     "output_type": "stream",
     "text": [
      "<class 'pandas.core.frame.DataFrame'>\n",
      "RangeIndex: 2944 entries, 0 to 2943\n",
      "Data columns (total 20 columns):\n",
      " #   Column       Non-Null Count  Dtype         \n",
      "---  ------       --------------  -----         \n",
      " 0   Station      2944 non-null   int64         \n",
      " 1   Date         2944 non-null   datetime64[ns]\n",
      " 2   Tmax         2944 non-null   int64         \n",
      " 3   Tmin         2944 non-null   int64         \n",
      " 4   Tavg         2933 non-null   float64       \n",
      " 5   Depart       1472 non-null   float64       \n",
      " 6   DewPoint     2944 non-null   int64         \n",
      " 7   WetBulb      2940 non-null   float64       \n",
      " 8   Heat         2933 non-null   float64       \n",
      " 9   Cool         2933 non-null   float64       \n",
      " 10  Sunrise      2944 non-null   object        \n",
      " 11  Sunset       2944 non-null   object        \n",
      " 12  CodeSum      2944 non-null   category      \n",
      " 13  SnowFall     1472 non-null   object        \n",
      " 14  PrecipTotal  2942 non-null   float64       \n",
      " 15  StnPressure  2940 non-null   float64       \n",
      " 16  SeaLevel     2935 non-null   float64       \n",
      " 17  ResultSpeed  2944 non-null   float64       \n",
      " 18  ResultDir    2944 non-null   int64         \n",
      " 19  AvgSpeed     2941 non-null   float64       \n",
      "dtypes: category(1), datetime64[ns](1), float64(10), int64(5), object(3)\n",
      "memory usage: 442.8+ KB\n"
     ]
    }
   ],
   "source": [
    "weather.info()"
   ]
  },
  {
   "cell_type": "code",
   "execution_count": 110,
   "metadata": {},
   "outputs": [
    {
     "data": {
      "text/html": [
       "<div>\n",
       "<style scoped>\n",
       "    .dataframe tbody tr th:only-of-type {\n",
       "        vertical-align: middle;\n",
       "    }\n",
       "\n",
       "    .dataframe tbody tr th {\n",
       "        vertical-align: top;\n",
       "    }\n",
       "\n",
       "    .dataframe thead tr th {\n",
       "        text-align: left;\n",
       "    }\n",
       "\n",
       "    .dataframe thead tr:last-of-type th {\n",
       "        text-align: right;\n",
       "    }\n",
       "</style>\n",
       "<table border=\"1\" class=\"dataframe\">\n",
       "  <thead>\n",
       "    <tr>\n",
       "      <th>Station</th>\n",
       "      <th colspan=\"10\" halign=\"left\">1</th>\n",
       "      <th>...</th>\n",
       "      <th colspan=\"10\" halign=\"left\">2</th>\n",
       "    </tr>\n",
       "    <tr>\n",
       "      <th></th>\n",
       "      <th>AvgSpeed</th>\n",
       "      <th>CodeSum</th>\n",
       "      <th>Cool</th>\n",
       "      <th>Depart</th>\n",
       "      <th>DewPoint</th>\n",
       "      <th>Heat</th>\n",
       "      <th>PrecipTotal</th>\n",
       "      <th>ResultDir</th>\n",
       "      <th>ResultSpeed</th>\n",
       "      <th>SeaLevel</th>\n",
       "      <th>...</th>\n",
       "      <th>ResultSpeed</th>\n",
       "      <th>SeaLevel</th>\n",
       "      <th>SnowFall</th>\n",
       "      <th>StnPressure</th>\n",
       "      <th>Sunrise</th>\n",
       "      <th>Sunset</th>\n",
       "      <th>Tavg</th>\n",
       "      <th>Tmax</th>\n",
       "      <th>Tmin</th>\n",
       "      <th>WetBulb</th>\n",
       "    </tr>\n",
       "    <tr>\n",
       "      <th>Date</th>\n",
       "      <th></th>\n",
       "      <th></th>\n",
       "      <th></th>\n",
       "      <th></th>\n",
       "      <th></th>\n",
       "      <th></th>\n",
       "      <th></th>\n",
       "      <th></th>\n",
       "      <th></th>\n",
       "      <th></th>\n",
       "      <th></th>\n",
       "      <th></th>\n",
       "      <th></th>\n",
       "      <th></th>\n",
       "      <th></th>\n",
       "      <th></th>\n",
       "      <th></th>\n",
       "      <th></th>\n",
       "      <th></th>\n",
       "      <th></th>\n",
       "      <th></th>\n",
       "    </tr>\n",
       "  </thead>\n",
       "  <tbody>\n",
       "    <tr>\n",
       "      <th>2007-05-01</th>\n",
       "      <td>9.2</td>\n",
       "      <td></td>\n",
       "      <td>2.0</td>\n",
       "      <td>14.0</td>\n",
       "      <td>51</td>\n",
       "      <td>0.0</td>\n",
       "      <td>0.000</td>\n",
       "      <td>27</td>\n",
       "      <td>1.7</td>\n",
       "      <td>29.82</td>\n",
       "      <td>...</td>\n",
       "      <td>2.7</td>\n",
       "      <td>29.82</td>\n",
       "      <td>NaN</td>\n",
       "      <td>29.18</td>\n",
       "      <td>-</td>\n",
       "      <td>-</td>\n",
       "      <td>68.0</td>\n",
       "      <td>84</td>\n",
       "      <td>52</td>\n",
       "      <td>57.0</td>\n",
       "    </tr>\n",
       "    <tr>\n",
       "      <th>2007-05-02</th>\n",
       "      <td>13.4</td>\n",
       "      <td>BR</td>\n",
       "      <td>0.0</td>\n",
       "      <td>-3.0</td>\n",
       "      <td>42</td>\n",
       "      <td>14.0</td>\n",
       "      <td>0.000</td>\n",
       "      <td>4</td>\n",
       "      <td>13.0</td>\n",
       "      <td>30.09</td>\n",
       "      <td>...</td>\n",
       "      <td>13.3</td>\n",
       "      <td>30.08</td>\n",
       "      <td>NaN</td>\n",
       "      <td>29.44</td>\n",
       "      <td>-</td>\n",
       "      <td>-</td>\n",
       "      <td>52.0</td>\n",
       "      <td>60</td>\n",
       "      <td>43</td>\n",
       "      <td>47.0</td>\n",
       "    </tr>\n",
       "    <tr>\n",
       "      <th>2007-05-03</th>\n",
       "      <td>11.9</td>\n",
       "      <td></td>\n",
       "      <td>0.0</td>\n",
       "      <td>2.0</td>\n",
       "      <td>40</td>\n",
       "      <td>9.0</td>\n",
       "      <td>0.000</td>\n",
       "      <td>7</td>\n",
       "      <td>11.7</td>\n",
       "      <td>30.12</td>\n",
       "      <td>...</td>\n",
       "      <td>12.9</td>\n",
       "      <td>30.12</td>\n",
       "      <td>NaN</td>\n",
       "      <td>29.46</td>\n",
       "      <td>-</td>\n",
       "      <td>-</td>\n",
       "      <td>58.0</td>\n",
       "      <td>67</td>\n",
       "      <td>48</td>\n",
       "      <td>50.0</td>\n",
       "    </tr>\n",
       "    <tr>\n",
       "      <th>2007-05-04</th>\n",
       "      <td>10.8</td>\n",
       "      <td>RA</td>\n",
       "      <td>0.0</td>\n",
       "      <td>4.0</td>\n",
       "      <td>41</td>\n",
       "      <td>7.0</td>\n",
       "      <td>0.005</td>\n",
       "      <td>8</td>\n",
       "      <td>10.4</td>\n",
       "      <td>30.05</td>\n",
       "      <td>...</td>\n",
       "      <td>10.1</td>\n",
       "      <td>30.04</td>\n",
       "      <td>NaN</td>\n",
       "      <td>29.36</td>\n",
       "      <td>-</td>\n",
       "      <td>-</td>\n",
       "      <td>NaN</td>\n",
       "      <td>78</td>\n",
       "      <td>51</td>\n",
       "      <td>50.0</td>\n",
       "    </tr>\n",
       "    <tr>\n",
       "      <th>2007-05-05</th>\n",
       "      <td>12.0</td>\n",
       "      <td></td>\n",
       "      <td>0.0</td>\n",
       "      <td>5.0</td>\n",
       "      <td>38</td>\n",
       "      <td>5.0</td>\n",
       "      <td>0.005</td>\n",
       "      <td>7</td>\n",
       "      <td>11.7</td>\n",
       "      <td>30.10</td>\n",
       "      <td>...</td>\n",
       "      <td>11.2</td>\n",
       "      <td>30.09</td>\n",
       "      <td>NaN</td>\n",
       "      <td>29.46</td>\n",
       "      <td>-</td>\n",
       "      <td>-</td>\n",
       "      <td>60.0</td>\n",
       "      <td>66</td>\n",
       "      <td>54</td>\n",
       "      <td>50.0</td>\n",
       "    </tr>\n",
       "  </tbody>\n",
       "</table>\n",
       "<p>5 rows × 36 columns</p>\n",
       "</div>"
      ],
      "text/plain": [
       "Station           1                                                           \\\n",
       "           AvgSpeed CodeSum Cool Depart DewPoint  Heat PrecipTotal ResultDir   \n",
       "Date                                                                           \n",
       "2007-05-01      9.2          2.0   14.0       51   0.0       0.000        27   \n",
       "2007-05-02     13.4      BR  0.0   -3.0       42  14.0       0.000         4   \n",
       "2007-05-03     11.9          0.0    2.0       40   9.0       0.000         7   \n",
       "2007-05-04     10.8      RA  0.0    4.0       41   7.0       0.005         8   \n",
       "2007-05-05     12.0          0.0    5.0       38   5.0       0.005         7   \n",
       "\n",
       "Station                          ...           2                    \\\n",
       "           ResultSpeed SeaLevel  ... ResultSpeed SeaLevel SnowFall   \n",
       "Date                             ...                                 \n",
       "2007-05-01         1.7    29.82  ...         2.7    29.82      NaN   \n",
       "2007-05-02        13.0    30.09  ...        13.3    30.08      NaN   \n",
       "2007-05-03        11.7    30.12  ...        12.9    30.12      NaN   \n",
       "2007-05-04        10.4    30.05  ...        10.1    30.04      NaN   \n",
       "2007-05-05        11.7    30.10  ...        11.2    30.09      NaN   \n",
       "\n",
       "Station                                                        \n",
       "           StnPressure Sunrise Sunset  Tavg Tmax Tmin WetBulb  \n",
       "Date                                                           \n",
       "2007-05-01       29.18       -      -  68.0   84   52    57.0  \n",
       "2007-05-02       29.44       -      -  52.0   60   43    47.0  \n",
       "2007-05-03       29.46       -      -  58.0   67   48    50.0  \n",
       "2007-05-04       29.36       -      -   NaN   78   51    50.0  \n",
       "2007-05-05       29.46       -      -  60.0   66   54    50.0  \n",
       "\n",
       "[5 rows x 36 columns]"
      ]
     },
     "execution_count": 110,
     "metadata": {},
     "output_type": "execute_result"
    }
   ],
   "source": [
    "weather_wide = pd.pivot(weather,index='Date',columns= 'Station')\n",
    "weather_wide.columns = weather_wide.columns.swaplevel(0,1)\n",
    "weather_wide.sort_index(axis=1, level=0, inplace=True)\n",
    "\n",
    "#weather_wide.columns.swaplevel(0,1)\n",
    "weather_wide.head()"
   ]
  },
  {
   "cell_type": "code",
   "execution_count": 111,
   "metadata": {},
   "outputs": [
    {
     "name": "stdout",
     "output_type": "stream",
     "text": [
      "<class 'pandas.core.frame.DataFrame'>\n",
      "DatetimeIndex: 1472 entries, 2007-05-01 to 2014-10-31\n",
      "Data columns (total 36 columns):\n",
      " #   Column            Non-Null Count  Dtype   \n",
      "---  ------            --------------  -----   \n",
      " 0   (1, AvgSpeed)     1472 non-null   float64 \n",
      " 1   (1, CodeSum)      1472 non-null   category\n",
      " 2   (1, Cool)         1472 non-null   float64 \n",
      " 3   (1, Depart)       1472 non-null   float64 \n",
      " 4   (1, DewPoint)     1472 non-null   int64   \n",
      " 5   (1, Heat)         1472 non-null   float64 \n",
      " 6   (1, PrecipTotal)  1472 non-null   float64 \n",
      " 7   (1, ResultDir)    1472 non-null   int64   \n",
      " 8   (1, ResultSpeed)  1472 non-null   float64 \n",
      " 9   (1, SeaLevel)     1467 non-null   float64 \n",
      " 10  (1, SnowFall)     1472 non-null   object  \n",
      " 11  (1, StnPressure)  1470 non-null   float64 \n",
      " 12  (1, Sunrise)      1472 non-null   object  \n",
      " 13  (1, Sunset)       1472 non-null   object  \n",
      " 14  (1, Tavg)         1472 non-null   float64 \n",
      " 15  (1, Tmax)         1472 non-null   int64   \n",
      " 16  (1, Tmin)         1472 non-null   int64   \n",
      " 17  (1, WetBulb)      1469 non-null   float64 \n",
      " 18  (2, AvgSpeed)     1469 non-null   float64 \n",
      " 19  (2, CodeSum)      1472 non-null   category\n",
      " 20  (2, Cool)         1461 non-null   float64 \n",
      " 21  (2, Depart)       0 non-null      float64 \n",
      " 22  (2, DewPoint)     1472 non-null   int64   \n",
      " 23  (2, Heat)         1461 non-null   float64 \n",
      " 24  (2, PrecipTotal)  1470 non-null   float64 \n",
      " 25  (2, ResultDir)    1472 non-null   int64   \n",
      " 26  (2, ResultSpeed)  1472 non-null   float64 \n",
      " 27  (2, SeaLevel)     1468 non-null   float64 \n",
      " 28  (2, SnowFall)     0 non-null      object  \n",
      " 29  (2, StnPressure)  1470 non-null   float64 \n",
      " 30  (2, Sunrise)      1472 non-null   object  \n",
      " 31  (2, Sunset)       1472 non-null   object  \n",
      " 32  (2, Tavg)         1461 non-null   float64 \n",
      " 33  (2, Tmax)         1472 non-null   int64   \n",
      " 34  (2, Tmin)         1472 non-null   int64   \n",
      " 35  (2, WetBulb)      1471 non-null   float64 \n",
      "dtypes: category(2), float64(20), int64(8), object(6)\n",
      "memory usage: 411.0+ KB\n"
     ]
    }
   ],
   "source": [
    "weather_wide.info()"
   ]
  },
  {
   "cell_type": "code",
   "execution_count": 112,
   "metadata": {},
   "outputs": [
    {
     "data": {
      "text/plain": [
       "Station             \n",
       "1        SeaLevel          5\n",
       "         StnPressure       2\n",
       "         WetBulb           3\n",
       "2        AvgSpeed          3\n",
       "         Cool             11\n",
       "         Depart         1472\n",
       "         Heat             11\n",
       "         PrecipTotal       2\n",
       "         SeaLevel          4\n",
       "         SnowFall       1472\n",
       "         StnPressure       2\n",
       "         Tavg             11\n",
       "         WetBulb           1\n",
       "dtype: int64"
      ]
     },
     "execution_count": 112,
     "metadata": {},
     "output_type": "execute_result"
    }
   ],
   "source": [
    "### All columns with Null values\n",
    "nacols = weather_wide.isna().sum()[weather_wide.isna().sum()>=1]\n",
    "nacols"
   ]
  },
  {
   "cell_type": "code",
   "execution_count": 113,
   "metadata": {},
   "outputs": [
    {
     "name": "stdout",
     "output_type": "stream",
     "text": [
      "<class 'pandas.core.frame.DataFrame'>\n",
      "DatetimeIndex: 1472 entries, 2007-05-01 to 2014-10-31\n",
      "Data columns (total 36 columns):\n",
      " #   Column            Non-Null Count  Dtype   \n",
      "---  ------            --------------  -----   \n",
      " 0   (1, AvgSpeed)     1472 non-null   float64 \n",
      " 1   (1, CodeSum)      1472 non-null   category\n",
      " 2   (1, Cool)         1472 non-null   float64 \n",
      " 3   (1, Depart)       1472 non-null   float64 \n",
      " 4   (1, DewPoint)     1472 non-null   int64   \n",
      " 5   (1, Heat)         1472 non-null   float64 \n",
      " 6   (1, PrecipTotal)  1472 non-null   float64 \n",
      " 7   (1, ResultDir)    1472 non-null   int64   \n",
      " 8   (1, ResultSpeed)  1472 non-null   float64 \n",
      " 9   (1, SeaLevel)     1472 non-null   float64 \n",
      " 10  (1, SnowFall)     1472 non-null   object  \n",
      " 11  (1, StnPressure)  1472 non-null   float64 \n",
      " 12  (1, Sunrise)      1472 non-null   object  \n",
      " 13  (1, Sunset)       1472 non-null   object  \n",
      " 14  (1, Tavg)         1472 non-null   float64 \n",
      " 15  (1, Tmax)         1472 non-null   int64   \n",
      " 16  (1, Tmin)         1472 non-null   int64   \n",
      " 17  (1, WetBulb)      1472 non-null   float64 \n",
      " 18  (2, AvgSpeed)     1472 non-null   float64 \n",
      " 19  (2, CodeSum)      1472 non-null   category\n",
      " 20  (2, Cool)         1472 non-null   float64 \n",
      " 21  (2, Depart)       0 non-null      float64 \n",
      " 22  (2, DewPoint)     1472 non-null   int64   \n",
      " 23  (2, Heat)         1472 non-null   float64 \n",
      " 24  (2, PrecipTotal)  1472 non-null   float64 \n",
      " 25  (2, ResultDir)    1472 non-null   int64   \n",
      " 26  (2, ResultSpeed)  1472 non-null   float64 \n",
      " 27  (2, SeaLevel)     1472 non-null   float64 \n",
      " 28  (2, SnowFall)     0 non-null      object  \n",
      " 29  (2, StnPressure)  1472 non-null   float64 \n",
      " 30  (2, Sunrise)      1472 non-null   object  \n",
      " 31  (2, Sunset)       1472 non-null   object  \n",
      " 32  (2, Tavg)         1472 non-null   float64 \n",
      " 33  (2, Tmax)         1472 non-null   int64   \n",
      " 34  (2, Tmin)         1472 non-null   int64   \n",
      " 35  (2, WetBulb)      1472 non-null   float64 \n",
      "dtypes: category(2), float64(20), int64(8), object(6)\n",
      "memory usage: 411.0+ KB\n"
     ]
    }
   ],
   "source": [
    "### I will use interpolation to fill in all null values for columns possible\n",
    "for col in nacols.index:\n",
    "    weather_wide[col] = weather_wide[col].interpolate(method = 'linear',limit = 5)\n",
    "weather_wide.info()"
   ]
  },
  {
   "cell_type": "markdown",
   "metadata": {},
   "source": [
    "Now the only null values are in the `Depart` column for station 2. Let's compare the temperature records for the two stations.  "
   ]
  },
  {
   "cell_type": "code",
   "execution_count": 114,
   "metadata": {
    "scrolled": true
   },
   "outputs": [
    {
     "name": "stdout",
     "output_type": "stream",
     "text": [
      "Station                1           2\n",
      "                    Tavg        Tavg\n",
      "Station                             \n",
      "1       Tavg  110.490316  109.910373\n",
      "2       Tavg  109.910373  111.188126\n",
      "Station                1           2\n",
      "                    Tmin        Tmin\n",
      "Station                             \n",
      "1       Tmin  107.079176  104.295322\n",
      "2       Tmin  104.295322  106.231252\n",
      "Station                1           2\n",
      "                    Tmax        Tmax\n",
      "Station                             \n",
      "1       Tmax  132.322466  129.661422\n",
      "2       Tmax  129.661422  130.450241\n"
     ]
    }
   ],
   "source": [
    "for col in ['Tavg','Tmin','Tmax']:\n",
    "    print(weather_wide[[(1,col),(2,col)]].cov())"
   ]
  },
  {
   "cell_type": "code",
   "execution_count": 115,
   "metadata": {},
   "outputs": [
    {
     "data": {
      "image/png": "[encoded data removed]",
      "text/plain": [
       "<Figure size 432x288 with 1 Axes>"
      ]
     },
     "metadata": {
      "needs_background": "light"
     },
     "output_type": "display_data"
    }
   ],
   "source": [
    "weather_wide[[(1,'Tavg'),(2,'Tavg')]].plot();"
   ]
  },
  {
   "cell_type": "markdown",
   "metadata": {},
   "source": [
    "The two stations have strong positive covariance for the temperature measurements.  This makes me think I can calculate `Depart` for station 2 from station 1"
   ]
  },
  {
   "cell_type": "code",
   "execution_count": 116,
   "metadata": {},
   "outputs": [
    {
     "name": "stdout",
     "output_type": "stream",
     "text": [
      "<class 'pandas.core.frame.DataFrame'>\n",
      "DatetimeIndex: 1472 entries, 2007-05-01 to 2014-10-31\n",
      "Data columns (total 36 columns):\n",
      " #   Column            Non-Null Count  Dtype   \n",
      "---  ------            --------------  -----   \n",
      " 0   (1, AvgSpeed)     1472 non-null   float64 \n",
      " 1   (1, CodeSum)      1472 non-null   category\n",
      " 2   (1, Cool)         1472 non-null   float64 \n",
      " 3   (1, Depart)       1472 non-null   float64 \n",
      " 4   (1, DewPoint)     1472 non-null   int64   \n",
      " 5   (1, Heat)         1472 non-null   float64 \n",
      " 6   (1, PrecipTotal)  1472 non-null   float64 \n",
      " 7   (1, ResultDir)    1472 non-null   int64   \n",
      " 8   (1, ResultSpeed)  1472 non-null   float64 \n",
      " 9   (1, SeaLevel)     1472 non-null   float64 \n",
      " 10  (1, SnowFall)     1472 non-null   object  \n",
      " 11  (1, StnPressure)  1472 non-null   float64 \n",
      " 12  (1, Sunrise)      1472 non-null   object  \n",
      " 13  (1, Sunset)       1472 non-null   object  \n",
      " 14  (1, Tavg)         1472 non-null   float64 \n",
      " 15  (1, Tmax)         1472 non-null   int64   \n",
      " 16  (1, Tmin)         1472 non-null   int64   \n",
      " 17  (1, WetBulb)      1472 non-null   float64 \n",
      " 18  (2, AvgSpeed)     1472 non-null   float64 \n",
      " 19  (2, CodeSum)      1472 non-null   category\n",
      " 20  (2, Cool)         1472 non-null   float64 \n",
      " 21  (2, Depart)       1472 non-null   float64 \n",
      " 22  (2, DewPoint)     1472 non-null   int64   \n",
      " 23  (2, Heat)         1472 non-null   float64 \n",
      " 24  (2, PrecipTotal)  1472 non-null   float64 \n",
      " 25  (2, ResultDir)    1472 non-null   int64   \n",
      " 26  (2, ResultSpeed)  1472 non-null   float64 \n",
      " 27  (2, SeaLevel)     1472 non-null   float64 \n",
      " 28  (2, SnowFall)     0 non-null      object  \n",
      " 29  (2, StnPressure)  1472 non-null   float64 \n",
      " 30  (2, Sunrise)      1472 non-null   object  \n",
      " 31  (2, Sunset)       1472 non-null   object  \n",
      " 32  (2, Tavg)         1472 non-null   float64 \n",
      " 33  (2, Tmax)         1472 non-null   int64   \n",
      " 34  (2, Tmin)         1472 non-null   int64   \n",
      " 35  (2, WetBulb)      1472 non-null   float64 \n",
      "dtypes: category(2), float64(20), int64(8), object(6)\n",
      "memory usage: 411.0+ KB\n"
     ]
    }
   ],
   "source": [
    "#weather_wide[[(1,'Tavg'), (1,'Depart'),(2,'Tavg')]]\n",
    "weather_wide[(2,'Depart')] = weather_wide[(2,'Tavg')] + weather_wide[(1,'Tavg')] - weather_wide[(1,'Depart')]\n",
    "weather_wide.info()"
   ]
  },
  {
   "cell_type": "markdown",
   "metadata": {},
   "source": [
    "Excellent.  I have seen how similar the temperature readings are for the two weather stations, but I think rain can be more localized.  Let's see if this is the case.  "
   ]
  },
  {
   "cell_type": "code",
   "execution_count": 117,
   "metadata": {},
   "outputs": [
    {
     "data": {
      "text/html": [
       "<div>\n",
       "<style scoped>\n",
       "    .dataframe tbody tr th:only-of-type {\n",
       "        vertical-align: middle;\n",
       "    }\n",
       "\n",
       "    .dataframe tbody tr th {\n",
       "        vertical-align: top;\n",
       "    }\n",
       "\n",
       "    .dataframe thead tr th {\n",
       "        text-align: left;\n",
       "    }\n",
       "\n",
       "    .dataframe thead tr:last-of-type th {\n",
       "        text-align: right;\n",
       "    }\n",
       "</style>\n",
       "<table border=\"1\" class=\"dataframe\">\n",
       "  <thead>\n",
       "    <tr>\n",
       "      <th></th>\n",
       "      <th>Station</th>\n",
       "      <th>1</th>\n",
       "      <th>2</th>\n",
       "    </tr>\n",
       "    <tr>\n",
       "      <th></th>\n",
       "      <th></th>\n",
       "      <th>PrecipTotal</th>\n",
       "      <th>PrecipTotal</th>\n",
       "    </tr>\n",
       "    <tr>\n",
       "      <th>Station</th>\n",
       "      <th></th>\n",
       "      <th></th>\n",
       "      <th></th>\n",
       "    </tr>\n",
       "  </thead>\n",
       "  <tbody>\n",
       "    <tr>\n",
       "      <th>1</th>\n",
       "      <th>PrecipTotal</th>\n",
       "      <td>0.177150</td>\n",
       "      <td>0.102284</td>\n",
       "    </tr>\n",
       "    <tr>\n",
       "      <th>2</th>\n",
       "      <th>PrecipTotal</th>\n",
       "      <td>0.102284</td>\n",
       "      <td>0.131865</td>\n",
       "    </tr>\n",
       "  </tbody>\n",
       "</table>\n",
       "</div>"
      ],
      "text/plain": [
       "Station                       1           2\n",
       "                    PrecipTotal PrecipTotal\n",
       "Station                                    \n",
       "1       PrecipTotal    0.177150    0.102284\n",
       "2       PrecipTotal    0.102284    0.131865"
      ]
     },
     "execution_count": 117,
     "metadata": {},
     "output_type": "execute_result"
    }
   ],
   "source": [
    "weather_wide[[(1,'PrecipTotal'), (2,'PrecipTotal')]].cov()"
   ]
  },
  {
   "cell_type": "markdown",
   "metadata": {},
   "source": [
    "There is positive covariance.  But how strong is the association?"
   ]
  },
  {
   "cell_type": "code",
   "execution_count": 118,
   "metadata": {},
   "outputs": [
    {
     "name": "stdout",
     "output_type": "stream",
     "text": [
      "Pearson r: 0.6692254273577262\n",
      "Pval: 7.886731121334995e-192\n"
     ]
    }
   ],
   "source": [
    "from scipy.stats import pearsonr\n",
    "r,p = pearsonr(weather_wide[(1,'PrecipTotal')], weather_wide[(2,'PrecipTotal')])\n",
    "print(f'Pearson r: {r}')\n",
    "print(f'Pval: {p}')"
   ]
  },
  {
   "cell_type": "code",
   "execution_count": 119,
   "metadata": {},
   "outputs": [
    {
     "name": "stdout",
     "output_type": "stream",
     "text": [
      "Pearson r: 0.9916247735225273\n",
      "Pval: 0.0\n"
     ]
    }
   ],
   "source": [
    "### Pearson for temperature\n",
    "r,p = pearsonr(weather_wide[(1,'Tavg')], weather_wide[(2,'Tavg')])\n",
    "print(f'Pearson r: {r}')\n",
    "print(f'Pval: {p}')"
   ]
  },
  {
   "cell_type": "markdown",
   "metadata": {},
   "source": [
    "The correlation is much stronger for temperature than for precipitation.  Let's visualize"
   ]
  },
  {
   "cell_type": "code",
   "execution_count": 120,
   "metadata": {},
   "outputs": [
    {
     "data": {
      "image/png": "[encoded data removed]",
      "text/plain": [
       "<Figure size 720x360 with 2 Axes>"
      ]
     },
     "metadata": {
      "needs_background": "light"
     },
     "output_type": "display_data"
    }
   ],
   "source": [
    "fig, ax = plt.subplots(1,2,figsize = (10,5))\n",
    "sns.scatterplot(data=weather_wide, x=(1,'Tavg'), y=(2,'Tavg'), ax=ax[0])\n",
    "sns.scatterplot(data=weather_wide, x=(1,'PrecipTotal'), y=(2,'PrecipTotal'), ax=ax[1])\n",
    "\n",
    "temp_pearson = pearsonr(weather_wide[(1,'Tavg')], weather_wide[(2,'Tavg')])[0]\n",
    "precip_pearson = pearsonr(weather_wide[(1,'PrecipTotal')], weather_wide[(2,'PrecipTotal')])[0]\n",
    "\n",
    "\n",
    "ax[0].set_title(f'Pearson R: {temp_pearson:.3f}')\n",
    "ax[1].set_title(f'Pearson R: {precip_pearson:.3f}')\n",
    "plt.show()\n"
   ]
  },
  {
   "cell_type": "markdown",
   "metadata": {},
   "source": [
    "The plots and the Pearson correlations show that the temperature of the two stations is very similar (and above we saw the covariance is positive).  Precpitation is more localized and varies much more between the two stations."
   ]
  },
  {
   "cell_type": "code",
   "execution_count": 121,
   "metadata": {},
   "outputs": [
    {
     "name": "stdout",
     "output_type": "stream",
     "text": [
      "<class 'pandas.core.frame.DataFrame'>\n",
      "DatetimeIndex: 1472 entries, 2007-05-01 to 2014-10-31\n",
      "Data columns (total 36 columns):\n",
      " #   Column            Non-Null Count  Dtype   \n",
      "---  ------            --------------  -----   \n",
      " 0   (1, AvgSpeed)     1472 non-null   float64 \n",
      " 1   (1, CodeSum)      1472 non-null   category\n",
      " 2   (1, Cool)         1472 non-null   float64 \n",
      " 3   (1, Depart)       1472 non-null   float64 \n",
      " 4   (1, DewPoint)     1472 non-null   int64   \n",
      " 5   (1, Heat)         1472 non-null   float64 \n",
      " 6   (1, PrecipTotal)  1472 non-null   float64 \n",
      " 7   (1, ResultDir)    1472 non-null   int64   \n",
      " 8   (1, ResultSpeed)  1472 non-null   float64 \n",
      " 9   (1, SeaLevel)     1472 non-null   float64 \n",
      " 10  (1, SnowFall)     1472 non-null   object  \n",
      " 11  (1, StnPressure)  1472 non-null   float64 \n",
      " 12  (1, Sunrise)      1472 non-null   object  \n",
      " 13  (1, Sunset)       1472 non-null   object  \n",
      " 14  (1, Tavg)         1472 non-null   float64 \n",
      " 15  (1, Tmax)         1472 non-null   int64   \n",
      " 16  (1, Tmin)         1472 non-null   int64   \n",
      " 17  (1, WetBulb)      1472 non-null   float64 \n",
      " 18  (2, AvgSpeed)     1472 non-null   float64 \n",
      " 19  (2, CodeSum)      1472 non-null   category\n",
      " 20  (2, Cool)         1472 non-null   float64 \n",
      " 21  (2, Depart)       1472 non-null   float64 \n",
      " 22  (2, DewPoint)     1472 non-null   int64   \n",
      " 23  (2, Heat)         1472 non-null   float64 \n",
      " 24  (2, PrecipTotal)  1472 non-null   float64 \n",
      " 25  (2, ResultDir)    1472 non-null   int64   \n",
      " 26  (2, ResultSpeed)  1472 non-null   float64 \n",
      " 27  (2, SeaLevel)     1472 non-null   float64 \n",
      " 28  (2, SnowFall)     0 non-null      object  \n",
      " 29  (2, StnPressure)  1472 non-null   float64 \n",
      " 30  (2, Sunrise)      1472 non-null   object  \n",
      " 31  (2, Sunset)       1472 non-null   object  \n",
      " 32  (2, Tavg)         1472 non-null   float64 \n",
      " 33  (2, Tmax)         1472 non-null   int64   \n",
      " 34  (2, Tmin)         1472 non-null   int64   \n",
      " 35  (2, WetBulb)      1472 non-null   float64 \n",
      "dtypes: category(2), float64(20), int64(8), object(6)\n",
      "memory usage: 411.0+ KB\n"
     ]
    }
   ],
   "source": [
    "weather_wide.info()"
   ]
  },
  {
   "cell_type": "markdown",
   "metadata": {},
   "source": [
    "Looking pretty good, but I think there are some that are formatted correctly.  Also several might not be useful, like `Snowfall` (It's summer time)."
   ]
  },
  {
   "cell_type": "code",
   "execution_count": 122,
   "metadata": {},
   "outputs": [
    {
     "data": {
      "text/plain": [
       "0.0    1459\n",
       "  T      12\n",
       "0.1       1\n",
       "Name: (1, SnowFall), dtype: int64"
      ]
     },
     "execution_count": 122,
     "metadata": {},
     "output_type": "execute_result"
    }
   ],
   "source": [
    "weather_wide[(1,'SnowFall')].value_counts()"
   ]
  },
  {
   "cell_type": "code",
   "execution_count": 123,
   "metadata": {},
   "outputs": [
    {
     "data": {
      "text/plain": [
       "Series([], Name: (2, SnowFall), dtype: int64)"
      ]
     },
     "execution_count": 123,
     "metadata": {},
     "output_type": "execute_result"
    }
   ],
   "source": [
    "weather_wide[(2,'SnowFall')].value_counts()"
   ]
  },
  {
   "cell_type": "code",
   "execution_count": 124,
   "metadata": {},
   "outputs": [],
   "source": [
    "weather_wide[(1,'SnowFall')] = pd.to_numeric(weather_wide[(1,'SnowFall')].replace('  T',.05))\n",
    "weather_wide[(2,'SnowFall')] = weather_wide[(1,'SnowFall')]\n"
   ]
  },
  {
   "cell_type": "code",
   "execution_count": 125,
   "metadata": {},
   "outputs": [
    {
     "data": {
      "text/html": [
       "<div>\n",
       "<style scoped>\n",
       "    .dataframe tbody tr th:only-of-type {\n",
       "        vertical-align: middle;\n",
       "    }\n",
       "\n",
       "    .dataframe tbody tr th {\n",
       "        vertical-align: top;\n",
       "    }\n",
       "\n",
       "    .dataframe thead tr th {\n",
       "        text-align: left;\n",
       "    }\n",
       "\n",
       "    .dataframe thead tr:last-of-type th {\n",
       "        text-align: right;\n",
       "    }\n",
       "</style>\n",
       "<table border=\"1\" class=\"dataframe\">\n",
       "  <thead>\n",
       "    <tr>\n",
       "      <th>Station</th>\n",
       "      <th colspan=\"2\" halign=\"left\">1</th>\n",
       "      <th colspan=\"2\" halign=\"left\">2</th>\n",
       "    </tr>\n",
       "    <tr>\n",
       "      <th></th>\n",
       "      <th>Sunrise</th>\n",
       "      <th>Sunset</th>\n",
       "      <th>Sunrise</th>\n",
       "      <th>Sunset</th>\n",
       "    </tr>\n",
       "    <tr>\n",
       "      <th>Date</th>\n",
       "      <th></th>\n",
       "      <th></th>\n",
       "      <th></th>\n",
       "      <th></th>\n",
       "    </tr>\n",
       "  </thead>\n",
       "  <tbody>\n",
       "    <tr>\n",
       "      <th>2007-05-01</th>\n",
       "      <td>0448</td>\n",
       "      <td>1849</td>\n",
       "      <td>-</td>\n",
       "      <td>-</td>\n",
       "    </tr>\n",
       "    <tr>\n",
       "      <th>2007-05-02</th>\n",
       "      <td>0447</td>\n",
       "      <td>1850</td>\n",
       "      <td>-</td>\n",
       "      <td>-</td>\n",
       "    </tr>\n",
       "    <tr>\n",
       "      <th>2007-05-03</th>\n",
       "      <td>0446</td>\n",
       "      <td>1851</td>\n",
       "      <td>-</td>\n",
       "      <td>-</td>\n",
       "    </tr>\n",
       "    <tr>\n",
       "      <th>2007-05-04</th>\n",
       "      <td>0444</td>\n",
       "      <td>1852</td>\n",
       "      <td>-</td>\n",
       "      <td>-</td>\n",
       "    </tr>\n",
       "    <tr>\n",
       "      <th>2007-05-05</th>\n",
       "      <td>0443</td>\n",
       "      <td>1853</td>\n",
       "      <td>-</td>\n",
       "      <td>-</td>\n",
       "    </tr>\n",
       "    <tr>\n",
       "      <th>...</th>\n",
       "      <td>...</td>\n",
       "      <td>...</td>\n",
       "      <td>...</td>\n",
       "      <td>...</td>\n",
       "    </tr>\n",
       "    <tr>\n",
       "      <th>2014-10-27</th>\n",
       "      <td>0618</td>\n",
       "      <td>1653</td>\n",
       "      <td>-</td>\n",
       "      <td>-</td>\n",
       "    </tr>\n",
       "    <tr>\n",
       "      <th>2014-10-28</th>\n",
       "      <td>0619</td>\n",
       "      <td>1651</td>\n",
       "      <td>-</td>\n",
       "      <td>-</td>\n",
       "    </tr>\n",
       "    <tr>\n",
       "      <th>2014-10-29</th>\n",
       "      <td>0620</td>\n",
       "      <td>1650</td>\n",
       "      <td>-</td>\n",
       "      <td>-</td>\n",
       "    </tr>\n",
       "    <tr>\n",
       "      <th>2014-10-30</th>\n",
       "      <td>0622</td>\n",
       "      <td>1649</td>\n",
       "      <td>-</td>\n",
       "      <td>-</td>\n",
       "    </tr>\n",
       "    <tr>\n",
       "      <th>2014-10-31</th>\n",
       "      <td>0623</td>\n",
       "      <td>1647</td>\n",
       "      <td>-</td>\n",
       "      <td>-</td>\n",
       "    </tr>\n",
       "  </tbody>\n",
       "</table>\n",
       "<p>1472 rows × 4 columns</p>\n",
       "</div>"
      ],
      "text/plain": [
       "Station          1              2       \n",
       "           Sunrise Sunset Sunrise Sunset\n",
       "Date                                    \n",
       "2007-05-01    0448   1849       -      -\n",
       "2007-05-02    0447   1850       -      -\n",
       "2007-05-03    0446   1851       -      -\n",
       "2007-05-04    0444   1852       -      -\n",
       "2007-05-05    0443   1853       -      -\n",
       "...            ...    ...     ...    ...\n",
       "2014-10-27    0618   1653       -      -\n",
       "2014-10-28    0619   1651       -      -\n",
       "2014-10-29    0620   1650       -      -\n",
       "2014-10-30    0622   1649       -      -\n",
       "2014-10-31    0623   1647       -      -\n",
       "\n",
       "[1472 rows x 4 columns]"
      ]
     },
     "execution_count": 125,
     "metadata": {},
     "output_type": "execute_result"
    }
   ],
   "source": [
    "weather_wide[[(1,'Sunrise'), (1,'Sunset'), (2,'Sunrise'), (2,'Sunset') ]]"
   ]
  },
  {
   "cell_type": "markdown",
   "metadata": {},
   "source": [
    "I'll convert these to numbers that make sense for me and the computer. Station 2 should have the same values as station 1."
   ]
  },
  {
   "cell_type": "code",
   "execution_count": 126,
   "metadata": {},
   "outputs": [],
   "source": [
    "convert_time = lambda x: float(x[:2]) + float(x[2:])/60\n",
    "\n",
    "weather_wide[(1,'Sunrise')] = weather_wide[(1,'Sunrise')].apply(convert_time)\n",
    "weather_wide[(1,'Sunset')] = weather_wide[(1,'Sunset')].apply(convert_time)\n",
    "\n",
    "weather_wide[(2,'Sunrise')] = weather_wide[(1,'Sunrise')]\n",
    "weather_wide[(2,'Sunset')] = weather_wide[(1,'Sunset')]"
   ]
  },
  {
   "cell_type": "code",
   "execution_count": 127,
   "metadata": {},
   "outputs": [
    {
     "name": "stdout",
     "output_type": "stream",
     "text": [
      "<class 'pandas.core.frame.DataFrame'>\n",
      "DatetimeIndex: 1472 entries, 2007-05-01 to 2014-10-31\n",
      "Data columns (total 36 columns):\n",
      " #   Column            Non-Null Count  Dtype   \n",
      "---  ------            --------------  -----   \n",
      " 0   (1, AvgSpeed)     1472 non-null   float64 \n",
      " 1   (1, CodeSum)      1472 non-null   category\n",
      " 2   (1, Cool)         1472 non-null   float64 \n",
      " 3   (1, Depart)       1472 non-null   float64 \n",
      " 4   (1, DewPoint)     1472 non-null   int64   \n",
      " 5   (1, Heat)         1472 non-null   float64 \n",
      " 6   (1, PrecipTotal)  1472 non-null   float64 \n",
      " 7   (1, ResultDir)    1472 non-null   int64   \n",
      " 8   (1, ResultSpeed)  1472 non-null   float64 \n",
      " 9   (1, SeaLevel)     1472 non-null   float64 \n",
      " 10  (1, SnowFall)     1472 non-null   float64 \n",
      " 11  (1, StnPressure)  1472 non-null   float64 \n",
      " 12  (1, Sunrise)      1472 non-null   float64 \n",
      " 13  (1, Sunset)       1472 non-null   float64 \n",
      " 14  (1, Tavg)         1472 non-null   float64 \n",
      " 15  (1, Tmax)         1472 non-null   int64   \n",
      " 16  (1, Tmin)         1472 non-null   int64   \n",
      " 17  (1, WetBulb)      1472 non-null   float64 \n",
      " 18  (2, AvgSpeed)     1472 non-null   float64 \n",
      " 19  (2, CodeSum)      1472 non-null   category\n",
      " 20  (2, Cool)         1472 non-null   float64 \n",
      " 21  (2, Depart)       1472 non-null   float64 \n",
      " 22  (2, DewPoint)     1472 non-null   int64   \n",
      " 23  (2, Heat)         1472 non-null   float64 \n",
      " 24  (2, PrecipTotal)  1472 non-null   float64 \n",
      " 25  (2, ResultDir)    1472 non-null   int64   \n",
      " 26  (2, ResultSpeed)  1472 non-null   float64 \n",
      " 27  (2, SeaLevel)     1472 non-null   float64 \n",
      " 28  (2, SnowFall)     1472 non-null   float64 \n",
      " 29  (2, StnPressure)  1472 non-null   float64 \n",
      " 30  (2, Sunrise)      1472 non-null   float64 \n",
      " 31  (2, Sunset)       1472 non-null   float64 \n",
      " 32  (2, Tavg)         1472 non-null   float64 \n",
      " 33  (2, Tmax)         1472 non-null   int64   \n",
      " 34  (2, Tmin)         1472 non-null   int64   \n",
      " 35  (2, WetBulb)      1472 non-null   float64 \n",
      "dtypes: category(2), float64(26), int64(8)\n",
      "memory usage: 411.0 KB\n"
     ]
    }
   ],
   "source": [
    "weather_wide.info()"
   ]
  },
  {
   "cell_type": "markdown",
   "metadata": {},
   "source": [
    "That is a good looking data frame.  Finally I will add in the latitude and longitude for each station"
   ]
  },
  {
   "cell_type": "markdown",
   "metadata": {},
   "source": [
    "Station 1: CHICAGO O'HARE INTERNATIONAL AIRPORT Lat: 41.995 Lon: -87.933 Elev: 662 ft. above sea level\n",
    "\n",
    "Station 2: CHICAGO MIDWAY INTL ARPT Lat: 41.786 Lon: -87.752 Elev: 612 ft. above sea level"
   ]
  },
  {
   "cell_type": "code",
   "execution_count": 128,
   "metadata": {},
   "outputs": [],
   "source": [
    "weather_wide[(1,'Latitude')] = 41.995\n",
    "weather_wide[(1,'Longitude')] = -87.933\n",
    "\n",
    "weather_wide[(2,'Latitude')] = 41.786\n",
    "weather_wide[(2,'Longitude')] = -87.752"
   ]
  },
  {
   "cell_type": "markdown",
   "metadata": {},
   "source": [
    "A final look at the categories for `Code Sum`.  I believe they are supposed to indicate categorical things like foggy days"
   ]
  },
  {
   "cell_type": "code",
   "execution_count": 129,
   "metadata": {
    "scrolled": false
   },
   "outputs": [
    {
     "data": {
      "text/html": [
       "<div>\n",
       "<style scoped>\n",
       "    .dataframe tbody tr th:only-of-type {\n",
       "        vertical-align: middle;\n",
       "    }\n",
       "\n",
       "    .dataframe tbody tr th {\n",
       "        vertical-align: top;\n",
       "    }\n",
       "\n",
       "    .dataframe thead th {\n",
       "        text-align: right;\n",
       "    }\n",
       "</style>\n",
       "<table border=\"1\" class=\"dataframe\">\n",
       "  <thead>\n",
       "    <tr style=\"text-align: right;\">\n",
       "      <th></th>\n",
       "      <th></th>\n",
       "      <th>0</th>\n",
       "    </tr>\n",
       "    <tr>\n",
       "      <th>(1, CodeSum)</th>\n",
       "      <th>(2, CodeSum)</th>\n",
       "      <th></th>\n",
       "    </tr>\n",
       "  </thead>\n",
       "  <tbody>\n",
       "    <tr>\n",
       "      <th></th>\n",
       "      <th></th>\n",
       "      <td>717</td>\n",
       "    </tr>\n",
       "    <tr>\n",
       "      <th>RA</th>\n",
       "      <th>RA</th>\n",
       "      <td>69</td>\n",
       "    </tr>\n",
       "    <tr>\n",
       "      <th>RA BR</th>\n",
       "      <th>RA BR</th>\n",
       "      <td>61</td>\n",
       "    </tr>\n",
       "    <tr>\n",
       "      <th>RA</th>\n",
       "      <th></th>\n",
       "      <td>46</td>\n",
       "    </tr>\n",
       "    <tr>\n",
       "      <th></th>\n",
       "      <th>RA</th>\n",
       "      <td>31</td>\n",
       "    </tr>\n",
       "    <tr>\n",
       "      <th>...</th>\n",
       "      <th>...</th>\n",
       "      <td>...</td>\n",
       "    </tr>\n",
       "    <tr>\n",
       "      <th>RA BR HZ FU</th>\n",
       "      <th>RA BR HZ FU</th>\n",
       "      <td>1</td>\n",
       "    </tr>\n",
       "    <tr>\n",
       "      <th>RA BR SQ</th>\n",
       "      <th>TSRA RA BR</th>\n",
       "      <td>1</td>\n",
       "    </tr>\n",
       "    <tr>\n",
       "      <th>RA DZ</th>\n",
       "      <th>RA DZ BR</th>\n",
       "      <td>1</td>\n",
       "    </tr>\n",
       "    <tr>\n",
       "      <th>RA DZ BR</th>\n",
       "      <th></th>\n",
       "      <td>1</td>\n",
       "    </tr>\n",
       "    <tr>\n",
       "      <th>TSRA RA VCTS</th>\n",
       "      <th>RA</th>\n",
       "      <td>1</td>\n",
       "    </tr>\n",
       "  </tbody>\n",
       "</table>\n",
       "<p>255 rows × 1 columns</p>\n",
       "</div>"
      ],
      "text/plain": [
       "                             0\n",
       "(1, CodeSum) (2, CodeSum)     \n",
       "                           717\n",
       "RA           RA             69\n",
       "RA BR        RA BR          61\n",
       "RA                          46\n",
       "             RA             31\n",
       "...                        ...\n",
       "RA BR HZ FU  RA BR HZ FU     1\n",
       "RA BR SQ     TSRA RA BR      1\n",
       "RA DZ        RA DZ BR        1\n",
       "RA DZ BR                     1\n",
       "TSRA RA VCTS RA              1\n",
       "\n",
       "[255 rows x 1 columns]"
      ]
     },
     "execution_count": 129,
     "metadata": {},
     "output_type": "execute_result"
    }
   ],
   "source": [
    "pd.DataFrame(weather_wide[[(1,'CodeSum'), (2,'CodeSum')]].value_counts())"
   ]
  },
  {
   "cell_type": "markdown",
   "metadata": {},
   "source": [
    "I think I need to dig into these categories deeper to understand if they are meaningful for the problem.  It may be that the tags are already characterized by the measurements of precipitation and dew point for example.  I will do that in the next notebook as well as joining the weather data to the training data."
   ]
  },
  {
   "cell_type": "code",
   "execution_count": 130,
   "metadata": {},
   "outputs": [],
   "source": [
    "weather_wide.to_csv('weather_wide_clean.csv')"
   ]
  },
  {
   "cell_type": "markdown",
   "metadata": {},
   "source": [
    "### Fin"
   ]
  },
  {
   "cell_type": "code",
   "execution_count": null,
   "metadata": {},
   "outputs": [],
   "source": []
  }
 ],
 "metadata": {
  "kernelspec": {
   "display_name": "Python 3 (ipykernel)",
   "language": "python",
   "name": "python3"
  },
  "language_info": {
   "codemirror_mode": {
    "name": "ipython",
    "version": 3
   },
   "file_extension": ".py",
   "mimetype": "text/x-python",
   "name": "python",
   "nbconvert_exporter": "python",
   "pygments_lexer": "ipython3",
   "version": "3.7.11"
  }
 },
 "nbformat": 4,
 "nbformat_minor": 4
}
